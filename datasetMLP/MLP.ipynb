{
 "cells": [
  {
   "cell_type": "code",
   "execution_count": 19,
   "metadata": {},
   "outputs": [
    {
     "name": "stdout",
     "output_type": "stream",
     "text": [
      "Epoch 1/10\n"
     ]
    },
    {
     "name": "stderr",
     "output_type": "stream",
     "text": [
      "C:\\Users\\luize\\AppData\\Local\\Packages\\PythonSoftwareFoundation.Python.3.10_qbz5n2kfra8p0\\LocalCache\\local-packages\\Python310\\site-packages\\keras\\src\\layers\\core\\dense.py:87: UserWarning: Do not pass an `input_shape`/`input_dim` argument to a layer. When using Sequential models, prefer using an `Input(shape)` object as the first layer in the model instead.\n",
      "  super().__init__(activity_regularizer=activity_regularizer, **kwargs)\n"
     ]
    },
    {
     "name": "stdout",
     "output_type": "stream",
     "text": [
      "\u001b[1m2760/2760\u001b[0m \u001b[32m━━━━━━━━━━━━━━━━━━━━\u001b[0m\u001b[37m\u001b[0m \u001b[1m4s\u001b[0m 1ms/step - accuracy: 0.8322 - loss: 0.4017 - val_accuracy: 0.8966 - val_loss: 0.2441\n",
      "Epoch 2/10\n",
      "\u001b[1m2760/2760\u001b[0m \u001b[32m━━━━━━━━━━━━━━━━━━━━\u001b[0m\u001b[37m\u001b[0m \u001b[1m3s\u001b[0m 1ms/step - accuracy: 0.9173 - loss: 0.2092 - val_accuracy: 0.9292 - val_loss: 0.1815\n",
      "Epoch 3/10\n",
      "\u001b[1m2760/2760\u001b[0m \u001b[32m━━━━━━━━━━━━━━━━━━━━\u001b[0m\u001b[37m\u001b[0m \u001b[1m3s\u001b[0m 1ms/step - accuracy: 0.9272 - loss: 0.1796 - val_accuracy: 0.9300 - val_loss: 0.1694\n",
      "Epoch 4/10\n",
      "\u001b[1m2760/2760\u001b[0m \u001b[32m━━━━━━━━━━━━━━━━━━━━\u001b[0m\u001b[37m\u001b[0m \u001b[1m3s\u001b[0m 988us/step - accuracy: 0.9335 - loss: 0.1633 - val_accuracy: 0.9349 - val_loss: 0.1577\n",
      "Epoch 5/10\n",
      "\u001b[1m2760/2760\u001b[0m \u001b[32m━━━━━━━━━━━━━━━━━━━━\u001b[0m\u001b[37m\u001b[0m \u001b[1m3s\u001b[0m 1ms/step - accuracy: 0.9367 - loss: 0.1550 - val_accuracy: 0.9361 - val_loss: 0.1525\n",
      "Epoch 6/10\n",
      "\u001b[1m2760/2760\u001b[0m \u001b[32m━━━━━━━━━━━━━━━━━━━━\u001b[0m\u001b[37m\u001b[0m \u001b[1m3s\u001b[0m 1ms/step - accuracy: 0.9379 - loss: 0.1516 - val_accuracy: 0.9407 - val_loss: 0.1447\n",
      "Epoch 7/10\n",
      "\u001b[1m2760/2760\u001b[0m \u001b[32m━━━━━━━━━━━━━━━━━━━━\u001b[0m\u001b[37m\u001b[0m \u001b[1m3s\u001b[0m 1ms/step - accuracy: 0.9392 - loss: 0.1447 - val_accuracy: 0.9352 - val_loss: 0.1551\n",
      "Epoch 8/10\n",
      "\u001b[1m2760/2760\u001b[0m \u001b[32m━━━━━━━━━━━━━━━━━━━━\u001b[0m\u001b[37m\u001b[0m \u001b[1m3s\u001b[0m 1ms/step - accuracy: 0.9404 - loss: 0.1422 - val_accuracy: 0.9379 - val_loss: 0.1510\n",
      "Epoch 9/10\n",
      "\u001b[1m2760/2760\u001b[0m \u001b[32m━━━━━━━━━━━━━━━━━━━━\u001b[0m\u001b[37m\u001b[0m \u001b[1m3s\u001b[0m 1ms/step - accuracy: 0.9426 - loss: 0.1379 - val_accuracy: 0.9422 - val_loss: 0.1363\n",
      "Epoch 10/10\n",
      "\u001b[1m2760/2760\u001b[0m \u001b[32m━━━━━━━━━━━━━━━━━━━━\u001b[0m\u001b[37m\u001b[0m \u001b[1m3s\u001b[0m 1ms/step - accuracy: 0.9415 - loss: 0.1367 - val_accuracy: 0.9434 - val_loss: 0.1356\n",
      "\u001b[1m3680/3680\u001b[0m \u001b[32m━━━━━━━━━━━━━━━━━━━━\u001b[0m\u001b[37m\u001b[0m \u001b[1m3s\u001b[0m 671us/step\n",
      "Acurácia: 0.9450568114268245\n"
     ]
    }
   ],
   "source": [
    "import pandas as pd\n",
    "import numpy as np\n",
    "from sklearn.model_selection import train_test_split\n",
    "from keras.models import Sequential\n",
    "from keras.layers import Dense\n",
    "from sklearn.metrics import accuracy_score\n",
    "\n",
    "df_train = pd.read_csv('train_normalized.csv')\n",
    "df_test = pd.read_csv('train_normalized.csv')\n",
    "\n",
    "# Substitua esta parte pelo seu próprio código de preparação dos dados\n",
    "X_train = df_train.drop(columns=['satisfaction']).values\n",
    "y_train = df_train['satisfaction'].values\n",
    "X_test = df_test.drop(columns=['satisfaction']).values\n",
    "y_test = df_test['satisfaction'].values\n",
    "\n",
    "# Dividir o conjunto de treino em treino e validação\n",
    "X_train, X_val, y_train, y_val = train_test_split(X_train, y_train, test_size=0.25, random_state=42)\n",
    "\n",
    "# Definindo a arquitetura da MLP\n",
    "model = Sequential()\n",
    "model.add(Dense(units=64, activation='relu', input_dim=X_train.shape[1]))\n",
    "model.add(Dense(units=1, activation='sigmoid'))  # Camada de saída para classificação binária\n",
    "\n",
    "# Compilar o modelo\n",
    "model.compile(optimizer='adam', loss='binary_crossentropy', metrics=['accuracy'])\n",
    "\n",
    "# Treinar o modelo\n",
    "model.fit(X_train, y_train, epochs=10, batch_size=32, validation_data=(X_val, y_val))\n",
    "\n",
    "# Avaliar o modelo\n",
    "y_pred = model.predict(X_test)\n",
    "accuracy = accuracy_score(y_test, (y_pred > 0.5).astype(int))\n",
    "print(f'Acurácia: {accuracy}')\n"
   ]
  },
  {
   "cell_type": "code",
   "execution_count": 20,
   "metadata": {},
   "outputs": [
    {
     "name": "stdout",
     "output_type": "stream",
     "text": [
      "Epoch 1/10\n"
     ]
    },
    {
     "name": "stderr",
     "output_type": "stream",
     "text": [
      "C:\\Users\\luize\\AppData\\Local\\Packages\\PythonSoftwareFoundation.Python.3.10_qbz5n2kfra8p0\\LocalCache\\local-packages\\Python310\\site-packages\\keras\\src\\layers\\core\\dense.py:87: UserWarning: Do not pass an `input_shape`/`input_dim` argument to a layer. When using Sequential models, prefer using an `Input(shape)` object as the first layer in the model instead.\n",
      "  super().__init__(activity_regularizer=activity_regularizer, **kwargs)\n"
     ]
    },
    {
     "name": "stdout",
     "output_type": "stream",
     "text": [
      "\u001b[1m2760/2760\u001b[0m \u001b[32m━━━━━━━━━━━━━━━━━━━━\u001b[0m\u001b[37m\u001b[0m \u001b[1m4s\u001b[0m 1ms/step - accuracy: 0.8435 - loss: 0.3800 - val_accuracy: 0.9129 - val_loss: 0.2131\n",
      "Epoch 2/10\n",
      "\u001b[1m2760/2760\u001b[0m \u001b[32m━━━━━━━━━━━━━━━━━━━━\u001b[0m\u001b[37m\u001b[0m \u001b[1m3s\u001b[0m 1ms/step - accuracy: 0.9159 - loss: 0.2068 - val_accuracy: 0.9278 - val_loss: 0.1785\n",
      "Epoch 3/10\n",
      "\u001b[1m2760/2760\u001b[0m \u001b[32m━━━━━━━━━━━━━━━━━━━━\u001b[0m\u001b[37m\u001b[0m \u001b[1m3s\u001b[0m 1ms/step - accuracy: 0.9292 - loss: 0.1761 - val_accuracy: 0.9311 - val_loss: 0.1717\n",
      "Epoch 4/10\n",
      "\u001b[1m2760/2760\u001b[0m \u001b[32m━━━━━━━━━━━━━━━━━━━━\u001b[0m\u001b[37m\u001b[0m \u001b[1m3s\u001b[0m 999us/step - accuracy: 0.9352 - loss: 0.1587 - val_accuracy: 0.9339 - val_loss: 0.1540\n",
      "Epoch 5/10\n",
      "\u001b[1m2760/2760\u001b[0m \u001b[32m━━━━━━━━━━━━━━━━━━━━\u001b[0m\u001b[37m\u001b[0m \u001b[1m3s\u001b[0m 1ms/step - accuracy: 0.9405 - loss: 0.1462 - val_accuracy: 0.9370 - val_loss: 0.1490\n",
      "Epoch 6/10\n",
      "\u001b[1m2760/2760\u001b[0m \u001b[32m━━━━━━━━━━━━━━━━━━━━\u001b[0m\u001b[37m\u001b[0m \u001b[1m3s\u001b[0m 1ms/step - accuracy: 0.9411 - loss: 0.1406 - val_accuracy: 0.9430 - val_loss: 0.1358\n",
      "Epoch 7/10\n",
      "\u001b[1m2760/2760\u001b[0m \u001b[32m━━━━━━━━━━━━━━━━━━━━\u001b[0m\u001b[37m\u001b[0m \u001b[1m3s\u001b[0m 1ms/step - accuracy: 0.9414 - loss: 0.1381 - val_accuracy: 0.9422 - val_loss: 0.1438\n",
      "Epoch 8/10\n",
      "\u001b[1m2760/2760\u001b[0m \u001b[32m━━━━━━━━━━━━━━━━━━━━\u001b[0m\u001b[37m\u001b[0m \u001b[1m3s\u001b[0m 1ms/step - accuracy: 0.9437 - loss: 0.1329 - val_accuracy: 0.9421 - val_loss: 0.1412\n",
      "Epoch 9/10\n",
      "\u001b[1m2760/2760\u001b[0m \u001b[32m━━━━━━━━━━━━━━━━━━━━\u001b[0m\u001b[37m\u001b[0m \u001b[1m3s\u001b[0m 995us/step - accuracy: 0.9457 - loss: 0.1279 - val_accuracy: 0.9461 - val_loss: 0.1278\n",
      "Epoch 10/10\n",
      "\u001b[1m2760/2760\u001b[0m \u001b[32m━━━━━━━━━━━━━━━━━━━━\u001b[0m\u001b[37m\u001b[0m \u001b[1m3s\u001b[0m 996us/step - accuracy: 0.9461 - loss: 0.1271 - val_accuracy: 0.9469 - val_loss: 0.1250\n",
      "\u001b[1m3680/3680\u001b[0m \u001b[32m━━━━━━━━━━━━━━━━━━━━\u001b[0m\u001b[37m\u001b[0m \u001b[1m3s\u001b[0m 693us/step\n",
      "Acurácia: 0.9490055877307699\n"
     ]
    }
   ],
   "source": [
    "# Definindo a arquitetura da MLP\n",
    "model = Sequential()\n",
    "model.add(Dense(units=128, activation='relu', input_dim=X_train.shape[1]))\n",
    "model.add(Dense(units=1, activation='sigmoid'))  # Camada de saída para classificação binária\n",
    "\n",
    "# Compilar o modelo\n",
    "model.compile(optimizer='adam', loss='binary_crossentropy', metrics=['accuracy'])\n",
    "\n",
    "# Treinar o modelo\n",
    "model.fit(X_train, y_train, epochs=10, batch_size=32, validation_data=(X_val, y_val))\n",
    "\n",
    "# Avaliar o modelo\n",
    "y_pred = model.predict(X_test)\n",
    "accuracy = accuracy_score(y_test, (y_pred > 0.5).astype(int))\n",
    "print(f'Acurácia: {accuracy}')\n"
   ]
  },
  {
   "cell_type": "markdown",
   "metadata": {},
   "source": [
    "Vamos tentar usar a learning rate de 0.001 e 20 epocas"
   ]
  },
  {
   "cell_type": "code",
   "execution_count": 21,
   "metadata": {},
   "outputs": [
    {
     "name": "stdout",
     "output_type": "stream",
     "text": [
      "Epoch 1/20\n"
     ]
    },
    {
     "name": "stderr",
     "output_type": "stream",
     "text": [
      "C:\\Users\\luize\\AppData\\Local\\Packages\\PythonSoftwareFoundation.Python.3.10_qbz5n2kfra8p0\\LocalCache\\local-packages\\Python310\\site-packages\\keras\\src\\layers\\core\\dense.py:87: UserWarning: Do not pass an `input_shape`/`input_dim` argument to a layer. When using Sequential models, prefer using an `Input(shape)` object as the first layer in the model instead.\n",
      "  super().__init__(activity_regularizer=activity_regularizer, **kwargs)\n"
     ]
    },
    {
     "name": "stdout",
     "output_type": "stream",
     "text": [
      "\u001b[1m2760/2760\u001b[0m \u001b[32m━━━━━━━━━━━━━━━━━━━━\u001b[0m\u001b[37m\u001b[0m \u001b[1m4s\u001b[0m 1ms/step - accuracy: 0.8560 - loss: 0.3609 - val_accuracy: 0.9169 - val_loss: 0.2038\n",
      "Epoch 2/20\n",
      "\u001b[1m2760/2760\u001b[0m \u001b[32m━━━━━━━━━━━━━━━━━━━━\u001b[0m\u001b[37m\u001b[0m \u001b[1m3s\u001b[0m 1ms/step - accuracy: 0.9211 - loss: 0.1996 - val_accuracy: 0.9282 - val_loss: 0.1758\n",
      "Epoch 3/20\n",
      "\u001b[1m2760/2760\u001b[0m \u001b[32m━━━━━━━━━━━━━━━━━━━━\u001b[0m\u001b[37m\u001b[0m \u001b[1m3s\u001b[0m 1ms/step - accuracy: 0.9313 - loss: 0.1724 - val_accuracy: 0.9292 - val_loss: 0.1650\n",
      "Epoch 4/20\n",
      "\u001b[1m2760/2760\u001b[0m \u001b[32m━━━━━━━━━━━━━━━━━━━━\u001b[0m\u001b[37m\u001b[0m \u001b[1m4s\u001b[0m 1ms/step - accuracy: 0.9352 - loss: 0.1588 - val_accuracy: 0.9395 - val_loss: 0.1493\n",
      "Epoch 5/20\n",
      "\u001b[1m2760/2760\u001b[0m \u001b[32m━━━━━━━━━━━━━━━━━━━━\u001b[0m\u001b[37m\u001b[0m \u001b[1m5s\u001b[0m 1ms/step - accuracy: 0.9397 - loss: 0.1463 - val_accuracy: 0.9400 - val_loss: 0.1420\n",
      "Epoch 6/20\n",
      "\u001b[1m2760/2760\u001b[0m \u001b[32m━━━━━━━━━━━━━━━━━━━━\u001b[0m\u001b[37m\u001b[0m \u001b[1m3s\u001b[0m 1ms/step - accuracy: 0.9405 - loss: 0.1430 - val_accuracy: 0.9403 - val_loss: 0.1498\n",
      "Epoch 7/20\n",
      "\u001b[1m2760/2760\u001b[0m \u001b[32m━━━━━━━━━━━━━━━━━━━━\u001b[0m\u001b[37m\u001b[0m \u001b[1m3s\u001b[0m 1ms/step - accuracy: 0.9431 - loss: 0.1379 - val_accuracy: 0.9384 - val_loss: 0.1417\n",
      "Epoch 8/20\n",
      "\u001b[1m2760/2760\u001b[0m \u001b[32m━━━━━━━━━━━━━━━━━━━━\u001b[0m\u001b[37m\u001b[0m \u001b[1m3s\u001b[0m 1ms/step - accuracy: 0.9443 - loss: 0.1324 - val_accuracy: 0.9452 - val_loss: 0.1302\n",
      "Epoch 9/20\n",
      "\u001b[1m2760/2760\u001b[0m \u001b[32m━━━━━━━━━━━━━━━━━━━━\u001b[0m\u001b[37m\u001b[0m \u001b[1m3s\u001b[0m 1ms/step - accuracy: 0.9444 - loss: 0.1303 - val_accuracy: 0.9464 - val_loss: 0.1312\n",
      "Epoch 10/20\n",
      "\u001b[1m2760/2760\u001b[0m \u001b[32m━━━━━━━━━━━━━━━━━━━━\u001b[0m\u001b[37m\u001b[0m \u001b[1m3s\u001b[0m 1ms/step - accuracy: 0.9472 - loss: 0.1273 - val_accuracy: 0.9449 - val_loss: 0.1294\n",
      "Epoch 11/20\n",
      "\u001b[1m2760/2760\u001b[0m \u001b[32m━━━━━━━━━━━━━━━━━━━━\u001b[0m\u001b[37m\u001b[0m \u001b[1m3s\u001b[0m 1ms/step - accuracy: 0.9465 - loss: 0.1253 - val_accuracy: 0.9467 - val_loss: 0.1250\n",
      "Epoch 12/20\n",
      "\u001b[1m2760/2760\u001b[0m \u001b[32m━━━━━━━━━━━━━━━━━━━━\u001b[0m\u001b[37m\u001b[0m \u001b[1m3s\u001b[0m 1ms/step - accuracy: 0.9490 - loss: 0.1237 - val_accuracy: 0.9436 - val_loss: 0.1320\n",
      "Epoch 13/20\n",
      "\u001b[1m2760/2760\u001b[0m \u001b[32m━━━━━━━━━━━━━━━━━━━━\u001b[0m\u001b[37m\u001b[0m \u001b[1m3s\u001b[0m 1ms/step - accuracy: 0.9484 - loss: 0.1193 - val_accuracy: 0.9478 - val_loss: 0.1266\n",
      "Epoch 14/20\n",
      "\u001b[1m2760/2760\u001b[0m \u001b[32m━━━━━━━━━━━━━━━━━━━━\u001b[0m\u001b[37m\u001b[0m \u001b[1m3s\u001b[0m 1ms/step - accuracy: 0.9492 - loss: 0.1195 - val_accuracy: 0.9471 - val_loss: 0.1262\n",
      "Epoch 15/20\n",
      "\u001b[1m2760/2760\u001b[0m \u001b[32m━━━━━━━━━━━━━━━━━━━━\u001b[0m\u001b[37m\u001b[0m \u001b[1m3s\u001b[0m 1ms/step - accuracy: 0.9511 - loss: 0.1158 - val_accuracy: 0.9450 - val_loss: 0.1312\n",
      "Epoch 16/20\n",
      "\u001b[1m2760/2760\u001b[0m \u001b[32m━━━━━━━━━━━━━━━━━━━━\u001b[0m\u001b[37m\u001b[0m \u001b[1m3s\u001b[0m 1ms/step - accuracy: 0.9503 - loss: 0.1165 - val_accuracy: 0.9426 - val_loss: 0.1220\n",
      "Epoch 17/20\n",
      "\u001b[1m2760/2760\u001b[0m \u001b[32m━━━━━━━━━━━━━━━━━━━━\u001b[0m\u001b[37m\u001b[0m \u001b[1m3s\u001b[0m 1ms/step - accuracy: 0.9496 - loss: 0.1155 - val_accuracy: 0.9492 - val_loss: 0.1151\n",
      "Epoch 18/20\n",
      "\u001b[1m2760/2760\u001b[0m \u001b[32m━━━━━━━━━━━━━━━━━━━━\u001b[0m\u001b[37m\u001b[0m \u001b[1m5s\u001b[0m 1ms/step - accuracy: 0.9517 - loss: 0.1128 - val_accuracy: 0.9474 - val_loss: 0.1211\n",
      "Epoch 19/20\n",
      "\u001b[1m2760/2760\u001b[0m \u001b[32m━━━━━━━━━━━━━━━━━━━━\u001b[0m\u001b[37m\u001b[0m \u001b[1m3s\u001b[0m 1ms/step - accuracy: 0.9506 - loss: 0.1128 - val_accuracy: 0.9509 - val_loss: 0.1175\n",
      "Epoch 20/20\n",
      "\u001b[1m2760/2760\u001b[0m \u001b[32m━━━━━━━━━━━━━━━━━━━━\u001b[0m\u001b[37m\u001b[0m \u001b[1m3s\u001b[0m 1ms/step - accuracy: 0.9523 - loss: 0.1104 - val_accuracy: 0.9510 - val_loss: 0.1121\n",
      "\u001b[1m3680/3680\u001b[0m \u001b[32m━━━━━━━━━━━━━━━━━━━━\u001b[0m\u001b[37m\u001b[0m \u001b[1m3s\u001b[0m 705us/step\n",
      "Acurácia: 0.9540498310093581\n"
     ]
    }
   ],
   "source": [
    "from keras.optimizers import Adam\n",
    "\n",
    "# Definindo um otimizador com learning rate específica\n",
    "optimizer = Adam(learning_rate=0.001)\n",
    "\n",
    "# Criando o modelo\n",
    "model = Sequential()\n",
    "model.add(Dense(units=128, activation='relu', input_dim=X_train.shape[1]))\n",
    "model.add(Dense(units=1, activation='sigmoid'))\n",
    "\n",
    "# Compilando o modelo com o otimizador personalizado\n",
    "model.compile(optimizer=optimizer, loss='binary_crossentropy', metrics=['accuracy'])\n",
    "\n",
    "# Treinando o modelo\n",
    "model.fit(X_train, y_train, epochs=20, batch_size=32, validation_data=(X_val, y_val))\n",
    "\n",
    "# Avaliando o modelo\n",
    "y_pred = model.predict(X_test)\n",
    "accuracy = accuracy_score(y_test, (y_pred > 0.5).astype(int))\n",
    "print(f'Acurácia: {accuracy}')"
   ]
  },
  {
   "cell_type": "markdown",
   "metadata": {},
   "source": [
    "Vamos tentar o mesmo exemplo com menos camadas escondidas"
   ]
  },
  {
   "cell_type": "code",
   "execution_count": 22,
   "metadata": {},
   "outputs": [
    {
     "name": "stdout",
     "output_type": "stream",
     "text": [
      "Epoch 1/20\n"
     ]
    },
    {
     "name": "stderr",
     "output_type": "stream",
     "text": [
      "C:\\Users\\luize\\AppData\\Local\\Packages\\PythonSoftwareFoundation.Python.3.10_qbz5n2kfra8p0\\LocalCache\\local-packages\\Python310\\site-packages\\keras\\src\\layers\\core\\dense.py:87: UserWarning: Do not pass an `input_shape`/`input_dim` argument to a layer. When using Sequential models, prefer using an `Input(shape)` object as the first layer in the model instead.\n",
      "  super().__init__(activity_regularizer=activity_regularizer, **kwargs)\n"
     ]
    },
    {
     "name": "stdout",
     "output_type": "stream",
     "text": [
      "\u001b[1m2760/2760\u001b[0m \u001b[32m━━━━━━━━━━━━━━━━━━━━\u001b[0m\u001b[37m\u001b[0m \u001b[1m4s\u001b[0m 1ms/step - accuracy: 0.8317 - loss: 0.3953 - val_accuracy: 0.9100 - val_loss: 0.2276\n",
      "Epoch 2/20\n",
      "\u001b[1m2760/2760\u001b[0m \u001b[32m━━━━━━━━━━━━━━━━━━━━\u001b[0m\u001b[37m\u001b[0m \u001b[1m3s\u001b[0m 1ms/step - accuracy: 0.9168 - loss: 0.2103 - val_accuracy: 0.9241 - val_loss: 0.1895\n",
      "Epoch 3/20\n",
      "\u001b[1m2760/2760\u001b[0m \u001b[32m━━━━━━━━━━━━━━━━━━━━\u001b[0m\u001b[37m\u001b[0m \u001b[1m3s\u001b[0m 1ms/step - accuracy: 0.9255 - loss: 0.1884 - val_accuracy: 0.9322 - val_loss: 0.1708\n",
      "Epoch 4/20\n",
      "\u001b[1m2760/2760\u001b[0m \u001b[32m━━━━━━━━━━━━━━━━━━━━\u001b[0m\u001b[37m\u001b[0m \u001b[1m3s\u001b[0m 1ms/step - accuracy: 0.9330 - loss: 0.1680 - val_accuracy: 0.9320 - val_loss: 0.1631\n",
      "Epoch 5/20\n",
      "\u001b[1m2760/2760\u001b[0m \u001b[32m━━━━━━━━━━━━━━━━━━━━\u001b[0m\u001b[37m\u001b[0m \u001b[1m3s\u001b[0m 1ms/step - accuracy: 0.9359 - loss: 0.1579 - val_accuracy: 0.9383 - val_loss: 0.1500\n",
      "Epoch 6/20\n",
      "\u001b[1m2760/2760\u001b[0m \u001b[32m━━━━━━━━━━━━━━━━━━━━\u001b[0m\u001b[37m\u001b[0m \u001b[1m3s\u001b[0m 1ms/step - accuracy: 0.9389 - loss: 0.1495 - val_accuracy: 0.9366 - val_loss: 0.1479\n",
      "Epoch 7/20\n",
      "\u001b[1m2760/2760\u001b[0m \u001b[32m━━━━━━━━━━━━━━━━━━━━\u001b[0m\u001b[37m\u001b[0m \u001b[1m3s\u001b[0m 1ms/step - accuracy: 0.9397 - loss: 0.1460 - val_accuracy: 0.9418 - val_loss: 0.1411\n",
      "Epoch 8/20\n",
      "\u001b[1m2760/2760\u001b[0m \u001b[32m━━━━━━━━━━━━━━━━━━━━\u001b[0m\u001b[37m\u001b[0m \u001b[1m5s\u001b[0m 1ms/step - accuracy: 0.9418 - loss: 0.1397 - val_accuracy: 0.9408 - val_loss: 0.1363\n",
      "Epoch 9/20\n",
      "\u001b[1m2760/2760\u001b[0m \u001b[32m━━━━━━━━━━━━━━━━━━━━\u001b[0m\u001b[37m\u001b[0m \u001b[1m3s\u001b[0m 1ms/step - accuracy: 0.9432 - loss: 0.1356 - val_accuracy: 0.9443 - val_loss: 0.1309\n",
      "Epoch 10/20\n",
      "\u001b[1m2760/2760\u001b[0m \u001b[32m━━━━━━━━━━━━━━━━━━━━\u001b[0m\u001b[37m\u001b[0m \u001b[1m3s\u001b[0m 974us/step - accuracy: 0.9437 - loss: 0.1345 - val_accuracy: 0.9401 - val_loss: 0.1340\n",
      "Epoch 11/20\n",
      "\u001b[1m2760/2760\u001b[0m \u001b[32m━━━━━━━━━━━━━━━━━━━━\u001b[0m\u001b[37m\u001b[0m \u001b[1m3s\u001b[0m 938us/step - accuracy: 0.9446 - loss: 0.1307 - val_accuracy: 0.9459 - val_loss: 0.1296\n",
      "Epoch 12/20\n",
      "\u001b[1m2760/2760\u001b[0m \u001b[32m━━━━━━━━━━━━━━━━━━━━\u001b[0m\u001b[37m\u001b[0m \u001b[1m3s\u001b[0m 935us/step - accuracy: 0.9479 - loss: 0.1261 - val_accuracy: 0.9371 - val_loss: 0.1377\n",
      "Epoch 13/20\n",
      "\u001b[1m2760/2760\u001b[0m \u001b[32m━━━━━━━━━━━━━━━━━━━━\u001b[0m\u001b[37m\u001b[0m \u001b[1m3s\u001b[0m 944us/step - accuracy: 0.9439 - loss: 0.1288 - val_accuracy: 0.9471 - val_loss: 0.1273\n",
      "Epoch 14/20\n",
      "\u001b[1m2760/2760\u001b[0m \u001b[32m━━━━━━━━━━━━━━━━━━━━\u001b[0m\u001b[37m\u001b[0m \u001b[1m3s\u001b[0m 1ms/step - accuracy: 0.9462 - loss: 0.1257 - val_accuracy: 0.9464 - val_loss: 0.1243\n",
      "Epoch 15/20\n",
      "\u001b[1m2760/2760\u001b[0m \u001b[32m━━━━━━━━━━━━━━━━━━━━\u001b[0m\u001b[37m\u001b[0m \u001b[1m3s\u001b[0m 1ms/step - accuracy: 0.9484 - loss: 0.1226 - val_accuracy: 0.9480 - val_loss: 0.1220\n",
      "Epoch 16/20\n",
      "\u001b[1m2760/2760\u001b[0m \u001b[32m━━━━━━━━━━━━━━━━━━━━\u001b[0m\u001b[37m\u001b[0m \u001b[1m3s\u001b[0m 1ms/step - accuracy: 0.9483 - loss: 0.1220 - val_accuracy: 0.9423 - val_loss: 0.1422\n",
      "Epoch 17/20\n",
      "\u001b[1m2760/2760\u001b[0m \u001b[32m━━━━━━━━━━━━━━━━━━━━\u001b[0m\u001b[37m\u001b[0m \u001b[1m3s\u001b[0m 1ms/step - accuracy: 0.9501 - loss: 0.1193 - val_accuracy: 0.9486 - val_loss: 0.1243\n",
      "Epoch 18/20\n",
      "\u001b[1m2760/2760\u001b[0m \u001b[32m━━━━━━━━━━━━━━━━━━━━\u001b[0m\u001b[37m\u001b[0m \u001b[1m3s\u001b[0m 1ms/step - accuracy: 0.9485 - loss: 0.1200 - val_accuracy: 0.9480 - val_loss: 0.1183\n",
      "Epoch 19/20\n",
      "\u001b[1m2760/2760\u001b[0m \u001b[32m━━━━━━━━━━━━━━━━━━━━\u001b[0m\u001b[37m\u001b[0m \u001b[1m5s\u001b[0m 1ms/step - accuracy: 0.9492 - loss: 0.1195 - val_accuracy: 0.9449 - val_loss: 0.1210\n",
      "Epoch 20/20\n",
      "\u001b[1m2760/2760\u001b[0m \u001b[32m━━━━━━━━━━━━━━━━━━━━\u001b[0m\u001b[37m\u001b[0m \u001b[1m3s\u001b[0m 933us/step - accuracy: 0.9513 - loss: 0.1175 - val_accuracy: 0.9487 - val_loss: 0.1171\n",
      "\u001b[1m3680/3680\u001b[0m \u001b[32m━━━━━━━━━━━━━━━━━━━━\u001b[0m\u001b[37m\u001b[0m \u001b[1m2s\u001b[0m 628us/step\n",
      "Acurácia: 0.9512474736323647\n"
     ]
    }
   ],
   "source": [
    "from keras.optimizers import Adam\n",
    "\n",
    "# Definindo um otimizador com learning rate específica\n",
    "optimizer = Adam(learning_rate=0.001)\n",
    "\n",
    "# Criando o modelo\n",
    "model = Sequential()\n",
    "model.add(Dense(units=64, activation='relu', input_dim=X_train.shape[1]))\n",
    "model.add(Dense(units=1, activation='sigmoid'))\n",
    "\n",
    "# Compilando o modelo com o otimizador personalizado\n",
    "model.compile(optimizer=optimizer, loss='binary_crossentropy', metrics=['accuracy'])\n",
    "\n",
    "# Treinando o modelo\n",
    "model.fit(X_train, y_train, epochs=20, batch_size=32, validation_data=(X_val, y_val))\n",
    "\n",
    "# Avaliando o modelo\n",
    "y_pred = model.predict(X_test)\n",
    "accuracy = accuracy_score(y_test, (y_pred > 0.5).astype(int))\n",
    "print(f'Acurácia: {accuracy}')"
   ]
  },
  {
   "cell_type": "code",
   "execution_count": 23,
   "metadata": {},
   "outputs": [
    {
     "name": "stdout",
     "output_type": "stream",
     "text": [
      "Epoch 1/20\n"
     ]
    },
    {
     "name": "stderr",
     "output_type": "stream",
     "text": [
      "C:\\Users\\luize\\AppData\\Local\\Packages\\PythonSoftwareFoundation.Python.3.10_qbz5n2kfra8p0\\LocalCache\\local-packages\\Python310\\site-packages\\keras\\src\\layers\\core\\dense.py:87: UserWarning: Do not pass an `input_shape`/`input_dim` argument to a layer. When using Sequential models, prefer using an `Input(shape)` object as the first layer in the model instead.\n",
      "  super().__init__(activity_regularizer=activity_regularizer, **kwargs)\n"
     ]
    },
    {
     "name": "stdout",
     "output_type": "stream",
     "text": [
      "\u001b[1m2760/2760\u001b[0m \u001b[32m━━━━━━━━━━━━━━━━━━━━\u001b[0m\u001b[37m\u001b[0m \u001b[1m4s\u001b[0m 1ms/step - accuracy: 0.8277 - loss: 0.4112 - val_accuracy: 0.9063 - val_loss: 0.2374\n",
      "Epoch 2/20\n",
      "\u001b[1m2760/2760\u001b[0m \u001b[32m━━━━━━━━━━━━━━━━━━━━\u001b[0m\u001b[37m\u001b[0m \u001b[1m3s\u001b[0m 1000us/step - accuracy: 0.9102 - loss: 0.2274 - val_accuracy: 0.9211 - val_loss: 0.1957\n",
      "Epoch 3/20\n",
      "\u001b[1m2760/2760\u001b[0m \u001b[32m━━━━━━━━━━━━━━━━━━━━\u001b[0m\u001b[37m\u001b[0m \u001b[1m3s\u001b[0m 1ms/step - accuracy: 0.9235 - loss: 0.1947 - val_accuracy: 0.9289 - val_loss: 0.1785\n",
      "Epoch 4/20\n",
      "\u001b[1m2760/2760\u001b[0m \u001b[32m━━━━━━━━━━━━━━━━━━━━\u001b[0m\u001b[37m\u001b[0m \u001b[1m3s\u001b[0m 1ms/step - accuracy: 0.9297 - loss: 0.1771 - val_accuracy: 0.9331 - val_loss: 0.1648\n",
      "Epoch 5/20\n",
      "\u001b[1m2760/2760\u001b[0m \u001b[32m━━━━━━━━━━━━━━━━━━━━\u001b[0m\u001b[37m\u001b[0m \u001b[1m3s\u001b[0m 993us/step - accuracy: 0.9349 - loss: 0.1641 - val_accuracy: 0.9352 - val_loss: 0.1574\n",
      "Epoch 6/20\n",
      "\u001b[1m2760/2760\u001b[0m \u001b[32m━━━━━━━━━━━━━━━━━━━━\u001b[0m\u001b[37m\u001b[0m \u001b[1m3s\u001b[0m 1ms/step - accuracy: 0.9362 - loss: 0.1571 - val_accuracy: 0.9380 - val_loss: 0.1508\n",
      "Epoch 7/20\n",
      "\u001b[1m2760/2760\u001b[0m \u001b[32m━━━━━━━━━━━━━━━━━━━━\u001b[0m\u001b[37m\u001b[0m \u001b[1m3s\u001b[0m 1ms/step - accuracy: 0.9383 - loss: 0.1488 - val_accuracy: 0.9387 - val_loss: 0.1478\n",
      "Epoch 8/20\n",
      "\u001b[1m2760/2760\u001b[0m \u001b[32m━━━━━━━━━━━━━━━━━━━━\u001b[0m\u001b[37m\u001b[0m \u001b[1m3s\u001b[0m 1ms/step - accuracy: 0.9398 - loss: 0.1458 - val_accuracy: 0.9397 - val_loss: 0.1430\n",
      "Epoch 9/20\n",
      "\u001b[1m2760/2760\u001b[0m \u001b[32m━━━━━━━━━━━━━━━━━━━━\u001b[0m\u001b[37m\u001b[0m \u001b[1m3s\u001b[0m 996us/step - accuracy: 0.9403 - loss: 0.1456 - val_accuracy: 0.9334 - val_loss: 0.1509\n",
      "Epoch 10/20\n",
      "\u001b[1m2760/2760\u001b[0m \u001b[32m━━━━━━━━━━━━━━━━━━━━\u001b[0m\u001b[37m\u001b[0m \u001b[1m3s\u001b[0m 992us/step - accuracy: 0.9408 - loss: 0.1413 - val_accuracy: 0.9416 - val_loss: 0.1389\n",
      "Epoch 11/20\n",
      "\u001b[1m2760/2760\u001b[0m \u001b[32m━━━━━━━━━━━━━━━━━━━━\u001b[0m\u001b[37m\u001b[0m \u001b[1m3s\u001b[0m 997us/step - accuracy: 0.9426 - loss: 0.1389 - val_accuracy: 0.9352 - val_loss: 0.1444\n",
      "Epoch 12/20\n",
      "\u001b[1m2760/2760\u001b[0m \u001b[32m━━━━━━━━━━━━━━━━━━━━\u001b[0m\u001b[37m\u001b[0m \u001b[1m3s\u001b[0m 1ms/step - accuracy: 0.9419 - loss: 0.1378 - val_accuracy: 0.9426 - val_loss: 0.1365\n",
      "Epoch 13/20\n",
      "\u001b[1m2760/2760\u001b[0m \u001b[32m━━━━━━━━━━━━━━━━━━━━\u001b[0m\u001b[37m\u001b[0m \u001b[1m3s\u001b[0m 1ms/step - accuracy: 0.9424 - loss: 0.1366 - val_accuracy: 0.9417 - val_loss: 0.1431\n",
      "Epoch 14/20\n",
      "\u001b[1m2760/2760\u001b[0m \u001b[32m━━━━━━━━━━━━━━━━━━━━\u001b[0m\u001b[37m\u001b[0m \u001b[1m3s\u001b[0m 1ms/step - accuracy: 0.9433 - loss: 0.1365 - val_accuracy: 0.9427 - val_loss: 0.1330\n",
      "Epoch 15/20\n",
      "\u001b[1m2760/2760\u001b[0m \u001b[32m━━━━━━━━━━━━━━━━━━━━\u001b[0m\u001b[37m\u001b[0m \u001b[1m3s\u001b[0m 1ms/step - accuracy: 0.9435 - loss: 0.1327 - val_accuracy: 0.9404 - val_loss: 0.1346\n",
      "Epoch 16/20\n",
      "\u001b[1m2760/2760\u001b[0m \u001b[32m━━━━━━━━━━━━━━━━━━━━\u001b[0m\u001b[37m\u001b[0m \u001b[1m3s\u001b[0m 1ms/step - accuracy: 0.9418 - loss: 0.1354 - val_accuracy: 0.9421 - val_loss: 0.1337\n",
      "Epoch 17/20\n",
      "\u001b[1m2760/2760\u001b[0m \u001b[32m━━━━━━━━━━━━━━━━━━━━\u001b[0m\u001b[37m\u001b[0m \u001b[1m3s\u001b[0m 1ms/step - accuracy: 0.9441 - loss: 0.1320 - val_accuracy: 0.9442 - val_loss: 0.1357\n",
      "Epoch 18/20\n",
      "\u001b[1m2760/2760\u001b[0m \u001b[32m━━━━━━━━━━━━━━━━━━━━\u001b[0m\u001b[37m\u001b[0m \u001b[1m3s\u001b[0m 1ms/step - accuracy: 0.9447 - loss: 0.1304 - val_accuracy: 0.9457 - val_loss: 0.1318\n",
      "Epoch 19/20\n",
      "\u001b[1m2760/2760\u001b[0m \u001b[32m━━━━━━━━━━━━━━━━━━━━\u001b[0m\u001b[37m\u001b[0m \u001b[1m3s\u001b[0m 1ms/step - accuracy: 0.9451 - loss: 0.1303 - val_accuracy: 0.9443 - val_loss: 0.1280\n",
      "Epoch 20/20\n",
      "\u001b[1m2760/2760\u001b[0m \u001b[32m━━━━━━━━━━━━━━━━━━━━\u001b[0m\u001b[37m\u001b[0m \u001b[1m3s\u001b[0m 1ms/step - accuracy: 0.9456 - loss: 0.1294 - val_accuracy: 0.9427 - val_loss: 0.1374\n",
      "\u001b[1m3680/3680\u001b[0m \u001b[32m━━━━━━━━━━━━━━━━━━━━\u001b[0m\u001b[37m\u001b[0m \u001b[1m3s\u001b[0m 704us/step\n",
      "Acurácia: 0.9440462643726966\n"
     ]
    }
   ],
   "source": [
    "from keras.optimizers import Adam\n",
    "\n",
    "# Definindo um otimizador com learning rate específica\n",
    "optimizer = Adam(learning_rate=0.001)\n",
    "\n",
    "# Criando o modelo\n",
    "model = Sequential()\n",
    "model.add(Dense(units=32, activation='relu', input_dim=X_train.shape[1]))\n",
    "model.add(Dense(units=1, activation='sigmoid'))\n",
    "\n",
    "# Compilando o modelo com o otimizador personalizado\n",
    "model.compile(optimizer=optimizer, loss='binary_crossentropy', metrics=['accuracy'])\n",
    "\n",
    "# Treinando o modelo\n",
    "model.fit(X_train, y_train, epochs=20, batch_size=32, validation_data=(X_val, y_val))\n",
    "\n",
    "# Avaliando o modelo\n",
    "y_pred = model.predict(X_test)\n",
    "accuracy = accuracy_score(y_test, (y_pred > 0.5).astype(int))\n",
    "print(f'Acurácia: {accuracy}')"
   ]
  },
  {
   "cell_type": "markdown",
   "metadata": {},
   "source": [
    "Chegamos a conclusão que 64 hidden layers é o numero ideal, agora vamos tentar mudar o batch size"
   ]
  },
  {
   "cell_type": "code",
   "execution_count": 30,
   "metadata": {},
   "outputs": [
    {
     "name": "stdout",
     "output_type": "stream",
     "text": [
      "Epoch 1/20\n"
     ]
    },
    {
     "name": "stderr",
     "output_type": "stream",
     "text": [
      "C:\\Users\\luize\\AppData\\Local\\Packages\\PythonSoftwareFoundation.Python.3.10_qbz5n2kfra8p0\\LocalCache\\local-packages\\Python310\\site-packages\\keras\\src\\layers\\core\\dense.py:87: UserWarning: Do not pass an `input_shape`/`input_dim` argument to a layer. When using Sequential models, prefer using an `Input(shape)` object as the first layer in the model instead.\n",
      "  super().__init__(activity_regularizer=activity_regularizer, **kwargs)\n"
     ]
    },
    {
     "name": "stdout",
     "output_type": "stream",
     "text": [
      "\u001b[1m1380/1380\u001b[0m \u001b[32m━━━━━━━━━━━━━━━━━━━━\u001b[0m\u001b[37m\u001b[0m \u001b[1m3s\u001b[0m 1ms/step - accuracy: 0.8099 - loss: 0.4348 - val_accuracy: 0.8998 - val_loss: 0.2552\n",
      "Epoch 2/20\n",
      "\u001b[1m1380/1380\u001b[0m \u001b[32m━━━━━━━━━━━━━━━━━━━━\u001b[0m\u001b[37m\u001b[0m \u001b[1m2s\u001b[0m 1ms/step - accuracy: 0.9073 - loss: 0.2392 - val_accuracy: 0.9183 - val_loss: 0.2058\n",
      "Epoch 3/20\n",
      "\u001b[1m1380/1380\u001b[0m \u001b[32m━━━━━━━━━━━━━━━━━━━━\u001b[0m\u001b[37m\u001b[0m \u001b[1m2s\u001b[0m 1ms/step - accuracy: 0.9218 - loss: 0.1974 - val_accuracy: 0.9262 - val_loss: 0.1862\n",
      "Epoch 4/20\n",
      "\u001b[1m1380/1380\u001b[0m \u001b[32m━━━━━━━━━━━━━━━━━━━━\u001b[0m\u001b[37m\u001b[0m \u001b[1m2s\u001b[0m 1ms/step - accuracy: 0.9297 - loss: 0.1784 - val_accuracy: 0.9315 - val_loss: 0.1674\n",
      "Epoch 5/20\n",
      "\u001b[1m1380/1380\u001b[0m \u001b[32m━━━━━━━━━━━━━━━━━━━━\u001b[0m\u001b[37m\u001b[0m \u001b[1m2s\u001b[0m 1ms/step - accuracy: 0.9337 - loss: 0.1640 - val_accuracy: 0.9323 - val_loss: 0.1633\n",
      "Epoch 6/20\n",
      "\u001b[1m1380/1380\u001b[0m \u001b[32m━━━━━━━━━━━━━━━━━━━━\u001b[0m\u001b[37m\u001b[0m \u001b[1m2s\u001b[0m 1ms/step - accuracy: 0.9355 - loss: 0.1596 - val_accuracy: 0.9333 - val_loss: 0.1561\n",
      "Epoch 7/20\n",
      "\u001b[1m1380/1380\u001b[0m \u001b[32m━━━━━━━━━━━━━━━━━━━━\u001b[0m\u001b[37m\u001b[0m \u001b[1m2s\u001b[0m 1ms/step - accuracy: 0.9379 - loss: 0.1515 - val_accuracy: 0.9375 - val_loss: 0.1498\n",
      "Epoch 8/20\n",
      "\u001b[1m1380/1380\u001b[0m \u001b[32m━━━━━━━━━━━━━━━━━━━━\u001b[0m\u001b[37m\u001b[0m \u001b[1m2s\u001b[0m 1ms/step - accuracy: 0.9387 - loss: 0.1474 - val_accuracy: 0.9396 - val_loss: 0.1441\n",
      "Epoch 9/20\n",
      "\u001b[1m1380/1380\u001b[0m \u001b[32m━━━━━━━━━━━━━━━━━━━━\u001b[0m\u001b[37m\u001b[0m \u001b[1m2s\u001b[0m 1ms/step - accuracy: 0.9392 - loss: 0.1461 - val_accuracy: 0.9407 - val_loss: 0.1433\n",
      "Epoch 10/20\n",
      "\u001b[1m1380/1380\u001b[0m \u001b[32m━━━━━━━━━━━━━━━━━━━━\u001b[0m\u001b[37m\u001b[0m \u001b[1m2s\u001b[0m 1ms/step - accuracy: 0.9413 - loss: 0.1424 - val_accuracy: 0.9367 - val_loss: 0.1447\n",
      "Epoch 11/20\n",
      "\u001b[1m1380/1380\u001b[0m \u001b[32m━━━━━━━━━━━━━━━━━━━━\u001b[0m\u001b[37m\u001b[0m \u001b[1m2s\u001b[0m 1ms/step - accuracy: 0.9431 - loss: 0.1387 - val_accuracy: 0.9412 - val_loss: 0.1423\n",
      "Epoch 12/20\n",
      "\u001b[1m1380/1380\u001b[0m \u001b[32m━━━━━━━━━━━━━━━━━━━━\u001b[0m\u001b[37m\u001b[0m \u001b[1m2s\u001b[0m 1ms/step - accuracy: 0.9434 - loss: 0.1347 - val_accuracy: 0.9416 - val_loss: 0.1402\n",
      "Epoch 13/20\n",
      "\u001b[1m1380/1380\u001b[0m \u001b[32m━━━━━━━━━━━━━━━━━━━━\u001b[0m\u001b[37m\u001b[0m \u001b[1m1s\u001b[0m 1ms/step - accuracy: 0.9426 - loss: 0.1353 - val_accuracy: 0.9415 - val_loss: 0.1333\n",
      "Epoch 14/20\n",
      "\u001b[1m1380/1380\u001b[0m \u001b[32m━━━━━━━━━━━━━━━━━━━━\u001b[0m\u001b[37m\u001b[0m \u001b[1m2s\u001b[0m 1ms/step - accuracy: 0.9458 - loss: 0.1321 - val_accuracy: 0.9413 - val_loss: 0.1358\n",
      "Epoch 15/20\n",
      "\u001b[1m1380/1380\u001b[0m \u001b[32m━━━━━━━━━━━━━━━━━━━━\u001b[0m\u001b[37m\u001b[0m \u001b[1m2s\u001b[0m 1ms/step - accuracy: 0.9446 - loss: 0.1304 - val_accuracy: 0.9456 - val_loss: 0.1304\n",
      "Epoch 16/20\n",
      "\u001b[1m1380/1380\u001b[0m \u001b[32m━━━━━━━━━━━━━━━━━━━━\u001b[0m\u001b[37m\u001b[0m \u001b[1m2s\u001b[0m 1ms/step - accuracy: 0.9447 - loss: 0.1291 - val_accuracy: 0.9440 - val_loss: 0.1285\n",
      "Epoch 17/20\n",
      "\u001b[1m1380/1380\u001b[0m \u001b[32m━━━━━━━━━━━━━━━━━━━━\u001b[0m\u001b[37m\u001b[0m \u001b[1m2s\u001b[0m 1ms/step - accuracy: 0.9454 - loss: 0.1291 - val_accuracy: 0.9419 - val_loss: 0.1377\n",
      "Epoch 18/20\n",
      "\u001b[1m1380/1380\u001b[0m \u001b[32m━━━━━━━━━━━━━━━━━━━━\u001b[0m\u001b[37m\u001b[0m \u001b[1m2s\u001b[0m 1ms/step - accuracy: 0.9455 - loss: 0.1272 - val_accuracy: 0.9447 - val_loss: 0.1287\n",
      "Epoch 19/20\n",
      "\u001b[1m1380/1380\u001b[0m \u001b[32m━━━━━━━━━━━━━━━━━━━━\u001b[0m\u001b[37m\u001b[0m \u001b[1m2s\u001b[0m 1ms/step - accuracy: 0.9458 - loss: 0.1269 - val_accuracy: 0.9454 - val_loss: 0.1290\n",
      "Epoch 20/20\n",
      "\u001b[1m1380/1380\u001b[0m \u001b[32m━━━━━━━━━━━━━━━━━━━━\u001b[0m\u001b[37m\u001b[0m \u001b[1m2s\u001b[0m 1ms/step - accuracy: 0.9472 - loss: 0.1243 - val_accuracy: 0.9463 - val_loss: 0.1246\n",
      "\u001b[1m3680/3680\u001b[0m \u001b[32m━━━━━━━━━━━━━━━━━━━━\u001b[0m\u001b[37m\u001b[0m \u001b[1m3s\u001b[0m 799us/step\n",
      "Acurácia: 0.9480544846210024\n"
     ]
    }
   ],
   "source": [
    "# Definindo um otimizador com learning rate específica\n",
    "optimizer = Adam(learning_rate=0.001)\n",
    "\n",
    "# Criando o modelo\n",
    "model = Sequential()\n",
    "model.add(Dense(units=64, activation='relu', input_dim=X_train.shape[1]))\n",
    "model.add(Dense(units=1, activation='sigmoid'))\n",
    "\n",
    "# Compilando o modelo com o otimizador personalizado\n",
    "model.compile(optimizer=optimizer, loss='binary_crossentropy', metrics=['accuracy'])\n",
    "\n",
    "# Treinando o modelo\n",
    "model.fit(X_train, y_train, epochs=20, batch_size=64, validation_data=(X_val, y_val))\n",
    "\n",
    "# Avaliando o modelo\n",
    "y_pred = model.predict(X_test)\n",
    "accuracy = accuracy_score(y_test, (y_pred > 0.5).astype(int))\n",
    "print(f'Acurácia: {accuracy}')"
   ]
  },
  {
   "cell_type": "markdown",
   "metadata": {},
   "source": [
    "O batchsize maior não surtiu efeito, vamos tentar aumentar o numero de epocas mantendo esse batch size, qualquer coisa revertemos posteriormente"
   ]
  },
  {
   "cell_type": "code",
   "execution_count": 31,
   "metadata": {},
   "outputs": [
    {
     "name": "stdout",
     "output_type": "stream",
     "text": [
      "Epoch 1/30\n"
     ]
    },
    {
     "name": "stderr",
     "output_type": "stream",
     "text": [
      "C:\\Users\\luize\\AppData\\Local\\Packages\\PythonSoftwareFoundation.Python.3.10_qbz5n2kfra8p0\\LocalCache\\local-packages\\Python310\\site-packages\\keras\\src\\layers\\core\\dense.py:87: UserWarning: Do not pass an `input_shape`/`input_dim` argument to a layer. When using Sequential models, prefer using an `Input(shape)` object as the first layer in the model instead.\n",
      "  super().__init__(activity_regularizer=activity_regularizer, **kwargs)\n"
     ]
    },
    {
     "name": "stdout",
     "output_type": "stream",
     "text": [
      "\u001b[1m1380/1380\u001b[0m \u001b[32m━━━━━━━━━━━━━━━━━━━━\u001b[0m\u001b[37m\u001b[0m \u001b[1m3s\u001b[0m 1ms/step - accuracy: 0.8069 - loss: 0.4287 - val_accuracy: 0.9059 - val_loss: 0.2424\n",
      "Epoch 2/30\n",
      "\u001b[1m1380/1380\u001b[0m \u001b[32m━━━━━━━━━━━━━━━━━━━━\u001b[0m\u001b[37m\u001b[0m \u001b[1m2s\u001b[0m 1ms/step - accuracy: 0.9108 - loss: 0.2260 - val_accuracy: 0.9227 - val_loss: 0.1956\n",
      "Epoch 3/30\n",
      "\u001b[1m1380/1380\u001b[0m \u001b[32m━━━━━━━━━━━━━━━━━━━━\u001b[0m\u001b[37m\u001b[0m \u001b[1m2s\u001b[0m 1ms/step - accuracy: 0.9265 - loss: 0.1892 - val_accuracy: 0.9300 - val_loss: 0.1768\n",
      "Epoch 4/30\n",
      "\u001b[1m1380/1380\u001b[0m \u001b[32m━━━━━━━━━━━━━━━━━━━━\u001b[0m\u001b[37m\u001b[0m \u001b[1m3s\u001b[0m 1ms/step - accuracy: 0.9298 - loss: 0.1744 - val_accuracy: 0.9315 - val_loss: 0.1661\n",
      "Epoch 5/30\n",
      "\u001b[1m1380/1380\u001b[0m \u001b[32m━━━━━━━━━━━━━━━━━━━━\u001b[0m\u001b[37m\u001b[0m \u001b[1m2s\u001b[0m 1ms/step - accuracy: 0.9332 - loss: 0.1623 - val_accuracy: 0.9372 - val_loss: 0.1526\n",
      "Epoch 6/30\n",
      "\u001b[1m1380/1380\u001b[0m \u001b[32m━━━━━━━━━━━━━━━━━━━━\u001b[0m\u001b[37m\u001b[0m \u001b[1m2s\u001b[0m 1ms/step - accuracy: 0.9395 - loss: 0.1486 - val_accuracy: 0.9319 - val_loss: 0.1549\n",
      "Epoch 7/30\n",
      "\u001b[1m1380/1380\u001b[0m \u001b[32m━━━━━━━━━━━━━━━━━━━━\u001b[0m\u001b[37m\u001b[0m \u001b[1m2s\u001b[0m 1ms/step - accuracy: 0.9380 - loss: 0.1479 - val_accuracy: 0.9412 - val_loss: 0.1431\n",
      "Epoch 8/30\n",
      "\u001b[1m1380/1380\u001b[0m \u001b[32m━━━━━━━━━━━━━━━━━━━━\u001b[0m\u001b[37m\u001b[0m \u001b[1m2s\u001b[0m 1ms/step - accuracy: 0.9407 - loss: 0.1427 - val_accuracy: 0.9410 - val_loss: 0.1386\n",
      "Epoch 9/30\n",
      "\u001b[1m1380/1380\u001b[0m \u001b[32m━━━━━━━━━━━━━━━━━━━━\u001b[0m\u001b[37m\u001b[0m \u001b[1m2s\u001b[0m 1ms/step - accuracy: 0.9439 - loss: 0.1363 - val_accuracy: 0.9417 - val_loss: 0.1367\n",
      "Epoch 10/30\n",
      "\u001b[1m1380/1380\u001b[0m \u001b[32m━━━━━━━━━━━━━━━━━━━━\u001b[0m\u001b[37m\u001b[0m \u001b[1m2s\u001b[0m 1ms/step - accuracy: 0.9438 - loss: 0.1341 - val_accuracy: 0.9430 - val_loss: 0.1347\n",
      "Epoch 11/30\n",
      "\u001b[1m1380/1380\u001b[0m \u001b[32m━━━━━━━━━━━━━━━━━━━━\u001b[0m\u001b[37m\u001b[0m \u001b[1m2s\u001b[0m 1ms/step - accuracy: 0.9442 - loss: 0.1341 - val_accuracy: 0.9417 - val_loss: 0.1379\n",
      "Epoch 12/30\n",
      "\u001b[1m1380/1380\u001b[0m \u001b[32m━━━━━━━━━━━━━━━━━━━━\u001b[0m\u001b[37m\u001b[0m \u001b[1m2s\u001b[0m 1ms/step - accuracy: 0.9457 - loss: 0.1293 - val_accuracy: 0.9432 - val_loss: 0.1305\n",
      "Epoch 13/30\n",
      "\u001b[1m1380/1380\u001b[0m \u001b[32m━━━━━━━━━━━━━━━━━━━━\u001b[0m\u001b[37m\u001b[0m \u001b[1m2s\u001b[0m 1ms/step - accuracy: 0.9461 - loss: 0.1294 - val_accuracy: 0.9444 - val_loss: 0.1284\n",
      "Epoch 14/30\n",
      "\u001b[1m1380/1380\u001b[0m \u001b[32m━━━━━━━━━━━━━━━━━━━━\u001b[0m\u001b[37m\u001b[0m \u001b[1m2s\u001b[0m 1ms/step - accuracy: 0.9466 - loss: 0.1263 - val_accuracy: 0.9430 - val_loss: 0.1335\n",
      "Epoch 15/30\n",
      "\u001b[1m1380/1380\u001b[0m \u001b[32m━━━━━━━━━━━━━━━━━━━━\u001b[0m\u001b[37m\u001b[0m \u001b[1m2s\u001b[0m 1ms/step - accuracy: 0.9465 - loss: 0.1260 - val_accuracy: 0.9459 - val_loss: 0.1257\n",
      "Epoch 16/30\n",
      "\u001b[1m1380/1380\u001b[0m \u001b[32m━━━━━━━━━━━━━━━━━━━━\u001b[0m\u001b[37m\u001b[0m \u001b[1m2s\u001b[0m 1ms/step - accuracy: 0.9465 - loss: 0.1251 - val_accuracy: 0.9469 - val_loss: 0.1235\n",
      "Epoch 17/30\n",
      "\u001b[1m1380/1380\u001b[0m \u001b[32m━━━━━━━━━━━━━━━━━━━━\u001b[0m\u001b[37m\u001b[0m \u001b[1m2s\u001b[0m 1ms/step - accuracy: 0.9460 - loss: 0.1273 - val_accuracy: 0.9482 - val_loss: 0.1238\n",
      "Epoch 18/30\n",
      "\u001b[1m1380/1380\u001b[0m \u001b[32m━━━━━━━━━━━━━━━━━━━━\u001b[0m\u001b[37m\u001b[0m \u001b[1m2s\u001b[0m 1ms/step - accuracy: 0.9477 - loss: 0.1227 - val_accuracy: 0.9476 - val_loss: 0.1230\n",
      "Epoch 19/30\n",
      "\u001b[1m1380/1380\u001b[0m \u001b[32m━━━━━━━━━━━━━━━━━━━━\u001b[0m\u001b[37m\u001b[0m \u001b[1m2s\u001b[0m 1ms/step - accuracy: 0.9468 - loss: 0.1221 - val_accuracy: 0.9484 - val_loss: 0.1226\n",
      "Epoch 20/30\n",
      "\u001b[1m1380/1380\u001b[0m \u001b[32m━━━━━━━━━━━━━━━━━━━━\u001b[0m\u001b[37m\u001b[0m \u001b[1m2s\u001b[0m 1ms/step - accuracy: 0.9496 - loss: 0.1188 - val_accuracy: 0.9476 - val_loss: 0.1218\n",
      "Epoch 21/30\n",
      "\u001b[1m1380/1380\u001b[0m \u001b[32m━━━━━━━━━━━━━━━━━━━━\u001b[0m\u001b[37m\u001b[0m \u001b[1m2s\u001b[0m 1ms/step - accuracy: 0.9476 - loss: 0.1198 - val_accuracy: 0.9486 - val_loss: 0.1225\n",
      "Epoch 22/30\n",
      "\u001b[1m1380/1380\u001b[0m \u001b[32m━━━━━━━━━━━━━━━━━━━━\u001b[0m\u001b[37m\u001b[0m \u001b[1m3s\u001b[0m 1ms/step - accuracy: 0.9499 - loss: 0.1174 - val_accuracy: 0.9476 - val_loss: 0.1208\n",
      "Epoch 23/30\n",
      "\u001b[1m1380/1380\u001b[0m \u001b[32m━━━━━━━━━━━━━━━━━━━━\u001b[0m\u001b[37m\u001b[0m \u001b[1m2s\u001b[0m 1ms/step - accuracy: 0.9500 - loss: 0.1169 - val_accuracy: 0.9443 - val_loss: 0.1238\n",
      "Epoch 24/30\n",
      "\u001b[1m1380/1380\u001b[0m \u001b[32m━━━━━━━━━━━━━━━━━━━━\u001b[0m\u001b[37m\u001b[0m \u001b[1m2s\u001b[0m 1ms/step - accuracy: 0.9495 - loss: 0.1164 - val_accuracy: 0.9478 - val_loss: 0.1210\n",
      "Epoch 25/30\n",
      "\u001b[1m1380/1380\u001b[0m \u001b[32m━━━━━━━━━━━━━━━━━━━━\u001b[0m\u001b[37m\u001b[0m \u001b[1m2s\u001b[0m 1ms/step - accuracy: 0.9497 - loss: 0.1171 - val_accuracy: 0.9493 - val_loss: 0.1183\n",
      "Epoch 26/30\n",
      "\u001b[1m1380/1380\u001b[0m \u001b[32m━━━━━━━━━━━━━━━━━━━━\u001b[0m\u001b[37m\u001b[0m \u001b[1m2s\u001b[0m 1ms/step - accuracy: 0.9488 - loss: 0.1183 - val_accuracy: 0.9454 - val_loss: 0.1291\n",
      "Epoch 27/30\n",
      "\u001b[1m1380/1380\u001b[0m \u001b[32m━━━━━━━━━━━━━━━━━━━━\u001b[0m\u001b[37m\u001b[0m \u001b[1m2s\u001b[0m 1ms/step - accuracy: 0.9497 - loss: 0.1155 - val_accuracy: 0.9449 - val_loss: 0.1213\n",
      "Epoch 28/30\n",
      "\u001b[1m1380/1380\u001b[0m \u001b[32m━━━━━━━━━━━━━━━━━━━━\u001b[0m\u001b[37m\u001b[0m \u001b[1m1s\u001b[0m 1ms/step - accuracy: 0.9511 - loss: 0.1147 - val_accuracy: 0.9480 - val_loss: 0.1195\n",
      "Epoch 29/30\n",
      "\u001b[1m1380/1380\u001b[0m \u001b[32m━━━━━━━━━━━━━━━━━━━━\u001b[0m\u001b[37m\u001b[0m \u001b[1m1s\u001b[0m 968us/step - accuracy: 0.9503 - loss: 0.1148 - val_accuracy: 0.9484 - val_loss: 0.1168\n",
      "Epoch 30/30\n",
      "\u001b[1m1380/1380\u001b[0m \u001b[32m━━━━━━━━━━━━━━━━━━━━\u001b[0m\u001b[37m\u001b[0m \u001b[1m3s\u001b[0m 1ms/step - accuracy: 0.9510 - loss: 0.1140 - val_accuracy: 0.9468 - val_loss: 0.1172\n",
      "\u001b[1m3680/3680\u001b[0m \u001b[32m━━━━━━━━━━━━━━━━━━━━\u001b[0m\u001b[37m\u001b[0m \u001b[1m2s\u001b[0m 643us/step\n",
      "Acurácia: 0.9495066152618081\n"
     ]
    }
   ],
   "source": [
    "# Definindo um otimizador com learning rate específica\n",
    "optimizer = Adam(learning_rate=0.001)\n",
    "\n",
    "# Criando o modelo\n",
    "model = Sequential()\n",
    "model.add(Dense(units=64, activation='relu', input_dim=X_train.shape[1]))\n",
    "model.add(Dense(units=1, activation='sigmoid'))\n",
    "\n",
    "# Compilando o modelo com o otimizador personalizado\n",
    "model.compile(optimizer=optimizer, loss='binary_crossentropy', metrics=['accuracy'])\n",
    "\n",
    "# Treinando o modelo\n",
    "model.fit(X_train, y_train, epochs=30, batch_size=64, validation_data=(X_val, y_val))\n",
    "\n",
    "# Avaliando o modelo\n",
    "y_pred = model.predict(X_test)\n",
    "accuracy = accuracy_score(y_test, (y_pred > 0.5).astype(int))\n",
    "print(f'Acurácia: {accuracy}')"
   ]
  },
  {
   "cell_type": "markdown",
   "metadata": {},
   "source": [
    "Vamos testar esse mesmo número de epocas mas com batchsize de 32"
   ]
  },
  {
   "cell_type": "code",
   "execution_count": 32,
   "metadata": {},
   "outputs": [
    {
     "name": "stdout",
     "output_type": "stream",
     "text": [
      "Epoch 1/30\n"
     ]
    },
    {
     "name": "stderr",
     "output_type": "stream",
     "text": [
      "C:\\Users\\luize\\AppData\\Local\\Packages\\PythonSoftwareFoundation.Python.3.10_qbz5n2kfra8p0\\LocalCache\\local-packages\\Python310\\site-packages\\keras\\src\\layers\\core\\dense.py:87: UserWarning: Do not pass an `input_shape`/`input_dim` argument to a layer. When using Sequential models, prefer using an `Input(shape)` object as the first layer in the model instead.\n",
      "  super().__init__(activity_regularizer=activity_regularizer, **kwargs)\n"
     ]
    },
    {
     "name": "stdout",
     "output_type": "stream",
     "text": [
      "\u001b[1m2760/2760\u001b[0m \u001b[32m━━━━━━━━━━━━━━━━━━━━\u001b[0m\u001b[37m\u001b[0m \u001b[1m4s\u001b[0m 1ms/step - accuracy: 0.8386 - loss: 0.3925 - val_accuracy: 0.9128 - val_loss: 0.2171\n",
      "Epoch 2/30\n",
      "\u001b[1m2760/2760\u001b[0m \u001b[32m━━━━━━━━━━━━━━━━━━━━\u001b[0m\u001b[37m\u001b[0m \u001b[1m3s\u001b[0m 1ms/step - accuracy: 0.9197 - loss: 0.2022 - val_accuracy: 0.9306 - val_loss: 0.1742\n",
      "Epoch 3/30\n",
      "\u001b[1m2760/2760\u001b[0m \u001b[32m━━━━━━━━━━━━━━━━━━━━\u001b[0m\u001b[37m\u001b[0m \u001b[1m3s\u001b[0m 1ms/step - accuracy: 0.9303 - loss: 0.1750 - val_accuracy: 0.9344 - val_loss: 0.1584\n",
      "Epoch 4/30\n",
      "\u001b[1m2760/2760\u001b[0m \u001b[32m━━━━━━━━━━━━━━━━━━━━\u001b[0m\u001b[37m\u001b[0m \u001b[1m3s\u001b[0m 974us/step - accuracy: 0.9356 - loss: 0.1588 - val_accuracy: 0.9359 - val_loss: 0.1557\n",
      "Epoch 5/30\n",
      "\u001b[1m2760/2760\u001b[0m \u001b[32m━━━━━━━━━━━━━━━━━━━━\u001b[0m\u001b[37m\u001b[0m \u001b[1m3s\u001b[0m 949us/step - accuracy: 0.9386 - loss: 0.1492 - val_accuracy: 0.9394 - val_loss: 0.1436\n",
      "Epoch 6/30\n",
      "\u001b[1m2760/2760\u001b[0m \u001b[32m━━━━━━━━━━━━━━━━━━━━\u001b[0m\u001b[37m\u001b[0m \u001b[1m3s\u001b[0m 1ms/step - accuracy: 0.9394 - loss: 0.1450 - val_accuracy: 0.9396 - val_loss: 0.1451\n",
      "Epoch 7/30\n",
      "\u001b[1m2760/2760\u001b[0m \u001b[32m━━━━━━━━━━━━━━━━━━━━\u001b[0m\u001b[37m\u001b[0m \u001b[1m3s\u001b[0m 1ms/step - accuracy: 0.9421 - loss: 0.1389 - val_accuracy: 0.9423 - val_loss: 0.1365\n",
      "Epoch 8/30\n",
      "\u001b[1m2760/2760\u001b[0m \u001b[32m━━━━━━━━━━━━━━━━━━━━\u001b[0m\u001b[37m\u001b[0m \u001b[1m3s\u001b[0m 1ms/step - accuracy: 0.9425 - loss: 0.1392 - val_accuracy: 0.9435 - val_loss: 0.1328\n",
      "Epoch 9/30\n",
      "\u001b[1m2760/2760\u001b[0m \u001b[32m━━━━━━━━━━━━━━━━━━━━\u001b[0m\u001b[37m\u001b[0m \u001b[1m3s\u001b[0m 1ms/step - accuracy: 0.9439 - loss: 0.1348 - val_accuracy: 0.9421 - val_loss: 0.1384\n",
      "Epoch 10/30\n",
      "\u001b[1m2760/2760\u001b[0m \u001b[32m━━━━━━━━━━━━━━━━━━━━\u001b[0m\u001b[37m\u001b[0m \u001b[1m3s\u001b[0m 1ms/step - accuracy: 0.9442 - loss: 0.1333 - val_accuracy: 0.9392 - val_loss: 0.1396\n",
      "Epoch 11/30\n",
      "\u001b[1m2760/2760\u001b[0m \u001b[32m━━━━━━━━━━━━━━━━━━━━\u001b[0m\u001b[37m\u001b[0m \u001b[1m3s\u001b[0m 967us/step - accuracy: 0.9449 - loss: 0.1302 - val_accuracy: 0.9400 - val_loss: 0.1335\n",
      "Epoch 12/30\n",
      "\u001b[1m2760/2760\u001b[0m \u001b[32m━━━━━━━━━━━━━━━━━━━━\u001b[0m\u001b[37m\u001b[0m \u001b[1m3s\u001b[0m 1ms/step - accuracy: 0.9454 - loss: 0.1283 - val_accuracy: 0.9470 - val_loss: 0.1273\n",
      "Epoch 13/30\n",
      "\u001b[1m2760/2760\u001b[0m \u001b[32m━━━━━━━━━━━━━━━━━━━━\u001b[0m\u001b[37m\u001b[0m \u001b[1m5s\u001b[0m 1ms/step - accuracy: 0.9466 - loss: 0.1266 - val_accuracy: 0.9453 - val_loss: 0.1292\n",
      "Epoch 14/30\n",
      "\u001b[1m2760/2760\u001b[0m \u001b[32m━━━━━━━━━━━━━━━━━━━━\u001b[0m\u001b[37m\u001b[0m \u001b[1m3s\u001b[0m 1ms/step - accuracy: 0.9473 - loss: 0.1249 - val_accuracy: 0.9460 - val_loss: 0.1252\n",
      "Epoch 15/30\n",
      "\u001b[1m2760/2760\u001b[0m \u001b[32m━━━━━━━━━━━━━━━━━━━━\u001b[0m\u001b[37m\u001b[0m \u001b[1m3s\u001b[0m 1ms/step - accuracy: 0.9472 - loss: 0.1252 - val_accuracy: 0.9464 - val_loss: 0.1286\n",
      "Epoch 16/30\n",
      "\u001b[1m2760/2760\u001b[0m \u001b[32m━━━━━━━━━━━━━━━━━━━━\u001b[0m\u001b[37m\u001b[0m \u001b[1m3s\u001b[0m 1ms/step - accuracy: 0.9487 - loss: 0.1216 - val_accuracy: 0.9464 - val_loss: 0.1239\n",
      "Epoch 17/30\n",
      "\u001b[1m2760/2760\u001b[0m \u001b[32m━━━━━━━━━━━━━━━━━━━━\u001b[0m\u001b[37m\u001b[0m \u001b[1m3s\u001b[0m 1ms/step - accuracy: 0.9488 - loss: 0.1226 - val_accuracy: 0.9460 - val_loss: 0.1237\n",
      "Epoch 18/30\n",
      "\u001b[1m2760/2760\u001b[0m \u001b[32m━━━━━━━━━━━━━━━━━━━━\u001b[0m\u001b[37m\u001b[0m \u001b[1m3s\u001b[0m 1ms/step - accuracy: 0.9484 - loss: 0.1213 - val_accuracy: 0.9440 - val_loss: 0.1244\n",
      "Epoch 19/30\n",
      "\u001b[1m2760/2760\u001b[0m \u001b[32m━━━━━━━━━━━━━━━━━━━━\u001b[0m\u001b[37m\u001b[0m \u001b[1m3s\u001b[0m 1ms/step - accuracy: 0.9478 - loss: 0.1222 - val_accuracy: 0.9479 - val_loss: 0.1221\n",
      "Epoch 20/30\n",
      "\u001b[1m2760/2760\u001b[0m \u001b[32m━━━━━━━━━━━━━━━━━━━━\u001b[0m\u001b[37m\u001b[0m \u001b[1m3s\u001b[0m 1ms/step - accuracy: 0.9499 - loss: 0.1183 - val_accuracy: 0.9407 - val_loss: 0.1276\n",
      "Epoch 21/30\n",
      "\u001b[1m2760/2760\u001b[0m \u001b[32m━━━━━━━━━━━━━━━━━━━━\u001b[0m\u001b[37m\u001b[0m \u001b[1m3s\u001b[0m 1ms/step - accuracy: 0.9486 - loss: 0.1207 - val_accuracy: 0.9436 - val_loss: 0.1257\n",
      "Epoch 22/30\n",
      "\u001b[1m2760/2760\u001b[0m \u001b[32m━━━━━━━━━━━━━━━━━━━━\u001b[0m\u001b[37m\u001b[0m \u001b[1m3s\u001b[0m 1ms/step - accuracy: 0.9488 - loss: 0.1207 - val_accuracy: 0.9484 - val_loss: 0.1227\n",
      "Epoch 23/30\n",
      "\u001b[1m2760/2760\u001b[0m \u001b[32m━━━━━━━━━━━━━━━━━━━━\u001b[0m\u001b[37m\u001b[0m \u001b[1m3s\u001b[0m 1ms/step - accuracy: 0.9493 - loss: 0.1192 - val_accuracy: 0.9484 - val_loss: 0.1188\n",
      "Epoch 24/30\n",
      "\u001b[1m2760/2760\u001b[0m \u001b[32m━━━━━━━━━━━━━━━━━━━━\u001b[0m\u001b[37m\u001b[0m \u001b[1m3s\u001b[0m 1ms/step - accuracy: 0.9502 - loss: 0.1161 - val_accuracy: 0.9477 - val_loss: 0.1218\n",
      "Epoch 25/30\n",
      "\u001b[1m2760/2760\u001b[0m \u001b[32m━━━━━━━━━━━━━━━━━━━━\u001b[0m\u001b[37m\u001b[0m \u001b[1m5s\u001b[0m 1ms/step - accuracy: 0.9494 - loss: 0.1182 - val_accuracy: 0.9502 - val_loss: 0.1175\n",
      "Epoch 26/30\n",
      "\u001b[1m2760/2760\u001b[0m \u001b[32m━━━━━━━━━━━━━━━━━━━━\u001b[0m\u001b[37m\u001b[0m \u001b[1m3s\u001b[0m 1ms/step - accuracy: 0.9515 - loss: 0.1151 - val_accuracy: 0.9478 - val_loss: 0.1201\n",
      "Epoch 27/30\n",
      "\u001b[1m2760/2760\u001b[0m \u001b[32m━━━━━━━━━━━━━━━━━━━━\u001b[0m\u001b[37m\u001b[0m \u001b[1m3s\u001b[0m 1ms/step - accuracy: 0.9506 - loss: 0.1166 - val_accuracy: 0.9489 - val_loss: 0.1200\n",
      "Epoch 28/30\n",
      "\u001b[1m2760/2760\u001b[0m \u001b[32m━━━━━━━━━━━━━━━━━━━━\u001b[0m\u001b[37m\u001b[0m \u001b[1m3s\u001b[0m 1ms/step - accuracy: 0.9520 - loss: 0.1134 - val_accuracy: 0.9492 - val_loss: 0.1231\n",
      "Epoch 29/30\n",
      "\u001b[1m2760/2760\u001b[0m \u001b[32m━━━━━━━━━━━━━━━━━━━━\u001b[0m\u001b[37m\u001b[0m \u001b[1m3s\u001b[0m 1ms/step - accuracy: 0.9506 - loss: 0.1149 - val_accuracy: 0.9495 - val_loss: 0.1177\n",
      "Epoch 30/30\n",
      "\u001b[1m2760/2760\u001b[0m \u001b[32m━━━━━━━━━━━━━━━━━━━━\u001b[0m\u001b[37m\u001b[0m \u001b[1m5s\u001b[0m 1ms/step - accuracy: 0.9511 - loss: 0.1134 - val_accuracy: 0.9511 - val_loss: 0.1165\n",
      "\u001b[1m3680/3680\u001b[0m \u001b[32m━━━━━━━━━━━━━━━━━━━━\u001b[0m\u001b[37m\u001b[0m \u001b[1m3s\u001b[0m 718us/step\n",
      "Acurácia: 0.9529968239949728\n"
     ]
    }
   ],
   "source": [
    "# Definindo um otimizador com learning rate específica\n",
    "optimizer = Adam(learning_rate=0.001)\n",
    "\n",
    "# Criando o modelo\n",
    "model = Sequential()\n",
    "model.add(Dense(units=64, activation='relu', input_dim=X_train.shape[1]))\n",
    "model.add(Dense(units=1, activation='sigmoid'))\n",
    "\n",
    "# Compilando o modelo com o otimizador personalizado\n",
    "model.compile(optimizer=optimizer, loss='binary_crossentropy', metrics=['accuracy'])\n",
    "\n",
    "# Treinando o modelo\n",
    "model.fit(X_train, y_train, epochs=30, batch_size=32, validation_data=(X_val, y_val))\n",
    "\n",
    "# Avaliando o modelo\n",
    "y_pred = model.predict(X_test)\n",
    "accuracy = accuracy_score(y_test, (y_pred > 0.5).astype(int))\n",
    "print(f'Acurácia: {accuracy}')"
   ]
  },
  {
   "cell_type": "markdown",
   "metadata": {},
   "source": [
    "Conseguimos retornar para acuracia superior à 0.95\n",
    "Mantendo esses parametros vamos tentar usar 128 hidden layers com dropout de 20%"
   ]
  },
  {
   "cell_type": "code",
   "execution_count": 34,
   "metadata": {},
   "outputs": [
    {
     "name": "stdout",
     "output_type": "stream",
     "text": [
      "Epoch 1/30\n",
      "\u001b[1m2760/2760\u001b[0m \u001b[32m━━━━━━━━━━━━━━━━━━━━\u001b[0m\u001b[37m\u001b[0m \u001b[1m4s\u001b[0m 1ms/step - accuracy: 0.8399 - loss: 0.3810 - val_accuracy: 0.9123 - val_loss: 0.2145\n",
      "Epoch 2/30\n",
      "\u001b[1m2760/2760\u001b[0m \u001b[32m━━━━━━━━━━━━━━━━━━━━\u001b[0m\u001b[37m\u001b[0m \u001b[1m3s\u001b[0m 1ms/step - accuracy: 0.9152 - loss: 0.2129 - val_accuracy: 0.9302 - val_loss: 0.1759\n",
      "Epoch 3/30\n",
      "\u001b[1m2760/2760\u001b[0m \u001b[32m━━━━━━━━━━━━━━━━━━━━\u001b[0m\u001b[37m\u001b[0m \u001b[1m3s\u001b[0m 1ms/step - accuracy: 0.9251 - loss: 0.1833 - val_accuracy: 0.9363 - val_loss: 0.1584\n",
      "Epoch 4/30\n",
      "\u001b[1m2760/2760\u001b[0m \u001b[32m━━━━━━━━━━━━━━━━━━━━\u001b[0m\u001b[37m\u001b[0m \u001b[1m3s\u001b[0m 1ms/step - accuracy: 0.9322 - loss: 0.1648 - val_accuracy: 0.9371 - val_loss: 0.1460\n",
      "Epoch 5/30\n",
      "\u001b[1m2760/2760\u001b[0m \u001b[32m━━━━━━━━━━━━━━━━━━━━\u001b[0m\u001b[37m\u001b[0m \u001b[1m3s\u001b[0m 1ms/step - accuracy: 0.9352 - loss: 0.1562 - val_accuracy: 0.9408 - val_loss: 0.1407\n",
      "Epoch 6/30\n",
      "\u001b[1m2760/2760\u001b[0m \u001b[32m━━━━━━━━━━━━━━━━━━━━\u001b[0m\u001b[37m\u001b[0m \u001b[1m3s\u001b[0m 1ms/step - accuracy: 0.9386 - loss: 0.1468 - val_accuracy: 0.9397 - val_loss: 0.1378\n",
      "Epoch 7/30\n",
      "\u001b[1m2760/2760\u001b[0m \u001b[32m━━━━━━━━━━━━━━━━━━━━\u001b[0m\u001b[37m\u001b[0m \u001b[1m3s\u001b[0m 1ms/step - accuracy: 0.9397 - loss: 0.1437 - val_accuracy: 0.9408 - val_loss: 0.1379\n",
      "Epoch 8/30\n",
      "\u001b[1m2760/2760\u001b[0m \u001b[32m━━━━━━━━━━━━━━━━━━━━\u001b[0m\u001b[37m\u001b[0m \u001b[1m4s\u001b[0m 1ms/step - accuracy: 0.9421 - loss: 0.1397 - val_accuracy: 0.9427 - val_loss: 0.1326\n",
      "Epoch 9/30\n",
      "\u001b[1m2760/2760\u001b[0m \u001b[32m━━━━━━━━━━━━━━━━━━━━\u001b[0m\u001b[37m\u001b[0m \u001b[1m4s\u001b[0m 1ms/step - accuracy: 0.9410 - loss: 0.1392 - val_accuracy: 0.9455 - val_loss: 0.1283\n",
      "Epoch 10/30\n",
      "\u001b[1m2760/2760\u001b[0m \u001b[32m━━━━━━━━━━━━━━━━━━━━\u001b[0m\u001b[37m\u001b[0m \u001b[1m5s\u001b[0m 1ms/step - accuracy: 0.9419 - loss: 0.1375 - val_accuracy: 0.9445 - val_loss: 0.1317\n",
      "Epoch 11/30\n",
      "\u001b[1m2760/2760\u001b[0m \u001b[32m━━━━━━━━━━━━━━━━━━━━\u001b[0m\u001b[37m\u001b[0m \u001b[1m3s\u001b[0m 1ms/step - accuracy: 0.9442 - loss: 0.1332 - val_accuracy: 0.9426 - val_loss: 0.1298\n",
      "Epoch 12/30\n",
      "\u001b[1m2760/2760\u001b[0m \u001b[32m━━━━━━━━━━━━━━━━━━━━\u001b[0m\u001b[37m\u001b[0m \u001b[1m3s\u001b[0m 1ms/step - accuracy: 0.9429 - loss: 0.1347 - val_accuracy: 0.9407 - val_loss: 0.1299\n",
      "Epoch 13/30\n",
      "\u001b[1m2760/2760\u001b[0m \u001b[32m━━━━━━━━━━━━━━━━━━━━\u001b[0m\u001b[37m\u001b[0m \u001b[1m3s\u001b[0m 1ms/step - accuracy: 0.9435 - loss: 0.1331 - val_accuracy: 0.9453 - val_loss: 0.1253\n",
      "Epoch 14/30\n",
      "\u001b[1m2760/2760\u001b[0m \u001b[32m━━━━━━━━━━━━━━━━━━━━\u001b[0m\u001b[37m\u001b[0m \u001b[1m4s\u001b[0m 1ms/step - accuracy: 0.9438 - loss: 0.1318 - val_accuracy: 0.9443 - val_loss: 0.1245\n",
      "Epoch 15/30\n",
      "\u001b[1m2760/2760\u001b[0m \u001b[32m━━━━━━━━━━━━━━━━━━━━\u001b[0m\u001b[37m\u001b[0m \u001b[1m3s\u001b[0m 1ms/step - accuracy: 0.9432 - loss: 0.1307 - val_accuracy: 0.9464 - val_loss: 0.1280\n",
      "Epoch 16/30\n",
      "\u001b[1m2760/2760\u001b[0m \u001b[32m━━━━━━━━━━━━━━━━━━━━\u001b[0m\u001b[37m\u001b[0m \u001b[1m3s\u001b[0m 1ms/step - accuracy: 0.9440 - loss: 0.1302 - val_accuracy: 0.9451 - val_loss: 0.1236\n",
      "Epoch 17/30\n",
      "\u001b[1m2760/2760\u001b[0m \u001b[32m━━━━━━━━━━━━━━━━━━━━\u001b[0m\u001b[37m\u001b[0m \u001b[1m3s\u001b[0m 1ms/step - accuracy: 0.9456 - loss: 0.1290 - val_accuracy: 0.9482 - val_loss: 0.1219\n",
      "Epoch 18/30\n",
      "\u001b[1m2760/2760\u001b[0m \u001b[32m━━━━━━━━━━━━━━━━━━━━\u001b[0m\u001b[37m\u001b[0m \u001b[1m3s\u001b[0m 1ms/step - accuracy: 0.9454 - loss: 0.1283 - val_accuracy: 0.9460 - val_loss: 0.1216\n",
      "Epoch 19/30\n",
      "\u001b[1m2760/2760\u001b[0m \u001b[32m━━━━━━━━━━━━━━━━━━━━\u001b[0m\u001b[37m\u001b[0m \u001b[1m5s\u001b[0m 1ms/step - accuracy: 0.9466 - loss: 0.1241 - val_accuracy: 0.9472 - val_loss: 0.1219\n",
      "Epoch 20/30\n",
      "\u001b[1m2760/2760\u001b[0m \u001b[32m━━━━━━━━━━━━━━━━━━━━\u001b[0m\u001b[37m\u001b[0m \u001b[1m3s\u001b[0m 1ms/step - accuracy: 0.9464 - loss: 0.1267 - val_accuracy: 0.9422 - val_loss: 0.1261\n",
      "Epoch 21/30\n",
      "\u001b[1m2760/2760\u001b[0m \u001b[32m━━━━━━━━━━━━━━━━━━━━\u001b[0m\u001b[37m\u001b[0m \u001b[1m3s\u001b[0m 1ms/step - accuracy: 0.9468 - loss: 0.1237 - val_accuracy: 0.9496 - val_loss: 0.1189\n",
      "Epoch 22/30\n",
      "\u001b[1m2760/2760\u001b[0m \u001b[32m━━━━━━━━━━━━━━━━━━━━\u001b[0m\u001b[37m\u001b[0m \u001b[1m3s\u001b[0m 1ms/step - accuracy: 0.9470 - loss: 0.1255 - val_accuracy: 0.9489 - val_loss: 0.1225\n",
      "Epoch 23/30\n",
      "\u001b[1m2760/2760\u001b[0m \u001b[32m━━━━━━━━━━━━━━━━━━━━\u001b[0m\u001b[37m\u001b[0m \u001b[1m4s\u001b[0m 1ms/step - accuracy: 0.9468 - loss: 0.1226 - val_accuracy: 0.9484 - val_loss: 0.1175\n",
      "Epoch 24/30\n",
      "\u001b[1m2760/2760\u001b[0m \u001b[32m━━━━━━━━━━━━━━━━━━━━\u001b[0m\u001b[37m\u001b[0m \u001b[1m3s\u001b[0m 1ms/step - accuracy: 0.9473 - loss: 0.1222 - val_accuracy: 0.9498 - val_loss: 0.1180\n",
      "Epoch 25/30\n",
      "\u001b[1m2760/2760\u001b[0m \u001b[32m━━━━━━━━━━━━━━━━━━━━\u001b[0m\u001b[37m\u001b[0m \u001b[1m3s\u001b[0m 1ms/step - accuracy: 0.9483 - loss: 0.1203 - val_accuracy: 0.9490 - val_loss: 0.1212\n",
      "Epoch 26/30\n",
      "\u001b[1m2760/2760\u001b[0m \u001b[32m━━━━━━━━━━━━━━━━━━━━\u001b[0m\u001b[37m\u001b[0m \u001b[1m3s\u001b[0m 1ms/step - accuracy: 0.9468 - loss: 0.1215 - val_accuracy: 0.9442 - val_loss: 0.1212\n",
      "Epoch 27/30\n",
      "\u001b[1m2760/2760\u001b[0m \u001b[32m━━━━━━━━━━━━━━━━━━━━\u001b[0m\u001b[37m\u001b[0m \u001b[1m3s\u001b[0m 1ms/step - accuracy: 0.9483 - loss: 0.1196 - val_accuracy: 0.9504 - val_loss: 0.1159\n",
      "Epoch 28/30\n",
      "\u001b[1m2760/2760\u001b[0m \u001b[32m━━━━━━━━━━━━━━━━━━━━\u001b[0m\u001b[37m\u001b[0m \u001b[1m3s\u001b[0m 1ms/step - accuracy: 0.9486 - loss: 0.1217 - val_accuracy: 0.9488 - val_loss: 0.1168\n",
      "Epoch 29/30\n",
      "\u001b[1m2760/2760\u001b[0m \u001b[32m━━━━━━━━━━━━━━━━━━━━\u001b[0m\u001b[37m\u001b[0m \u001b[1m3s\u001b[0m 1ms/step - accuracy: 0.9481 - loss: 0.1194 - val_accuracy: 0.9501 - val_loss: 0.1172\n",
      "Epoch 30/30\n",
      "\u001b[1m2760/2760\u001b[0m \u001b[32m━━━━━━━━━━━━━━━━━━━━\u001b[0m\u001b[37m\u001b[0m \u001b[1m4s\u001b[0m 1ms/step - accuracy: 0.9469 - loss: 0.1219 - val_accuracy: 0.9482 - val_loss: 0.1177\n",
      "\u001b[1m3680/3680\u001b[0m \u001b[32m━━━━━━━━━━━━━━━━━━━━\u001b[0m\u001b[37m\u001b[0m \u001b[1m3s\u001b[0m 830us/step\n",
      "Acurácia: 0.9511965216800558\n"
     ]
    }
   ],
   "source": [
    "from keras.layers import Dropout\n",
    "\n",
    "# Definindo um otimizador com learning rate específica\n",
    "optimizer = Adam(learning_rate=0.001)\n",
    "\n",
    "# Criando o modelo\n",
    "model = Sequential()\n",
    "model.add(Dense(units=128, activation='relu', input_dim=X_train.shape[1]))\n",
    "model.add(Dropout(0.2)) \n",
    "model.add(Dense(units=1, activation='sigmoid'))\n",
    "\n",
    "# Compilando o modelo com o otimizador personalizado\n",
    "model.compile(optimizer=optimizer, loss='binary_crossentropy', metrics=['accuracy'])\n",
    "\n",
    "# Treinando o modelo\n",
    "model.fit(X_train, y_train, epochs=30, batch_size=32, validation_data=(X_val, y_val))\n",
    "\n",
    "# Avaliando o modelo\n",
    "y_pred = model.predict(X_test)\n",
    "accuracy = accuracy_score(y_test, (y_pred > 0.5).astype(int))\n",
    "print(f'Acurácia: {accuracy}')"
   ]
  },
  {
   "cell_type": "markdown",
   "metadata": {},
   "source": [
    "O resultado com dropout e numero elevado de hidden layers não se pagou, como no teste anterior a esse, a acuracia mudou muito pouco durante muitas epocas, vamos retornar à 64 camadas mas tentar incluir um dropout de 20% "
   ]
  },
  {
   "cell_type": "code",
   "execution_count": 35,
   "metadata": {},
   "outputs": [
    {
     "name": "stdout",
     "output_type": "stream",
     "text": [
      "Epoch 1/30\n"
     ]
    },
    {
     "name": "stderr",
     "output_type": "stream",
     "text": [
      "C:\\Users\\luize\\AppData\\Local\\Packages\\PythonSoftwareFoundation.Python.3.10_qbz5n2kfra8p0\\LocalCache\\local-packages\\Python310\\site-packages\\keras\\src\\layers\\core\\dense.py:87: UserWarning: Do not pass an `input_shape`/`input_dim` argument to a layer. When using Sequential models, prefer using an `Input(shape)` object as the first layer in the model instead.\n",
      "  super().__init__(activity_regularizer=activity_regularizer, **kwargs)\n"
     ]
    },
    {
     "name": "stdout",
     "output_type": "stream",
     "text": [
      "\u001b[1m2760/2760\u001b[0m \u001b[32m━━━━━━━━━━━━━━━━━━━━\u001b[0m\u001b[37m\u001b[0m \u001b[1m4s\u001b[0m 1ms/step - accuracy: 0.8161 - loss: 0.4155 - val_accuracy: 0.9058 - val_loss: 0.2315\n",
      "Epoch 2/30\n",
      "\u001b[1m2760/2760\u001b[0m \u001b[32m━━━━━━━━━━━━━━━━━━━━\u001b[0m\u001b[37m\u001b[0m \u001b[1m3s\u001b[0m 1ms/step - accuracy: 0.9064 - loss: 0.2368 - val_accuracy: 0.9238 - val_loss: 0.1951\n",
      "Epoch 3/30\n",
      "\u001b[1m2760/2760\u001b[0m \u001b[32m━━━━━━━━━━━━━━━━━━━━\u001b[0m\u001b[37m\u001b[0m \u001b[1m4s\u001b[0m 1ms/step - accuracy: 0.9205 - loss: 0.2000 - val_accuracy: 0.9287 - val_loss: 0.1740\n",
      "Epoch 4/30\n",
      "\u001b[1m2760/2760\u001b[0m \u001b[32m━━━━━━━━━━━━━━━━━━━━\u001b[0m\u001b[37m\u001b[0m \u001b[1m4s\u001b[0m 1ms/step - accuracy: 0.9281 - loss: 0.1782 - val_accuracy: 0.9325 - val_loss: 0.1621\n",
      "Epoch 5/30\n",
      "\u001b[1m2760/2760\u001b[0m \u001b[32m━━━━━━━━━━━━━━━━━━━━\u001b[0m\u001b[37m\u001b[0m \u001b[1m3s\u001b[0m 1ms/step - accuracy: 0.9303 - loss: 0.1694 - val_accuracy: 0.9377 - val_loss: 0.1503\n",
      "Epoch 6/30\n",
      "\u001b[1m2760/2760\u001b[0m \u001b[32m━━━━━━━━━━━━━━━━━━━━\u001b[0m\u001b[37m\u001b[0m \u001b[1m3s\u001b[0m 1ms/step - accuracy: 0.9342 - loss: 0.1596 - val_accuracy: 0.9401 - val_loss: 0.1419\n",
      "Epoch 7/30\n",
      "\u001b[1m2760/2760\u001b[0m \u001b[32m━━━━━━━━━━━━━━━━━━━━\u001b[0m\u001b[37m\u001b[0m \u001b[1m3s\u001b[0m 1ms/step - accuracy: 0.9371 - loss: 0.1535 - val_accuracy: 0.9411 - val_loss: 0.1405\n",
      "Epoch 8/30\n",
      "\u001b[1m2760/2760\u001b[0m \u001b[32m━━━━━━━━━━━━━━━━━━━━\u001b[0m\u001b[37m\u001b[0m \u001b[1m3s\u001b[0m 1ms/step - accuracy: 0.9359 - loss: 0.1538 - val_accuracy: 0.9419 - val_loss: 0.1377\n",
      "Epoch 9/30\n",
      "\u001b[1m2760/2760\u001b[0m \u001b[32m━━━━━━━━━━━━━━━━━━━━\u001b[0m\u001b[37m\u001b[0m \u001b[1m4s\u001b[0m 1ms/step - accuracy: 0.9376 - loss: 0.1492 - val_accuracy: 0.9423 - val_loss: 0.1337\n",
      "Epoch 10/30\n",
      "\u001b[1m2760/2760\u001b[0m \u001b[32m━━━━━━━━━━━━━━━━━━━━\u001b[0m\u001b[37m\u001b[0m \u001b[1m6s\u001b[0m 2ms/step - accuracy: 0.9399 - loss: 0.1426 - val_accuracy: 0.9438 - val_loss: 0.1320\n",
      "Epoch 11/30\n",
      "\u001b[1m2760/2760\u001b[0m \u001b[32m━━━━━━━━━━━━━━━━━━━━\u001b[0m\u001b[37m\u001b[0m \u001b[1m4s\u001b[0m 2ms/step - accuracy: 0.9389 - loss: 0.1449 - val_accuracy: 0.9441 - val_loss: 0.1315\n",
      "Epoch 12/30\n",
      "\u001b[1m2760/2760\u001b[0m \u001b[32m━━━━━━━━━━━━━━━━━━━━\u001b[0m\u001b[37m\u001b[0m \u001b[1m4s\u001b[0m 1ms/step - accuracy: 0.9407 - loss: 0.1410 - val_accuracy: 0.9423 - val_loss: 0.1308\n",
      "Epoch 13/30\n",
      "\u001b[1m2760/2760\u001b[0m \u001b[32m━━━━━━━━━━━━━━━━━━━━\u001b[0m\u001b[37m\u001b[0m \u001b[1m3s\u001b[0m 1ms/step - accuracy: 0.9429 - loss: 0.1376 - val_accuracy: 0.9459 - val_loss: 0.1297\n",
      "Epoch 14/30\n",
      "\u001b[1m2760/2760\u001b[0m \u001b[32m━━━━━━━━━━━━━━━━━━━━\u001b[0m\u001b[37m\u001b[0m \u001b[1m3s\u001b[0m 1ms/step - accuracy: 0.9422 - loss: 0.1369 - val_accuracy: 0.9444 - val_loss: 0.1332\n",
      "Epoch 15/30\n",
      "\u001b[1m2760/2760\u001b[0m \u001b[32m━━━━━━━━━━━━━━━━━━━━\u001b[0m\u001b[37m\u001b[0m \u001b[1m3s\u001b[0m 1ms/step - accuracy: 0.9432 - loss: 0.1383 - val_accuracy: 0.9439 - val_loss: 0.1278\n",
      "Epoch 16/30\n",
      "\u001b[1m2760/2760\u001b[0m \u001b[32m━━━━━━━━━━━━━━━━━━━━\u001b[0m\u001b[37m\u001b[0m \u001b[1m4s\u001b[0m 1ms/step - accuracy: 0.9435 - loss: 0.1364 - val_accuracy: 0.9463 - val_loss: 0.1289\n",
      "Epoch 17/30\n",
      "\u001b[1m2760/2760\u001b[0m \u001b[32m━━━━━━━━━━━━━━━━━━━━\u001b[0m\u001b[37m\u001b[0m \u001b[1m3s\u001b[0m 1ms/step - accuracy: 0.9430 - loss: 0.1337 - val_accuracy: 0.9457 - val_loss: 0.1290\n",
      "Epoch 18/30\n",
      "\u001b[1m2760/2760\u001b[0m \u001b[32m━━━━━━━━━━━━━━━━━━━━\u001b[0m\u001b[37m\u001b[0m \u001b[1m4s\u001b[0m 1ms/step - accuracy: 0.9407 - loss: 0.1376 - val_accuracy: 0.9443 - val_loss: 0.1274\n",
      "Epoch 19/30\n",
      "\u001b[1m2760/2760\u001b[0m \u001b[32m━━━━━━━━━━━━━━━━━━━━\u001b[0m\u001b[37m\u001b[0m \u001b[1m5s\u001b[0m 2ms/step - accuracy: 0.9442 - loss: 0.1314 - val_accuracy: 0.9472 - val_loss: 0.1282\n",
      "Epoch 20/30\n",
      "\u001b[1m2760/2760\u001b[0m \u001b[32m━━━━━━━━━━━━━━━━━━━━\u001b[0m\u001b[37m\u001b[0m \u001b[1m4s\u001b[0m 1ms/step - accuracy: 0.9457 - loss: 0.1322 - val_accuracy: 0.9468 - val_loss: 0.1264\n",
      "Epoch 21/30\n",
      "\u001b[1m2760/2760\u001b[0m \u001b[32m━━━━━━━━━━━━━━━━━━━━\u001b[0m\u001b[37m\u001b[0m \u001b[1m5s\u001b[0m 2ms/step - accuracy: 0.9441 - loss: 0.1323 - val_accuracy: 0.9493 - val_loss: 0.1241\n",
      "Epoch 22/30\n",
      "\u001b[1m2760/2760\u001b[0m \u001b[32m━━━━━━━━━━━━━━━━━━━━\u001b[0m\u001b[37m\u001b[0m \u001b[1m4s\u001b[0m 1ms/step - accuracy: 0.9457 - loss: 0.1296 - val_accuracy: 0.9479 - val_loss: 0.1220\n",
      "Epoch 23/30\n",
      "\u001b[1m2760/2760\u001b[0m \u001b[32m━━━━━━━━━━━━━━━━━━━━\u001b[0m\u001b[37m\u001b[0m \u001b[1m4s\u001b[0m 1ms/step - accuracy: 0.9427 - loss: 0.1348 - val_accuracy: 0.9487 - val_loss: 0.1213\n",
      "Epoch 24/30\n",
      "\u001b[1m2760/2760\u001b[0m \u001b[32m━━━━━━━━━━━━━━━━━━━━\u001b[0m\u001b[37m\u001b[0m \u001b[1m4s\u001b[0m 1ms/step - accuracy: 0.9445 - loss: 0.1321 - val_accuracy: 0.9490 - val_loss: 0.1235\n",
      "Epoch 25/30\n",
      "\u001b[1m2760/2760\u001b[0m \u001b[32m━━━━━━━━━━━━━━━━━━━━\u001b[0m\u001b[37m\u001b[0m \u001b[1m4s\u001b[0m 1ms/step - accuracy: 0.9458 - loss: 0.1287 - val_accuracy: 0.9480 - val_loss: 0.1248\n",
      "Epoch 26/30\n",
      "\u001b[1m2760/2760\u001b[0m \u001b[32m━━━━━━━━━━━━━━━━━━━━\u001b[0m\u001b[37m\u001b[0m \u001b[1m3s\u001b[0m 1ms/step - accuracy: 0.9454 - loss: 0.1294 - val_accuracy: 0.9453 - val_loss: 0.1241\n",
      "Epoch 27/30\n",
      "\u001b[1m2760/2760\u001b[0m \u001b[32m━━━━━━━━━━━━━━━━━━━━\u001b[0m\u001b[37m\u001b[0m \u001b[1m3s\u001b[0m 1ms/step - accuracy: 0.9457 - loss: 0.1292 - val_accuracy: 0.9488 - val_loss: 0.1213\n",
      "Epoch 28/30\n",
      "\u001b[1m2760/2760\u001b[0m \u001b[32m━━━━━━━━━━━━━━━━━━━━\u001b[0m\u001b[37m\u001b[0m \u001b[1m3s\u001b[0m 1ms/step - accuracy: 0.9451 - loss: 0.1278 - val_accuracy: 0.9494 - val_loss: 0.1206\n",
      "Epoch 29/30\n",
      "\u001b[1m2760/2760\u001b[0m \u001b[32m━━━━━━━━━━━━━━━━━━━━\u001b[0m\u001b[37m\u001b[0m \u001b[1m3s\u001b[0m 1ms/step - accuracy: 0.9461 - loss: 0.1296 - val_accuracy: 0.9467 - val_loss: 0.1277\n",
      "Epoch 30/30\n",
      "\u001b[1m2760/2760\u001b[0m \u001b[32m━━━━━━━━━━━━━━━━━━━━\u001b[0m\u001b[37m\u001b[0m \u001b[1m5s\u001b[0m 1ms/step - accuracy: 0.9446 - loss: 0.1275 - val_accuracy: 0.9469 - val_loss: 0.1221\n",
      "\u001b[1m3680/3680\u001b[0m \u001b[32m━━━━━━━━━━━━━━━━━━━━\u001b[0m\u001b[37m\u001b[0m \u001b[1m3s\u001b[0m 697us/step\n",
      "Acurácia: 0.9500501027531039\n"
     ]
    }
   ],
   "source": [
    "from keras.layers import Dropout\n",
    "\n",
    "# Definindo um otimizador com learning rate específica\n",
    "optimizer = Adam(learning_rate=0.001)\n",
    "\n",
    "# Criando o modelo\n",
    "model = Sequential()\n",
    "model.add(Dense(units=64, activation='relu', input_dim=X_train.shape[1]))\n",
    "model.add(Dropout(0.2)) \n",
    "model.add(Dense(units=1, activation='sigmoid'))\n",
    "\n",
    "# Compilando o modelo com o otimizador personalizado\n",
    "model.compile(optimizer=optimizer, loss='binary_crossentropy', metrics=['accuracy'])\n",
    "\n",
    "# Treinando o modelo\n",
    "model.fit(X_train, y_train, epochs=30, batch_size=32, validation_data=(X_val, y_val))\n",
    "\n",
    "# Avaliando o modelo\n",
    "y_pred = model.predict(X_test)\n",
    "accuracy = accuracy_score(y_test, (y_pred > 0.5).astype(int))\n",
    "print(f'Acurácia: {accuracy}')"
   ]
  },
  {
   "cell_type": "markdown",
   "metadata": {},
   "source": [
    "Mais uma vez passou muito tempo com a acuracia muito parecida, vamos tentar diminuir o numero de epocas com esses mesmos parametros"
   ]
  },
  {
   "cell_type": "code",
   "execution_count": 36,
   "metadata": {},
   "outputs": [
    {
     "name": "stdout",
     "output_type": "stream",
     "text": [
      "Epoch 1/20\n"
     ]
    },
    {
     "name": "stderr",
     "output_type": "stream",
     "text": [
      "C:\\Users\\luize\\AppData\\Local\\Packages\\PythonSoftwareFoundation.Python.3.10_qbz5n2kfra8p0\\LocalCache\\local-packages\\Python310\\site-packages\\keras\\src\\layers\\core\\dense.py:87: UserWarning: Do not pass an `input_shape`/`input_dim` argument to a layer. When using Sequential models, prefer using an `Input(shape)` object as the first layer in the model instead.\n",
      "  super().__init__(activity_regularizer=activity_regularizer, **kwargs)\n"
     ]
    },
    {
     "name": "stdout",
     "output_type": "stream",
     "text": [
      "\u001b[1m2760/2760\u001b[0m \u001b[32m━━━━━━━━━━━━━━━━━━━━\u001b[0m\u001b[37m\u001b[0m \u001b[1m4s\u001b[0m 1ms/step - accuracy: 0.8077 - loss: 0.4281 - val_accuracy: 0.9061 - val_loss: 0.2295\n",
      "Epoch 2/20\n",
      "\u001b[1m2760/2760\u001b[0m \u001b[32m━━━━━━━━━━━━━━━━━━━━\u001b[0m\u001b[37m\u001b[0m \u001b[1m3s\u001b[0m 1ms/step - accuracy: 0.9094 - loss: 0.2277 - val_accuracy: 0.9247 - val_loss: 0.1889\n",
      "Epoch 3/20\n",
      "\u001b[1m2760/2760\u001b[0m \u001b[32m━━━━━━━━━━━━━━━━━━━━\u001b[0m\u001b[37m\u001b[0m \u001b[1m4s\u001b[0m 1ms/step - accuracy: 0.9229 - loss: 0.1915 - val_accuracy: 0.9320 - val_loss: 0.1667\n",
      "Epoch 4/20\n",
      "\u001b[1m2760/2760\u001b[0m \u001b[32m━━━━━━━━━━━━━━━━━━━━\u001b[0m\u001b[37m\u001b[0m \u001b[1m3s\u001b[0m 1ms/step - accuracy: 0.9301 - loss: 0.1729 - val_accuracy: 0.9367 - val_loss: 0.1555\n",
      "Epoch 5/20\n",
      "\u001b[1m2760/2760\u001b[0m \u001b[32m━━━━━━━━━━━━━━━━━━━━\u001b[0m\u001b[37m\u001b[0m \u001b[1m4s\u001b[0m 1ms/step - accuracy: 0.9324 - loss: 0.1645 - val_accuracy: 0.9384 - val_loss: 0.1446\n",
      "Epoch 6/20\n",
      "\u001b[1m2760/2760\u001b[0m \u001b[32m━━━━━━━━━━━━━━━━━━━━\u001b[0m\u001b[37m\u001b[0m \u001b[1m4s\u001b[0m 1ms/step - accuracy: 0.9361 - loss: 0.1547 - val_accuracy: 0.9389 - val_loss: 0.1425\n",
      "Epoch 7/20\n",
      "\u001b[1m2760/2760\u001b[0m \u001b[32m━━━━━━━━━━━━━━━━━━━━\u001b[0m\u001b[37m\u001b[0m \u001b[1m4s\u001b[0m 1ms/step - accuracy: 0.9358 - loss: 0.1524 - val_accuracy: 0.9413 - val_loss: 0.1381\n",
      "Epoch 8/20\n",
      "\u001b[1m2760/2760\u001b[0m \u001b[32m━━━━━━━━━━━━━━━━━━━━\u001b[0m\u001b[37m\u001b[0m \u001b[1m3s\u001b[0m 1ms/step - accuracy: 0.9367 - loss: 0.1509 - val_accuracy: 0.9411 - val_loss: 0.1374\n",
      "Epoch 9/20\n",
      "\u001b[1m2760/2760\u001b[0m \u001b[32m━━━━━━━━━━━━━━━━━━━━\u001b[0m\u001b[37m\u001b[0m \u001b[1m3s\u001b[0m 1ms/step - accuracy: 0.9399 - loss: 0.1442 - val_accuracy: 0.9411 - val_loss: 0.1356\n",
      "Epoch 10/20\n",
      "\u001b[1m2760/2760\u001b[0m \u001b[32m━━━━━━━━━━━━━━━━━━━━\u001b[0m\u001b[37m\u001b[0m \u001b[1m3s\u001b[0m 1ms/step - accuracy: 0.9400 - loss: 0.1426 - val_accuracy: 0.9423 - val_loss: 0.1335\n",
      "Epoch 11/20\n",
      "\u001b[1m2760/2760\u001b[0m \u001b[32m━━━━━━━━━━━━━━━━━━━━\u001b[0m\u001b[37m\u001b[0m \u001b[1m4s\u001b[0m 1ms/step - accuracy: 0.9417 - loss: 0.1416 - val_accuracy: 0.9406 - val_loss: 0.1326\n",
      "Epoch 12/20\n",
      "\u001b[1m2760/2760\u001b[0m \u001b[32m━━━━━━━━━━━━━━━━━━━━\u001b[0m\u001b[37m\u001b[0m \u001b[1m4s\u001b[0m 2ms/step - accuracy: 0.9432 - loss: 0.1365 - val_accuracy: 0.9457 - val_loss: 0.1283\n",
      "Epoch 13/20\n",
      "\u001b[1m2760/2760\u001b[0m \u001b[32m━━━━━━━━━━━━━━━━━━━━\u001b[0m\u001b[37m\u001b[0m \u001b[1m4s\u001b[0m 1ms/step - accuracy: 0.9425 - loss: 0.1378 - val_accuracy: 0.9467 - val_loss: 0.1283\n",
      "Epoch 14/20\n",
      "\u001b[1m2760/2760\u001b[0m \u001b[32m━━━━━━━━━━━━━━━━━━━━\u001b[0m\u001b[37m\u001b[0m \u001b[1m3s\u001b[0m 1ms/step - accuracy: 0.9429 - loss: 0.1353 - val_accuracy: 0.9465 - val_loss: 0.1252\n",
      "Epoch 15/20\n",
      "\u001b[1m2760/2760\u001b[0m \u001b[32m━━━━━━━━━━━━━━━━━━━━\u001b[0m\u001b[37m\u001b[0m \u001b[1m3s\u001b[0m 1ms/step - accuracy: 0.9439 - loss: 0.1334 - val_accuracy: 0.9464 - val_loss: 0.1252\n",
      "Epoch 16/20\n",
      "\u001b[1m2760/2760\u001b[0m \u001b[32m━━━━━━━━━━━━━━━━━━━━\u001b[0m\u001b[37m\u001b[0m \u001b[1m3s\u001b[0m 1ms/step - accuracy: 0.9425 - loss: 0.1355 - val_accuracy: 0.9457 - val_loss: 0.1259\n",
      "Epoch 17/20\n",
      "\u001b[1m2760/2760\u001b[0m \u001b[32m━━━━━━━━━━━━━━━━━━━━\u001b[0m\u001b[37m\u001b[0m \u001b[1m3s\u001b[0m 1ms/step - accuracy: 0.9442 - loss: 0.1337 - val_accuracy: 0.9449 - val_loss: 0.1266\n",
      "Epoch 18/20\n",
      "\u001b[1m2760/2760\u001b[0m \u001b[32m━━━━━━━━━━━━━━━━━━━━\u001b[0m\u001b[37m\u001b[0m \u001b[1m3s\u001b[0m 1ms/step - accuracy: 0.9441 - loss: 0.1317 - val_accuracy: 0.9472 - val_loss: 0.1260\n",
      "Epoch 19/20\n",
      "\u001b[1m2760/2760\u001b[0m \u001b[32m━━━━━━━━━━━━━━━━━━━━\u001b[0m\u001b[37m\u001b[0m \u001b[1m3s\u001b[0m 1ms/step - accuracy: 0.9447 - loss: 0.1307 - val_accuracy: 0.9471 - val_loss: 0.1244\n",
      "Epoch 20/20\n",
      "\u001b[1m2760/2760\u001b[0m \u001b[32m━━━━━━━━━━━━━━━━━━━━\u001b[0m\u001b[37m\u001b[0m \u001b[1m3s\u001b[0m 1ms/step - accuracy: 0.9452 - loss: 0.1333 - val_accuracy: 0.9480 - val_loss: 0.1227\n",
      "\u001b[1m3680/3680\u001b[0m \u001b[32m━━━━━━━━━━━━━━━━━━━━\u001b[0m\u001b[37m\u001b[0m \u001b[1m3s\u001b[0m 671us/step\n",
      "Acurácia: 0.9507804140695324\n"
     ]
    }
   ],
   "source": [
    "from keras.layers import Dropout\n",
    "\n",
    "# Definindo um otimizador com learning rate específica\n",
    "optimizer = Adam(learning_rate=0.001)\n",
    "\n",
    "# Criando o modelo\n",
    "model = Sequential()\n",
    "model.add(Dense(units=64, activation='relu', input_dim=X_train.shape[1]))\n",
    "model.add(Dropout(0.2)) \n",
    "model.add(Dense(units=1, activation='sigmoid'))\n",
    "\n",
    "# Compilando o modelo com o otimizador personalizado\n",
    "model.compile(optimizer=optimizer, loss='binary_crossentropy', metrics=['accuracy'])\n",
    "\n",
    "# Treinando o modelo\n",
    "model.fit(X_train, y_train, epochs=20, batch_size=32, validation_data=(X_val, y_val))\n",
    "\n",
    "# Avaliando o modelo\n",
    "y_pred = model.predict(X_test)\n",
    "accuracy = accuracy_score(y_test, (y_pred > 0.5).astype(int))\n",
    "print(f'Acurácia: {accuracy}')"
   ]
  },
  {
   "cell_type": "markdown",
   "metadata": {},
   "source": [
    "O dropout não se pagou, o menor número de épocas foi bom pois conseguimos manter o resultado poupando esforço computacional. Vamos tentar com nosso melhor modelo, diminuir a learning rate e dobrar o número de épocas"
   ]
  },
  {
   "cell_type": "code",
   "execution_count": 37,
   "metadata": {},
   "outputs": [
    {
     "name": "stdout",
     "output_type": "stream",
     "text": [
      "Epoch 1/40\n"
     ]
    },
    {
     "name": "stderr",
     "output_type": "stream",
     "text": [
      "C:\\Users\\luize\\AppData\\Local\\Packages\\PythonSoftwareFoundation.Python.3.10_qbz5n2kfra8p0\\LocalCache\\local-packages\\Python310\\site-packages\\keras\\src\\layers\\core\\dense.py:87: UserWarning: Do not pass an `input_shape`/`input_dim` argument to a layer. When using Sequential models, prefer using an `Input(shape)` object as the first layer in the model instead.\n",
      "  super().__init__(activity_regularizer=activity_regularizer, **kwargs)\n"
     ]
    },
    {
     "name": "stdout",
     "output_type": "stream",
     "text": [
      "\u001b[1m2760/2760\u001b[0m \u001b[32m━━━━━━━━━━━━━━━━━━━━\u001b[0m\u001b[37m\u001b[0m \u001b[1m4s\u001b[0m 1ms/step - accuracy: 0.8153 - loss: 0.4388 - val_accuracy: 0.8952 - val_loss: 0.2622\n",
      "Epoch 2/40\n",
      "\u001b[1m2760/2760\u001b[0m \u001b[32m━━━━━━━━━━━━━━━━━━━━\u001b[0m\u001b[37m\u001b[0m \u001b[1m4s\u001b[0m 1ms/step - accuracy: 0.9042 - loss: 0.2457 - val_accuracy: 0.9139 - val_loss: 0.2118\n",
      "Epoch 3/40\n",
      "\u001b[1m2760/2760\u001b[0m \u001b[32m━━━━━━━━━━━━━━━━━━━━\u001b[0m\u001b[37m\u001b[0m \u001b[1m5s\u001b[0m 1ms/step - accuracy: 0.9177 - loss: 0.2060 - val_accuracy: 0.9233 - val_loss: 0.1933\n",
      "Epoch 4/40\n",
      "\u001b[1m2760/2760\u001b[0m \u001b[32m━━━━━━━━━━━━━━━━━━━━\u001b[0m\u001b[37m\u001b[0m \u001b[1m5s\u001b[0m 2ms/step - accuracy: 0.9282 - loss: 0.1864 - val_accuracy: 0.9314 - val_loss: 0.1748\n",
      "Epoch 5/40\n",
      "\u001b[1m2760/2760\u001b[0m \u001b[32m━━━━━━━━━━━━━━━━━━━━\u001b[0m\u001b[37m\u001b[0m \u001b[1m4s\u001b[0m 2ms/step - accuracy: 0.9302 - loss: 0.1764 - val_accuracy: 0.9326 - val_loss: 0.1651\n",
      "Epoch 6/40\n",
      "\u001b[1m2760/2760\u001b[0m \u001b[32m━━━━━━━━━━━━━━━━━━━━\u001b[0m\u001b[37m\u001b[0m \u001b[1m4s\u001b[0m 1ms/step - accuracy: 0.9352 - loss: 0.1632 - val_accuracy: 0.9314 - val_loss: 0.1623\n",
      "Epoch 7/40\n",
      "\u001b[1m2760/2760\u001b[0m \u001b[32m━━━━━━━━━━━━━━━━━━━━\u001b[0m\u001b[37m\u001b[0m \u001b[1m3s\u001b[0m 1ms/step - accuracy: 0.9363 - loss: 0.1564 - val_accuracy: 0.9345 - val_loss: 0.1543\n",
      "Epoch 8/40\n",
      "\u001b[1m2760/2760\u001b[0m \u001b[32m━━━━━━━━━━━━━━━━━━━━\u001b[0m\u001b[37m\u001b[0m \u001b[1m5s\u001b[0m 2ms/step - accuracy: 0.9382 - loss: 0.1494 - val_accuracy: 0.9360 - val_loss: 0.1505\n",
      "Epoch 9/40\n",
      "\u001b[1m2760/2760\u001b[0m \u001b[32m━━━━━━━━━━━━━━━━━━━━\u001b[0m\u001b[37m\u001b[0m \u001b[1m3s\u001b[0m 1ms/step - accuracy: 0.9376 - loss: 0.1503 - val_accuracy: 0.9383 - val_loss: 0.1450\n",
      "Epoch 10/40\n",
      "\u001b[1m2760/2760\u001b[0m \u001b[32m━━━━━━━━━━━━━━━━━━━━\u001b[0m\u001b[37m\u001b[0m \u001b[1m3s\u001b[0m 1ms/step - accuracy: 0.9411 - loss: 0.1447 - val_accuracy: 0.9395 - val_loss: 0.1444\n",
      "Epoch 11/40\n",
      "\u001b[1m2760/2760\u001b[0m \u001b[32m━━━━━━━━━━━━━━━━━━━━\u001b[0m\u001b[37m\u001b[0m \u001b[1m4s\u001b[0m 1ms/step - accuracy: 0.9418 - loss: 0.1415 - val_accuracy: 0.9413 - val_loss: 0.1402\n",
      "Epoch 12/40\n",
      "\u001b[1m2760/2760\u001b[0m \u001b[32m━━━━━━━━━━━━━━━━━━━━\u001b[0m\u001b[37m\u001b[0m \u001b[1m3s\u001b[0m 1ms/step - accuracy: 0.9425 - loss: 0.1385 - val_accuracy: 0.9417 - val_loss: 0.1370\n",
      "Epoch 13/40\n",
      "\u001b[1m2760/2760\u001b[0m \u001b[32m━━━━━━━━━━━━━━━━━━━━\u001b[0m\u001b[37m\u001b[0m \u001b[1m3s\u001b[0m 1ms/step - accuracy: 0.9417 - loss: 0.1387 - val_accuracy: 0.9366 - val_loss: 0.1437\n",
      "Epoch 14/40\n",
      "\u001b[1m2760/2760\u001b[0m \u001b[32m━━━━━━━━━━━━━━━━━━━━\u001b[0m\u001b[37m\u001b[0m \u001b[1m3s\u001b[0m 1ms/step - accuracy: 0.9435 - loss: 0.1368 - val_accuracy: 0.9434 - val_loss: 0.1362\n",
      "Epoch 15/40\n",
      "\u001b[1m2760/2760\u001b[0m \u001b[32m━━━━━━━━━━━━━━━━━━━━\u001b[0m\u001b[37m\u001b[0m \u001b[1m4s\u001b[0m 2ms/step - accuracy: 0.9431 - loss: 0.1364 - val_accuracy: 0.9426 - val_loss: 0.1351\n",
      "Epoch 16/40\n",
      "\u001b[1m2760/2760\u001b[0m \u001b[32m━━━━━━━━━━━━━━━━━━━━\u001b[0m\u001b[37m\u001b[0m \u001b[1m3s\u001b[0m 1ms/step - accuracy: 0.9446 - loss: 0.1338 - val_accuracy: 0.9440 - val_loss: 0.1320\n",
      "Epoch 17/40\n",
      "\u001b[1m2760/2760\u001b[0m \u001b[32m━━━━━━━━━━━━━━━━━━━━\u001b[0m\u001b[37m\u001b[0m \u001b[1m3s\u001b[0m 1ms/step - accuracy: 0.9447 - loss: 0.1311 - val_accuracy: 0.9431 - val_loss: 0.1314\n",
      "Epoch 18/40\n",
      "\u001b[1m2760/2760\u001b[0m \u001b[32m━━━━━━━━━━━━━━━━━━━━\u001b[0m\u001b[37m\u001b[0m \u001b[1m3s\u001b[0m 1ms/step - accuracy: 0.9440 - loss: 0.1311 - val_accuracy: 0.9448 - val_loss: 0.1298\n",
      "Epoch 19/40\n",
      "\u001b[1m2760/2760\u001b[0m \u001b[32m━━━━━━━━━━━━━━━━━━━━\u001b[0m\u001b[37m\u001b[0m \u001b[1m3s\u001b[0m 951us/step - accuracy: 0.9455 - loss: 0.1286 - val_accuracy: 0.9455 - val_loss: 0.1347\n",
      "Epoch 20/40\n",
      "\u001b[1m2760/2760\u001b[0m \u001b[32m━━━━━━━━━━━━━━━━━━━━\u001b[0m\u001b[37m\u001b[0m \u001b[1m3s\u001b[0m 1ms/step - accuracy: 0.9466 - loss: 0.1288 - val_accuracy: 0.9415 - val_loss: 0.1306\n",
      "Epoch 21/40\n",
      "\u001b[1m2760/2760\u001b[0m \u001b[32m━━━━━━━━━━━━━━━━━━━━\u001b[0m\u001b[37m\u001b[0m \u001b[1m3s\u001b[0m 1ms/step - accuracy: 0.9449 - loss: 0.1298 - val_accuracy: 0.9449 - val_loss: 0.1277\n",
      "Epoch 22/40\n",
      "\u001b[1m2760/2760\u001b[0m \u001b[32m━━━━━━━━━━━━━━━━━━━━\u001b[0m\u001b[37m\u001b[0m \u001b[1m5s\u001b[0m 929us/step - accuracy: 0.9457 - loss: 0.1271 - val_accuracy: 0.9453 - val_loss: 0.1296\n",
      "Epoch 23/40\n",
      "\u001b[1m2760/2760\u001b[0m \u001b[32m━━━━━━━━━━━━━━━━━━━━\u001b[0m\u001b[37m\u001b[0m \u001b[1m3s\u001b[0m 1000us/step - accuracy: 0.9471 - loss: 0.1255 - val_accuracy: 0.9419 - val_loss: 0.1310\n",
      "Epoch 24/40\n",
      "\u001b[1m2760/2760\u001b[0m \u001b[32m━━━━━━━━━━━━━━━━━━━━\u001b[0m\u001b[37m\u001b[0m \u001b[1m3s\u001b[0m 1ms/step - accuracy: 0.9464 - loss: 0.1264 - val_accuracy: 0.9460 - val_loss: 0.1265\n",
      "Epoch 25/40\n",
      "\u001b[1m2760/2760\u001b[0m \u001b[32m━━━━━━━━━━━━━━━━━━━━\u001b[0m\u001b[37m\u001b[0m \u001b[1m3s\u001b[0m 926us/step - accuracy: 0.9466 - loss: 0.1260 - val_accuracy: 0.9456 - val_loss: 0.1285\n",
      "Epoch 26/40\n",
      "\u001b[1m2760/2760\u001b[0m \u001b[32m━━━━━━━━━━━━━━━━━━━━\u001b[0m\u001b[37m\u001b[0m \u001b[1m3s\u001b[0m 945us/step - accuracy: 0.9475 - loss: 0.1238 - val_accuracy: 0.9458 - val_loss: 0.1252\n",
      "Epoch 27/40\n",
      "\u001b[1m2760/2760\u001b[0m \u001b[32m━━━━━━━━━━━━━━━━━━━━\u001b[0m\u001b[37m\u001b[0m \u001b[1m3s\u001b[0m 1ms/step - accuracy: 0.9485 - loss: 0.1229 - val_accuracy: 0.9412 - val_loss: 0.1313\n",
      "Epoch 28/40\n",
      "\u001b[1m2760/2760\u001b[0m \u001b[32m━━━━━━━━━━━━━━━━━━━━\u001b[0m\u001b[37m\u001b[0m \u001b[1m3s\u001b[0m 972us/step - accuracy: 0.9470 - loss: 0.1250 - val_accuracy: 0.9458 - val_loss: 0.1246\n",
      "Epoch 29/40\n",
      "\u001b[1m2760/2760\u001b[0m \u001b[32m━━━━━━━━━━━━━━━━━━━━\u001b[0m\u001b[37m\u001b[0m \u001b[1m3s\u001b[0m 945us/step - accuracy: 0.9473 - loss: 0.1243 - val_accuracy: 0.9448 - val_loss: 0.1249\n",
      "Epoch 30/40\n",
      "\u001b[1m2760/2760\u001b[0m \u001b[32m━━━━━━━━━━━━━━━━━━━━\u001b[0m\u001b[37m\u001b[0m \u001b[1m3s\u001b[0m 980us/step - accuracy: 0.9482 - loss: 0.1236 - val_accuracy: 0.9453 - val_loss: 0.1270\n",
      "Epoch 31/40\n",
      "\u001b[1m2760/2760\u001b[0m \u001b[32m━━━━━━━━━━━━━━━━━━━━\u001b[0m\u001b[37m\u001b[0m \u001b[1m3s\u001b[0m 994us/step - accuracy: 0.9477 - loss: 0.1233 - val_accuracy: 0.9475 - val_loss: 0.1249\n",
      "Epoch 32/40\n",
      "\u001b[1m2760/2760\u001b[0m \u001b[32m━━━━━━━━━━━━━━━━━━━━\u001b[0m\u001b[37m\u001b[0m \u001b[1m3s\u001b[0m 1ms/step - accuracy: 0.9506 - loss: 0.1182 - val_accuracy: 0.9476 - val_loss: 0.1234\n",
      "Epoch 33/40\n",
      "\u001b[1m2760/2760\u001b[0m \u001b[32m━━━━━━━━━━━━━━━━━━━━\u001b[0m\u001b[37m\u001b[0m \u001b[1m3s\u001b[0m 953us/step - accuracy: 0.9487 - loss: 0.1208 - val_accuracy: 0.9480 - val_loss: 0.1214\n",
      "Epoch 34/40\n",
      "\u001b[1m2760/2760\u001b[0m \u001b[32m━━━━━━━━━━━━━━━━━━━━\u001b[0m\u001b[37m\u001b[0m \u001b[1m3s\u001b[0m 1ms/step - accuracy: 0.9499 - loss: 0.1205 - val_accuracy: 0.9483 - val_loss: 0.1223\n",
      "Epoch 35/40\n",
      "\u001b[1m2760/2760\u001b[0m \u001b[32m━━━━━━━━━━━━━━━━━━━━\u001b[0m\u001b[37m\u001b[0m \u001b[1m3s\u001b[0m 1ms/step - accuracy: 0.9492 - loss: 0.1210 - val_accuracy: 0.9481 - val_loss: 0.1206\n",
      "Epoch 36/40\n",
      "\u001b[1m2760/2760\u001b[0m \u001b[32m━━━━━━━━━━━━━━━━━━━━\u001b[0m\u001b[37m\u001b[0m \u001b[1m3s\u001b[0m 1ms/step - accuracy: 0.9498 - loss: 0.1198 - val_accuracy: 0.9480 - val_loss: 0.1220\n",
      "Epoch 37/40\n",
      "\u001b[1m2760/2760\u001b[0m \u001b[32m━━━━━━━━━━━━━━━━━━━━\u001b[0m\u001b[37m\u001b[0m \u001b[1m3s\u001b[0m 995us/step - accuracy: 0.9481 - loss: 0.1206 - val_accuracy: 0.9468 - val_loss: 0.1229\n",
      "Epoch 38/40\n",
      "\u001b[1m2760/2760\u001b[0m \u001b[32m━━━━━━━━━━━━━━━━━━━━\u001b[0m\u001b[37m\u001b[0m \u001b[1m3s\u001b[0m 1ms/step - accuracy: 0.9495 - loss: 0.1193 - val_accuracy: 0.9485 - val_loss: 0.1204\n",
      "Epoch 39/40\n",
      "\u001b[1m2760/2760\u001b[0m \u001b[32m━━━━━━━━━━━━━━━━━━━━\u001b[0m\u001b[37m\u001b[0m \u001b[1m5s\u001b[0m 1ms/step - accuracy: 0.9490 - loss: 0.1191 - val_accuracy: 0.9484 - val_loss: 0.1199\n",
      "Epoch 40/40\n",
      "\u001b[1m2760/2760\u001b[0m \u001b[32m━━━━━━━━━━━━━━━━━━━━\u001b[0m\u001b[37m\u001b[0m \u001b[1m3s\u001b[0m 1ms/step - accuracy: 0.9505 - loss: 0.1173 - val_accuracy: 0.9468 - val_loss: 0.1204\n",
      "\u001b[1m3680/3680\u001b[0m \u001b[32m━━━━━━━━━━━━━━━━━━━━\u001b[0m\u001b[37m\u001b[0m \u001b[1m3s\u001b[0m 674us/step\n",
      "Acurácia: 0.9493877273730872\n"
     ]
    }
   ],
   "source": [
    "from keras.optimizers import Adam\n",
    "\n",
    "# Definindo um otimizador com learning rate específica\n",
    "optimizer = Adam(learning_rate=0.0005)\n",
    "\n",
    "# Criando o modelo\n",
    "model = Sequential()\n",
    "model.add(Dense(units=64, activation='relu', input_dim=X_train.shape[1]))\n",
    "model.add(Dense(units=1, activation='sigmoid'))\n",
    "\n",
    "# Compilando o modelo com o otimizador personalizado\n",
    "model.compile(optimizer=optimizer, loss='binary_crossentropy', metrics=['accuracy'])\n",
    "\n",
    "# Treinando o modelo\n",
    "model.fit(X_train, y_train, epochs=40, batch_size=32, validation_data=(X_val, y_val))\n",
    "\n",
    "# Avaliando o modelo\n",
    "y_pred = model.predict(X_test)\n",
    "accuracy = accuracy_score(y_test, (y_pred > 0.5).astype(int))\n",
    "print(f'Acurácia: {accuracy}')"
   ]
  },
  {
   "cell_type": "markdown",
   "metadata": {},
   "source": [
    "Talvez o número de épocas tenha sido pouco para essa learning rate, visto que ela foi aumentando a acuracia aos poucos, vamos então aumentar para 60 épocas e adicionar um dropout para evitar overfiting"
   ]
  },
  {
   "cell_type": "code",
   "execution_count": 38,
   "metadata": {},
   "outputs": [
    {
     "name": "stdout",
     "output_type": "stream",
     "text": [
      "Epoch 1/60\n"
     ]
    },
    {
     "name": "stderr",
     "output_type": "stream",
     "text": [
      "C:\\Users\\luize\\AppData\\Local\\Packages\\PythonSoftwareFoundation.Python.3.10_qbz5n2kfra8p0\\LocalCache\\local-packages\\Python310\\site-packages\\keras\\src\\layers\\core\\dense.py:87: UserWarning: Do not pass an `input_shape`/`input_dim` argument to a layer. When using Sequential models, prefer using an `Input(shape)` object as the first layer in the model instead.\n",
      "  super().__init__(activity_regularizer=activity_regularizer, **kwargs)\n"
     ]
    },
    {
     "name": "stdout",
     "output_type": "stream",
     "text": [
      "\u001b[1m2760/2760\u001b[0m \u001b[32m━━━━━━━━━━━━━━━━━━━━\u001b[0m\u001b[37m\u001b[0m \u001b[1m4s\u001b[0m 1ms/step - accuracy: 0.7747 - loss: 0.4779 - val_accuracy: 0.8763 - val_loss: 0.2987\n",
      "Epoch 2/60\n",
      "\u001b[1m2760/2760\u001b[0m \u001b[32m━━━━━━━━━━━━━━━━━━━━\u001b[0m\u001b[37m\u001b[0m \u001b[1m6s\u001b[0m 1ms/step - accuracy: 0.8892 - loss: 0.2800 - val_accuracy: 0.9093 - val_loss: 0.2257\n",
      "Epoch 3/60\n",
      "\u001b[1m2760/2760\u001b[0m \u001b[32m━━━━━━━━━━━━━━━━━━━━\u001b[0m\u001b[37m\u001b[0m \u001b[1m3s\u001b[0m 1ms/step - accuracy: 0.9072 - loss: 0.2308 - val_accuracy: 0.9210 - val_loss: 0.1968\n",
      "Epoch 4/60\n",
      "\u001b[1m2760/2760\u001b[0m \u001b[32m━━━━━━━━━━━━━━━━━━━━\u001b[0m\u001b[37m\u001b[0m \u001b[1m3s\u001b[0m 1ms/step - accuracy: 0.9182 - loss: 0.2026 - val_accuracy: 0.9280 - val_loss: 0.1810\n",
      "Epoch 5/60\n",
      "\u001b[1m2760/2760\u001b[0m \u001b[32m━━━━━━━━━━━━━━━━━━━━\u001b[0m\u001b[37m\u001b[0m \u001b[1m3s\u001b[0m 1ms/step - accuracy: 0.9234 - loss: 0.1912 - val_accuracy: 0.9329 - val_loss: 0.1678\n",
      "Epoch 6/60\n",
      "\u001b[1m2760/2760\u001b[0m \u001b[32m━━━━━━━━━━━━━━━━━━━━\u001b[0m\u001b[37m\u001b[0m \u001b[1m3s\u001b[0m 1ms/step - accuracy: 0.9273 - loss: 0.1775 - val_accuracy: 0.9351 - val_loss: 0.1594\n",
      "Epoch 7/60\n",
      "\u001b[1m2760/2760\u001b[0m \u001b[32m━━━━━━━━━━━━━━━━━━━━\u001b[0m\u001b[37m\u001b[0m \u001b[1m3s\u001b[0m 1ms/step - accuracy: 0.9330 - loss: 0.1674 - val_accuracy: 0.9370 - val_loss: 0.1532\n",
      "Epoch 8/60\n",
      "\u001b[1m2760/2760\u001b[0m \u001b[32m━━━━━━━━━━━━━━━━━━━━\u001b[0m\u001b[37m\u001b[0m \u001b[1m3s\u001b[0m 1ms/step - accuracy: 0.9323 - loss: 0.1622 - val_accuracy: 0.9374 - val_loss: 0.1492\n",
      "Epoch 9/60\n",
      "\u001b[1m2760/2760\u001b[0m \u001b[32m━━━━━━━━━━━━━━━━━━━━\u001b[0m\u001b[37m\u001b[0m \u001b[1m3s\u001b[0m 1ms/step - accuracy: 0.9348 - loss: 0.1575 - val_accuracy: 0.9393 - val_loss: 0.1446\n",
      "Epoch 10/60\n",
      "\u001b[1m2760/2760\u001b[0m \u001b[32m━━━━━━━━━━━━━━━━━━━━\u001b[0m\u001b[37m\u001b[0m \u001b[1m3s\u001b[0m 1ms/step - accuracy: 0.9366 - loss: 0.1542 - val_accuracy: 0.9397 - val_loss: 0.1437\n",
      "Epoch 11/60\n",
      "\u001b[1m2760/2760\u001b[0m \u001b[32m━━━━━━━━━━━━━━━━━━━━\u001b[0m\u001b[37m\u001b[0m \u001b[1m3s\u001b[0m 1ms/step - accuracy: 0.9392 - loss: 0.1488 - val_accuracy: 0.9410 - val_loss: 0.1402\n",
      "Epoch 12/60\n",
      "\u001b[1m2760/2760\u001b[0m \u001b[32m━━━━━━━━━━━━━━━━━━━━\u001b[0m\u001b[37m\u001b[0m \u001b[1m3s\u001b[0m 1ms/step - accuracy: 0.9349 - loss: 0.1512 - val_accuracy: 0.9421 - val_loss: 0.1372\n",
      "Epoch 13/60\n",
      "\u001b[1m2760/2760\u001b[0m \u001b[32m━━━━━━━━━━━━━━━━━━━━\u001b[0m\u001b[37m\u001b[0m \u001b[1m3s\u001b[0m 1ms/step - accuracy: 0.9386 - loss: 0.1467 - val_accuracy: 0.9435 - val_loss: 0.1339\n",
      "Epoch 14/60\n",
      "\u001b[1m2760/2760\u001b[0m \u001b[32m━━━━━━━━━━━━━━━━━━━━\u001b[0m\u001b[37m\u001b[0m \u001b[1m3s\u001b[0m 1ms/step - accuracy: 0.9400 - loss: 0.1427 - val_accuracy: 0.9436 - val_loss: 0.1330\n",
      "Epoch 15/60\n",
      "\u001b[1m2760/2760\u001b[0m \u001b[32m━━━━━━━━━━━━━━━━━━━━\u001b[0m\u001b[37m\u001b[0m \u001b[1m3s\u001b[0m 1ms/step - accuracy: 0.9402 - loss: 0.1421 - val_accuracy: 0.9449 - val_loss: 0.1340\n",
      "Epoch 16/60\n",
      "\u001b[1m2760/2760\u001b[0m \u001b[32m━━━━━━━━━━━━━━━━━━━━\u001b[0m\u001b[37m\u001b[0m \u001b[1m3s\u001b[0m 1ms/step - accuracy: 0.9423 - loss: 0.1387 - val_accuracy: 0.9442 - val_loss: 0.1327\n",
      "Epoch 17/60\n",
      "\u001b[1m2760/2760\u001b[0m \u001b[32m━━━━━━━━━━━━━━━━━━━━\u001b[0m\u001b[37m\u001b[0m \u001b[1m3s\u001b[0m 1ms/step - accuracy: 0.9422 - loss: 0.1392 - val_accuracy: 0.9457 - val_loss: 0.1285\n",
      "Epoch 18/60\n",
      "\u001b[1m2760/2760\u001b[0m \u001b[32m━━━━━━━━━━━━━━━━━━━━\u001b[0m\u001b[37m\u001b[0m \u001b[1m3s\u001b[0m 1ms/step - accuracy: 0.9439 - loss: 0.1368 - val_accuracy: 0.9456 - val_loss: 0.1287\n",
      "Epoch 19/60\n",
      "\u001b[1m2760/2760\u001b[0m \u001b[32m━━━━━━━━━━━━━━━━━━━━\u001b[0m\u001b[37m\u001b[0m \u001b[1m3s\u001b[0m 1ms/step - accuracy: 0.9437 - loss: 0.1359 - val_accuracy: 0.9477 - val_loss: 0.1278\n",
      "Epoch 20/60\n",
      "\u001b[1m2760/2760\u001b[0m \u001b[32m━━━━━━━━━━━━━━━━━━━━\u001b[0m\u001b[37m\u001b[0m \u001b[1m3s\u001b[0m 1ms/step - accuracy: 0.9442 - loss: 0.1356 - val_accuracy: 0.9450 - val_loss: 0.1272\n",
      "Epoch 21/60\n",
      "\u001b[1m2760/2760\u001b[0m \u001b[32m━━━━━━━━━━━━━━━━━━━━\u001b[0m\u001b[37m\u001b[0m \u001b[1m3s\u001b[0m 1ms/step - accuracy: 0.9428 - loss: 0.1362 - val_accuracy: 0.9463 - val_loss: 0.1264\n",
      "Epoch 22/60\n",
      "\u001b[1m2760/2760\u001b[0m \u001b[32m━━━━━━━━━━━━━━━━━━━━\u001b[0m\u001b[37m\u001b[0m \u001b[1m3s\u001b[0m 1ms/step - accuracy: 0.9437 - loss: 0.1343 - val_accuracy: 0.9469 - val_loss: 0.1250\n",
      "Epoch 23/60\n",
      "\u001b[1m2760/2760\u001b[0m \u001b[32m━━━━━━━━━━━━━━━━━━━━\u001b[0m\u001b[37m\u001b[0m \u001b[1m4s\u001b[0m 1ms/step - accuracy: 0.9451 - loss: 0.1319 - val_accuracy: 0.9470 - val_loss: 0.1257\n",
      "Epoch 24/60\n",
      "\u001b[1m2760/2760\u001b[0m \u001b[32m━━━━━━━━━━━━━━━━━━━━\u001b[0m\u001b[37m\u001b[0m \u001b[1m3s\u001b[0m 1ms/step - accuracy: 0.9450 - loss: 0.1312 - val_accuracy: 0.9475 - val_loss: 0.1241\n",
      "Epoch 25/60\n",
      "\u001b[1m2760/2760\u001b[0m \u001b[32m━━━━━━━━━━━━━━━━━━━━\u001b[0m\u001b[37m\u001b[0m \u001b[1m3s\u001b[0m 1ms/step - accuracy: 0.9449 - loss: 0.1321 - val_accuracy: 0.9489 - val_loss: 0.1226\n",
      "Epoch 26/60\n",
      "\u001b[1m2760/2760\u001b[0m \u001b[32m━━━━━━━━━━━━━━━━━━━━\u001b[0m\u001b[37m\u001b[0m \u001b[1m3s\u001b[0m 1ms/step - accuracy: 0.9467 - loss: 0.1298 - val_accuracy: 0.9460 - val_loss: 0.1228\n",
      "Epoch 27/60\n",
      "\u001b[1m2760/2760\u001b[0m \u001b[32m━━━━━━━━━━━━━━━━━━━━\u001b[0m\u001b[37m\u001b[0m \u001b[1m3s\u001b[0m 1ms/step - accuracy: 0.9446 - loss: 0.1311 - val_accuracy: 0.9490 - val_loss: 0.1227\n",
      "Epoch 28/60\n",
      "\u001b[1m2760/2760\u001b[0m \u001b[32m━━━━━━━━━━━━━━━━━━━━\u001b[0m\u001b[37m\u001b[0m \u001b[1m3s\u001b[0m 1ms/step - accuracy: 0.9446 - loss: 0.1313 - val_accuracy: 0.9488 - val_loss: 0.1244\n",
      "Epoch 29/60\n",
      "\u001b[1m2760/2760\u001b[0m \u001b[32m━━━━━━━━━━━━━━━━━━━━\u001b[0m\u001b[37m\u001b[0m \u001b[1m3s\u001b[0m 1ms/step - accuracy: 0.9457 - loss: 0.1294 - val_accuracy: 0.9482 - val_loss: 0.1213\n",
      "Epoch 30/60\n",
      "\u001b[1m2760/2760\u001b[0m \u001b[32m━━━━━━━━━━━━━━━━━━━━\u001b[0m\u001b[37m\u001b[0m \u001b[1m3s\u001b[0m 1ms/step - accuracy: 0.9444 - loss: 0.1291 - val_accuracy: 0.9480 - val_loss: 0.1217\n",
      "Epoch 31/60\n",
      "\u001b[1m2760/2760\u001b[0m \u001b[32m━━━━━━━━━━━━━━━━━━━━\u001b[0m\u001b[37m\u001b[0m \u001b[1m3s\u001b[0m 1ms/step - accuracy: 0.9447 - loss: 0.1295 - val_accuracy: 0.9470 - val_loss: 0.1228\n",
      "Epoch 32/60\n",
      "\u001b[1m2760/2760\u001b[0m \u001b[32m━━━━━━━━━━━━━━━━━━━━\u001b[0m\u001b[37m\u001b[0m \u001b[1m3s\u001b[0m 1ms/step - accuracy: 0.9455 - loss: 0.1289 - val_accuracy: 0.9479 - val_loss: 0.1219\n",
      "Epoch 33/60\n",
      "\u001b[1m2760/2760\u001b[0m \u001b[32m━━━━━━━━━━━━━━━━━━━━\u001b[0m\u001b[37m\u001b[0m \u001b[1m3s\u001b[0m 1ms/step - accuracy: 0.9467 - loss: 0.1256 - val_accuracy: 0.9484 - val_loss: 0.1215\n",
      "Epoch 34/60\n",
      "\u001b[1m2760/2760\u001b[0m \u001b[32m━━━━━━━━━━━━━━━━━━━━\u001b[0m\u001b[37m\u001b[0m \u001b[1m3s\u001b[0m 1ms/step - accuracy: 0.9462 - loss: 0.1289 - val_accuracy: 0.9485 - val_loss: 0.1211\n",
      "Epoch 35/60\n",
      "\u001b[1m2760/2760\u001b[0m \u001b[32m━━━━━━━━━━━━━━━━━━━━\u001b[0m\u001b[37m\u001b[0m \u001b[1m3s\u001b[0m 991us/step - accuracy: 0.9467 - loss: 0.1253 - val_accuracy: 0.9479 - val_loss: 0.1207\n",
      "Epoch 36/60\n",
      "\u001b[1m2760/2760\u001b[0m \u001b[32m━━━━━━━━━━━━━━━━━━━━\u001b[0m\u001b[37m\u001b[0m \u001b[1m3s\u001b[0m 1ms/step - accuracy: 0.9469 - loss: 0.1267 - val_accuracy: 0.9459 - val_loss: 0.1224\n",
      "Epoch 37/60\n",
      "\u001b[1m2760/2760\u001b[0m \u001b[32m━━━━━━━━━━━━━━━━━━━━\u001b[0m\u001b[37m\u001b[0m \u001b[1m3s\u001b[0m 1ms/step - accuracy: 0.9455 - loss: 0.1281 - val_accuracy: 0.9486 - val_loss: 0.1203\n",
      "Epoch 38/60\n",
      "\u001b[1m2760/2760\u001b[0m \u001b[32m━━━━━━━━━━━━━━━━━━━━\u001b[0m\u001b[37m\u001b[0m \u001b[1m3s\u001b[0m 982us/step - accuracy: 0.9457 - loss: 0.1291 - val_accuracy: 0.9485 - val_loss: 0.1250\n",
      "Epoch 39/60\n",
      "\u001b[1m2760/2760\u001b[0m \u001b[32m━━━━━━━━━━━━━━━━━━━━\u001b[0m\u001b[37m\u001b[0m \u001b[1m3s\u001b[0m 1ms/step - accuracy: 0.9468 - loss: 0.1249 - val_accuracy: 0.9498 - val_loss: 0.1194\n",
      "Epoch 40/60\n",
      "\u001b[1m2760/2760\u001b[0m \u001b[32m━━━━━━━━━━━━━━━━━━━━\u001b[0m\u001b[37m\u001b[0m \u001b[1m3s\u001b[0m 1ms/step - accuracy: 0.9483 - loss: 0.1245 - val_accuracy: 0.9494 - val_loss: 0.1186\n",
      "Epoch 41/60\n",
      "\u001b[1m2760/2760\u001b[0m \u001b[32m━━━━━━━━━━━━━━━━━━━━\u001b[0m\u001b[37m\u001b[0m \u001b[1m3s\u001b[0m 1ms/step - accuracy: 0.9458 - loss: 0.1271 - val_accuracy: 0.9486 - val_loss: 0.1204\n",
      "Epoch 42/60\n",
      "\u001b[1m2760/2760\u001b[0m \u001b[32m━━━━━━━━━━━━━━━━━━━━\u001b[0m\u001b[37m\u001b[0m \u001b[1m3s\u001b[0m 1ms/step - accuracy: 0.9457 - loss: 0.1258 - val_accuracy: 0.9495 - val_loss: 0.1194\n",
      "Epoch 43/60\n",
      "\u001b[1m2760/2760\u001b[0m \u001b[32m━━━━━━━━━━━━━━━━━━━━\u001b[0m\u001b[37m\u001b[0m \u001b[1m3s\u001b[0m 1ms/step - accuracy: 0.9484 - loss: 0.1243 - val_accuracy: 0.9479 - val_loss: 0.1198\n",
      "Epoch 44/60\n",
      "\u001b[1m2760/2760\u001b[0m \u001b[32m━━━━━━━━━━━━━━━━━━━━\u001b[0m\u001b[37m\u001b[0m \u001b[1m3s\u001b[0m 1ms/step - accuracy: 0.9477 - loss: 0.1248 - val_accuracy: 0.9504 - val_loss: 0.1194\n",
      "Epoch 45/60\n",
      "\u001b[1m2760/2760\u001b[0m \u001b[32m━━━━━━━━━━━━━━━━━━━━\u001b[0m\u001b[37m\u001b[0m \u001b[1m3s\u001b[0m 1ms/step - accuracy: 0.9462 - loss: 0.1253 - val_accuracy: 0.9480 - val_loss: 0.1193\n",
      "Epoch 46/60\n",
      "\u001b[1m2760/2760\u001b[0m \u001b[32m━━━━━━━━━━━━━━━━━━━━\u001b[0m\u001b[37m\u001b[0m \u001b[1m3s\u001b[0m 1ms/step - accuracy: 0.9479 - loss: 0.1224 - val_accuracy: 0.9497 - val_loss: 0.1186\n",
      "Epoch 47/60\n",
      "\u001b[1m2760/2760\u001b[0m \u001b[32m━━━━━━━━━━━━━━━━━━━━\u001b[0m\u001b[37m\u001b[0m \u001b[1m3s\u001b[0m 1ms/step - accuracy: 0.9479 - loss: 0.1238 - val_accuracy: 0.9491 - val_loss: 0.1202\n",
      "Epoch 48/60\n",
      "\u001b[1m2760/2760\u001b[0m \u001b[32m━━━━━━━━━━━━━━━━━━━━\u001b[0m\u001b[37m\u001b[0m \u001b[1m3s\u001b[0m 1ms/step - accuracy: 0.9482 - loss: 0.1221 - val_accuracy: 0.9502 - val_loss: 0.1189\n",
      "Epoch 49/60\n",
      "\u001b[1m2760/2760\u001b[0m \u001b[32m━━━━━━━━━━━━━━━━━━━━\u001b[0m\u001b[37m\u001b[0m \u001b[1m3s\u001b[0m 978us/step - accuracy: 0.9475 - loss: 0.1244 - val_accuracy: 0.9497 - val_loss: 0.1178\n",
      "Epoch 50/60\n",
      "\u001b[1m2760/2760\u001b[0m \u001b[32m━━━━━━━━━━━━━━━━━━━━\u001b[0m\u001b[37m\u001b[0m \u001b[1m3s\u001b[0m 1ms/step - accuracy: 0.9488 - loss: 0.1223 - val_accuracy: 0.9502 - val_loss: 0.1178\n",
      "Epoch 51/60\n",
      "\u001b[1m2760/2760\u001b[0m \u001b[32m━━━━━━━━━━━━━━━━━━━━\u001b[0m\u001b[37m\u001b[0m \u001b[1m3s\u001b[0m 1ms/step - accuracy: 0.9479 - loss: 0.1240 - val_accuracy: 0.9498 - val_loss: 0.1178\n",
      "Epoch 52/60\n",
      "\u001b[1m2760/2760\u001b[0m \u001b[32m━━━━━━━━━━━━━━━━━━━━\u001b[0m\u001b[37m\u001b[0m \u001b[1m3s\u001b[0m 1ms/step - accuracy: 0.9475 - loss: 0.1209 - val_accuracy: 0.9503 - val_loss: 0.1175\n",
      "Epoch 53/60\n",
      "\u001b[1m2760/2760\u001b[0m \u001b[32m━━━━━━━━━━━━━━━━━━━━\u001b[0m\u001b[37m\u001b[0m \u001b[1m3s\u001b[0m 991us/step - accuracy: 0.9476 - loss: 0.1221 - val_accuracy: 0.9501 - val_loss: 0.1189\n",
      "Epoch 54/60\n",
      "\u001b[1m2760/2760\u001b[0m \u001b[32m━━━━━━━━━━━━━━━━━━━━\u001b[0m\u001b[37m\u001b[0m \u001b[1m3s\u001b[0m 1ms/step - accuracy: 0.9484 - loss: 0.1236 - val_accuracy: 0.9499 - val_loss: 0.1174\n",
      "Epoch 55/60\n",
      "\u001b[1m2760/2760\u001b[0m \u001b[32m━━━━━━━━━━━━━━━━━━━━\u001b[0m\u001b[37m\u001b[0m \u001b[1m3s\u001b[0m 1ms/step - accuracy: 0.9484 - loss: 0.1217 - val_accuracy: 0.9514 - val_loss: 0.1168\n",
      "Epoch 56/60\n",
      "\u001b[1m2760/2760\u001b[0m \u001b[32m━━━━━━━━━━━━━━━━━━━━\u001b[0m\u001b[37m\u001b[0m \u001b[1m3s\u001b[0m 1ms/step - accuracy: 0.9471 - loss: 0.1223 - val_accuracy: 0.9482 - val_loss: 0.1231\n",
      "Epoch 57/60\n",
      "\u001b[1m2760/2760\u001b[0m \u001b[32m━━━━━━━━━━━━━━━━━━━━\u001b[0m\u001b[37m\u001b[0m \u001b[1m3s\u001b[0m 1ms/step - accuracy: 0.9473 - loss: 0.1216 - val_accuracy: 0.9502 - val_loss: 0.1173\n",
      "Epoch 58/60\n",
      "\u001b[1m2760/2760\u001b[0m \u001b[32m━━━━━━━━━━━━━━━━━━━━\u001b[0m\u001b[37m\u001b[0m \u001b[1m3s\u001b[0m 1ms/step - accuracy: 0.9472 - loss: 0.1236 - val_accuracy: 0.9487 - val_loss: 0.1178\n",
      "Epoch 59/60\n",
      "\u001b[1m2760/2760\u001b[0m \u001b[32m━━━━━━━━━━━━━━━━━━━━\u001b[0m\u001b[37m\u001b[0m \u001b[1m3s\u001b[0m 1ms/step - accuracy: 0.9487 - loss: 0.1214 - val_accuracy: 0.9492 - val_loss: 0.1182\n",
      "Epoch 60/60\n",
      "\u001b[1m2760/2760\u001b[0m \u001b[32m━━━━━━━━━━━━━━━━━━━━\u001b[0m\u001b[37m\u001b[0m \u001b[1m3s\u001b[0m 1ms/step - accuracy: 0.9476 - loss: 0.1218 - val_accuracy: 0.9497 - val_loss: 0.1183\n",
      "\u001b[1m3680/3680\u001b[0m \u001b[32m━━━━━━━━━━━━━━━━━━━━\u001b[0m\u001b[37m\u001b[0m \u001b[1m2s\u001b[0m 664us/step\n",
      "Acurácia: 0.9524957964639346\n"
     ]
    }
   ],
   "source": [
    "# Definindo um otimizador com learning rate específica\n",
    "optimizer = Adam(learning_rate=0.0005)\n",
    "\n",
    "# Criando o modelo\n",
    "model = Sequential()\n",
    "model.add(Dense(units=64, activation='relu', input_dim=X_train.shape[1]))\n",
    "model.add(Dropout(0.2))\n",
    "model.add(Dense(units=1, activation='sigmoid'))\n",
    "\n",
    "# Compilando o modelo com o otimizador personalizado\n",
    "model.compile(optimizer=optimizer, loss='binary_crossentropy', metrics=['accuracy'])\n",
    "\n",
    "# Treinando o modelo\n",
    "model.fit(X_train, y_train, epochs=60, batch_size=32, validation_data=(X_val, y_val))\n",
    "\n",
    "# Avaliando o modelo\n",
    "y_pred = model.predict(X_test)\n",
    "accuracy = accuracy_score(y_test, (y_pred > 0.5).astype(int))\n",
    "print(f'Acurácia: {accuracy}')"
   ]
  },
  {
   "cell_type": "markdown",
   "metadata": {},
   "source": [
    "Conseguimos aumentar ainda mais a acuracia final, porém desde a época 13 ate à época 60 a diferença foi muito pouca, vou tentar então voltar ao número anterior de learning rate e agora vou tentar adicionar outra camada oculta"
   ]
  },
  {
   "cell_type": "code",
   "execution_count": 39,
   "metadata": {},
   "outputs": [
    {
     "name": "stdout",
     "output_type": "stream",
     "text": [
      "Epoch 1/20\n"
     ]
    },
    {
     "name": "stderr",
     "output_type": "stream",
     "text": [
      "C:\\Users\\luize\\AppData\\Local\\Packages\\PythonSoftwareFoundation.Python.3.10_qbz5n2kfra8p0\\LocalCache\\local-packages\\Python310\\site-packages\\keras\\src\\layers\\core\\dense.py:87: UserWarning: Do not pass an `input_shape`/`input_dim` argument to a layer. When using Sequential models, prefer using an `Input(shape)` object as the first layer in the model instead.\n",
      "  super().__init__(activity_regularizer=activity_regularizer, **kwargs)\n"
     ]
    },
    {
     "name": "stdout",
     "output_type": "stream",
     "text": [
      "\u001b[1m2760/2760\u001b[0m \u001b[32m━━━━━━━━━━━━━━━━━━━━\u001b[0m\u001b[37m\u001b[0m \u001b[1m5s\u001b[0m 1ms/step - accuracy: 0.8541 - loss: 0.3384 - val_accuracy: 0.9292 - val_loss: 0.1730\n",
      "Epoch 2/20\n",
      "\u001b[1m2760/2760\u001b[0m \u001b[32m━━━━━━━━━━━━━━━━━━━━\u001b[0m\u001b[37m\u001b[0m \u001b[1m4s\u001b[0m 1ms/step - accuracy: 0.9291 - loss: 0.1721 - val_accuracy: 0.9332 - val_loss: 0.1565\n",
      "Epoch 3/20\n",
      "\u001b[1m2760/2760\u001b[0m \u001b[32m━━━━━━━━━━━━━━━━━━━━\u001b[0m\u001b[37m\u001b[0m \u001b[1m3s\u001b[0m 1ms/step - accuracy: 0.9357 - loss: 0.1513 - val_accuracy: 0.9401 - val_loss: 0.1435\n",
      "Epoch 4/20\n",
      "\u001b[1m2760/2760\u001b[0m \u001b[32m━━━━━━━━━━━━━━━━━━━━\u001b[0m\u001b[37m\u001b[0m \u001b[1m4s\u001b[0m 1ms/step - accuracy: 0.9389 - loss: 0.1426 - val_accuracy: 0.9424 - val_loss: 0.1384\n",
      "Epoch 5/20\n",
      "\u001b[1m2760/2760\u001b[0m \u001b[32m━━━━━━━━━━━━━━━━━━━━\u001b[0m\u001b[37m\u001b[0m \u001b[1m4s\u001b[0m 1ms/step - accuracy: 0.9416 - loss: 0.1361 - val_accuracy: 0.9358 - val_loss: 0.1358\n",
      "Epoch 6/20\n",
      "\u001b[1m2760/2760\u001b[0m \u001b[32m━━━━━━━━━━━━━━━━━━━━\u001b[0m\u001b[37m\u001b[0m \u001b[1m4s\u001b[0m 1ms/step - accuracy: 0.9429 - loss: 0.1315 - val_accuracy: 0.9461 - val_loss: 0.1244\n",
      "Epoch 7/20\n",
      "\u001b[1m2760/2760\u001b[0m \u001b[32m━━━━━━━━━━━━━━━━━━━━\u001b[0m\u001b[37m\u001b[0m \u001b[1m4s\u001b[0m 1ms/step - accuracy: 0.9463 - loss: 0.1258 - val_accuracy: 0.9466 - val_loss: 0.1239\n",
      "Epoch 8/20\n",
      "\u001b[1m2760/2760\u001b[0m \u001b[32m━━━━━━━━━━━━━━━━━━━━\u001b[0m\u001b[37m\u001b[0m \u001b[1m4s\u001b[0m 2ms/step - accuracy: 0.9452 - loss: 0.1236 - val_accuracy: 0.9427 - val_loss: 0.1256\n",
      "Epoch 9/20\n",
      "\u001b[1m2760/2760\u001b[0m \u001b[32m━━━━━━━━━━━━━━━━━━━━\u001b[0m\u001b[37m\u001b[0m \u001b[1m3s\u001b[0m 1ms/step - accuracy: 0.9474 - loss: 0.1204 - val_accuracy: 0.9361 - val_loss: 0.1339\n",
      "Epoch 10/20\n",
      "\u001b[1m2760/2760\u001b[0m \u001b[32m━━━━━━━━━━━━━━━━━━━━\u001b[0m\u001b[37m\u001b[0m \u001b[1m4s\u001b[0m 1ms/step - accuracy: 0.9480 - loss: 0.1188 - val_accuracy: 0.9487 - val_loss: 0.1166\n",
      "Epoch 11/20\n",
      "\u001b[1m2760/2760\u001b[0m \u001b[32m━━━━━━━━━━━━━━━━━━━━\u001b[0m\u001b[37m\u001b[0m \u001b[1m3s\u001b[0m 1ms/step - accuracy: 0.9485 - loss: 0.1159 - val_accuracy: 0.9451 - val_loss: 0.1246\n",
      "Epoch 12/20\n",
      "\u001b[1m2760/2760\u001b[0m \u001b[32m━━━━━━━━━━━━━━━━━━━━\u001b[0m\u001b[37m\u001b[0m \u001b[1m3s\u001b[0m 1ms/step - accuracy: 0.9493 - loss: 0.1146 - val_accuracy: 0.9458 - val_loss: 0.1233\n",
      "Epoch 13/20\n",
      "\u001b[1m2760/2760\u001b[0m \u001b[32m━━━━━━━━━━━━━━━━━━━━\u001b[0m\u001b[37m\u001b[0m \u001b[1m4s\u001b[0m 1ms/step - accuracy: 0.9512 - loss: 0.1123 - val_accuracy: 0.9443 - val_loss: 0.1179\n",
      "Epoch 14/20\n",
      "\u001b[1m2760/2760\u001b[0m \u001b[32m━━━━━━━━━━━━━━━━━━━━\u001b[0m\u001b[37m\u001b[0m \u001b[1m4s\u001b[0m 2ms/step - accuracy: 0.9518 - loss: 0.1110 - val_accuracy: 0.9504 - val_loss: 0.1115\n",
      "Epoch 15/20\n",
      "\u001b[1m2760/2760\u001b[0m \u001b[32m━━━━━━━━━━━━━━━━━━━━\u001b[0m\u001b[37m\u001b[0m \u001b[1m3s\u001b[0m 1ms/step - accuracy: 0.9513 - loss: 0.1097 - val_accuracy: 0.9503 - val_loss: 0.1143\n",
      "Epoch 16/20\n",
      "\u001b[1m2760/2760\u001b[0m \u001b[32m━━━━━━━━━━━━━━━━━━━━\u001b[0m\u001b[37m\u001b[0m \u001b[1m3s\u001b[0m 1ms/step - accuracy: 0.9529 - loss: 0.1087 - val_accuracy: 0.9490 - val_loss: 0.1144\n",
      "Epoch 17/20\n",
      "\u001b[1m2760/2760\u001b[0m \u001b[32m━━━━━━━━━━━━━━━━━━━━\u001b[0m\u001b[37m\u001b[0m \u001b[1m3s\u001b[0m 1ms/step - accuracy: 0.9522 - loss: 0.1093 - val_accuracy: 0.9414 - val_loss: 0.1252\n",
      "Epoch 18/20\n",
      "\u001b[1m2760/2760\u001b[0m \u001b[32m━━━━━━━━━━━━━━━━━━━━\u001b[0m\u001b[37m\u001b[0m \u001b[1m3s\u001b[0m 1ms/step - accuracy: 0.9525 - loss: 0.1074 - val_accuracy: 0.9507 - val_loss: 0.1094\n",
      "Epoch 19/20\n",
      "\u001b[1m2760/2760\u001b[0m \u001b[32m━━━━━━━━━━━━━━━━━━━━\u001b[0m\u001b[37m\u001b[0m \u001b[1m3s\u001b[0m 1ms/step - accuracy: 0.9524 - loss: 0.1084 - val_accuracy: 0.9488 - val_loss: 0.1171\n",
      "Epoch 20/20\n",
      "\u001b[1m2760/2760\u001b[0m \u001b[32m━━━━━━━━━━━━━━━━━━━━\u001b[0m\u001b[37m\u001b[0m \u001b[1m3s\u001b[0m 1ms/step - accuracy: 0.9537 - loss: 0.1058 - val_accuracy: 0.9512 - val_loss: 0.1096\n",
      "\u001b[1m3680/3680\u001b[0m \u001b[32m━━━━━━━━━━━━━━━━━━━━\u001b[0m\u001b[37m\u001b[0m \u001b[1m3s\u001b[0m 774us/step\n",
      "Acurácia: 0.955332121809134\n"
     ]
    }
   ],
   "source": [
    "# Definindo um otimizador com learning rate específica\n",
    "optimizer = Adam(learning_rate=0.001)\n",
    "\n",
    "# Criando o modelo\n",
    "model = Sequential()\n",
    "model.add(Dense(units=64, activation='relu', input_dim=X_train.shape[1]))\n",
    "model.add(Dense(units=32, activation='relu', input_dim=X_train.shape[1]))\n",
    "model.add(Dense(units=1, activation='sigmoid'))\n",
    "\n",
    "# Compilando o modelo com o otimizador personalizado\n",
    "model.compile(optimizer=optimizer, loss='binary_crossentropy', metrics=['accuracy'])\n",
    "\n",
    "# Treinando o modelo\n",
    "model.fit(X_train, y_train, epochs=20, batch_size=32, validation_data=(X_val, y_val))\n",
    "\n",
    "# Avaliando o modelo\n",
    "y_pred = model.predict(X_test)\n",
    "accuracy = accuracy_score(y_test, (y_pred > 0.5).astype(int))\n",
    "print(f'Acurácia: {accuracy}')"
   ]
  },
  {
   "cell_type": "markdown",
   "metadata": {},
   "source": [
    "Conseguimos o melhor resultado até agora, vamos tentar adicionar mais uma camada oculta para ver se mantemos a melhoria"
   ]
  },
  {
   "cell_type": "code",
   "execution_count": 40,
   "metadata": {},
   "outputs": [
    {
     "name": "stdout",
     "output_type": "stream",
     "text": [
      "Epoch 1/20\n"
     ]
    },
    {
     "name": "stderr",
     "output_type": "stream",
     "text": [
      "C:\\Users\\luize\\AppData\\Local\\Packages\\PythonSoftwareFoundation.Python.3.10_qbz5n2kfra8p0\\LocalCache\\local-packages\\Python310\\site-packages\\keras\\src\\layers\\core\\dense.py:87: UserWarning: Do not pass an `input_shape`/`input_dim` argument to a layer. When using Sequential models, prefer using an `Input(shape)` object as the first layer in the model instead.\n",
      "  super().__init__(activity_regularizer=activity_regularizer, **kwargs)\n"
     ]
    },
    {
     "name": "stdout",
     "output_type": "stream",
     "text": [
      "\u001b[1m2760/2760\u001b[0m \u001b[32m━━━━━━━━━━━━━━━━━━━━\u001b[0m\u001b[37m\u001b[0m \u001b[1m5s\u001b[0m 1ms/step - accuracy: 0.8732 - loss: 0.2986 - val_accuracy: 0.9011 - val_loss: 0.2245\n",
      "Epoch 2/20\n",
      "\u001b[1m2760/2760\u001b[0m \u001b[32m━━━━━━━━━━━━━━━━━━━━\u001b[0m\u001b[37m\u001b[0m \u001b[1m4s\u001b[0m 1ms/step - accuracy: 0.9334 - loss: 0.1570 - val_accuracy: 0.9423 - val_loss: 0.1325\n",
      "Epoch 3/20\n",
      "\u001b[1m2760/2760\u001b[0m \u001b[32m━━━━━━━━━━━━━━━━━━━━\u001b[0m\u001b[37m\u001b[0m \u001b[1m4s\u001b[0m 1ms/step - accuracy: 0.9411 - loss: 0.1359 - val_accuracy: 0.9453 - val_loss: 0.1279\n",
      "Epoch 4/20\n",
      "\u001b[1m2760/2760\u001b[0m \u001b[32m━━━━━━━━━━━━━━━━━━━━\u001b[0m\u001b[37m\u001b[0m \u001b[1m4s\u001b[0m 1ms/step - accuracy: 0.9457 - loss: 0.1256 - val_accuracy: 0.9463 - val_loss: 0.1247\n",
      "Epoch 5/20\n",
      "\u001b[1m2760/2760\u001b[0m \u001b[32m━━━━━━━━━━━━━━━━━━━━\u001b[0m\u001b[37m\u001b[0m \u001b[1m4s\u001b[0m 1ms/step - accuracy: 0.9480 - loss: 0.1200 - val_accuracy: 0.9424 - val_loss: 0.1304\n",
      "Epoch 6/20\n",
      "\u001b[1m2760/2760\u001b[0m \u001b[32m━━━━━━━━━━━━━━━━━━━━\u001b[0m\u001b[37m\u001b[0m \u001b[1m5s\u001b[0m 2ms/step - accuracy: 0.9503 - loss: 0.1141 - val_accuracy: 0.9506 - val_loss: 0.1095\n",
      "Epoch 7/20\n",
      "\u001b[1m2760/2760\u001b[0m \u001b[32m━━━━━━━━━━━━━━━━━━━━\u001b[0m\u001b[37m\u001b[0m \u001b[1m4s\u001b[0m 1ms/step - accuracy: 0.9525 - loss: 0.1078 - val_accuracy: 0.9482 - val_loss: 0.1186\n",
      "Epoch 8/20\n",
      "\u001b[1m2760/2760\u001b[0m \u001b[32m━━━━━━━━━━━━━━━━━━━━\u001b[0m\u001b[37m\u001b[0m \u001b[1m4s\u001b[0m 1ms/step - accuracy: 0.9540 - loss: 0.1049 - val_accuracy: 0.9490 - val_loss: 0.1094\n",
      "Epoch 9/20\n",
      "\u001b[1m2760/2760\u001b[0m \u001b[32m━━━━━━━━━━━━━━━━━━━━\u001b[0m\u001b[37m\u001b[0m \u001b[1m4s\u001b[0m 1ms/step - accuracy: 0.9548 - loss: 0.1032 - val_accuracy: 0.9531 - val_loss: 0.1038\n",
      "Epoch 10/20\n",
      "\u001b[1m2760/2760\u001b[0m \u001b[32m━━━━━━━━━━━━━━━━━━━━\u001b[0m\u001b[37m\u001b[0m \u001b[1m4s\u001b[0m 1ms/step - accuracy: 0.9553 - loss: 0.1020 - val_accuracy: 0.9521 - val_loss: 0.1109\n",
      "Epoch 11/20\n",
      "\u001b[1m2760/2760\u001b[0m \u001b[32m━━━━━━━━━━━━━━━━━━━━\u001b[0m\u001b[37m\u001b[0m \u001b[1m3s\u001b[0m 1ms/step - accuracy: 0.9554 - loss: 0.1003 - val_accuracy: 0.9536 - val_loss: 0.1039\n",
      "Epoch 12/20\n",
      "\u001b[1m2760/2760\u001b[0m \u001b[32m━━━━━━━━━━━━━━━━━━━━\u001b[0m\u001b[37m\u001b[0m \u001b[1m4s\u001b[0m 1ms/step - accuracy: 0.9561 - loss: 0.0989 - val_accuracy: 0.9535 - val_loss: 0.1099\n",
      "Epoch 13/20\n",
      "\u001b[1m2760/2760\u001b[0m \u001b[32m━━━━━━━━━━━━━━━━━━━━\u001b[0m\u001b[37m\u001b[0m \u001b[1m4s\u001b[0m 1ms/step - accuracy: 0.9568 - loss: 0.0967 - val_accuracy: 0.9556 - val_loss: 0.1043\n",
      "Epoch 14/20\n",
      "\u001b[1m2760/2760\u001b[0m \u001b[32m━━━━━━━━━━━━━━━━━━━━\u001b[0m\u001b[37m\u001b[0m \u001b[1m4s\u001b[0m 1ms/step - accuracy: 0.9570 - loss: 0.0960 - val_accuracy: 0.9519 - val_loss: 0.1083\n",
      "Epoch 15/20\n",
      "\u001b[1m2760/2760\u001b[0m \u001b[32m━━━━━━━━━━━━━━━━━━━━\u001b[0m\u001b[37m\u001b[0m \u001b[1m4s\u001b[0m 1ms/step - accuracy: 0.9589 - loss: 0.0932 - val_accuracy: 0.9524 - val_loss: 0.1063\n",
      "Epoch 16/20\n",
      "\u001b[1m2760/2760\u001b[0m \u001b[32m━━━━━━━━━━━━━━━━━━━━\u001b[0m\u001b[37m\u001b[0m \u001b[1m4s\u001b[0m 1ms/step - accuracy: 0.9590 - loss: 0.0924 - val_accuracy: 0.9560 - val_loss: 0.1009\n",
      "Epoch 17/20\n",
      "\u001b[1m2760/2760\u001b[0m \u001b[32m━━━━━━━━━━━━━━━━━━━━\u001b[0m\u001b[37m\u001b[0m \u001b[1m4s\u001b[0m 1ms/step - accuracy: 0.9585 - loss: 0.0928 - val_accuracy: 0.9536 - val_loss: 0.1032\n",
      "Epoch 18/20\n",
      "\u001b[1m2760/2760\u001b[0m \u001b[32m━━━━━━━━━━━━━━━━━━━━\u001b[0m\u001b[37m\u001b[0m \u001b[1m4s\u001b[0m 1ms/step - accuracy: 0.9594 - loss: 0.0902 - val_accuracy: 0.9534 - val_loss: 0.1020\n",
      "Epoch 19/20\n",
      "\u001b[1m2760/2760\u001b[0m \u001b[32m━━━━━━━━━━━━━━━━━━━━\u001b[0m\u001b[37m\u001b[0m \u001b[1m3s\u001b[0m 1ms/step - accuracy: 0.9591 - loss: 0.0901 - val_accuracy: 0.9554 - val_loss: 0.1073\n",
      "Epoch 20/20\n",
      "\u001b[1m2760/2760\u001b[0m \u001b[32m━━━━━━━━━━━━━━━━━━━━\u001b[0m\u001b[37m\u001b[0m \u001b[1m4s\u001b[0m 2ms/step - accuracy: 0.9604 - loss: 0.0882 - val_accuracy: 0.9525 - val_loss: 0.1031\n",
      "\u001b[1m3680/3680\u001b[0m \u001b[32m━━━━━━━━━━━━━━━━━━━━\u001b[0m\u001b[37m\u001b[0m \u001b[1m3s\u001b[0m 916us/step\n",
      "Acurácia: 0.9590940742879465\n"
     ]
    }
   ],
   "source": [
    "optimizer = Adam(learning_rate=0.001)\n",
    "\n",
    "# Criando o modelo\n",
    "model = Sequential()\n",
    "model.add(Dense(units=128, activation='relu', input_dim=X_train.shape[1]))\n",
    "model.add(Dense(units=64, activation='relu'))\n",
    "model.add(Dense(units=32, activation='relu'))\n",
    "model.add(Dense(units=1, activation='sigmoid'))\n",
    "\n",
    "# Compilando o modelo com o otimizador personalizado\n",
    "model.compile(optimizer=optimizer, loss='binary_crossentropy', metrics=['accuracy'])\n",
    "\n",
    "# Treinando o modelo\n",
    "model.fit(X_train, y_train, epochs=20, batch_size=32, validation_data=(X_val, y_val))\n",
    "\n",
    "# Avaliando o modelo\n",
    "y_pred = model.predict(X_test)\n",
    "accuracy = accuracy_score(y_test, (y_pred > 0.5).astype(int))\n",
    "print(f'Acurácia: {accuracy}')"
   ]
  },
  {
   "cell_type": "markdown",
   "metadata": {},
   "source": [
    "Conseguimos melhorar mais uma vez, vou testar esse mesmo modelo mas com 30 épocas"
   ]
  },
  {
   "cell_type": "code",
   "execution_count": 41,
   "metadata": {},
   "outputs": [
    {
     "name": "stdout",
     "output_type": "stream",
     "text": [
      "Epoch 1/30\n"
     ]
    },
    {
     "name": "stderr",
     "output_type": "stream",
     "text": [
      "C:\\Users\\luize\\AppData\\Local\\Packages\\PythonSoftwareFoundation.Python.3.10_qbz5n2kfra8p0\\LocalCache\\local-packages\\Python310\\site-packages\\keras\\src\\layers\\core\\dense.py:87: UserWarning: Do not pass an `input_shape`/`input_dim` argument to a layer. When using Sequential models, prefer using an `Input(shape)` object as the first layer in the model instead.\n",
      "  super().__init__(activity_regularizer=activity_regularizer, **kwargs)\n"
     ]
    },
    {
     "name": "stdout",
     "output_type": "stream",
     "text": [
      "\u001b[1m2760/2760\u001b[0m \u001b[32m━━━━━━━━━━━━━━━━━━━━\u001b[0m\u001b[37m\u001b[0m \u001b[1m5s\u001b[0m 2ms/step - accuracy: 0.8671 - loss: 0.3128 - val_accuracy: 0.9310 - val_loss: 0.1656\n",
      "Epoch 2/30\n",
      "\u001b[1m2760/2760\u001b[0m \u001b[32m━━━━━━━━━━━━━━━━━━━━\u001b[0m\u001b[37m\u001b[0m \u001b[1m4s\u001b[0m 1ms/step - accuracy: 0.9328 - loss: 0.1588 - val_accuracy: 0.9345 - val_loss: 0.1497\n",
      "Epoch 3/30\n",
      "\u001b[1m2760/2760\u001b[0m \u001b[32m━━━━━━━━━━━━━━━━━━━━\u001b[0m\u001b[37m\u001b[0m \u001b[1m4s\u001b[0m 1ms/step - accuracy: 0.9393 - loss: 0.1411 - val_accuracy: 0.9417 - val_loss: 0.1292\n",
      "Epoch 4/30\n",
      "\u001b[1m2760/2760\u001b[0m \u001b[32m━━━━━━━━━━━━━━━━━━━━\u001b[0m\u001b[37m\u001b[0m \u001b[1m4s\u001b[0m 1ms/step - accuracy: 0.9428 - loss: 0.1316 - val_accuracy: 0.9480 - val_loss: 0.1262\n",
      "Epoch 5/30\n",
      "\u001b[1m2760/2760\u001b[0m \u001b[32m━━━━━━━━━━━━━━━━━━━━\u001b[0m\u001b[37m\u001b[0m \u001b[1m4s\u001b[0m 1ms/step - accuracy: 0.9466 - loss: 0.1243 - val_accuracy: 0.9481 - val_loss: 0.1151\n",
      "Epoch 6/30\n",
      "\u001b[1m2760/2760\u001b[0m \u001b[32m━━━━━━━━━━━━━━━━━━━━\u001b[0m\u001b[37m\u001b[0m \u001b[1m4s\u001b[0m 1ms/step - accuracy: 0.9481 - loss: 0.1197 - val_accuracy: 0.9487 - val_loss: 0.1163\n",
      "Epoch 7/30\n",
      "\u001b[1m2760/2760\u001b[0m \u001b[32m━━━━━━━━━━━━━━━━━━━━\u001b[0m\u001b[37m\u001b[0m \u001b[1m4s\u001b[0m 2ms/step - accuracy: 0.9519 - loss: 0.1128 - val_accuracy: 0.9494 - val_loss: 0.1144\n",
      "Epoch 8/30\n",
      "\u001b[1m2760/2760\u001b[0m \u001b[32m━━━━━━━━━━━━━━━━━━━━\u001b[0m\u001b[37m\u001b[0m \u001b[1m4s\u001b[0m 1ms/step - accuracy: 0.9500 - loss: 0.1111 - val_accuracy: 0.9515 - val_loss: 0.1102\n",
      "Epoch 9/30\n",
      "\u001b[1m2760/2760\u001b[0m \u001b[32m━━━━━━━━━━━━━━━━━━━━\u001b[0m\u001b[37m\u001b[0m \u001b[1m4s\u001b[0m 1ms/step - accuracy: 0.9542 - loss: 0.1070 - val_accuracy: 0.9455 - val_loss: 0.1145\n",
      "Epoch 10/30\n",
      "\u001b[1m2760/2760\u001b[0m \u001b[32m━━━━━━━━━━━━━━━━━━━━\u001b[0m\u001b[37m\u001b[0m \u001b[1m4s\u001b[0m 1ms/step - accuracy: 0.9518 - loss: 0.1081 - val_accuracy: 0.9513 - val_loss: 0.1063\n",
      "Epoch 11/30\n",
      "\u001b[1m2760/2760\u001b[0m \u001b[32m━━━━━━━━━━━━━━━━━━━━\u001b[0m\u001b[37m\u001b[0m \u001b[1m3s\u001b[0m 1ms/step - accuracy: 0.9542 - loss: 0.1017 - val_accuracy: 0.9524 - val_loss: 0.1069\n",
      "Epoch 12/30\n",
      "\u001b[1m2760/2760\u001b[0m \u001b[32m━━━━━━━━━━━━━━━━━━━━\u001b[0m\u001b[37m\u001b[0m \u001b[1m4s\u001b[0m 1ms/step - accuracy: 0.9544 - loss: 0.1024 - val_accuracy: 0.9527 - val_loss: 0.1061\n",
      "Epoch 13/30\n",
      "\u001b[1m2760/2760\u001b[0m \u001b[32m━━━━━━━━━━━━━━━━━━━━\u001b[0m\u001b[37m\u001b[0m \u001b[1m3s\u001b[0m 1ms/step - accuracy: 0.9547 - loss: 0.1017 - val_accuracy: 0.9528 - val_loss: 0.1046\n",
      "Epoch 14/30\n",
      "\u001b[1m2760/2760\u001b[0m \u001b[32m━━━━━━━━━━━━━━━━━━━━\u001b[0m\u001b[37m\u001b[0m \u001b[1m3s\u001b[0m 1ms/step - accuracy: 0.9562 - loss: 0.0991 - val_accuracy: 0.9523 - val_loss: 0.1068\n",
      "Epoch 15/30\n",
      "\u001b[1m2760/2760\u001b[0m \u001b[32m━━━━━━━━━━━━━━━━━━━━\u001b[0m\u001b[37m\u001b[0m \u001b[1m4s\u001b[0m 1ms/step - accuracy: 0.9561 - loss: 0.0986 - val_accuracy: 0.9523 - val_loss: 0.1075\n",
      "Epoch 16/30\n",
      "\u001b[1m2760/2760\u001b[0m \u001b[32m━━━━━━━━━━━━━━━━━━━━\u001b[0m\u001b[37m\u001b[0m \u001b[1m4s\u001b[0m 1ms/step - accuracy: 0.9569 - loss: 0.0967 - val_accuracy: 0.9536 - val_loss: 0.1037\n",
      "Epoch 17/30\n",
      "\u001b[1m2760/2760\u001b[0m \u001b[32m━━━━━━━━━━━━━━━━━━━━\u001b[0m\u001b[37m\u001b[0m \u001b[1m3s\u001b[0m 1ms/step - accuracy: 0.9569 - loss: 0.0950 - val_accuracy: 0.9497 - val_loss: 0.1066\n",
      "Epoch 18/30\n",
      "\u001b[1m2760/2760\u001b[0m \u001b[32m━━━━━━━━━━━━━━━━━━━━\u001b[0m\u001b[37m\u001b[0m \u001b[1m3s\u001b[0m 1ms/step - accuracy: 0.9592 - loss: 0.0912 - val_accuracy: 0.9542 - val_loss: 0.1023\n",
      "Epoch 19/30\n",
      "\u001b[1m2760/2760\u001b[0m \u001b[32m━━━━━━━━━━━━━━━━━━━━\u001b[0m\u001b[37m\u001b[0m \u001b[1m3s\u001b[0m 1ms/step - accuracy: 0.9607 - loss: 0.0890 - val_accuracy: 0.9545 - val_loss: 0.1059\n",
      "Epoch 20/30\n",
      "\u001b[1m2760/2760\u001b[0m \u001b[32m━━━━━━━━━━━━━━━━━━━━\u001b[0m\u001b[37m\u001b[0m \u001b[1m3s\u001b[0m 1ms/step - accuracy: 0.9592 - loss: 0.0909 - val_accuracy: 0.9534 - val_loss: 0.1080\n",
      "Epoch 21/30\n",
      "\u001b[1m2760/2760\u001b[0m \u001b[32m━━━━━━━━━━━━━━━━━━━━\u001b[0m\u001b[37m\u001b[0m \u001b[1m3s\u001b[0m 1ms/step - accuracy: 0.9589 - loss: 0.0924 - val_accuracy: 0.9551 - val_loss: 0.1036\n",
      "Epoch 22/30\n",
      "\u001b[1m2760/2760\u001b[0m \u001b[32m━━━━━━━━━━━━━━━━━━━━\u001b[0m\u001b[37m\u001b[0m \u001b[1m3s\u001b[0m 1ms/step - accuracy: 0.9601 - loss: 0.0896 - val_accuracy: 0.9531 - val_loss: 0.1039\n",
      "Epoch 23/30\n",
      "\u001b[1m2760/2760\u001b[0m \u001b[32m━━━━━━━━━━━━━━━━━━━━\u001b[0m\u001b[37m\u001b[0m \u001b[1m4s\u001b[0m 1ms/step - accuracy: 0.9605 - loss: 0.0891 - val_accuracy: 0.9502 - val_loss: 0.1172\n",
      "Epoch 24/30\n",
      "\u001b[1m2760/2760\u001b[0m \u001b[32m━━━━━━━━━━━━━━━━━━━━\u001b[0m\u001b[37m\u001b[0m \u001b[1m3s\u001b[0m 1ms/step - accuracy: 0.9604 - loss: 0.0890 - val_accuracy: 0.9562 - val_loss: 0.1016\n",
      "Epoch 25/30\n",
      "\u001b[1m2760/2760\u001b[0m \u001b[32m━━━━━━━━━━━━━━━━━━━━\u001b[0m\u001b[37m\u001b[0m \u001b[1m4s\u001b[0m 1ms/step - accuracy: 0.9612 - loss: 0.0869 - val_accuracy: 0.9562 - val_loss: 0.1035\n",
      "Epoch 26/30\n",
      "\u001b[1m2760/2760\u001b[0m \u001b[32m━━━━━━━━━━━━━━━━━━━━\u001b[0m\u001b[37m\u001b[0m \u001b[1m4s\u001b[0m 1ms/step - accuracy: 0.9617 - loss: 0.0853 - val_accuracy: 0.9554 - val_loss: 0.1006\n",
      "Epoch 27/30\n",
      "\u001b[1m2760/2760\u001b[0m \u001b[32m━━━━━━━━━━━━━━━━━━━━\u001b[0m\u001b[37m\u001b[0m \u001b[1m4s\u001b[0m 1ms/step - accuracy: 0.9615 - loss: 0.0857 - val_accuracy: 0.9531 - val_loss: 0.1122\n",
      "Epoch 28/30\n",
      "\u001b[1m2760/2760\u001b[0m \u001b[32m━━━━━━━━━━━━━━━━━━━━\u001b[0m\u001b[37m\u001b[0m \u001b[1m4s\u001b[0m 1ms/step - accuracy: 0.9610 - loss: 0.0877 - val_accuracy: 0.9532 - val_loss: 0.1090\n",
      "Epoch 29/30\n",
      "\u001b[1m2760/2760\u001b[0m \u001b[32m━━━━━━━━━━━━━━━━━━━━\u001b[0m\u001b[37m\u001b[0m \u001b[1m3s\u001b[0m 1ms/step - accuracy: 0.9623 - loss: 0.0832 - val_accuracy: 0.9543 - val_loss: 0.1043\n",
      "Epoch 30/30\n",
      "\u001b[1m2760/2760\u001b[0m \u001b[32m━━━━━━━━━━━━━━━━━━━━\u001b[0m\u001b[37m\u001b[0m \u001b[1m3s\u001b[0m 1ms/step - accuracy: 0.9629 - loss: 0.0830 - val_accuracy: 0.9538 - val_loss: 0.1056\n",
      "\u001b[1m3680/3680\u001b[0m \u001b[32m━━━━━━━━━━━━━━━━━━━━\u001b[0m\u001b[37m\u001b[0m \u001b[1m3s\u001b[0m 750us/step\n",
      "Acurácia: 0.9618200037364765\n"
     ]
    }
   ],
   "source": [
    "optimizer = Adam(learning_rate=0.001)\n",
    "\n",
    "# Criando o modelo\n",
    "model = Sequential()\n",
    "model.add(Dense(units=128, activation='relu', input_dim=X_train.shape[1]))\n",
    "model.add(Dense(units=64, activation='relu'))\n",
    "model.add(Dense(units=32, activation='relu'))\n",
    "model.add(Dense(units=1, activation='sigmoid'))\n",
    "\n",
    "# Compilando o modelo com o otimizador personalizado\n",
    "model.compile(optimizer=optimizer, loss='binary_crossentropy', metrics=['accuracy'])\n",
    "\n",
    "# Treinando o modelo\n",
    "model.fit(X_train, y_train, epochs=30, batch_size=32, validation_data=(X_val, y_val))\n",
    "\n",
    "# Avaliando o modelo\n",
    "y_pred = model.predict(X_test)\n",
    "accuracy = accuracy_score(y_test, (y_pred > 0.5).astype(int))\n",
    "print(f'Acurácia: {accuracy}')"
   ]
  },
  {
   "cell_type": "markdown",
   "metadata": {},
   "source": [
    "Conseguimos chegar num resultado ótimo, vamos plotar gráficos para entender melhor os nossos resultados"
   ]
  },
  {
   "cell_type": "code",
   "execution_count": 43,
   "metadata": {},
   "outputs": [
    {
     "name": "stdout",
     "output_type": "stream",
     "text": [
      "\u001b[1m3680/3680\u001b[0m \u001b[32m━━━━━━━━━━━━━━━━━━━━\u001b[0m\u001b[37m\u001b[0m \u001b[1m3s\u001b[0m 777us/step\n"
     ]
    },
    {
     "data": {
      "image/png": "[encoded data removed]",
      "text/plain": [
       "<Figure size 576x432 with 1 Axes>"
      ]
     },
     "metadata": {
      "needs_background": "light"
     },
     "output_type": "display_data"
    }
   ],
   "source": [
    "import seaborn as sns\n",
    "import matplotlib.pyplot as plt\n",
    "from sklearn.metrics import confusion_matrix\n",
    "\n",
    "y_pred = model.predict(X_test)\n",
    "y_pred_binary = (y_pred > 0.5).astype(int)\n",
    "cm = confusion_matrix(y_test, y_pred_binary)\n",
    "\n",
    "# Plotando a matriz de confusão\n",
    "plt.figure(figsize=(8, 6))\n",
    "sns.heatmap(cm, annot=True, fmt='d', cmap='Blues', cbar=False,\n",
    "            annot_kws={'fontsize': 14}, linewidths=0.5)\n",
    "plt.xlabel('Predicted labels')\n",
    "plt.ylabel('True labels')\n",
    "plt.title('Confusion Matrix')\n",
    "plt.show()"
   ]
  },
  {
   "cell_type": "code",
   "execution_count": 45,
   "metadata": {},
   "outputs": [
    {
     "name": "stdout",
     "output_type": "stream",
     "text": [
      "\u001b[1m3680/3680\u001b[0m \u001b[32m━━━━━━━━━━━━━━━━━━━━\u001b[0m\u001b[37m\u001b[0m \u001b[1m3s\u001b[0m 729us/step\n"
     ]
    },
    {
     "data": {
      "image/png": "[encoded data removed]",
      "text/plain": [
       "<Figure size 576x432 with 1 Axes>"
      ]
     },
     "metadata": {
      "needs_background": "light"
     },
     "output_type": "display_data"
    }
   ],
   "source": [
    "from sklearn.metrics import roc_curve, auc\n",
    "\n",
    "y_pred_prob = model.predict(X_test)\n",
    "\n",
    "fpr, tpr, thresholds = roc_curve(y_test, y_pred_prob)\n",
    "roc_auc = auc(fpr, tpr)\n",
    "\n",
    "\n",
    "plt.figure(figsize=(8, 6))\n",
    "plt.plot(fpr, tpr, color='darkorange', lw=2, label=f'ROC curve (AUC = {roc_auc:.2f})')\n",
    "plt.plot([0, 1], [0, 1], color='navy', lw=2, linestyle='--')\n",
    "plt.xlim([0.0, 1.0])\n",
    "plt.ylim([0.0, 1.05])\n",
    "plt.xlabel('False Positive Rate')\n",
    "plt.ylabel('True Positive Rate')\n",
    "plt.title('Receiver Operating Characteristic (ROC) Curve')\n",
    "plt.legend(loc='lower right')\n",
    "plt.show()"
   ]
  },
  {
   "cell_type": "code",
   "execution_count": 47,
   "metadata": {},
   "outputs": [
    {
     "data": {
      "image/png": "[encoded data removed]",
      "text/plain": [
       "<Figure size 432x288 with 1 Axes>"
      ]
     },
     "metadata": {
      "needs_background": "light"
     },
     "output_type": "display_data"
    },
    {
     "name": "stdout",
     "output_type": "stream",
     "text": [
      "KS Statistic: 0.92\n"
     ]
    }
   ],
   "source": [
    "from scipy.stats import ks_2samp\n",
    "\n",
    "# Calculando a curva ROC\n",
    "fpr, tpr, thresholds = roc_curve(y_test, y_pred_prob)\n",
    "\n",
    "# Calculando a estatística KS\n",
    "ks_statistic = np.max(tpr - fpr)\n",
    "ks_idx = np.argmax(tpr - fpr)\n",
    "\n",
    "plt.figure()\n",
    "plt.plot(fpr, tpr, label='True Positive Rate (TPR)')\n",
    "plt.plot(fpr, fpr, label='False Positive Rate (FPR)')\n",
    "plt.plot([fpr[ks_idx]], [tpr[ks_idx]], marker='o', markersize=5, color=\"red\")\n",
    "plt.text(fpr[ks_idx], tpr[ks_idx], f'KS={ks_statistic:.2f}', fontsize=12, verticalalignment='top')\n",
    "plt.xlabel('False Positive Rate')\n",
    "plt.ylabel('Rate')\n",
    "plt.title('Kolmogorov-Smirnov (KS) Curve')\n",
    "plt.legend(loc='best')\n",
    "plt.show()\n",
    "\n",
    "print(f\"KS Statistic: {ks_statistic:.2f}\")"
   ]
  }
 ],
 "metadata": {
  "kernelspec": {
   "display_name": "Python 3",
   "language": "python",
   "name": "python3"
  },
  "language_info": {
   "codemirror_mode": {
    "name": "ipython",
    "version": 3
   },
   "file_extension": ".py",
   "mimetype": "text/x-python",
   "name": "python",
   "nbconvert_exporter": "python",
   "pygments_lexer": "ipython3",
   "version": "3.10.11"
  }
 },
 "nbformat": 4,
 "nbformat_minor": 2
}
