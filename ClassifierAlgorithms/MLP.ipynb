{
 "cells": [
  {
   "cell_type": "code",
   "execution_count": 1,
   "metadata": {},
   "outputs": [
    {
     "name": "stdout",
     "output_type": "stream",
     "text": [
      "Epoch 1/10\n"
     ]
    },
    {
     "name": "stderr",
     "output_type": "stream",
     "text": [
      "C:\\Users\\luize\\AppData\\Local\\Packages\\PythonSoftwareFoundation.Python.3.10_qbz5n2kfra8p0\\LocalCache\\local-packages\\Python310\\site-packages\\keras\\src\\layers\\core\\dense.py:87: UserWarning: Do not pass an `input_shape`/`input_dim` argument to a layer. When using Sequential models, prefer using an `Input(shape)` object as the first layer in the model instead.\n",
      "  super().__init__(activity_regularizer=activity_regularizer, **kwargs)\n"
     ]
    },
    {
     "name": "stdout",
     "output_type": "stream",
     "text": [
      "\u001b[1m2760/2760\u001b[0m \u001b[32m━━━━━━━━━━━━━━━━━━━━\u001b[0m\u001b[37m\u001b[0m \u001b[1m4s\u001b[0m 1ms/step - accuracy: 0.8384 - loss: 0.3954 - val_accuracy: 0.9066 - val_loss: 0.2319\n",
      "Epoch 2/10\n",
      "\u001b[1m2760/2760\u001b[0m \u001b[32m━━━━━━━━━━━━━━━━━━━━\u001b[0m\u001b[37m\u001b[0m \u001b[1m3s\u001b[0m 967us/step - accuracy: 0.9128 - loss: 0.2172 - val_accuracy: 0.9246 - val_loss: 0.1876\n",
      "Epoch 3/10\n",
      "\u001b[1m2760/2760\u001b[0m \u001b[32m━━━━━━━━━━━━━━━━━━━━\u001b[0m\u001b[37m\u001b[0m \u001b[1m3s\u001b[0m 968us/step - accuracy: 0.9256 - loss: 0.1847 - val_accuracy: 0.9245 - val_loss: 0.1765\n",
      "Epoch 4/10\n",
      "\u001b[1m2760/2760\u001b[0m \u001b[32m━━━━━━━━━━━━━━━━━━━━\u001b[0m\u001b[37m\u001b[0m \u001b[1m3s\u001b[0m 1ms/step - accuracy: 0.9332 - loss: 0.1628 - val_accuracy: 0.9363 - val_loss: 0.1543\n",
      "Epoch 5/10\n",
      "\u001b[1m2760/2760\u001b[0m \u001b[32m━━━━━━━━━━━━━━━━━━━━\u001b[0m\u001b[37m\u001b[0m \u001b[1m3s\u001b[0m 1ms/step - accuracy: 0.9369 - loss: 0.1527 - val_accuracy: 0.9393 - val_loss: 0.1458\n",
      "Epoch 6/10\n",
      "\u001b[1m2760/2760\u001b[0m \u001b[32m━━━━━━━━━━━━━━━━━━━━\u001b[0m\u001b[37m\u001b[0m \u001b[1m3s\u001b[0m 1ms/step - accuracy: 0.9394 - loss: 0.1463 - val_accuracy: 0.9395 - val_loss: 0.1410\n",
      "Epoch 7/10\n",
      "\u001b[1m2760/2760\u001b[0m \u001b[32m━━━━━━━━━━━━━━━━━━━━\u001b[0m\u001b[37m\u001b[0m \u001b[1m3s\u001b[0m 1ms/step - accuracy: 0.9408 - loss: 0.1418 - val_accuracy: 0.9435 - val_loss: 0.1358\n",
      "Epoch 8/10\n",
      "\u001b[1m2760/2760\u001b[0m \u001b[32m━━━━━━━━━━━━━━━━━━━━\u001b[0m\u001b[37m\u001b[0m \u001b[1m3s\u001b[0m 997us/step - accuracy: 0.9426 - loss: 0.1381 - val_accuracy: 0.9418 - val_loss: 0.1383\n",
      "Epoch 9/10\n",
      "\u001b[1m2760/2760\u001b[0m \u001b[32m━━━━━━━━━━━━━━━━━━━━\u001b[0m\u001b[37m\u001b[0m \u001b[1m3s\u001b[0m 988us/step - accuracy: 0.9442 - loss: 0.1324 - val_accuracy: 0.9422 - val_loss: 0.1339\n",
      "Epoch 10/10\n",
      "\u001b[1m2760/2760\u001b[0m \u001b[32m━━━━━━━━━━━━━━━━━━━━\u001b[0m\u001b[37m\u001b[0m \u001b[1m3s\u001b[0m 943us/step - accuracy: 0.9457 - loss: 0.1307 - val_accuracy: 0.9396 - val_loss: 0.1349\n",
      "\u001b[1m812/812\u001b[0m \u001b[32m━━━━━━━━━━━━━━━━━━━━\u001b[0m\u001b[37m\u001b[0m \u001b[1m1s\u001b[0m 733us/step\n",
      "Acurácia: 0.936210348013551\n"
     ]
    }
   ],
   "source": [
    "import pandas as pd\n",
    "import numpy as np\n",
    "from sklearn.model_selection import train_test_split\n",
    "from keras.models import Sequential\n",
    "from keras.layers import Dense\n",
    "from sklearn.metrics import accuracy_score\n",
    "\n",
    "df_train = pd.read_csv('train_normalized.csv')\n",
    "df_test = pd.read_csv('test_normalized.csv')\n",
    "\n",
    "# Substitua esta parte pelo seu próprio código de preparação dos dados\n",
    "X_train = df_train.drop(columns=['satisfaction']).values\n",
    "y_train = df_train['satisfaction'].values\n",
    "X_test = df_test.drop(columns=['satisfaction']).values\n",
    "y_test = df_test['satisfaction'].values\n",
    "\n",
    "# Dividir o conjunto de treino em treino e validação\n",
    "X_train, X_val, y_train, y_val = train_test_split(X_train, y_train, test_size=0.25, random_state=42)\n",
    "\n",
    "# Definindo a arquitetura da MLP\n",
    "model = Sequential()\n",
    "model.add(Dense(units=64, activation='relu', input_dim=X_train.shape[1]))\n",
    "model.add(Dense(units=1, activation='sigmoid'))  # Camada de saída para classificação binária\n",
    "\n",
    "# Compilar o modelo\n",
    "model.compile(optimizer='adam', loss='binary_crossentropy', metrics=['accuracy'])\n",
    "\n",
    "# Treinar o modelo\n",
    "model.fit(X_train, y_train, epochs=10, batch_size=32, validation_data=(X_val, y_val))\n",
    "\n",
    "# Avaliar o modelo\n",
    "y_pred = model.predict(X_test)\n",
    "accuracy = accuracy_score(y_test, (y_pred > 0.5).astype(int))\n",
    "print(f'Acurácia: {accuracy}')\n"
   ]
  },
  {
   "cell_type": "code",
   "execution_count": 2,
   "metadata": {},
   "outputs": [
    {
     "name": "stdout",
     "output_type": "stream",
     "text": [
      "Epoch 1/10\n"
     ]
    },
    {
     "name": "stderr",
     "output_type": "stream",
     "text": [
      "C:\\Users\\luize\\AppData\\Local\\Packages\\PythonSoftwareFoundation.Python.3.10_qbz5n2kfra8p0\\LocalCache\\local-packages\\Python310\\site-packages\\keras\\src\\layers\\core\\dense.py:87: UserWarning: Do not pass an `input_shape`/`input_dim` argument to a layer. When using Sequential models, prefer using an `Input(shape)` object as the first layer in the model instead.\n",
      "  super().__init__(activity_regularizer=activity_regularizer, **kwargs)\n"
     ]
    },
    {
     "name": "stdout",
     "output_type": "stream",
     "text": [
      "\u001b[1m2760/2760\u001b[0m \u001b[32m━━━━━━━━━━━━━━━━━━━━\u001b[0m\u001b[37m\u001b[0m \u001b[1m4s\u001b[0m 1ms/step - accuracy: 0.8471 - loss: 0.3770 - val_accuracy: 0.9165 - val_loss: 0.2093\n",
      "Epoch 2/10\n",
      "\u001b[1m2760/2760\u001b[0m \u001b[32m━━━━━━━━━━━━━━━━━━━━\u001b[0m\u001b[37m\u001b[0m \u001b[1m3s\u001b[0m 1ms/step - accuracy: 0.9205 - loss: 0.1985 - val_accuracy: 0.9303 - val_loss: 0.1736\n",
      "Epoch 3/10\n",
      "\u001b[1m2760/2760\u001b[0m \u001b[32m━━━━━━━━━━━━━━━━━━━━\u001b[0m\u001b[37m\u001b[0m \u001b[1m3s\u001b[0m 1ms/step - accuracy: 0.9322 - loss: 0.1695 - val_accuracy: 0.9323 - val_loss: 0.1598\n",
      "Epoch 4/10\n",
      "\u001b[1m2760/2760\u001b[0m \u001b[32m━━━━━━━━━━━━━━━━━━━━\u001b[0m\u001b[37m\u001b[0m \u001b[1m3s\u001b[0m 961us/step - accuracy: 0.9362 - loss: 0.1547 - val_accuracy: 0.9347 - val_loss: 0.1506\n",
      "Epoch 5/10\n",
      "\u001b[1m2760/2760\u001b[0m \u001b[32m━━━━━━━━━━━━━━━━━━━━\u001b[0m\u001b[37m\u001b[0m \u001b[1m3s\u001b[0m 1ms/step - accuracy: 0.9386 - loss: 0.1464 - val_accuracy: 0.9409 - val_loss: 0.1379\n",
      "Epoch 6/10\n",
      "\u001b[1m2760/2760\u001b[0m \u001b[32m━━━━━━━━━━━━━━━━━━━━\u001b[0m\u001b[37m\u001b[0m \u001b[1m3s\u001b[0m 1ms/step - accuracy: 0.9417 - loss: 0.1389 - val_accuracy: 0.9426 - val_loss: 0.1356\n",
      "Epoch 7/10\n",
      "\u001b[1m2760/2760\u001b[0m \u001b[32m━━━━━━━━━━━━━━━━━━━━\u001b[0m\u001b[37m\u001b[0m \u001b[1m3s\u001b[0m 1ms/step - accuracy: 0.9415 - loss: 0.1388 - val_accuracy: 0.9401 - val_loss: 0.1436\n",
      "Epoch 8/10\n",
      "\u001b[1m2760/2760\u001b[0m \u001b[32m━━━━━━━━━━━━━━━━━━━━\u001b[0m\u001b[37m\u001b[0m \u001b[1m3s\u001b[0m 1ms/step - accuracy: 0.9428 - loss: 0.1326 - val_accuracy: 0.9436 - val_loss: 0.1358\n",
      "Epoch 9/10\n",
      "\u001b[1m2760/2760\u001b[0m \u001b[32m━━━━━━━━━━━━━━━━━━━━\u001b[0m\u001b[37m\u001b[0m \u001b[1m3s\u001b[0m 972us/step - accuracy: 0.9440 - loss: 0.1313 - val_accuracy: 0.9431 - val_loss: 0.1328\n",
      "Epoch 10/10\n",
      "\u001b[1m2760/2760\u001b[0m \u001b[32m━━━━━━━━━━━━━━━━━━━━\u001b[0m\u001b[37m\u001b[0m \u001b[1m3s\u001b[0m 1ms/step - accuracy: 0.9447 - loss: 0.1284 - val_accuracy: 0.9443 - val_loss: 0.1295\n",
      "\u001b[1m812/812\u001b[0m \u001b[32m━━━━━━━━━━━━━━━━━━━━\u001b[0m\u001b[37m\u001b[0m \u001b[1m1s\u001b[0m 675us/step\n",
      "Acurácia: 0.9465275639051433\n"
     ]
    }
   ],
   "source": [
    "# Definindo a arquitetura da MLP\n",
    "model = Sequential()\n",
    "model.add(Dense(units=128, activation='relu', input_dim=X_train.shape[1]))\n",
    "model.add(Dense(units=1, activation='sigmoid'))  # Camada de saída para classificação binária\n",
    "\n",
    "# Compilar o modelo\n",
    "model.compile(optimizer='adam', loss='binary_crossentropy', metrics=['accuracy'])\n",
    "\n",
    "# Treinar o modelo\n",
    "model.fit(X_train, y_train, epochs=10, batch_size=32, validation_data=(X_val, y_val))\n",
    "\n",
    "# Avaliar o modelo\n",
    "y_pred = model.predict(X_test)\n",
    "accuracy = accuracy_score(y_test, (y_pred > 0.5).astype(int))\n",
    "print(f'Acurácia: {accuracy}')\n"
   ]
  },
  {
   "cell_type": "markdown",
   "metadata": {},
   "source": [
    "Vamos tentar usar a learning rate de 0.001 e 20 epocas"
   ]
  },
  {
   "cell_type": "code",
   "execution_count": 3,
   "metadata": {},
   "outputs": [
    {
     "name": "stdout",
     "output_type": "stream",
     "text": [
      "Epoch 1/20\n"
     ]
    },
    {
     "name": "stderr",
     "output_type": "stream",
     "text": [
      "C:\\Users\\luize\\AppData\\Local\\Packages\\PythonSoftwareFoundation.Python.3.10_qbz5n2kfra8p0\\LocalCache\\local-packages\\Python310\\site-packages\\keras\\src\\layers\\core\\dense.py:87: UserWarning: Do not pass an `input_shape`/`input_dim` argument to a layer. When using Sequential models, prefer using an `Input(shape)` object as the first layer in the model instead.\n",
      "  super().__init__(activity_regularizer=activity_regularizer, **kwargs)\n"
     ]
    },
    {
     "name": "stdout",
     "output_type": "stream",
     "text": [
      "\u001b[1m2760/2760\u001b[0m \u001b[32m━━━━━━━━━━━━━━━━━━━━\u001b[0m\u001b[37m\u001b[0m \u001b[1m4s\u001b[0m 1ms/step - accuracy: 0.8518 - loss: 0.3660 - val_accuracy: 0.9162 - val_loss: 0.2031\n",
      "Epoch 2/20\n",
      "\u001b[1m2760/2760\u001b[0m \u001b[32m━━━━━━━━━━━━━━━━━━━━\u001b[0m\u001b[37m\u001b[0m \u001b[1m3s\u001b[0m 1ms/step - accuracy: 0.9218 - loss: 0.1949 - val_accuracy: 0.9323 - val_loss: 0.1665\n",
      "Epoch 3/20\n",
      "\u001b[1m2760/2760\u001b[0m \u001b[32m━━━━━━━━━━━━━━━━━━━━\u001b[0m\u001b[37m\u001b[0m \u001b[1m5s\u001b[0m 2ms/step - accuracy: 0.9329 - loss: 0.1638 - val_accuracy: 0.9353 - val_loss: 0.1540\n",
      "Epoch 4/20\n",
      "\u001b[1m2760/2760\u001b[0m \u001b[32m━━━━━━━━━━━━━━━━━━━━\u001b[0m\u001b[37m\u001b[0m \u001b[1m7s\u001b[0m 2ms/step - accuracy: 0.9362 - loss: 0.1526 - val_accuracy: 0.9408 - val_loss: 0.1439\n",
      "Epoch 5/20\n",
      "\u001b[1m2760/2760\u001b[0m \u001b[32m━━━━━━━━━━━━━━━━━━━━\u001b[0m\u001b[37m\u001b[0m \u001b[1m7s\u001b[0m 3ms/step - accuracy: 0.9407 - loss: 0.1431 - val_accuracy: 0.9403 - val_loss: 0.1450\n",
      "Epoch 6/20\n",
      "\u001b[1m2760/2760\u001b[0m \u001b[32m━━━━━━━━━━━━━━━━━━━━\u001b[0m\u001b[37m\u001b[0m \u001b[1m5s\u001b[0m 2ms/step - accuracy: 0.9426 - loss: 0.1390 - val_accuracy: 0.9408 - val_loss: 0.1396\n",
      "Epoch 7/20\n",
      "\u001b[1m2760/2760\u001b[0m \u001b[32m━━━━━━━━━━━━━━━━━━━━\u001b[0m\u001b[37m\u001b[0m \u001b[1m4s\u001b[0m 1ms/step - accuracy: 0.9419 - loss: 0.1350 - val_accuracy: 0.9396 - val_loss: 0.1386\n",
      "Epoch 8/20\n",
      "\u001b[1m2760/2760\u001b[0m \u001b[32m━━━━━━━━━━━━━━━━━━━━\u001b[0m\u001b[37m\u001b[0m \u001b[1m4s\u001b[0m 2ms/step - accuracy: 0.9438 - loss: 0.1316 - val_accuracy: 0.9366 - val_loss: 0.1423\n",
      "Epoch 9/20\n",
      "\u001b[1m2760/2760\u001b[0m \u001b[32m━━━━━━━━━━━━━━━━━━━━\u001b[0m\u001b[37m\u001b[0m \u001b[1m3s\u001b[0m 1ms/step - accuracy: 0.9459 - loss: 0.1269 - val_accuracy: 0.9411 - val_loss: 0.1292\n",
      "Epoch 10/20\n",
      "\u001b[1m2760/2760\u001b[0m \u001b[32m━━━━━━━━━━━━━━━━━━━━\u001b[0m\u001b[37m\u001b[0m \u001b[1m3s\u001b[0m 1ms/step - accuracy: 0.9469 - loss: 0.1257 - val_accuracy: 0.9467 - val_loss: 0.1242\n",
      "Epoch 11/20\n",
      "\u001b[1m2760/2760\u001b[0m \u001b[32m━━━━━━━━━━━━━━━━━━━━\u001b[0m\u001b[37m\u001b[0m \u001b[1m4s\u001b[0m 1ms/step - accuracy: 0.9463 - loss: 0.1254 - val_accuracy: 0.9446 - val_loss: 0.1331\n",
      "Epoch 12/20\n",
      "\u001b[1m2760/2760\u001b[0m \u001b[32m━━━━━━━━━━━━━━━━━━━━\u001b[0m\u001b[37m\u001b[0m \u001b[1m4s\u001b[0m 1ms/step - accuracy: 0.9472 - loss: 0.1240 - val_accuracy: 0.9412 - val_loss: 0.1255\n",
      "Epoch 13/20\n",
      "\u001b[1m2760/2760\u001b[0m \u001b[32m━━━━━━━━━━━━━━━━━━━━\u001b[0m\u001b[37m\u001b[0m \u001b[1m4s\u001b[0m 1ms/step - accuracy: 0.9487 - loss: 0.1191 - val_accuracy: 0.9484 - val_loss: 0.1210\n",
      "Epoch 14/20\n",
      "\u001b[1m2760/2760\u001b[0m \u001b[32m━━━━━━━━━━━━━━━━━━━━\u001b[0m\u001b[37m\u001b[0m \u001b[1m3s\u001b[0m 1ms/step - accuracy: 0.9488 - loss: 0.1185 - val_accuracy: 0.9483 - val_loss: 0.1209\n",
      "Epoch 15/20\n",
      "\u001b[1m2760/2760\u001b[0m \u001b[32m━━━━━━━━━━━━━━━━━━━━\u001b[0m\u001b[37m\u001b[0m \u001b[1m3s\u001b[0m 1ms/step - accuracy: 0.9485 - loss: 0.1178 - val_accuracy: 0.9492 - val_loss: 0.1236\n",
      "Epoch 16/20\n",
      "\u001b[1m2760/2760\u001b[0m \u001b[32m━━━━━━━━━━━━━━━━━━━━\u001b[0m\u001b[37m\u001b[0m \u001b[1m4s\u001b[0m 1ms/step - accuracy: 0.9509 - loss: 0.1150 - val_accuracy: 0.9488 - val_loss: 0.1180\n",
      "Epoch 17/20\n",
      "\u001b[1m2760/2760\u001b[0m \u001b[32m━━━━━━━━━━━━━━━━━━━━\u001b[0m\u001b[37m\u001b[0m \u001b[1m6s\u001b[0m 2ms/step - accuracy: 0.9505 - loss: 0.1146 - val_accuracy: 0.9498 - val_loss: 0.1158\n",
      "Epoch 18/20\n",
      "\u001b[1m2760/2760\u001b[0m \u001b[32m━━━━━━━━━━━━━━━━━━━━\u001b[0m\u001b[37m\u001b[0m \u001b[1m4s\u001b[0m 1ms/step - accuracy: 0.9526 - loss: 0.1113 - val_accuracy: 0.9458 - val_loss: 0.1315\n",
      "Epoch 19/20\n",
      "\u001b[1m2760/2760\u001b[0m \u001b[32m━━━━━━━━━━━━━━━━━━━━\u001b[0m\u001b[37m\u001b[0m \u001b[1m9s\u001b[0m 3ms/step - accuracy: 0.9505 - loss: 0.1116 - val_accuracy: 0.9484 - val_loss: 0.1164\n",
      "Epoch 20/20\n",
      "\u001b[1m2760/2760\u001b[0m \u001b[32m━━━━━━━━━━━━━━━━━━━━\u001b[0m\u001b[37m\u001b[0m \u001b[1m3s\u001b[0m 1ms/step - accuracy: 0.9514 - loss: 0.1101 - val_accuracy: 0.9519 - val_loss: 0.1135\n",
      "\u001b[1m812/812\u001b[0m \u001b[32m━━━━━━━━━━━━━━━━━━━━\u001b[0m\u001b[37m\u001b[0m \u001b[1m1s\u001b[0m 781us/step\n",
      "Acurácia: 0.952071142593163\n"
     ]
    }
   ],
   "source": [
    "from keras.optimizers import Adam\n",
    "\n",
    "# Definindo um otimizador com learning rate específica\n",
    "optimizer = Adam(learning_rate=0.001)\n",
    "\n",
    "# Criando o modelo\n",
    "model = Sequential()\n",
    "model.add(Dense(units=128, activation='relu', input_dim=X_train.shape[1]))\n",
    "model.add(Dense(units=1, activation='sigmoid'))\n",
    "\n",
    "# Compilando o modelo com o otimizador personalizado\n",
    "model.compile(optimizer=optimizer, loss='binary_crossentropy', metrics=['accuracy'])\n",
    "\n",
    "# Treinando o modelo\n",
    "model.fit(X_train, y_train, epochs=20, batch_size=32, validation_data=(X_val, y_val))\n",
    "\n",
    "# Avaliando o modelo\n",
    "y_pred = model.predict(X_test)\n",
    "accuracy = accuracy_score(y_test, (y_pred > 0.5).astype(int))\n",
    "print(f'Acurácia: {accuracy}')"
   ]
  },
  {
   "cell_type": "markdown",
   "metadata": {},
   "source": [
    "Vamos tentar o mesmo exemplo com menos camadas escondidas"
   ]
  },
  {
   "cell_type": "code",
   "execution_count": 4,
   "metadata": {},
   "outputs": [
    {
     "name": "stdout",
     "output_type": "stream",
     "text": [
      "Epoch 1/20\n"
     ]
    },
    {
     "name": "stderr",
     "output_type": "stream",
     "text": [
      "C:\\Users\\luize\\AppData\\Local\\Packages\\PythonSoftwareFoundation.Python.3.10_qbz5n2kfra8p0\\LocalCache\\local-packages\\Python310\\site-packages\\keras\\src\\layers\\core\\dense.py:87: UserWarning: Do not pass an `input_shape`/`input_dim` argument to a layer. When using Sequential models, prefer using an `Input(shape)` object as the first layer in the model instead.\n",
      "  super().__init__(activity_regularizer=activity_regularizer, **kwargs)\n"
     ]
    },
    {
     "name": "stdout",
     "output_type": "stream",
     "text": [
      "\u001b[1m2760/2760\u001b[0m \u001b[32m━━━━━━━━━━━━━━━━━━━━\u001b[0m\u001b[37m\u001b[0m \u001b[1m4s\u001b[0m 1ms/step - accuracy: 0.8312 - loss: 0.4002 - val_accuracy: 0.9096 - val_loss: 0.2253\n",
      "Epoch 2/20\n",
      "\u001b[1m2760/2760\u001b[0m \u001b[32m━━━━━━━━━━━━━━━━━━━━\u001b[0m\u001b[37m\u001b[0m \u001b[1m3s\u001b[0m 1ms/step - accuracy: 0.9133 - loss: 0.2171 - val_accuracy: 0.9234 - val_loss: 0.1909\n",
      "Epoch 3/20\n",
      "\u001b[1m2760/2760\u001b[0m \u001b[32m━━━━━━━━━━━━━━━━━━━━\u001b[0m\u001b[37m\u001b[0m \u001b[1m3s\u001b[0m 1ms/step - accuracy: 0.9272 - loss: 0.1841 - val_accuracy: 0.9309 - val_loss: 0.1734\n",
      "Epoch 4/20\n",
      "\u001b[1m2760/2760\u001b[0m \u001b[32m━━━━━━━━━━━━━━━━━━━━\u001b[0m\u001b[37m\u001b[0m \u001b[1m3s\u001b[0m 985us/step - accuracy: 0.9310 - loss: 0.1682 - val_accuracy: 0.9339 - val_loss: 0.1599\n",
      "Epoch 5/20\n",
      "\u001b[1m2760/2760\u001b[0m \u001b[32m━━━━━━━━━━━━━━━━━━━━\u001b[0m\u001b[37m\u001b[0m \u001b[1m3s\u001b[0m 992us/step - accuracy: 0.9360 - loss: 0.1574 - val_accuracy: 0.9369 - val_loss: 0.1497\n",
      "Epoch 6/20\n",
      "\u001b[1m2760/2760\u001b[0m \u001b[32m━━━━━━━━━━━━━━━━━━━━\u001b[0m\u001b[37m\u001b[0m \u001b[1m6s\u001b[0m 2ms/step - accuracy: 0.9369 - loss: 0.1501 - val_accuracy: 0.9322 - val_loss: 0.1649\n",
      "Epoch 7/20\n",
      "\u001b[1m2760/2760\u001b[0m \u001b[32m━━━━━━━━━━━━━━━━━━━━\u001b[0m\u001b[37m\u001b[0m \u001b[1m4s\u001b[0m 2ms/step - accuracy: 0.9385 - loss: 0.1456 - val_accuracy: 0.9420 - val_loss: 0.1397\n",
      "Epoch 8/20\n",
      "\u001b[1m2760/2760\u001b[0m \u001b[32m━━━━━━━━━━━━━━━━━━━━\u001b[0m\u001b[37m\u001b[0m \u001b[1m4s\u001b[0m 1ms/step - accuracy: 0.9392 - loss: 0.1418 - val_accuracy: 0.9417 - val_loss: 0.1391\n",
      "Epoch 9/20\n",
      "\u001b[1m2760/2760\u001b[0m \u001b[32m━━━━━━━━━━━━━━━━━━━━\u001b[0m\u001b[37m\u001b[0m \u001b[1m3s\u001b[0m 1ms/step - accuracy: 0.9428 - loss: 0.1354 - val_accuracy: 0.9398 - val_loss: 0.1367\n",
      "Epoch 10/20\n",
      "\u001b[1m2760/2760\u001b[0m \u001b[32m━━━━━━━━━━━━━━━━━━━━\u001b[0m\u001b[37m\u001b[0m \u001b[1m3s\u001b[0m 1ms/step - accuracy: 0.9434 - loss: 0.1348 - val_accuracy: 0.9454 - val_loss: 0.1310\n",
      "Epoch 11/20\n",
      "\u001b[1m2760/2760\u001b[0m \u001b[32m━━━━━━━━━━━━━━━━━━━━\u001b[0m\u001b[37m\u001b[0m \u001b[1m3s\u001b[0m 1ms/step - accuracy: 0.9456 - loss: 0.1305 - val_accuracy: 0.9464 - val_loss: 0.1285\n",
      "Epoch 12/20\n",
      "\u001b[1m2760/2760\u001b[0m \u001b[32m━━━━━━━━━━━━━━━━━━━━\u001b[0m\u001b[37m\u001b[0m \u001b[1m3s\u001b[0m 1ms/step - accuracy: 0.9449 - loss: 0.1290 - val_accuracy: 0.9467 - val_loss: 0.1293\n",
      "Epoch 13/20\n",
      "\u001b[1m2760/2760\u001b[0m \u001b[32m━━━━━━━━━━━━━━━━━━━━\u001b[0m\u001b[37m\u001b[0m \u001b[1m4s\u001b[0m 1ms/step - accuracy: 0.9467 - loss: 0.1257 - val_accuracy: 0.9444 - val_loss: 0.1276\n",
      "Epoch 14/20\n",
      "\u001b[1m2760/2760\u001b[0m \u001b[32m━━━━━━━━━━━━━━━━━━━━\u001b[0m\u001b[37m\u001b[0m \u001b[1m3s\u001b[0m 1ms/step - accuracy: 0.9466 - loss: 0.1251 - val_accuracy: 0.9450 - val_loss: 0.1256\n",
      "Epoch 15/20\n",
      "\u001b[1m2760/2760\u001b[0m \u001b[32m━━━━━━━━━━━━━━━━━━━━\u001b[0m\u001b[37m\u001b[0m \u001b[1m3s\u001b[0m 1ms/step - accuracy: 0.9472 - loss: 0.1229 - val_accuracy: 0.9430 - val_loss: 0.1286\n",
      "Epoch 16/20\n",
      "\u001b[1m2760/2760\u001b[0m \u001b[32m━━━━━━━━━━━━━━━━━━━━\u001b[0m\u001b[37m\u001b[0m \u001b[1m3s\u001b[0m 1ms/step - accuracy: 0.9480 - loss: 0.1223 - val_accuracy: 0.9484 - val_loss: 0.1210\n",
      "Epoch 17/20\n",
      "\u001b[1m2760/2760\u001b[0m \u001b[32m━━━━━━━━━━━━━━━━━━━━\u001b[0m\u001b[37m\u001b[0m \u001b[1m3s\u001b[0m 1ms/step - accuracy: 0.9511 - loss: 0.1187 - val_accuracy: 0.9443 - val_loss: 0.1229\n",
      "Epoch 18/20\n",
      "\u001b[1m2760/2760\u001b[0m \u001b[32m━━━━━━━━━━━━━━━━━━━━\u001b[0m\u001b[37m\u001b[0m \u001b[1m4s\u001b[0m 1ms/step - accuracy: 0.9491 - loss: 0.1185 - val_accuracy: 0.9429 - val_loss: 0.1333\n",
      "Epoch 19/20\n",
      "\u001b[1m2760/2760\u001b[0m \u001b[32m━━━━━━━━━━━━━━━━━━━━\u001b[0m\u001b[37m\u001b[0m \u001b[1m3s\u001b[0m 1ms/step - accuracy: 0.9474 - loss: 0.1199 - val_accuracy: 0.9452 - val_loss: 0.1282\n",
      "Epoch 20/20\n",
      "\u001b[1m2760/2760\u001b[0m \u001b[32m━━━━━━━━━━━━━━━━━━━━\u001b[0m\u001b[37m\u001b[0m \u001b[1m3s\u001b[0m 1ms/step - accuracy: 0.9498 - loss: 0.1186 - val_accuracy: 0.9513 - val_loss: 0.1180\n",
      "\u001b[1m812/812\u001b[0m \u001b[32m━━━━━━━━━━━━━━━━━━━━\u001b[0m\u001b[37m\u001b[0m \u001b[1m1s\u001b[0m 710us/step\n",
      "Acurácia: 0.9524176162611642\n"
     ]
    }
   ],
   "source": [
    "from keras.optimizers import Adam\n",
    "\n",
    "# Definindo um otimizador com learning rate específica\n",
    "optimizer = Adam(learning_rate=0.001)\n",
    "\n",
    "# Criando o modelo\n",
    "model = Sequential()\n",
    "model.add(Dense(units=64, activation='relu', input_dim=X_train.shape[1]))\n",
    "model.add(Dense(units=1, activation='sigmoid'))\n",
    "\n",
    "# Compilando o modelo com o otimizador personalizado\n",
    "model.compile(optimizer=optimizer, loss='binary_crossentropy', metrics=['accuracy'])\n",
    "\n",
    "# Treinando o modelo\n",
    "model.fit(X_train, y_train, epochs=20, batch_size=32, validation_data=(X_val, y_val))\n",
    "\n",
    "# Avaliando o modelo\n",
    "y_pred = model.predict(X_test)\n",
    "accuracy = accuracy_score(y_test, (y_pred > 0.5).astype(int))\n",
    "print(f'Acurácia: {accuracy}')"
   ]
  },
  {
   "cell_type": "markdown",
   "metadata": {},
   "source": [
    "Conseguimos chegar no mesmo resultado com menos camadas escondidas, vamos tentar reduzir mais uma vez para ver como fica"
   ]
  },
  {
   "cell_type": "code",
   "execution_count": 5,
   "metadata": {},
   "outputs": [
    {
     "name": "stdout",
     "output_type": "stream",
     "text": [
      "Epoch 1/20\n"
     ]
    },
    {
     "name": "stderr",
     "output_type": "stream",
     "text": [
      "C:\\Users\\luize\\AppData\\Local\\Packages\\PythonSoftwareFoundation.Python.3.10_qbz5n2kfra8p0\\LocalCache\\local-packages\\Python310\\site-packages\\keras\\src\\layers\\core\\dense.py:87: UserWarning: Do not pass an `input_shape`/`input_dim` argument to a layer. When using Sequential models, prefer using an `Input(shape)` object as the first layer in the model instead.\n",
      "  super().__init__(activity_regularizer=activity_regularizer, **kwargs)\n"
     ]
    },
    {
     "name": "stdout",
     "output_type": "stream",
     "text": [
      "\u001b[1m2760/2760\u001b[0m \u001b[32m━━━━━━━━━━━━━━━━━━━━\u001b[0m\u001b[37m\u001b[0m \u001b[1m4s\u001b[0m 1ms/step - accuracy: 0.8180 - loss: 0.4269 - val_accuracy: 0.8958 - val_loss: 0.2648\n",
      "Epoch 2/20\n",
      "\u001b[1m2760/2760\u001b[0m \u001b[32m━━━━━━━━━━━━━━━━━━━━\u001b[0m\u001b[37m\u001b[0m \u001b[1m3s\u001b[0m 1ms/step - accuracy: 0.9004 - loss: 0.2521 - val_accuracy: 0.9098 - val_loss: 0.2203\n",
      "Epoch 3/20\n",
      "\u001b[1m2760/2760\u001b[0m \u001b[32m━━━━━━━━━━━━━━━━━━━━\u001b[0m\u001b[37m\u001b[0m \u001b[1m4s\u001b[0m 1ms/step - accuracy: 0.9140 - loss: 0.2152 - val_accuracy: 0.9183 - val_loss: 0.2015\n",
      "Epoch 4/20\n",
      "\u001b[1m2760/2760\u001b[0m \u001b[32m━━━━━━━━━━━━━━━━━━━━\u001b[0m\u001b[37m\u001b[0m \u001b[1m3s\u001b[0m 1ms/step - accuracy: 0.9210 - loss: 0.1980 - val_accuracy: 0.9185 - val_loss: 0.1948\n",
      "Epoch 5/20\n",
      "\u001b[1m2760/2760\u001b[0m \u001b[32m━━━━━━━━━━━━━━━━━━━━\u001b[0m\u001b[37m\u001b[0m \u001b[1m3s\u001b[0m 1ms/step - accuracy: 0.9249 - loss: 0.1864 - val_accuracy: 0.9265 - val_loss: 0.1823\n",
      "Epoch 6/20\n",
      "\u001b[1m2760/2760\u001b[0m \u001b[32m━━━━━━━━━━━━━━━━━━━━\u001b[0m\u001b[37m\u001b[0m \u001b[1m3s\u001b[0m 1ms/step - accuracy: 0.9270 - loss: 0.1841 - val_accuracy: 0.9279 - val_loss: 0.1756\n",
      "Epoch 7/20\n",
      "\u001b[1m2760/2760\u001b[0m \u001b[32m━━━━━━━━━━━━━━━━━━━━\u001b[0m\u001b[37m\u001b[0m \u001b[1m3s\u001b[0m 1ms/step - accuracy: 0.9285 - loss: 0.1768 - val_accuracy: 0.9299 - val_loss: 0.1675\n",
      "Epoch 8/20\n",
      "\u001b[1m2760/2760\u001b[0m \u001b[32m━━━━━━━━━━━━━━━━━━━━\u001b[0m\u001b[37m\u001b[0m \u001b[1m3s\u001b[0m 1ms/step - accuracy: 0.9317 - loss: 0.1677 - val_accuracy: 0.9320 - val_loss: 0.1651\n",
      "Epoch 9/20\n",
      "\u001b[1m2760/2760\u001b[0m \u001b[32m━━━━━━━━━━━━━━━━━━━━\u001b[0m\u001b[37m\u001b[0m \u001b[1m3s\u001b[0m 1ms/step - accuracy: 0.9352 - loss: 0.1585 - val_accuracy: 0.9357 - val_loss: 0.1580\n",
      "Epoch 10/20\n",
      "\u001b[1m2760/2760\u001b[0m \u001b[32m━━━━━━━━━━━━━━━━━━━━\u001b[0m\u001b[37m\u001b[0m \u001b[1m3s\u001b[0m 1ms/step - accuracy: 0.9359 - loss: 0.1575 - val_accuracy: 0.9353 - val_loss: 0.1534\n",
      "Epoch 11/20\n",
      "\u001b[1m2760/2760\u001b[0m \u001b[32m━━━━━━━━━━━━━━━━━━━━\u001b[0m\u001b[37m\u001b[0m \u001b[1m3s\u001b[0m 1ms/step - accuracy: 0.9381 - loss: 0.1516 - val_accuracy: 0.9383 - val_loss: 0.1487\n",
      "Epoch 12/20\n",
      "\u001b[1m2760/2760\u001b[0m \u001b[32m━━━━━━━━━━━━━━━━━━━━\u001b[0m\u001b[37m\u001b[0m \u001b[1m3s\u001b[0m 1ms/step - accuracy: 0.9377 - loss: 0.1510 - val_accuracy: 0.9373 - val_loss: 0.1478\n",
      "Epoch 13/20\n",
      "\u001b[1m2760/2760\u001b[0m \u001b[32m━━━━━━━━━━━━━━━━━━━━\u001b[0m\u001b[37m\u001b[0m \u001b[1m3s\u001b[0m 1ms/step - accuracy: 0.9400 - loss: 0.1453 - val_accuracy: 0.9371 - val_loss: 0.1472\n",
      "Epoch 14/20\n",
      "\u001b[1m2760/2760\u001b[0m \u001b[32m━━━━━━━━━━━━━━━━━━━━\u001b[0m\u001b[37m\u001b[0m \u001b[1m3s\u001b[0m 1ms/step - accuracy: 0.9407 - loss: 0.1432 - val_accuracy: 0.9402 - val_loss: 0.1433\n",
      "Epoch 15/20\n",
      "\u001b[1m2760/2760\u001b[0m \u001b[32m━━━━━━━━━━━━━━━━━━━━\u001b[0m\u001b[37m\u001b[0m \u001b[1m3s\u001b[0m 1ms/step - accuracy: 0.9404 - loss: 0.1434 - val_accuracy: 0.9410 - val_loss: 0.1405\n",
      "Epoch 16/20\n",
      "\u001b[1m2760/2760\u001b[0m \u001b[32m━━━━━━━━━━━━━━━━━━━━\u001b[0m\u001b[37m\u001b[0m \u001b[1m3s\u001b[0m 1ms/step - accuracy: 0.9420 - loss: 0.1388 - val_accuracy: 0.9398 - val_loss: 0.1396\n",
      "Epoch 17/20\n",
      "\u001b[1m2760/2760\u001b[0m \u001b[32m━━━━━━━━━━━━━━━━━━━━\u001b[0m\u001b[37m\u001b[0m \u001b[1m3s\u001b[0m 1ms/step - accuracy: 0.9424 - loss: 0.1379 - val_accuracy: 0.9326 - val_loss: 0.1482\n",
      "Epoch 18/20\n",
      "\u001b[1m2760/2760\u001b[0m \u001b[32m━━━━━━━━━━━━━━━━━━━━\u001b[0m\u001b[37m\u001b[0m \u001b[1m3s\u001b[0m 1ms/step - accuracy: 0.9422 - loss: 0.1395 - val_accuracy: 0.9424 - val_loss: 0.1384\n",
      "Epoch 19/20\n",
      "\u001b[1m2760/2760\u001b[0m \u001b[32m━━━━━━━━━━━━━━━━━━━━\u001b[0m\u001b[37m\u001b[0m \u001b[1m3s\u001b[0m 1ms/step - accuracy: 0.9433 - loss: 0.1365 - val_accuracy: 0.9409 - val_loss: 0.1372\n",
      "Epoch 20/20\n",
      "\u001b[1m2760/2760\u001b[0m \u001b[32m━━━━━━━━━━━━━━━━━━━━\u001b[0m\u001b[37m\u001b[0m \u001b[1m3s\u001b[0m 1ms/step - accuracy: 0.9437 - loss: 0.1336 - val_accuracy: 0.9410 - val_loss: 0.1357\n",
      "\u001b[1m812/812\u001b[0m \u001b[32m━━━━━━━━━━━━━━━━━━━━\u001b[0m\u001b[37m\u001b[0m \u001b[1m1s\u001b[0m 707us/step\n",
      "Acurácia: 0.9411764705882353\n"
     ]
    }
   ],
   "source": [
    "from keras.optimizers import Adam\n",
    "\n",
    "# Definindo um otimizador com learning rate específica\n",
    "optimizer = Adam(learning_rate=0.001)\n",
    "\n",
    "# Criando o modelo\n",
    "model = Sequential()\n",
    "model.add(Dense(units=32, activation='relu', input_dim=X_train.shape[1]))\n",
    "model.add(Dense(units=1, activation='sigmoid'))\n",
    "\n",
    "# Compilando o modelo com o otimizador personalizado\n",
    "model.compile(optimizer=optimizer, loss='binary_crossentropy', metrics=['accuracy'])\n",
    "\n",
    "# Treinando o modelo\n",
    "model.fit(X_train, y_train, epochs=20, batch_size=32, validation_data=(X_val, y_val))\n",
    "\n",
    "# Avaliando o modelo\n",
    "y_pred = model.predict(X_test)\n",
    "accuracy = accuracy_score(y_test, (y_pred > 0.5).astype(int))\n",
    "print(f'Acurácia: {accuracy}')"
   ]
  },
  {
   "cell_type": "markdown",
   "metadata": {},
   "source": [
    "Chegamos a conclusão que 64 hidden layers é o numero ideal, agora vamos tentar mudar o batch size"
   ]
  },
  {
   "cell_type": "code",
   "execution_count": 6,
   "metadata": {},
   "outputs": [
    {
     "name": "stdout",
     "output_type": "stream",
     "text": [
      "Epoch 1/20\n"
     ]
    },
    {
     "name": "stderr",
     "output_type": "stream",
     "text": [
      "C:\\Users\\luize\\AppData\\Local\\Packages\\PythonSoftwareFoundation.Python.3.10_qbz5n2kfra8p0\\LocalCache\\local-packages\\Python310\\site-packages\\keras\\src\\layers\\core\\dense.py:87: UserWarning: Do not pass an `input_shape`/`input_dim` argument to a layer. When using Sequential models, prefer using an `Input(shape)` object as the first layer in the model instead.\n",
      "  super().__init__(activity_regularizer=activity_regularizer, **kwargs)\n"
     ]
    },
    {
     "name": "stdout",
     "output_type": "stream",
     "text": [
      "\u001b[1m1380/1380\u001b[0m \u001b[32m━━━━━━━━━━━━━━━━━━━━\u001b[0m\u001b[37m\u001b[0m \u001b[1m3s\u001b[0m 1ms/step - accuracy: 0.8240 - loss: 0.4306 - val_accuracy: 0.9045 - val_loss: 0.2431\n",
      "Epoch 2/20\n",
      "\u001b[1m1380/1380\u001b[0m \u001b[32m━━━━━━━━━━━━━━━━━━━━\u001b[0m\u001b[37m\u001b[0m \u001b[1m2s\u001b[0m 1ms/step - accuracy: 0.9096 - loss: 0.2275 - val_accuracy: 0.9219 - val_loss: 0.1985\n",
      "Epoch 3/20\n",
      "\u001b[1m1380/1380\u001b[0m \u001b[32m━━━━━━━━━━━━━━━━━━━━\u001b[0m\u001b[37m\u001b[0m \u001b[1m2s\u001b[0m 1ms/step - accuracy: 0.9254 - loss: 0.1903 - val_accuracy: 0.9275 - val_loss: 0.1794\n",
      "Epoch 4/20\n",
      "\u001b[1m1380/1380\u001b[0m \u001b[32m━━━━━━━━━━━━━━━━━━━━\u001b[0m\u001b[37m\u001b[0m \u001b[1m4s\u001b[0m 2ms/step - accuracy: 0.9306 - loss: 0.1744 - val_accuracy: 0.9326 - val_loss: 0.1641\n",
      "Epoch 5/20\n",
      "\u001b[1m1380/1380\u001b[0m \u001b[32m━━━━━━━━━━━━━━━━━━━━\u001b[0m\u001b[37m\u001b[0m \u001b[1m2s\u001b[0m 2ms/step - accuracy: 0.9321 - loss: 0.1647 - val_accuracy: 0.9365 - val_loss: 0.1544\n",
      "Epoch 6/20\n",
      "\u001b[1m1380/1380\u001b[0m \u001b[32m━━━━━━━━━━━━━━━━━━━━\u001b[0m\u001b[37m\u001b[0m \u001b[1m2s\u001b[0m 1ms/step - accuracy: 0.9378 - loss: 0.1539 - val_accuracy: 0.9364 - val_loss: 0.1501\n",
      "Epoch 7/20\n",
      "\u001b[1m1380/1380\u001b[0m \u001b[32m━━━━━━━━━━━━━━━━━━━━\u001b[0m\u001b[37m\u001b[0m \u001b[1m2s\u001b[0m 2ms/step - accuracy: 0.9389 - loss: 0.1487 - val_accuracy: 0.9401 - val_loss: 0.1447\n",
      "Epoch 8/20\n",
      "\u001b[1m1380/1380\u001b[0m \u001b[32m━━━━━━━━━━━━━━━━━━━━\u001b[0m\u001b[37m\u001b[0m \u001b[1m2s\u001b[0m 2ms/step - accuracy: 0.9407 - loss: 0.1438 - val_accuracy: 0.9357 - val_loss: 0.1585\n",
      "Epoch 9/20\n",
      "\u001b[1m1380/1380\u001b[0m \u001b[32m━━━━━━━━━━━━━━━━━━━━\u001b[0m\u001b[37m\u001b[0m \u001b[1m2s\u001b[0m 1ms/step - accuracy: 0.9426 - loss: 0.1397 - val_accuracy: 0.9425 - val_loss: 0.1400\n",
      "Epoch 10/20\n",
      "\u001b[1m1380/1380\u001b[0m \u001b[32m━━━━━━━━━━━━━━━━━━━━\u001b[0m\u001b[37m\u001b[0m \u001b[1m1s\u001b[0m 987us/step - accuracy: 0.9411 - loss: 0.1399 - val_accuracy: 0.9430 - val_loss: 0.1374\n",
      "Epoch 11/20\n",
      "\u001b[1m1380/1380\u001b[0m \u001b[32m━━━━━━━━━━━━━━━━━━━━\u001b[0m\u001b[37m\u001b[0m \u001b[1m2s\u001b[0m 1ms/step - accuracy: 0.9434 - loss: 0.1349 - val_accuracy: 0.9435 - val_loss: 0.1337\n",
      "Epoch 12/20\n",
      "\u001b[1m1380/1380\u001b[0m \u001b[32m━━━━━━━━━━━━━━━━━━━━\u001b[0m\u001b[37m\u001b[0m \u001b[1m1s\u001b[0m 980us/step - accuracy: 0.9428 - loss: 0.1358 - val_accuracy: 0.9427 - val_loss: 0.1352\n",
      "Epoch 13/20\n",
      "\u001b[1m1380/1380\u001b[0m \u001b[32m━━━━━━━━━━━━━━━━━━━━\u001b[0m\u001b[37m\u001b[0m \u001b[1m1s\u001b[0m 997us/step - accuracy: 0.9436 - loss: 0.1319 - val_accuracy: 0.9418 - val_loss: 0.1383\n",
      "Epoch 14/20\n",
      "\u001b[1m1380/1380\u001b[0m \u001b[32m━━━━━━━━━━━━━━━━━━━━\u001b[0m\u001b[37m\u001b[0m \u001b[1m2s\u001b[0m 1ms/step - accuracy: 0.9452 - loss: 0.1284 - val_accuracy: 0.9421 - val_loss: 0.1313\n",
      "Epoch 15/20\n",
      "\u001b[1m1380/1380\u001b[0m \u001b[32m━━━━━━━━━━━━━━━━━━━━\u001b[0m\u001b[37m\u001b[0m \u001b[1m1s\u001b[0m 967us/step - accuracy: 0.9446 - loss: 0.1297 - val_accuracy: 0.9429 - val_loss: 0.1333\n",
      "Epoch 16/20\n",
      "\u001b[1m1380/1380\u001b[0m \u001b[32m━━━━━━━━━━━━━━━━━━━━\u001b[0m\u001b[37m\u001b[0m \u001b[1m3s\u001b[0m 1ms/step - accuracy: 0.9470 - loss: 0.1262 - val_accuracy: 0.9437 - val_loss: 0.1295\n",
      "Epoch 17/20\n",
      "\u001b[1m1380/1380\u001b[0m \u001b[32m━━━━━━━━━━━━━━━━━━━━\u001b[0m\u001b[37m\u001b[0m \u001b[1m1s\u001b[0m 1ms/step - accuracy: 0.9460 - loss: 0.1263 - val_accuracy: 0.9451 - val_loss: 0.1263\n",
      "Epoch 18/20\n",
      "\u001b[1m1380/1380\u001b[0m \u001b[32m━━━━━━━━━━━━━━━━━━━━\u001b[0m\u001b[37m\u001b[0m \u001b[1m2s\u001b[0m 1ms/step - accuracy: 0.9471 - loss: 0.1236 - val_accuracy: 0.9455 - val_loss: 0.1262\n",
      "Epoch 19/20\n",
      "\u001b[1m1380/1380\u001b[0m \u001b[32m━━━━━━━━━━━━━━━━━━━━\u001b[0m\u001b[37m\u001b[0m \u001b[1m2s\u001b[0m 1ms/step - accuracy: 0.9481 - loss: 0.1233 - val_accuracy: 0.9422 - val_loss: 0.1261\n",
      "Epoch 20/20\n",
      "\u001b[1m1380/1380\u001b[0m \u001b[32m━━━━━━━━━━━━━━━━━━━━\u001b[0m\u001b[37m\u001b[0m \u001b[1m1s\u001b[0m 1ms/step - accuracy: 0.9481 - loss: 0.1244 - val_accuracy: 0.9479 - val_loss: 0.1225\n",
      "\u001b[1m812/812\u001b[0m \u001b[32m━━━━━━━━━━━━━━━━━━━━\u001b[0m\u001b[37m\u001b[0m \u001b[1m1s\u001b[0m 686us/step\n",
      "Acurácia: 0.9489143825069295\n"
     ]
    }
   ],
   "source": [
    "# Definindo um otimizador com learning rate específica\n",
    "optimizer = Adam(learning_rate=0.001)\n",
    "\n",
    "# Criando o modelo\n",
    "model = Sequential()\n",
    "model.add(Dense(units=64, activation='relu', input_dim=X_train.shape[1]))\n",
    "model.add(Dense(units=1, activation='sigmoid'))\n",
    "\n",
    "# Compilando o modelo com o otimizador personalizado\n",
    "model.compile(optimizer=optimizer, loss='binary_crossentropy', metrics=['accuracy'])\n",
    "\n",
    "# Treinando o modelo\n",
    "model.fit(X_train, y_train, epochs=20, batch_size=64, validation_data=(X_val, y_val))\n",
    "\n",
    "# Avaliando o modelo\n",
    "y_pred = model.predict(X_test)\n",
    "accuracy = accuracy_score(y_test, (y_pred > 0.5).astype(int))\n",
    "print(f'Acurácia: {accuracy}')"
   ]
  },
  {
   "cell_type": "markdown",
   "metadata": {},
   "source": [
    "O batchsize maior não surtiu efeito, vamos tentar aumentar o numero de epocas mantendo esse batch size, qualquer coisa revertemos posteriormente"
   ]
  },
  {
   "cell_type": "code",
   "execution_count": 7,
   "metadata": {},
   "outputs": [
    {
     "name": "stdout",
     "output_type": "stream",
     "text": [
      "Epoch 1/30\n"
     ]
    },
    {
     "name": "stderr",
     "output_type": "stream",
     "text": [
      "C:\\Users\\luize\\AppData\\Local\\Packages\\PythonSoftwareFoundation.Python.3.10_qbz5n2kfra8p0\\LocalCache\\local-packages\\Python310\\site-packages\\keras\\src\\layers\\core\\dense.py:87: UserWarning: Do not pass an `input_shape`/`input_dim` argument to a layer. When using Sequential models, prefer using an `Input(shape)` object as the first layer in the model instead.\n",
      "  super().__init__(activity_regularizer=activity_regularizer, **kwargs)\n"
     ]
    },
    {
     "name": "stdout",
     "output_type": "stream",
     "text": [
      "\u001b[1m1380/1380\u001b[0m \u001b[32m━━━━━━━━━━━━━━━━━━━━\u001b[0m\u001b[37m\u001b[0m \u001b[1m3s\u001b[0m 1ms/step - accuracy: 0.8084 - loss: 0.4433 - val_accuracy: 0.9055 - val_loss: 0.2433\n",
      "Epoch 2/30\n",
      "\u001b[1m1380/1380\u001b[0m \u001b[32m━━━━━━━━━━━━━━━━━━━━\u001b[0m\u001b[37m\u001b[0m \u001b[1m2s\u001b[0m 1ms/step - accuracy: 0.9086 - loss: 0.2287 - val_accuracy: 0.9162 - val_loss: 0.2056\n",
      "Epoch 3/30\n",
      "\u001b[1m1380/1380\u001b[0m \u001b[32m━━━━━━━━━━━━━━━━━━━━\u001b[0m\u001b[37m\u001b[0m \u001b[1m1s\u001b[0m 1ms/step - accuracy: 0.9241 - loss: 0.1922 - val_accuracy: 0.9259 - val_loss: 0.1802\n",
      "Epoch 4/30\n",
      "\u001b[1m1380/1380\u001b[0m \u001b[32m━━━━━━━━━━━━━━━━━━━━\u001b[0m\u001b[37m\u001b[0m \u001b[1m1s\u001b[0m 1ms/step - accuracy: 0.9304 - loss: 0.1749 - val_accuracy: 0.9326 - val_loss: 0.1660\n",
      "Epoch 5/30\n",
      "\u001b[1m1380/1380\u001b[0m \u001b[32m━━━━━━━━━━━━━━━━━━━━\u001b[0m\u001b[37m\u001b[0m \u001b[1m1s\u001b[0m 1ms/step - accuracy: 0.9333 - loss: 0.1637 - val_accuracy: 0.9359 - val_loss: 0.1574\n",
      "Epoch 6/30\n",
      "\u001b[1m1380/1380\u001b[0m \u001b[32m━━━━━━━━━━━━━━━━━━━━\u001b[0m\u001b[37m\u001b[0m \u001b[1m2s\u001b[0m 1ms/step - accuracy: 0.9362 - loss: 0.1575 - val_accuracy: 0.9287 - val_loss: 0.1613\n",
      "Epoch 7/30\n",
      "\u001b[1m1380/1380\u001b[0m \u001b[32m━━━━━━━━━━━━━━━━━━━━\u001b[0m\u001b[37m\u001b[0m \u001b[1m2s\u001b[0m 1ms/step - accuracy: 0.9377 - loss: 0.1503 - val_accuracy: 0.9379 - val_loss: 0.1506\n",
      "Epoch 8/30\n",
      "\u001b[1m1380/1380\u001b[0m \u001b[32m━━━━━━━━━━━━━━━━━━━━\u001b[0m\u001b[37m\u001b[0m \u001b[1m1s\u001b[0m 981us/step - accuracy: 0.9399 - loss: 0.1464 - val_accuracy: 0.9393 - val_loss: 0.1438\n",
      "Epoch 9/30\n",
      "\u001b[1m1380/1380\u001b[0m \u001b[32m━━━━━━━━━━━━━━━━━━━━\u001b[0m\u001b[37m\u001b[0m \u001b[1m1s\u001b[0m 1ms/step - accuracy: 0.9406 - loss: 0.1426 - val_accuracy: 0.9402 - val_loss: 0.1433\n",
      "Epoch 10/30\n",
      "\u001b[1m1380/1380\u001b[0m \u001b[32m━━━━━━━━━━━━━━━━━━━━\u001b[0m\u001b[37m\u001b[0m \u001b[1m2s\u001b[0m 1ms/step - accuracy: 0.9420 - loss: 0.1382 - val_accuracy: 0.9418 - val_loss: 0.1372\n",
      "Epoch 11/30\n",
      "\u001b[1m1380/1380\u001b[0m \u001b[32m━━━━━━━━━━━━━━━━━━━━\u001b[0m\u001b[37m\u001b[0m \u001b[1m2s\u001b[0m 1ms/step - accuracy: 0.9430 - loss: 0.1367 - val_accuracy: 0.9427 - val_loss: 0.1332\n",
      "Epoch 12/30\n",
      "\u001b[1m1380/1380\u001b[0m \u001b[32m━━━━━━━━━━━━━━━━━━━━\u001b[0m\u001b[37m\u001b[0m \u001b[1m3s\u001b[0m 2ms/step - accuracy: 0.9458 - loss: 0.1321 - val_accuracy: 0.9427 - val_loss: 0.1330\n",
      "Epoch 13/30\n",
      "\u001b[1m1380/1380\u001b[0m \u001b[32m━━━━━━━━━━━━━━━━━━━━\u001b[0m\u001b[37m\u001b[0m \u001b[1m4s\u001b[0m 1ms/step - accuracy: 0.9452 - loss: 0.1314 - val_accuracy: 0.9435 - val_loss: 0.1334\n",
      "Epoch 14/30\n",
      "\u001b[1m1380/1380\u001b[0m \u001b[32m━━━━━━━━━━━━━━━━━━━━\u001b[0m\u001b[37m\u001b[0m \u001b[1m2s\u001b[0m 1ms/step - accuracy: 0.9456 - loss: 0.1289 - val_accuracy: 0.9442 - val_loss: 0.1303\n",
      "Epoch 15/30\n",
      "\u001b[1m1380/1380\u001b[0m \u001b[32m━━━━━━━━━━━━━━━━━━━━\u001b[0m\u001b[37m\u001b[0m \u001b[1m2s\u001b[0m 1ms/step - accuracy: 0.9465 - loss: 0.1276 - val_accuracy: 0.9423 - val_loss: 0.1313\n",
      "Epoch 16/30\n",
      "\u001b[1m1380/1380\u001b[0m \u001b[32m━━━━━━━━━━━━━━━━━━━━\u001b[0m\u001b[37m\u001b[0m \u001b[1m2s\u001b[0m 1ms/step - accuracy: 0.9455 - loss: 0.1275 - val_accuracy: 0.9440 - val_loss: 0.1332\n",
      "Epoch 17/30\n",
      "\u001b[1m1380/1380\u001b[0m \u001b[32m━━━━━━━━━━━━━━━━━━━━\u001b[0m\u001b[37m\u001b[0m \u001b[1m2s\u001b[0m 1ms/step - accuracy: 0.9477 - loss: 0.1249 - val_accuracy: 0.9454 - val_loss: 0.1291\n",
      "Epoch 18/30\n",
      "\u001b[1m1380/1380\u001b[0m \u001b[32m━━━━━━━━━━━━━━━━━━━━\u001b[0m\u001b[37m\u001b[0m \u001b[1m1s\u001b[0m 1ms/step - accuracy: 0.9481 - loss: 0.1228 - val_accuracy: 0.9461 - val_loss: 0.1255\n",
      "Epoch 19/30\n",
      "\u001b[1m1380/1380\u001b[0m \u001b[32m━━━━━━━━━━━━━━━━━━━━\u001b[0m\u001b[37m\u001b[0m \u001b[1m2s\u001b[0m 1ms/step - accuracy: 0.9483 - loss: 0.1233 - val_accuracy: 0.9480 - val_loss: 0.1232\n",
      "Epoch 20/30\n",
      "\u001b[1m1380/1380\u001b[0m \u001b[32m━━━━━━━━━━━━━━━━━━━━\u001b[0m\u001b[37m\u001b[0m \u001b[1m2s\u001b[0m 1ms/step - accuracy: 0.9492 - loss: 0.1195 - val_accuracy: 0.9475 - val_loss: 0.1224\n",
      "Epoch 21/30\n",
      "\u001b[1m1380/1380\u001b[0m \u001b[32m━━━━━━━━━━━━━━━━━━━━\u001b[0m\u001b[37m\u001b[0m \u001b[1m2s\u001b[0m 1ms/step - accuracy: 0.9473 - loss: 0.1228 - val_accuracy: 0.9475 - val_loss: 0.1239\n",
      "Epoch 22/30\n",
      "\u001b[1m1380/1380\u001b[0m \u001b[32m━━━━━━━━━━━━━━━━━━━━\u001b[0m\u001b[37m\u001b[0m \u001b[1m2s\u001b[0m 1ms/step - accuracy: 0.9483 - loss: 0.1208 - val_accuracy: 0.9464 - val_loss: 0.1219\n",
      "Epoch 23/30\n",
      "\u001b[1m1380/1380\u001b[0m \u001b[32m━━━━━━━━━━━━━━━━━━━━\u001b[0m\u001b[37m\u001b[0m \u001b[1m2s\u001b[0m 1ms/step - accuracy: 0.9488 - loss: 0.1200 - val_accuracy: 0.9479 - val_loss: 0.1224\n",
      "Epoch 24/30\n",
      "\u001b[1m1380/1380\u001b[0m \u001b[32m━━━━━━━━━━━━━━━━━━━━\u001b[0m\u001b[37m\u001b[0m \u001b[1m3s\u001b[0m 1ms/step - accuracy: 0.9503 - loss: 0.1180 - val_accuracy: 0.9483 - val_loss: 0.1223\n",
      "Epoch 25/30\n",
      "\u001b[1m1380/1380\u001b[0m \u001b[32m━━━━━━━━━━━━━━━━━━━━\u001b[0m\u001b[37m\u001b[0m \u001b[1m2s\u001b[0m 1ms/step - accuracy: 0.9499 - loss: 0.1172 - val_accuracy: 0.9495 - val_loss: 0.1204\n",
      "Epoch 26/30\n",
      "\u001b[1m1380/1380\u001b[0m \u001b[32m━━━━━━━━━━━━━━━━━━━━\u001b[0m\u001b[37m\u001b[0m \u001b[1m2s\u001b[0m 1ms/step - accuracy: 0.9510 - loss: 0.1166 - val_accuracy: 0.9482 - val_loss: 0.1204\n",
      "Epoch 27/30\n",
      "\u001b[1m1380/1380\u001b[0m \u001b[32m━━━━━━━━━━━━━━━━━━━━\u001b[0m\u001b[37m\u001b[0m \u001b[1m2s\u001b[0m 1ms/step - accuracy: 0.9498 - loss: 0.1165 - val_accuracy: 0.9469 - val_loss: 0.1188\n",
      "Epoch 28/30\n",
      "\u001b[1m1380/1380\u001b[0m \u001b[32m━━━━━━━━━━━━━━━━━━━━\u001b[0m\u001b[37m\u001b[0m \u001b[1m2s\u001b[0m 1ms/step - accuracy: 0.9499 - loss: 0.1168 - val_accuracy: 0.9486 - val_loss: 0.1185\n",
      "Epoch 29/30\n",
      "\u001b[1m1380/1380\u001b[0m \u001b[32m━━━━━━━━━━━━━━━━━━━━\u001b[0m\u001b[37m\u001b[0m \u001b[1m2s\u001b[0m 1ms/step - accuracy: 0.9497 - loss: 0.1155 - val_accuracy: 0.9487 - val_loss: 0.1196\n",
      "Epoch 30/30\n",
      "\u001b[1m1380/1380\u001b[0m \u001b[32m━━━━━━━━━━━━━━━━━━━━\u001b[0m\u001b[37m\u001b[0m \u001b[1m2s\u001b[0m 1ms/step - accuracy: 0.9520 - loss: 0.1130 - val_accuracy: 0.9488 - val_loss: 0.1167\n",
      "\u001b[1m812/812\u001b[0m \u001b[32m━━━━━━━━━━━━━━━━━━━━\u001b[0m\u001b[37m\u001b[0m \u001b[1m1s\u001b[0m 971us/step\n",
      "Acurácia: 0.9499923005851555\n"
     ]
    }
   ],
   "source": [
    "# Definindo um otimizador com learning rate específica\n",
    "optimizer = Adam(learning_rate=0.001)\n",
    "\n",
    "# Criando o modelo\n",
    "model = Sequential()\n",
    "model.add(Dense(units=64, activation='relu', input_dim=X_train.shape[1]))\n",
    "model.add(Dense(units=1, activation='sigmoid'))\n",
    "\n",
    "# Compilando o modelo com o otimizador personalizado\n",
    "model.compile(optimizer=optimizer, loss='binary_crossentropy', metrics=['accuracy'])\n",
    "\n",
    "# Treinando o modelo\n",
    "model.fit(X_train, y_train, epochs=30, batch_size=64, validation_data=(X_val, y_val))\n",
    "\n",
    "# Avaliando o modelo\n",
    "y_pred = model.predict(X_test)\n",
    "accuracy = accuracy_score(y_test, (y_pred > 0.5).astype(int))\n",
    "print(f'Acurácia: {accuracy}')"
   ]
  },
  {
   "cell_type": "markdown",
   "metadata": {},
   "source": [
    "O resultado não passou de 0.95, ou seja, o batchsize maior piorou o modelo, vamos testar esse mesmo número de epocas mas com batchsize de 32, que é o numero ideal de batchsize"
   ]
  },
  {
   "cell_type": "code",
   "execution_count": 8,
   "metadata": {},
   "outputs": [
    {
     "name": "stdout",
     "output_type": "stream",
     "text": [
      "Epoch 1/30\n"
     ]
    },
    {
     "name": "stderr",
     "output_type": "stream",
     "text": [
      "C:\\Users\\luize\\AppData\\Local\\Packages\\PythonSoftwareFoundation.Python.3.10_qbz5n2kfra8p0\\LocalCache\\local-packages\\Python310\\site-packages\\keras\\src\\layers\\core\\dense.py:87: UserWarning: Do not pass an `input_shape`/`input_dim` argument to a layer. When using Sequential models, prefer using an `Input(shape)` object as the first layer in the model instead.\n",
      "  super().__init__(activity_regularizer=activity_regularizer, **kwargs)\n"
     ]
    },
    {
     "name": "stdout",
     "output_type": "stream",
     "text": [
      "\u001b[1m2760/2760\u001b[0m \u001b[32m━━━━━━━━━━━━━━━━━━━━\u001b[0m\u001b[37m\u001b[0m \u001b[1m4s\u001b[0m 1ms/step - accuracy: 0.8328 - loss: 0.4040 - val_accuracy: 0.9066 - val_loss: 0.2401\n",
      "Epoch 2/30\n",
      "\u001b[1m2760/2760\u001b[0m \u001b[32m━━━━━━━━━━━━━━━━━━━━\u001b[0m\u001b[37m\u001b[0m \u001b[1m3s\u001b[0m 1ms/step - accuracy: 0.9105 - loss: 0.2247 - val_accuracy: 0.9214 - val_loss: 0.1940\n",
      "Epoch 3/30\n",
      "\u001b[1m2760/2760\u001b[0m \u001b[32m━━━━━━━━━━━━━━━━━━━━\u001b[0m\u001b[37m\u001b[0m \u001b[1m3s\u001b[0m 1ms/step - accuracy: 0.9230 - loss: 0.1917 - val_accuracy: 0.9245 - val_loss: 0.1873\n",
      "Epoch 4/30\n",
      "\u001b[1m2760/2760\u001b[0m \u001b[32m━━━━━━━━━━━━━━━━━━━━\u001b[0m\u001b[37m\u001b[0m \u001b[1m3s\u001b[0m 1ms/step - accuracy: 0.9306 - loss: 0.1759 - val_accuracy: 0.9294 - val_loss: 0.1747\n",
      "Epoch 5/30\n",
      "\u001b[1m2760/2760\u001b[0m \u001b[32m━━━━━━━━━━━━━━━━━━━━\u001b[0m\u001b[37m\u001b[0m \u001b[1m3s\u001b[0m 1ms/step - accuracy: 0.9332 - loss: 0.1679 - val_accuracy: 0.9333 - val_loss: 0.1646\n",
      "Epoch 6/30\n",
      "\u001b[1m2760/2760\u001b[0m \u001b[32m━━━━━━━━━━━━━━━━━━━━\u001b[0m\u001b[37m\u001b[0m \u001b[1m3s\u001b[0m 1000us/step - accuracy: 0.9362 - loss: 0.1599 - val_accuracy: 0.9356 - val_loss: 0.1573\n",
      "Epoch 7/30\n",
      "\u001b[1m2760/2760\u001b[0m \u001b[32m━━━━━━━━━━━━━━━━━━━━\u001b[0m\u001b[37m\u001b[0m \u001b[1m3s\u001b[0m 1ms/step - accuracy: 0.9383 - loss: 0.1551 - val_accuracy: 0.9362 - val_loss: 0.1543\n",
      "Epoch 8/30\n",
      "\u001b[1m2760/2760\u001b[0m \u001b[32m━━━━━━━━━━━━━━━━━━━━\u001b[0m\u001b[37m\u001b[0m \u001b[1m3s\u001b[0m 1ms/step - accuracy: 0.9389 - loss: 0.1535 - val_accuracy: 0.9371 - val_loss: 0.1539\n",
      "Epoch 9/30\n",
      "\u001b[1m2760/2760\u001b[0m \u001b[32m━━━━━━━━━━━━━━━━━━━━\u001b[0m\u001b[37m\u001b[0m \u001b[1m3s\u001b[0m 1ms/step - accuracy: 0.9402 - loss: 0.1478 - val_accuracy: 0.9389 - val_loss: 0.1472\n",
      "Epoch 10/30\n",
      "\u001b[1m2760/2760\u001b[0m \u001b[32m━━━━━━━━━━━━━━━━━━━━\u001b[0m\u001b[37m\u001b[0m \u001b[1m3s\u001b[0m 1ms/step - accuracy: 0.9403 - loss: 0.1479 - val_accuracy: 0.9369 - val_loss: 0.1495\n",
      "Epoch 11/30\n",
      "\u001b[1m2760/2760\u001b[0m \u001b[32m━━━━━━━━━━━━━━━━━━━━\u001b[0m\u001b[37m\u001b[0m \u001b[1m3s\u001b[0m 981us/step - accuracy: 0.9433 - loss: 0.1414 - val_accuracy: 0.9302 - val_loss: 0.1679\n",
      "Epoch 12/30\n",
      "\u001b[1m2760/2760\u001b[0m \u001b[32m━━━━━━━━━━━━━━━━━━━━\u001b[0m\u001b[37m\u001b[0m \u001b[1m3s\u001b[0m 1ms/step - accuracy: 0.9415 - loss: 0.1430 - val_accuracy: 0.9392 - val_loss: 0.1443\n",
      "Epoch 13/30\n",
      "\u001b[1m2760/2760\u001b[0m \u001b[32m━━━━━━━━━━━━━━━━━━━━\u001b[0m\u001b[37m\u001b[0m \u001b[1m3s\u001b[0m 1ms/step - accuracy: 0.9431 - loss: 0.1396 - val_accuracy: 0.9360 - val_loss: 0.1531\n",
      "Epoch 14/30\n",
      "\u001b[1m2760/2760\u001b[0m \u001b[32m━━━━━━━━━━━━━━━━━━━━\u001b[0m\u001b[37m\u001b[0m \u001b[1m3s\u001b[0m 1ms/step - accuracy: 0.9412 - loss: 0.1400 - val_accuracy: 0.9425 - val_loss: 0.1404\n",
      "Epoch 15/30\n",
      "\u001b[1m2760/2760\u001b[0m \u001b[32m━━━━━━━━━━━━━━━━━━━━\u001b[0m\u001b[37m\u001b[0m \u001b[1m3s\u001b[0m 1ms/step - accuracy: 0.9433 - loss: 0.1378 - val_accuracy: 0.9401 - val_loss: 0.1419\n",
      "Epoch 16/30\n",
      "\u001b[1m2760/2760\u001b[0m \u001b[32m━━━━━━━━━━━━━━━━━━━━\u001b[0m\u001b[37m\u001b[0m \u001b[1m3s\u001b[0m 1ms/step - accuracy: 0.9433 - loss: 0.1358 - val_accuracy: 0.9446 - val_loss: 0.1364\n",
      "Epoch 17/30\n",
      "\u001b[1m2760/2760\u001b[0m \u001b[32m━━━━━━━━━━━━━━━━━━━━\u001b[0m\u001b[37m\u001b[0m \u001b[1m3s\u001b[0m 1ms/step - accuracy: 0.9454 - loss: 0.1336 - val_accuracy: 0.9451 - val_loss: 0.1338\n",
      "Epoch 18/30\n",
      "\u001b[1m2760/2760\u001b[0m \u001b[32m━━━━━━━━━━━━━━━━━━━━\u001b[0m\u001b[37m\u001b[0m \u001b[1m5s\u001b[0m 1ms/step - accuracy: 0.9436 - loss: 0.1355 - val_accuracy: 0.9433 - val_loss: 0.1350\n",
      "Epoch 19/30\n",
      "\u001b[1m2760/2760\u001b[0m \u001b[32m━━━━━━━━━━━━━━━━━━━━\u001b[0m\u001b[37m\u001b[0m \u001b[1m3s\u001b[0m 1ms/step - accuracy: 0.9452 - loss: 0.1318 - val_accuracy: 0.9427 - val_loss: 0.1363\n",
      "Epoch 20/30\n",
      "\u001b[1m2760/2760\u001b[0m \u001b[32m━━━━━━━━━━━━━━━━━━━━\u001b[0m\u001b[37m\u001b[0m \u001b[1m3s\u001b[0m 1ms/step - accuracy: 0.9452 - loss: 0.1281 - val_accuracy: 0.9372 - val_loss: 0.1422\n",
      "Epoch 21/30\n",
      "\u001b[1m2760/2760\u001b[0m \u001b[32m━━━━━━━━━━━━━━━━━━━━\u001b[0m\u001b[37m\u001b[0m \u001b[1m3s\u001b[0m 1ms/step - accuracy: 0.9475 - loss: 0.1238 - val_accuracy: 0.9466 - val_loss: 0.1275\n",
      "Epoch 22/30\n",
      "\u001b[1m2760/2760\u001b[0m \u001b[32m━━━━━━━━━━━━━━━━━━━━\u001b[0m\u001b[37m\u001b[0m \u001b[1m3s\u001b[0m 1ms/step - accuracy: 0.9477 - loss: 0.1239 - val_accuracy: 0.9477 - val_loss: 0.1248\n",
      "Epoch 23/30\n",
      "\u001b[1m2760/2760\u001b[0m \u001b[32m━━━━━━━━━━━━━━━━━━━━\u001b[0m\u001b[37m\u001b[0m \u001b[1m3s\u001b[0m 1ms/step - accuracy: 0.9468 - loss: 0.1257 - val_accuracy: 0.9466 - val_loss: 0.1283\n",
      "Epoch 24/30\n",
      "\u001b[1m2760/2760\u001b[0m \u001b[32m━━━━━━━━━━━━━━━━━━━━\u001b[0m\u001b[37m\u001b[0m \u001b[1m3s\u001b[0m 1ms/step - accuracy: 0.9475 - loss: 0.1251 - val_accuracy: 0.9474 - val_loss: 0.1228\n",
      "Epoch 25/30\n",
      "\u001b[1m2760/2760\u001b[0m \u001b[32m━━━━━━━━━━━━━━━━━━━━\u001b[0m\u001b[37m\u001b[0m \u001b[1m4s\u001b[0m 1ms/step - accuracy: 0.9498 - loss: 0.1203 - val_accuracy: 0.9433 - val_loss: 0.1315\n",
      "Epoch 26/30\n",
      "\u001b[1m2760/2760\u001b[0m \u001b[32m━━━━━━━━━━━━━━━━━━━━\u001b[0m\u001b[37m\u001b[0m \u001b[1m3s\u001b[0m 1ms/step - accuracy: 0.9497 - loss: 0.1173 - val_accuracy: 0.9487 - val_loss: 0.1237\n",
      "Epoch 27/30\n",
      "\u001b[1m2760/2760\u001b[0m \u001b[32m━━━━━━━━━━━━━━━━━━━━\u001b[0m\u001b[37m\u001b[0m \u001b[1m4s\u001b[0m 1ms/step - accuracy: 0.9492 - loss: 0.1196 - val_accuracy: 0.9477 - val_loss: 0.1234\n",
      "Epoch 28/30\n",
      "\u001b[1m2760/2760\u001b[0m \u001b[32m━━━━━━━━━━━━━━━━━━━━\u001b[0m\u001b[37m\u001b[0m \u001b[1m3s\u001b[0m 1ms/step - accuracy: 0.9496 - loss: 0.1215 - val_accuracy: 0.9478 - val_loss: 0.1223\n",
      "Epoch 29/30\n",
      "\u001b[1m2760/2760\u001b[0m \u001b[32m━━━━━━━━━━━━━━━━━━━━\u001b[0m\u001b[37m\u001b[0m \u001b[1m3s\u001b[0m 1ms/step - accuracy: 0.9490 - loss: 0.1180 - val_accuracy: 0.9490 - val_loss: 0.1207\n",
      "Epoch 30/30\n",
      "\u001b[1m2760/2760\u001b[0m \u001b[32m━━━━━━━━━━━━━━━━━━━━\u001b[0m\u001b[37m\u001b[0m \u001b[1m3s\u001b[0m 1ms/step - accuracy: 0.9499 - loss: 0.1165 - val_accuracy: 0.9486 - val_loss: 0.1195\n",
      "\u001b[1m812/812\u001b[0m \u001b[32m━━━━━━━━━━━━━━━━━━━━\u001b[0m\u001b[37m\u001b[0m \u001b[1m1s\u001b[0m 717us/step\n",
      "Acurácia: 0.9498768093624884\n"
     ]
    }
   ],
   "source": [
    "# Definindo um otimizador com learning rate específica\n",
    "optimizer = Adam(learning_rate=0.001)\n",
    "\n",
    "# Criando o modelo\n",
    "model = Sequential()\n",
    "model.add(Dense(units=64, activation='relu', input_dim=X_train.shape[1]))\n",
    "model.add(Dense(units=1, activation='sigmoid'))\n",
    "\n",
    "# Compilando o modelo com o otimizador personalizado\n",
    "model.compile(optimizer=optimizer, loss='binary_crossentropy', metrics=['accuracy'])\n",
    "\n",
    "# Treinando o modelo\n",
    "model.fit(X_train, y_train, epochs=30, batch_size=32, validation_data=(X_val, y_val))\n",
    "\n",
    "# Avaliando o modelo\n",
    "y_pred = model.predict(X_test)\n",
    "accuracy = accuracy_score(y_test, (y_pred > 0.5).astype(int))\n",
    "print(f'Acurácia: {accuracy}')"
   ]
  },
  {
   "cell_type": "markdown",
   "metadata": {},
   "source": [
    "Ainda não conseguimos chegar ao melhore resultado\n",
    "Mantendo esses parametros vamos tentar usar 128 hidden layers com dropout de 20%"
   ]
  },
  {
   "cell_type": "code",
   "execution_count": 9,
   "metadata": {},
   "outputs": [
    {
     "name": "stdout",
     "output_type": "stream",
     "text": [
      "Epoch 1/30\n"
     ]
    },
    {
     "name": "stderr",
     "output_type": "stream",
     "text": [
      "C:\\Users\\luize\\AppData\\Local\\Packages\\PythonSoftwareFoundation.Python.3.10_qbz5n2kfra8p0\\LocalCache\\local-packages\\Python310\\site-packages\\keras\\src\\layers\\core\\dense.py:87: UserWarning: Do not pass an `input_shape`/`input_dim` argument to a layer. When using Sequential models, prefer using an `Input(shape)` object as the first layer in the model instead.\n",
      "  super().__init__(activity_regularizer=activity_regularizer, **kwargs)\n"
     ]
    },
    {
     "name": "stdout",
     "output_type": "stream",
     "text": [
      "\u001b[1m2760/2760\u001b[0m \u001b[32m━━━━━━━━━━━━━━━━━━━━\u001b[0m\u001b[37m\u001b[0m \u001b[1m5s\u001b[0m 1ms/step - accuracy: 0.8342 - loss: 0.3849 - val_accuracy: 0.9136 - val_loss: 0.2146\n",
      "Epoch 2/30\n",
      "\u001b[1m2760/2760\u001b[0m \u001b[32m━━━━━━━━━━━━━━━━━━━━\u001b[0m\u001b[37m\u001b[0m \u001b[1m3s\u001b[0m 1ms/step - accuracy: 0.9104 - loss: 0.2226 - val_accuracy: 0.9258 - val_loss: 0.1826\n",
      "Epoch 3/30\n",
      "\u001b[1m2760/2760\u001b[0m \u001b[32m━━━━━━━━━━━━━━━━━━━━\u001b[0m\u001b[37m\u001b[0m \u001b[1m3s\u001b[0m 1ms/step - accuracy: 0.9241 - loss: 0.1888 - val_accuracy: 0.9310 - val_loss: 0.1642\n",
      "Epoch 4/30\n",
      "\u001b[1m2760/2760\u001b[0m \u001b[32m━━━━━━━━━━━━━━━━━━━━\u001b[0m\u001b[37m\u001b[0m \u001b[1m3s\u001b[0m 1ms/step - accuracy: 0.9294 - loss: 0.1706 - val_accuracy: 0.9348 - val_loss: 0.1560\n",
      "Epoch 5/30\n",
      "\u001b[1m2760/2760\u001b[0m \u001b[32m━━━━━━━━━━━━━━━━━━━━\u001b[0m\u001b[37m\u001b[0m \u001b[1m3s\u001b[0m 1ms/step - accuracy: 0.9327 - loss: 0.1595 - val_accuracy: 0.9361 - val_loss: 0.1490\n",
      "Epoch 6/30\n",
      "\u001b[1m2760/2760\u001b[0m \u001b[32m━━━━━━━━━━━━━━━━━━━━\u001b[0m\u001b[37m\u001b[0m \u001b[1m5s\u001b[0m 2ms/step - accuracy: 0.9351 - loss: 0.1532 - val_accuracy: 0.9412 - val_loss: 0.1408\n",
      "Epoch 7/30\n",
      "\u001b[1m2760/2760\u001b[0m \u001b[32m━━━━━━━━━━━━━━━━━━━━\u001b[0m\u001b[37m\u001b[0m \u001b[1m4s\u001b[0m 1ms/step - accuracy: 0.9372 - loss: 0.1464 - val_accuracy: 0.9422 - val_loss: 0.1366\n",
      "Epoch 8/30\n",
      "\u001b[1m2760/2760\u001b[0m \u001b[32m━━━━━━━━━━━━━━━━━━━━\u001b[0m\u001b[37m\u001b[0m \u001b[1m3s\u001b[0m 1ms/step - accuracy: 0.9407 - loss: 0.1431 - val_accuracy: 0.9323 - val_loss: 0.1504\n",
      "Epoch 9/30\n",
      "\u001b[1m2760/2760\u001b[0m \u001b[32m━━━━━━━━━━━━━━━━━━━━\u001b[0m\u001b[37m\u001b[0m \u001b[1m4s\u001b[0m 1ms/step - accuracy: 0.9394 - loss: 0.1414 - val_accuracy: 0.9449 - val_loss: 0.1314\n",
      "Epoch 10/30\n",
      "\u001b[1m2760/2760\u001b[0m \u001b[32m━━━━━━━━━━━━━━━━━━━━\u001b[0m\u001b[37m\u001b[0m \u001b[1m4s\u001b[0m 2ms/step - accuracy: 0.9419 - loss: 0.1392 - val_accuracy: 0.9429 - val_loss: 0.1307\n",
      "Epoch 11/30\n",
      "\u001b[1m2760/2760\u001b[0m \u001b[32m━━━━━━━━━━━━━━━━━━━━\u001b[0m\u001b[37m\u001b[0m \u001b[1m4s\u001b[0m 1ms/step - accuracy: 0.9426 - loss: 0.1383 - val_accuracy: 0.9459 - val_loss: 0.1275\n",
      "Epoch 12/30\n",
      "\u001b[1m2760/2760\u001b[0m \u001b[32m━━━━━━━━━━━━━━━━━━━━\u001b[0m\u001b[37m\u001b[0m \u001b[1m4s\u001b[0m 1ms/step - accuracy: 0.9434 - loss: 0.1343 - val_accuracy: 0.9432 - val_loss: 0.1314\n",
      "Epoch 13/30\n",
      "\u001b[1m2760/2760\u001b[0m \u001b[32m━━━━━━━━━━━━━━━━━━━━\u001b[0m\u001b[37m\u001b[0m \u001b[1m5s\u001b[0m 2ms/step - accuracy: 0.9414 - loss: 0.1350 - val_accuracy: 0.9387 - val_loss: 0.1464\n",
      "Epoch 14/30\n",
      "\u001b[1m2760/2760\u001b[0m \u001b[32m━━━━━━━━━━━━━━━━━━━━\u001b[0m\u001b[37m\u001b[0m \u001b[1m9s\u001b[0m 1ms/step - accuracy: 0.9428 - loss: 0.1337 - val_accuracy: 0.9376 - val_loss: 0.1375\n",
      "Epoch 15/30\n",
      "\u001b[1m2760/2760\u001b[0m \u001b[32m━━━━━━━━━━━━━━━━━━━━\u001b[0m\u001b[37m\u001b[0m \u001b[1m3s\u001b[0m 1ms/step - accuracy: 0.9446 - loss: 0.1303 - val_accuracy: 0.9474 - val_loss: 0.1244\n",
      "Epoch 16/30\n",
      "\u001b[1m2760/2760\u001b[0m \u001b[32m━━━━━━━━━━━━━━━━━━━━\u001b[0m\u001b[37m\u001b[0m \u001b[1m3s\u001b[0m 1ms/step - accuracy: 0.9445 - loss: 0.1297 - val_accuracy: 0.9467 - val_loss: 0.1231\n",
      "Epoch 17/30\n",
      "\u001b[1m2760/2760\u001b[0m \u001b[32m━━━━━━━━━━━━━━━━━━━━\u001b[0m\u001b[37m\u001b[0m \u001b[1m3s\u001b[0m 1ms/step - accuracy: 0.9439 - loss: 0.1307 - val_accuracy: 0.9469 - val_loss: 0.1222\n",
      "Epoch 18/30\n",
      "\u001b[1m2760/2760\u001b[0m \u001b[32m━━━━━━━━━━━━━━━━━━━━\u001b[0m\u001b[37m\u001b[0m \u001b[1m3s\u001b[0m 1ms/step - accuracy: 0.9462 - loss: 0.1277 - val_accuracy: 0.9474 - val_loss: 0.1252\n",
      "Epoch 19/30\n",
      "\u001b[1m2760/2760\u001b[0m \u001b[32m━━━━━━━━━━━━━━━━━━━━\u001b[0m\u001b[37m\u001b[0m \u001b[1m3s\u001b[0m 1ms/step - accuracy: 0.9464 - loss: 0.1262 - val_accuracy: 0.9448 - val_loss: 0.1235\n",
      "Epoch 20/30\n",
      "\u001b[1m2760/2760\u001b[0m \u001b[32m━━━━━━━━━━━━━━━━━━━━\u001b[0m\u001b[37m\u001b[0m \u001b[1m3s\u001b[0m 1ms/step - accuracy: 0.9467 - loss: 0.1234 - val_accuracy: 0.9482 - val_loss: 0.1218\n",
      "Epoch 21/30\n",
      "\u001b[1m2760/2760\u001b[0m \u001b[32m━━━━━━━━━━━━━━━━━━━━\u001b[0m\u001b[37m\u001b[0m \u001b[1m3s\u001b[0m 1ms/step - accuracy: 0.9465 - loss: 0.1241 - val_accuracy: 0.9449 - val_loss: 0.1219\n",
      "Epoch 22/30\n",
      "\u001b[1m2760/2760\u001b[0m \u001b[32m━━━━━━━━━━━━━━━━━━━━\u001b[0m\u001b[37m\u001b[0m \u001b[1m3s\u001b[0m 1ms/step - accuracy: 0.9463 - loss: 0.1241 - val_accuracy: 0.9498 - val_loss: 0.1179\n",
      "Epoch 23/30\n",
      "\u001b[1m2760/2760\u001b[0m \u001b[32m━━━━━━━━━━━━━━━━━━━━\u001b[0m\u001b[37m\u001b[0m \u001b[1m3s\u001b[0m 1ms/step - accuracy: 0.9471 - loss: 0.1250 - val_accuracy: 0.9407 - val_loss: 0.1267\n",
      "Epoch 24/30\n",
      "\u001b[1m2760/2760\u001b[0m \u001b[32m━━━━━━━━━━━━━━━━━━━━\u001b[0m\u001b[37m\u001b[0m \u001b[1m3s\u001b[0m 1ms/step - accuracy: 0.9469 - loss: 0.1244 - val_accuracy: 0.9472 - val_loss: 0.1250\n",
      "Epoch 25/30\n",
      "\u001b[1m2760/2760\u001b[0m \u001b[32m━━━━━━━━━━━━━━━━━━━━\u001b[0m\u001b[37m\u001b[0m \u001b[1m4s\u001b[0m 1ms/step - accuracy: 0.9483 - loss: 0.1234 - val_accuracy: 0.9478 - val_loss: 0.1189\n",
      "Epoch 26/30\n",
      "\u001b[1m2760/2760\u001b[0m \u001b[32m━━━━━━━━━━━━━━━━━━━━\u001b[0m\u001b[37m\u001b[0m \u001b[1m3s\u001b[0m 1ms/step - accuracy: 0.9480 - loss: 0.1228 - val_accuracy: 0.9490 - val_loss: 0.1216\n",
      "Epoch 27/30\n",
      "\u001b[1m2760/2760\u001b[0m \u001b[32m━━━━━━━━━━━━━━━━━━━━\u001b[0m\u001b[37m\u001b[0m \u001b[1m3s\u001b[0m 1ms/step - accuracy: 0.9479 - loss: 0.1210 - val_accuracy: 0.9495 - val_loss: 0.1201\n",
      "Epoch 28/30\n",
      "\u001b[1m2760/2760\u001b[0m \u001b[32m━━━━━━━━━━━━━━━━━━━━\u001b[0m\u001b[37m\u001b[0m \u001b[1m3s\u001b[0m 1ms/step - accuracy: 0.9491 - loss: 0.1211 - val_accuracy: 0.9510 - val_loss: 0.1169\n",
      "Epoch 29/30\n",
      "\u001b[1m2760/2760\u001b[0m \u001b[32m━━━━━━━━━━━━━━━━━━━━\u001b[0m\u001b[37m\u001b[0m \u001b[1m3s\u001b[0m 1ms/step - accuracy: 0.9479 - loss: 0.1225 - val_accuracy: 0.9506 - val_loss: 0.1166\n",
      "Epoch 30/30\n",
      "\u001b[1m2760/2760\u001b[0m \u001b[32m━━━━━━━━━━━━━━━━━━━━\u001b[0m\u001b[37m\u001b[0m \u001b[1m3s\u001b[0m 1ms/step - accuracy: 0.9468 - loss: 0.1241 - val_accuracy: 0.9503 - val_loss: 0.1167\n",
      "\u001b[1m812/812\u001b[0m \u001b[32m━━━━━━━━━━━━━━━━━━━━\u001b[0m\u001b[37m\u001b[0m \u001b[1m1s\u001b[0m 724us/step\n",
      "Acurácia: 0.951647674776717\n"
     ]
    }
   ],
   "source": [
    "from keras.layers import Dropout\n",
    "\n",
    "# Definindo um otimizador com learning rate específica\n",
    "optimizer = Adam(learning_rate=0.001)\n",
    "\n",
    "# Criando o modelo\n",
    "model = Sequential()\n",
    "model.add(Dense(units=128, activation='relu', input_dim=X_train.shape[1]))\n",
    "model.add(Dropout(0.2)) \n",
    "model.add(Dense(units=1, activation='sigmoid'))\n",
    "\n",
    "# Compilando o modelo com o otimizador personalizado\n",
    "model.compile(optimizer=optimizer, loss='binary_crossentropy', metrics=['accuracy'])\n",
    "\n",
    "# Treinando o modelo\n",
    "model.fit(X_train, y_train, epochs=30, batch_size=32, validation_data=(X_val, y_val))\n",
    "\n",
    "# Avaliando o modelo\n",
    "y_pred = model.predict(X_test)\n",
    "accuracy = accuracy_score(y_test, (y_pred > 0.5).astype(int))\n",
    "print(f'Acurácia: {accuracy}')"
   ]
  },
  {
   "cell_type": "markdown",
   "metadata": {},
   "source": [
    "O resultado com dropout e numero elevado de hidden layers não se pagou, pois mesmo chegando perto do resultado ótimo, o custo computacional foi muito maior, como no teste anterior a esse, a acuracia mudou muito pouco durante muitas epocas, vamos retornar à 64 camadas mas tentar incluir um dropout de 20% "
   ]
  },
  {
   "cell_type": "code",
   "execution_count": 10,
   "metadata": {},
   "outputs": [
    {
     "name": "stdout",
     "output_type": "stream",
     "text": [
      "Epoch 1/30\n"
     ]
    },
    {
     "name": "stderr",
     "output_type": "stream",
     "text": [
      "C:\\Users\\luize\\AppData\\Local\\Packages\\PythonSoftwareFoundation.Python.3.10_qbz5n2kfra8p0\\LocalCache\\local-packages\\Python310\\site-packages\\keras\\src\\layers\\core\\dense.py:87: UserWarning: Do not pass an `input_shape`/`input_dim` argument to a layer. When using Sequential models, prefer using an `Input(shape)` object as the first layer in the model instead.\n",
      "  super().__init__(activity_regularizer=activity_regularizer, **kwargs)\n"
     ]
    },
    {
     "name": "stdout",
     "output_type": "stream",
     "text": [
      "\u001b[1m2760/2760\u001b[0m \u001b[32m━━━━━━━━━━━━━━━━━━━━\u001b[0m\u001b[37m\u001b[0m \u001b[1m4s\u001b[0m 1ms/step - accuracy: 0.8117 - loss: 0.4270 - val_accuracy: 0.8963 - val_loss: 0.2574\n",
      "Epoch 2/30\n",
      "\u001b[1m2760/2760\u001b[0m \u001b[32m━━━━━━━━━━━━━━━━━━━━\u001b[0m\u001b[37m\u001b[0m \u001b[1m3s\u001b[0m 1ms/step - accuracy: 0.8991 - loss: 0.2539 - val_accuracy: 0.9169 - val_loss: 0.2044\n",
      "Epoch 3/30\n",
      "\u001b[1m2760/2760\u001b[0m \u001b[32m━━━━━━━━━━━━━━━━━━━━\u001b[0m\u001b[37m\u001b[0m \u001b[1m5s\u001b[0m 1ms/step - accuracy: 0.9151 - loss: 0.2141 - val_accuracy: 0.9283 - val_loss: 0.1815\n",
      "Epoch 4/30\n",
      "\u001b[1m2760/2760\u001b[0m \u001b[32m━━━━━━━━━━━━━━━━━━━━\u001b[0m\u001b[37m\u001b[0m \u001b[1m3s\u001b[0m 1ms/step - accuracy: 0.9225 - loss: 0.1916 - val_accuracy: 0.9325 - val_loss: 0.1643\n",
      "Epoch 5/30\n",
      "\u001b[1m2760/2760\u001b[0m \u001b[32m━━━━━━━━━━━━━━━━━━━━\u001b[0m\u001b[37m\u001b[0m \u001b[1m3s\u001b[0m 1ms/step - accuracy: 0.9292 - loss: 0.1765 - val_accuracy: 0.9360 - val_loss: 0.1551\n",
      "Epoch 6/30\n",
      "\u001b[1m2760/2760\u001b[0m \u001b[32m━━━━━━━━━━━━━━━━━━━━\u001b[0m\u001b[37m\u001b[0m \u001b[1m3s\u001b[0m 1ms/step - accuracy: 0.9298 - loss: 0.1700 - val_accuracy: 0.9365 - val_loss: 0.1511\n",
      "Epoch 7/30\n",
      "\u001b[1m2760/2760\u001b[0m \u001b[32m━━━━━━━━━━━━━━━━━━━━\u001b[0m\u001b[37m\u001b[0m \u001b[1m3s\u001b[0m 1ms/step - accuracy: 0.9335 - loss: 0.1626 - val_accuracy: 0.9390 - val_loss: 0.1474\n",
      "Epoch 8/30\n",
      "\u001b[1m2760/2760\u001b[0m \u001b[32m━━━━━━━━━━━━━━━━━━━━\u001b[0m\u001b[37m\u001b[0m \u001b[1m5s\u001b[0m 1ms/step - accuracy: 0.9341 - loss: 0.1587 - val_accuracy: 0.9398 - val_loss: 0.1445\n",
      "Epoch 9/30\n",
      "\u001b[1m2760/2760\u001b[0m \u001b[32m━━━━━━━━━━━━━━━━━━━━\u001b[0m\u001b[37m\u001b[0m \u001b[1m5s\u001b[0m 1ms/step - accuracy: 0.9371 - loss: 0.1526 - val_accuracy: 0.9414 - val_loss: 0.1401\n",
      "Epoch 10/30\n",
      "\u001b[1m2760/2760\u001b[0m \u001b[32m━━━━━━━━━━━━━━━━━━━━\u001b[0m\u001b[37m\u001b[0m \u001b[1m3s\u001b[0m 1ms/step - accuracy: 0.9382 - loss: 0.1499 - val_accuracy: 0.9425 - val_loss: 0.1385\n",
      "Epoch 11/30\n",
      "\u001b[1m2760/2760\u001b[0m \u001b[32m━━━━━━━━━━━━━━━━━━━━\u001b[0m\u001b[37m\u001b[0m \u001b[1m3s\u001b[0m 1ms/step - accuracy: 0.9378 - loss: 0.1492 - val_accuracy: 0.9438 - val_loss: 0.1347\n",
      "Epoch 12/30\n",
      "\u001b[1m2760/2760\u001b[0m \u001b[32m━━━━━━━━━━━━━━━━━━━━\u001b[0m\u001b[37m\u001b[0m \u001b[1m3s\u001b[0m 1ms/step - accuracy: 0.9378 - loss: 0.1488 - val_accuracy: 0.9459 - val_loss: 0.1339\n",
      "Epoch 13/30\n",
      "\u001b[1m2760/2760\u001b[0m \u001b[32m━━━━━━━━━━━━━━━━━━━━\u001b[0m\u001b[37m\u001b[0m \u001b[1m3s\u001b[0m 1ms/step - accuracy: 0.9399 - loss: 0.1433 - val_accuracy: 0.9442 - val_loss: 0.1321\n",
      "Epoch 14/30\n",
      "\u001b[1m2760/2760\u001b[0m \u001b[32m━━━━━━━━━━━━━━━━━━━━\u001b[0m\u001b[37m\u001b[0m \u001b[1m3s\u001b[0m 1ms/step - accuracy: 0.9400 - loss: 0.1445 - val_accuracy: 0.9445 - val_loss: 0.1302\n",
      "Epoch 15/30\n",
      "\u001b[1m2760/2760\u001b[0m \u001b[32m━━━━━━━━━━━━━━━━━━━━\u001b[0m\u001b[37m\u001b[0m \u001b[1m3s\u001b[0m 1ms/step - accuracy: 0.9397 - loss: 0.1420 - val_accuracy: 0.9456 - val_loss: 0.1300\n",
      "Epoch 16/30\n",
      "\u001b[1m2760/2760\u001b[0m \u001b[32m━━━━━━━━━━━━━━━━━━━━\u001b[0m\u001b[37m\u001b[0m \u001b[1m3s\u001b[0m 999us/step - accuracy: 0.9419 - loss: 0.1400 - val_accuracy: 0.9460 - val_loss: 0.1280\n",
      "Epoch 17/30\n",
      "\u001b[1m2760/2760\u001b[0m \u001b[32m━━━━━━━━━━━━━━━━━━━━\u001b[0m\u001b[37m\u001b[0m \u001b[1m3s\u001b[0m 1ms/step - accuracy: 0.9435 - loss: 0.1356 - val_accuracy: 0.9468 - val_loss: 0.1259\n",
      "Epoch 18/30\n",
      "\u001b[1m2760/2760\u001b[0m \u001b[32m━━━━━━━━━━━━━━━━━━━━\u001b[0m\u001b[37m\u001b[0m \u001b[1m5s\u001b[0m 1ms/step - accuracy: 0.9416 - loss: 0.1398 - val_accuracy: 0.9447 - val_loss: 0.1279\n",
      "Epoch 19/30\n",
      "\u001b[1m2760/2760\u001b[0m \u001b[32m━━━━━━━━━━━━━━━━━━━━\u001b[0m\u001b[37m\u001b[0m \u001b[1m3s\u001b[0m 1ms/step - accuracy: 0.9426 - loss: 0.1357 - val_accuracy: 0.9465 - val_loss: 0.1267\n",
      "Epoch 20/30\n",
      "\u001b[1m2760/2760\u001b[0m \u001b[32m━━━━━━━━━━━━━━━━━━━━\u001b[0m\u001b[37m\u001b[0m \u001b[1m3s\u001b[0m 1ms/step - accuracy: 0.9422 - loss: 0.1367 - val_accuracy: 0.9477 - val_loss: 0.1246\n",
      "Epoch 21/30\n",
      "\u001b[1m2760/2760\u001b[0m \u001b[32m━━━━━━━━━━━━━━━━━━━━\u001b[0m\u001b[37m\u001b[0m \u001b[1m3s\u001b[0m 1ms/step - accuracy: 0.9415 - loss: 0.1370 - val_accuracy: 0.9478 - val_loss: 0.1253\n",
      "Epoch 22/30\n",
      "\u001b[1m2760/2760\u001b[0m \u001b[32m━━━━━━━━━━━━━━━━━━━━\u001b[0m\u001b[37m\u001b[0m \u001b[1m3s\u001b[0m 1ms/step - accuracy: 0.9441 - loss: 0.1337 - val_accuracy: 0.9483 - val_loss: 0.1237\n",
      "Epoch 23/30\n",
      "\u001b[1m2760/2760\u001b[0m \u001b[32m━━━━━━━━━━━━━━━━━━━━\u001b[0m\u001b[37m\u001b[0m \u001b[1m3s\u001b[0m 1ms/step - accuracy: 0.9437 - loss: 0.1348 - val_accuracy: 0.9425 - val_loss: 0.1264\n",
      "Epoch 24/30\n",
      "\u001b[1m2760/2760\u001b[0m \u001b[32m━━━━━━━━━━━━━━━━━━━━\u001b[0m\u001b[37m\u001b[0m \u001b[1m3s\u001b[0m 1ms/step - accuracy: 0.9441 - loss: 0.1330 - val_accuracy: 0.9493 - val_loss: 0.1225\n",
      "Epoch 25/30\n",
      "\u001b[1m2760/2760\u001b[0m \u001b[32m━━━━━━━━━━━━━━━━━━━━\u001b[0m\u001b[37m\u001b[0m \u001b[1m3s\u001b[0m 1ms/step - accuracy: 0.9448 - loss: 0.1318 - val_accuracy: 0.9480 - val_loss: 0.1227\n",
      "Epoch 26/30\n",
      "\u001b[1m2760/2760\u001b[0m \u001b[32m━━━━━━━━━━━━━━━━━━━━\u001b[0m\u001b[37m\u001b[0m \u001b[1m3s\u001b[0m 993us/step - accuracy: 0.9436 - loss: 0.1313 - val_accuracy: 0.9490 - val_loss: 0.1229\n",
      "Epoch 27/30\n",
      "\u001b[1m2760/2760\u001b[0m \u001b[32m━━━━━━━━━━━━━━━━━━━━\u001b[0m\u001b[37m\u001b[0m \u001b[1m3s\u001b[0m 1ms/step - accuracy: 0.9431 - loss: 0.1339 - val_accuracy: 0.9481 - val_loss: 0.1219\n",
      "Epoch 28/30\n",
      "\u001b[1m2760/2760\u001b[0m \u001b[32m━━━━━━━━━━━━━━━━━━━━\u001b[0m\u001b[37m\u001b[0m \u001b[1m3s\u001b[0m 1ms/step - accuracy: 0.9450 - loss: 0.1320 - val_accuracy: 0.9489 - val_loss: 0.1222\n",
      "Epoch 29/30\n",
      "\u001b[1m2760/2760\u001b[0m \u001b[32m━━━━━━━━━━━━━━━━━━━━\u001b[0m\u001b[37m\u001b[0m \u001b[1m3s\u001b[0m 1ms/step - accuracy: 0.9444 - loss: 0.1312 - val_accuracy: 0.9500 - val_loss: 0.1198\n",
      "Epoch 30/30\n",
      "\u001b[1m2760/2760\u001b[0m \u001b[32m━━━━━━━━━━━━━━━━━━━━\u001b[0m\u001b[37m\u001b[0m \u001b[1m3s\u001b[0m 1ms/step - accuracy: 0.9453 - loss: 0.1291 - val_accuracy: 0.9478 - val_loss: 0.1241\n",
      "\u001b[1m812/812\u001b[0m \u001b[32m━━━━━━━━━━━━━━━━━━━━\u001b[0m\u001b[37m\u001b[0m \u001b[1m1s\u001b[0m 579us/step\n",
      "Acurácia: 0.9501077918078226\n"
     ]
    }
   ],
   "source": [
    "from keras.layers import Dropout\n",
    "\n",
    "# Definindo um otimizador com learning rate específica\n",
    "optimizer = Adam(learning_rate=0.001)\n",
    "\n",
    "# Criando o modelo\n",
    "model = Sequential()\n",
    "model.add(Dense(units=64, activation='relu', input_dim=X_train.shape[1]))\n",
    "model.add(Dropout(0.2)) \n",
    "model.add(Dense(units=1, activation='sigmoid'))\n",
    "\n",
    "# Compilando o modelo com o otimizador personalizado\n",
    "model.compile(optimizer=optimizer, loss='binary_crossentropy', metrics=['accuracy'])\n",
    "\n",
    "# Treinando o modelo\n",
    "model.fit(X_train, y_train, epochs=30, batch_size=32, validation_data=(X_val, y_val))\n",
    "\n",
    "# Avaliando o modelo\n",
    "y_pred = model.predict(X_test)\n",
    "accuracy = accuracy_score(y_test, (y_pred > 0.5).astype(int))\n",
    "print(f'Acurácia: {accuracy}')"
   ]
  },
  {
   "cell_type": "markdown",
   "metadata": {},
   "source": [
    "Não valeu a pena, ainda não chegamos no melhor resultado, vamos tentar diminuir as épocas com esses parametros para ver se o dropout faz algum efeito"
   ]
  },
  {
   "cell_type": "code",
   "execution_count": 11,
   "metadata": {},
   "outputs": [
    {
     "name": "stdout",
     "output_type": "stream",
     "text": [
      "Epoch 1/20\n"
     ]
    },
    {
     "name": "stderr",
     "output_type": "stream",
     "text": [
      "C:\\Users\\luize\\AppData\\Local\\Packages\\PythonSoftwareFoundation.Python.3.10_qbz5n2kfra8p0\\LocalCache\\local-packages\\Python310\\site-packages\\keras\\src\\layers\\core\\dense.py:87: UserWarning: Do not pass an `input_shape`/`input_dim` argument to a layer. When using Sequential models, prefer using an `Input(shape)` object as the first layer in the model instead.\n",
      "  super().__init__(activity_regularizer=activity_regularizer, **kwargs)\n"
     ]
    },
    {
     "name": "stdout",
     "output_type": "stream",
     "text": [
      "\u001b[1m2760/2760\u001b[0m \u001b[32m━━━━━━━━━━━━━━━━━━━━\u001b[0m\u001b[37m\u001b[0m \u001b[1m4s\u001b[0m 1ms/step - accuracy: 0.8155 - loss: 0.4223 - val_accuracy: 0.9068 - val_loss: 0.2336\n",
      "Epoch 2/20\n",
      "\u001b[1m2760/2760\u001b[0m \u001b[32m━━━━━━━━━━━━━━━━━━━━\u001b[0m\u001b[37m\u001b[0m \u001b[1m3s\u001b[0m 1ms/step - accuracy: 0.9049 - loss: 0.2334 - val_accuracy: 0.9227 - val_loss: 0.1926\n",
      "Epoch 3/20\n",
      "\u001b[1m2760/2760\u001b[0m \u001b[32m━━━━━━━━━━━━━━━━━━━━\u001b[0m\u001b[37m\u001b[0m \u001b[1m3s\u001b[0m 1ms/step - accuracy: 0.9211 - loss: 0.1995 - val_accuracy: 0.9290 - val_loss: 0.1762\n",
      "Epoch 4/20\n",
      "\u001b[1m2760/2760\u001b[0m \u001b[32m━━━━━━━━━━━━━━━━━━━━\u001b[0m\u001b[37m\u001b[0m \u001b[1m3s\u001b[0m 1ms/step - accuracy: 0.9274 - loss: 0.1805 - val_accuracy: 0.9349 - val_loss: 0.1618\n",
      "Epoch 5/20\n",
      "\u001b[1m2760/2760\u001b[0m \u001b[32m━━━━━━━━━━━━━━━━━━━━\u001b[0m\u001b[37m\u001b[0m \u001b[1m3s\u001b[0m 1ms/step - accuracy: 0.9319 - loss: 0.1670 - val_accuracy: 0.9375 - val_loss: 0.1497\n",
      "Epoch 6/20\n",
      "\u001b[1m2760/2760\u001b[0m \u001b[32m━━━━━━━━━━━━━━━━━━━━\u001b[0m\u001b[37m\u001b[0m \u001b[1m3s\u001b[0m 1ms/step - accuracy: 0.9330 - loss: 0.1627 - val_accuracy: 0.9395 - val_loss: 0.1464\n",
      "Epoch 7/20\n",
      "\u001b[1m2760/2760\u001b[0m \u001b[32m━━━━━━━━━━━━━━━━━━━━\u001b[0m\u001b[37m\u001b[0m \u001b[1m3s\u001b[0m 1ms/step - accuracy: 0.9365 - loss: 0.1548 - val_accuracy: 0.9349 - val_loss: 0.1490\n",
      "Epoch 8/20\n",
      "\u001b[1m2760/2760\u001b[0m \u001b[32m━━━━━━━━━━━━━━━━━━━━\u001b[0m\u001b[37m\u001b[0m \u001b[1m3s\u001b[0m 1ms/step - accuracy: 0.9381 - loss: 0.1511 - val_accuracy: 0.9401 - val_loss: 0.1388\n",
      "Epoch 9/20\n",
      "\u001b[1m2760/2760\u001b[0m \u001b[32m━━━━━━━━━━━━━━━━━━━━\u001b[0m\u001b[37m\u001b[0m \u001b[1m3s\u001b[0m 997us/step - accuracy: 0.9391 - loss: 0.1471 - val_accuracy: 0.9411 - val_loss: 0.1401\n",
      "Epoch 10/20\n",
      "\u001b[1m2760/2760\u001b[0m \u001b[32m━━━━━━━━━━━━━━━━━━━━\u001b[0m\u001b[37m\u001b[0m \u001b[1m3s\u001b[0m 1ms/step - accuracy: 0.9385 - loss: 0.1489 - val_accuracy: 0.9408 - val_loss: 0.1353\n",
      "Epoch 11/20\n",
      "\u001b[1m2760/2760\u001b[0m \u001b[32m━━━━━━━━━━━━━━━━━━━━\u001b[0m\u001b[37m\u001b[0m \u001b[1m3s\u001b[0m 1ms/step - accuracy: 0.9406 - loss: 0.1446 - val_accuracy: 0.9436 - val_loss: 0.1317\n",
      "Epoch 12/20\n",
      "\u001b[1m2760/2760\u001b[0m \u001b[32m━━━━━━━━━━━━━━━━━━━━\u001b[0m\u001b[37m\u001b[0m \u001b[1m3s\u001b[0m 1ms/step - accuracy: 0.9422 - loss: 0.1405 - val_accuracy: 0.9397 - val_loss: 0.1358\n",
      "Epoch 13/20\n",
      "\u001b[1m2760/2760\u001b[0m \u001b[32m━━━━━━━━━━━━━━━━━━━━\u001b[0m\u001b[37m\u001b[0m \u001b[1m4s\u001b[0m 1ms/step - accuracy: 0.9422 - loss: 0.1404 - val_accuracy: 0.9430 - val_loss: 0.1382\n",
      "Epoch 14/20\n",
      "\u001b[1m2760/2760\u001b[0m \u001b[32m━━━━━━━━━━━━━━━━━━━━\u001b[0m\u001b[37m\u001b[0m \u001b[1m3s\u001b[0m 1ms/step - accuracy: 0.9416 - loss: 0.1385 - val_accuracy: 0.9453 - val_loss: 0.1289\n",
      "Epoch 15/20\n",
      "\u001b[1m2760/2760\u001b[0m \u001b[32m━━━━━━━━━━━━━━━━━━━━\u001b[0m\u001b[37m\u001b[0m \u001b[1m3s\u001b[0m 1ms/step - accuracy: 0.9423 - loss: 0.1385 - val_accuracy: 0.9469 - val_loss: 0.1278\n",
      "Epoch 16/20\n",
      "\u001b[1m2760/2760\u001b[0m \u001b[32m━━━━━━━━━━━━━━━━━━━━\u001b[0m\u001b[37m\u001b[0m \u001b[1m3s\u001b[0m 1ms/step - accuracy: 0.9436 - loss: 0.1354 - val_accuracy: 0.9439 - val_loss: 0.1289\n",
      "Epoch 17/20\n",
      "\u001b[1m2760/2760\u001b[0m \u001b[32m━━━━━━━━━━━━━━━━━━━━\u001b[0m\u001b[37m\u001b[0m \u001b[1m3s\u001b[0m 1ms/step - accuracy: 0.9432 - loss: 0.1357 - val_accuracy: 0.9429 - val_loss: 0.1313\n",
      "Epoch 18/20\n",
      "\u001b[1m2760/2760\u001b[0m \u001b[32m━━━━━━━━━━━━━━━━━━━━\u001b[0m\u001b[37m\u001b[0m \u001b[1m3s\u001b[0m 1ms/step - accuracy: 0.9439 - loss: 0.1336 - val_accuracy: 0.9439 - val_loss: 0.1292\n",
      "Epoch 19/20\n",
      "\u001b[1m2760/2760\u001b[0m \u001b[32m━━━━━━━━━━━━━━━━━━━━\u001b[0m\u001b[37m\u001b[0m \u001b[1m4s\u001b[0m 1ms/step - accuracy: 0.9430 - loss: 0.1347 - val_accuracy: 0.9458 - val_loss: 0.1255\n",
      "Epoch 20/20\n",
      "\u001b[1m2760/2760\u001b[0m \u001b[32m━━━━━━━━━━━━━━━━━━━━\u001b[0m\u001b[37m\u001b[0m \u001b[1m3s\u001b[0m 1ms/step - accuracy: 0.9429 - loss: 0.1317 - val_accuracy: 0.9468 - val_loss: 0.1241\n",
      "\u001b[1m812/812\u001b[0m \u001b[32m━━━━━━━━━━━━━━━━━━━━\u001b[0m\u001b[37m\u001b[0m \u001b[1m1s\u001b[0m 739us/step\n",
      "Acurácia: 0.9488758854327071\n"
     ]
    }
   ],
   "source": [
    "from keras.layers import Dropout\n",
    "\n",
    "# Definindo um otimizador com learning rate específica\n",
    "optimizer = Adam(learning_rate=0.001)\n",
    "\n",
    "# Criando o modelo\n",
    "model = Sequential()\n",
    "model.add(Dense(units=64, activation='relu', input_dim=X_train.shape[1]))\n",
    "model.add(Dropout(0.2)) \n",
    "model.add(Dense(units=1, activation='sigmoid'))\n",
    "\n",
    "# Compilando o modelo com o otimizador personalizado\n",
    "model.compile(optimizer=optimizer, loss='binary_crossentropy', metrics=['accuracy'])\n",
    "\n",
    "# Treinando o modelo\n",
    "model.fit(X_train, y_train, epochs=20, batch_size=32, validation_data=(X_val, y_val))\n",
    "\n",
    "# Avaliando o modelo\n",
    "y_pred = model.predict(X_test)\n",
    "accuracy = accuracy_score(y_test, (y_pred > 0.5).astype(int))\n",
    "print(f'Acurácia: {accuracy}')"
   ]
  },
  {
   "cell_type": "markdown",
   "metadata": {},
   "source": [
    "O dropout não se pagou. Vamos tentar com nosso melhor modelo, diminuir a learning rate e dobrar o número de épocas"
   ]
  },
  {
   "cell_type": "code",
   "execution_count": 12,
   "metadata": {},
   "outputs": [
    {
     "name": "stdout",
     "output_type": "stream",
     "text": [
      "Epoch 1/40\n"
     ]
    },
    {
     "name": "stderr",
     "output_type": "stream",
     "text": [
      "C:\\Users\\luize\\AppData\\Local\\Packages\\PythonSoftwareFoundation.Python.3.10_qbz5n2kfra8p0\\LocalCache\\local-packages\\Python310\\site-packages\\keras\\src\\layers\\core\\dense.py:87: UserWarning: Do not pass an `input_shape`/`input_dim` argument to a layer. When using Sequential models, prefer using an `Input(shape)` object as the first layer in the model instead.\n",
      "  super().__init__(activity_regularizer=activity_regularizer, **kwargs)\n"
     ]
    },
    {
     "name": "stdout",
     "output_type": "stream",
     "text": [
      "\u001b[1m2760/2760\u001b[0m \u001b[32m━━━━━━━━━━━━━━━━━━━━\u001b[0m\u001b[37m\u001b[0m \u001b[1m5s\u001b[0m 1ms/step - accuracy: 0.8071 - loss: 0.4496 - val_accuracy: 0.8954 - val_loss: 0.2657\n",
      "Epoch 2/40\n",
      "\u001b[1m2760/2760\u001b[0m \u001b[32m━━━━━━━━━━━━━━━━━━━━\u001b[0m\u001b[37m\u001b[0m \u001b[1m4s\u001b[0m 1ms/step - accuracy: 0.9018 - loss: 0.2476 - val_accuracy: 0.9135 - val_loss: 0.2150\n",
      "Epoch 3/40\n",
      "\u001b[1m2760/2760\u001b[0m \u001b[32m━━━━━━━━━━━━━━━━━━━━\u001b[0m\u001b[37m\u001b[0m \u001b[1m5s\u001b[0m 1ms/step - accuracy: 0.9172 - loss: 0.2085 - val_accuracy: 0.9228 - val_loss: 0.1947\n",
      "Epoch 4/40\n",
      "\u001b[1m2760/2760\u001b[0m \u001b[32m━━━━━━━━━━━━━━━━━━━━\u001b[0m\u001b[37m\u001b[0m \u001b[1m4s\u001b[0m 1ms/step - accuracy: 0.9251 - loss: 0.1899 - val_accuracy: 0.9299 - val_loss: 0.1760\n",
      "Epoch 5/40\n",
      "\u001b[1m2760/2760\u001b[0m \u001b[32m━━━━━━━━━━━━━━━━━━━━\u001b[0m\u001b[37m\u001b[0m \u001b[1m5s\u001b[0m 1ms/step - accuracy: 0.9322 - loss: 0.1719 - val_accuracy: 0.9332 - val_loss: 0.1654\n",
      "Epoch 6/40\n",
      "\u001b[1m2760/2760\u001b[0m \u001b[32m━━━━━━━━━━━━━━━━━━━━\u001b[0m\u001b[37m\u001b[0m \u001b[1m3s\u001b[0m 1ms/step - accuracy: 0.9351 - loss: 0.1635 - val_accuracy: 0.9355 - val_loss: 0.1580\n",
      "Epoch 7/40\n",
      "\u001b[1m2760/2760\u001b[0m \u001b[32m━━━━━━━━━━━━━━━━━━━━\u001b[0m\u001b[37m\u001b[0m \u001b[1m3s\u001b[0m 1ms/step - accuracy: 0.9353 - loss: 0.1587 - val_accuracy: 0.9372 - val_loss: 0.1528\n",
      "Epoch 8/40\n",
      "\u001b[1m2760/2760\u001b[0m \u001b[32m━━━━━━━━━━━━━━━━━━━━\u001b[0m\u001b[37m\u001b[0m \u001b[1m3s\u001b[0m 1ms/step - accuracy: 0.9370 - loss: 0.1533 - val_accuracy: 0.9391 - val_loss: 0.1499\n",
      "Epoch 9/40\n",
      "\u001b[1m2760/2760\u001b[0m \u001b[32m━━━━━━━━━━━━━━━━━━━━\u001b[0m\u001b[37m\u001b[0m \u001b[1m5s\u001b[0m 1ms/step - accuracy: 0.9385 - loss: 0.1470 - val_accuracy: 0.9400 - val_loss: 0.1449\n",
      "Epoch 10/40\n",
      "\u001b[1m2760/2760\u001b[0m \u001b[32m━━━━━━━━━━━━━━━━━━━━\u001b[0m\u001b[37m\u001b[0m \u001b[1m3s\u001b[0m 1ms/step - accuracy: 0.9402 - loss: 0.1452 - val_accuracy: 0.9414 - val_loss: 0.1422\n",
      "Epoch 11/40\n",
      "\u001b[1m2760/2760\u001b[0m \u001b[32m━━━━━━━━━━━━━━━━━━━━\u001b[0m\u001b[37m\u001b[0m \u001b[1m3s\u001b[0m 1ms/step - accuracy: 0.9426 - loss: 0.1406 - val_accuracy: 0.9412 - val_loss: 0.1408\n",
      "Epoch 12/40\n",
      "\u001b[1m2760/2760\u001b[0m \u001b[32m━━━━━━━━━━━━━━━━━━━━\u001b[0m\u001b[37m\u001b[0m \u001b[1m3s\u001b[0m 1ms/step - accuracy: 0.9430 - loss: 0.1386 - val_accuracy: 0.9402 - val_loss: 0.1386\n",
      "Epoch 13/40\n",
      "\u001b[1m2760/2760\u001b[0m \u001b[32m━━━━━━━━━━━━━━━━━━━━\u001b[0m\u001b[37m\u001b[0m \u001b[1m3s\u001b[0m 1ms/step - accuracy: 0.9428 - loss: 0.1374 - val_accuracy: 0.9432 - val_loss: 0.1369\n",
      "Epoch 14/40\n",
      "\u001b[1m2760/2760\u001b[0m \u001b[32m━━━━━━━━━━━━━━━━━━━━\u001b[0m\u001b[37m\u001b[0m \u001b[1m3s\u001b[0m 1ms/step - accuracy: 0.9432 - loss: 0.1363 - val_accuracy: 0.9438 - val_loss: 0.1337\n",
      "Epoch 15/40\n",
      "\u001b[1m2760/2760\u001b[0m \u001b[32m━━━━━━━━━━━━━━━━━━━━\u001b[0m\u001b[37m\u001b[0m \u001b[1m3s\u001b[0m 1ms/step - accuracy: 0.9460 - loss: 0.1302 - val_accuracy: 0.9439 - val_loss: 0.1320\n",
      "Epoch 16/40\n",
      "\u001b[1m2760/2760\u001b[0m \u001b[32m━━━━━━━━━━━━━━━━━━━━\u001b[0m\u001b[37m\u001b[0m \u001b[1m3s\u001b[0m 1ms/step - accuracy: 0.9458 - loss: 0.1287 - val_accuracy: 0.9398 - val_loss: 0.1378\n",
      "Epoch 17/40\n",
      "\u001b[1m2760/2760\u001b[0m \u001b[32m━━━━━━━━━━━━━━━━━━━━\u001b[0m\u001b[37m\u001b[0m \u001b[1m3s\u001b[0m 1ms/step - accuracy: 0.9457 - loss: 0.1305 - val_accuracy: 0.9357 - val_loss: 0.1413\n",
      "Epoch 18/40\n",
      "\u001b[1m2760/2760\u001b[0m \u001b[32m━━━━━━━━━━━━━━━━━━━━\u001b[0m\u001b[37m\u001b[0m \u001b[1m3s\u001b[0m 1ms/step - accuracy: 0.9471 - loss: 0.1259 - val_accuracy: 0.9411 - val_loss: 0.1352\n",
      "Epoch 19/40\n",
      "\u001b[1m2760/2760\u001b[0m \u001b[32m━━━━━━━━━━━━━━━━━━━━\u001b[0m\u001b[37m\u001b[0m \u001b[1m3s\u001b[0m 1ms/step - accuracy: 0.9452 - loss: 0.1287 - val_accuracy: 0.9456 - val_loss: 0.1285\n",
      "Epoch 20/40\n",
      "\u001b[1m2760/2760\u001b[0m \u001b[32m━━━━━━━━━━━━━━━━━━━━\u001b[0m\u001b[37m\u001b[0m \u001b[1m3s\u001b[0m 1ms/step - accuracy: 0.9477 - loss: 0.1249 - val_accuracy: 0.9391 - val_loss: 0.1321\n",
      "Epoch 21/40\n",
      "\u001b[1m2760/2760\u001b[0m \u001b[32m━━━━━━━━━━━━━━━━━━━━\u001b[0m\u001b[37m\u001b[0m \u001b[1m3s\u001b[0m 1ms/step - accuracy: 0.9478 - loss: 0.1220 - val_accuracy: 0.9480 - val_loss: 0.1242\n",
      "Epoch 22/40\n",
      "\u001b[1m2760/2760\u001b[0m \u001b[32m━━━━━━━━━━━━━━━━━━━━\u001b[0m\u001b[37m\u001b[0m \u001b[1m3s\u001b[0m 1ms/step - accuracy: 0.9482 - loss: 0.1222 - val_accuracy: 0.9412 - val_loss: 0.1296\n",
      "Epoch 23/40\n",
      "\u001b[1m2760/2760\u001b[0m \u001b[32m━━━━━━━━━━━━━━━━━━━━\u001b[0m\u001b[37m\u001b[0m \u001b[1m3s\u001b[0m 1ms/step - accuracy: 0.9476 - loss: 0.1249 - val_accuracy: 0.9449 - val_loss: 0.1276\n",
      "Epoch 24/40\n",
      "\u001b[1m2760/2760\u001b[0m \u001b[32m━━━━━━━━━━━━━━━━━━━━\u001b[0m\u001b[37m\u001b[0m \u001b[1m3s\u001b[0m 1ms/step - accuracy: 0.9481 - loss: 0.1230 - val_accuracy: 0.9486 - val_loss: 0.1217\n",
      "Epoch 25/40\n",
      "\u001b[1m2760/2760\u001b[0m \u001b[32m━━━━━━━━━━━━━━━━━━━━\u001b[0m\u001b[37m\u001b[0m \u001b[1m3s\u001b[0m 1ms/step - accuracy: 0.9490 - loss: 0.1203 - val_accuracy: 0.9423 - val_loss: 0.1264\n",
      "Epoch 26/40\n",
      "\u001b[1m2760/2760\u001b[0m \u001b[32m━━━━━━━━━━━━━━━━━━━━\u001b[0m\u001b[37m\u001b[0m \u001b[1m3s\u001b[0m 1ms/step - accuracy: 0.9510 - loss: 0.1168 - val_accuracy: 0.9452 - val_loss: 0.1226\n",
      "Epoch 27/40\n",
      "\u001b[1m2760/2760\u001b[0m \u001b[32m━━━━━━━━━━━━━━━━━━━━\u001b[0m\u001b[37m\u001b[0m \u001b[1m3s\u001b[0m 1ms/step - accuracy: 0.9493 - loss: 0.1203 - val_accuracy: 0.9469 - val_loss: 0.1226\n",
      "Epoch 28/40\n",
      "\u001b[1m2760/2760\u001b[0m \u001b[32m━━━━━━━━━━━━━━━━━━━━\u001b[0m\u001b[37m\u001b[0m \u001b[1m3s\u001b[0m 1ms/step - accuracy: 0.9489 - loss: 0.1203 - val_accuracy: 0.9472 - val_loss: 0.1222\n",
      "Epoch 29/40\n",
      "\u001b[1m2760/2760\u001b[0m \u001b[32m━━━━━━━━━━━━━━━━━━━━\u001b[0m\u001b[37m\u001b[0m \u001b[1m3s\u001b[0m 1ms/step - accuracy: 0.9483 - loss: 0.1187 - val_accuracy: 0.9484 - val_loss: 0.1203\n",
      "Epoch 30/40\n",
      "\u001b[1m2760/2760\u001b[0m \u001b[32m━━━━━━━━━━━━━━━━━━━━\u001b[0m\u001b[37m\u001b[0m \u001b[1m3s\u001b[0m 1ms/step - accuracy: 0.9501 - loss: 0.1178 - val_accuracy: 0.9465 - val_loss: 0.1216\n",
      "Epoch 31/40\n",
      "\u001b[1m2760/2760\u001b[0m \u001b[32m━━━━━━━━━━━━━━━━━━━━\u001b[0m\u001b[37m\u001b[0m \u001b[1m3s\u001b[0m 1ms/step - accuracy: 0.9499 - loss: 0.1163 - val_accuracy: 0.9489 - val_loss: 0.1187\n",
      "Epoch 32/40\n",
      "\u001b[1m2760/2760\u001b[0m \u001b[32m━━━━━━━━━━━━━━━━━━━━\u001b[0m\u001b[37m\u001b[0m \u001b[1m3s\u001b[0m 1ms/step - accuracy: 0.9515 - loss: 0.1176 - val_accuracy: 0.9500 - val_loss: 0.1174\n",
      "Epoch 33/40\n",
      "\u001b[1m2760/2760\u001b[0m \u001b[32m━━━━━━━━━━━━━━━━━━━━\u001b[0m\u001b[37m\u001b[0m \u001b[1m5s\u001b[0m 1ms/step - accuracy: 0.9514 - loss: 0.1143 - val_accuracy: 0.9484 - val_loss: 0.1210\n",
      "Epoch 34/40\n",
      "\u001b[1m2760/2760\u001b[0m \u001b[32m━━━━━━━━━━━━━━━━━━━━\u001b[0m\u001b[37m\u001b[0m \u001b[1m3s\u001b[0m 1ms/step - accuracy: 0.9516 - loss: 0.1137 - val_accuracy: 0.9492 - val_loss: 0.1192\n",
      "Epoch 35/40\n",
      "\u001b[1m2760/2760\u001b[0m \u001b[32m━━━━━━━━━━━━━━━━━━━━\u001b[0m\u001b[37m\u001b[0m \u001b[1m3s\u001b[0m 1ms/step - accuracy: 0.9516 - loss: 0.1146 - val_accuracy: 0.9499 - val_loss: 0.1190\n",
      "Epoch 36/40\n",
      "\u001b[1m2760/2760\u001b[0m \u001b[32m━━━━━━━━━━━━━━━━━━━━\u001b[0m\u001b[37m\u001b[0m \u001b[1m5s\u001b[0m 1ms/step - accuracy: 0.9537 - loss: 0.1111 - val_accuracy: 0.9487 - val_loss: 0.1202\n",
      "Epoch 37/40\n",
      "\u001b[1m2760/2760\u001b[0m \u001b[32m━━━━━━━━━━━━━━━━━━━━\u001b[0m\u001b[37m\u001b[0m \u001b[1m3s\u001b[0m 1ms/step - accuracy: 0.9523 - loss: 0.1119 - val_accuracy: 0.9496 - val_loss: 0.1177\n",
      "Epoch 38/40\n",
      "\u001b[1m2760/2760\u001b[0m \u001b[32m━━━━━━━━━━━━━━━━━━━━\u001b[0m\u001b[37m\u001b[0m \u001b[1m3s\u001b[0m 993us/step - accuracy: 0.9515 - loss: 0.1143 - val_accuracy: 0.9498 - val_loss: 0.1185\n",
      "Epoch 39/40\n",
      "\u001b[1m2760/2760\u001b[0m \u001b[32m━━━━━━━━━━━━━━━━━━━━\u001b[0m\u001b[37m\u001b[0m \u001b[1m3s\u001b[0m 945us/step - accuracy: 0.9521 - loss: 0.1132 - val_accuracy: 0.9500 - val_loss: 0.1173\n",
      "Epoch 40/40\n",
      "\u001b[1m2760/2760\u001b[0m \u001b[32m━━━━━━━━━━━━━━━━━━━━\u001b[0m\u001b[37m\u001b[0m \u001b[1m3s\u001b[0m 987us/step - accuracy: 0.9511 - loss: 0.1137 - val_accuracy: 0.9496 - val_loss: 0.1176\n",
      "\u001b[1m812/812\u001b[0m \u001b[32m━━━━━━━━━━━━━━━━━━━━\u001b[0m\u001b[37m\u001b[0m \u001b[1m1s\u001b[0m 669us/step\n",
      "Acurácia: 0.951763165999384\n"
     ]
    }
   ],
   "source": [
    "from keras.optimizers import Adam\n",
    "\n",
    "# Definindo um otimizador com learning rate específica\n",
    "optimizer = Adam(learning_rate=0.0005)\n",
    "\n",
    "# Criando o modelo\n",
    "model = Sequential()\n",
    "model.add(Dense(units=64, activation='relu', input_dim=X_train.shape[1]))\n",
    "model.add(Dense(units=1, activation='sigmoid'))\n",
    "\n",
    "# Compilando o modelo com o otimizador personalizado\n",
    "model.compile(optimizer=optimizer, loss='binary_crossentropy', metrics=['accuracy'])\n",
    "\n",
    "# Treinando o modelo\n",
    "model.fit(X_train, y_train, epochs=40, batch_size=32, validation_data=(X_val, y_val))\n",
    "\n",
    "# Avaliando o modelo\n",
    "y_pred = model.predict(X_test)\n",
    "accuracy = accuracy_score(y_test, (y_pred > 0.5).astype(int))\n",
    "print(f'Acurácia: {accuracy}')"
   ]
  },
  {
   "cell_type": "markdown",
   "metadata": {},
   "source": [
    "Talvez o número de épocas tenha sido pouco para essa learning rate, visto que ela foi aumentando a acuracia aos poucos, vamos então aumentar para 60 épocas e adicionar um dropout para evitar overfiting"
   ]
  },
  {
   "cell_type": "code",
   "execution_count": 13,
   "metadata": {},
   "outputs": [
    {
     "name": "stdout",
     "output_type": "stream",
     "text": [
      "Epoch 1/60\n"
     ]
    },
    {
     "name": "stderr",
     "output_type": "stream",
     "text": [
      "C:\\Users\\luize\\AppData\\Local\\Packages\\PythonSoftwareFoundation.Python.3.10_qbz5n2kfra8p0\\LocalCache\\local-packages\\Python310\\site-packages\\keras\\src\\layers\\core\\dense.py:87: UserWarning: Do not pass an `input_shape`/`input_dim` argument to a layer. When using Sequential models, prefer using an `Input(shape)` object as the first layer in the model instead.\n",
      "  super().__init__(activity_regularizer=activity_regularizer, **kwargs)\n"
     ]
    },
    {
     "name": "stdout",
     "output_type": "stream",
     "text": [
      "\u001b[1m2760/2760\u001b[0m \u001b[32m━━━━━━━━━━━━━━━━━━━━\u001b[0m\u001b[37m\u001b[0m \u001b[1m4s\u001b[0m 1ms/step - accuracy: 0.7799 - loss: 0.4742 - val_accuracy: 0.8826 - val_loss: 0.2988\n",
      "Epoch 2/60\n",
      "\u001b[1m2760/2760\u001b[0m \u001b[32m━━━━━━━━━━━━━━━━━━━━\u001b[0m\u001b[37m\u001b[0m \u001b[1m3s\u001b[0m 1ms/step - accuracy: 0.8826 - loss: 0.2944 - val_accuracy: 0.9047 - val_loss: 0.2392\n",
      "Epoch 3/60\n",
      "\u001b[1m2760/2760\u001b[0m \u001b[32m━━━━━━━━━━━━━━━━━━━━\u001b[0m\u001b[37m\u001b[0m \u001b[1m3s\u001b[0m 1ms/step - accuracy: 0.9043 - loss: 0.2438 - val_accuracy: 0.9158 - val_loss: 0.2114\n",
      "Epoch 4/60\n",
      "\u001b[1m2760/2760\u001b[0m \u001b[32m━━━━━━━━━━━━━━━━━━━━\u001b[0m\u001b[37m\u001b[0m \u001b[1m3s\u001b[0m 1ms/step - accuracy: 0.9136 - loss: 0.2173 - val_accuracy: 0.9266 - val_loss: 0.1900\n",
      "Epoch 5/60\n",
      "\u001b[1m2760/2760\u001b[0m \u001b[32m━━━━━━━━━━━━━━━━━━━━\u001b[0m\u001b[37m\u001b[0m \u001b[1m3s\u001b[0m 1ms/step - accuracy: 0.9174 - loss: 0.2056 - val_accuracy: 0.9298 - val_loss: 0.1781\n",
      "Epoch 6/60\n",
      "\u001b[1m2760/2760\u001b[0m \u001b[32m━━━━━━━━━━━━━━━━━━━━\u001b[0m\u001b[37m\u001b[0m \u001b[1m3s\u001b[0m 1ms/step - accuracy: 0.9237 - loss: 0.1909 - val_accuracy: 0.9320 - val_loss: 0.1682\n",
      "Epoch 7/60\n",
      "\u001b[1m2760/2760\u001b[0m \u001b[32m━━━━━━━━━━━━━━━━━━━━\u001b[0m\u001b[37m\u001b[0m \u001b[1m3s\u001b[0m 1ms/step - accuracy: 0.9279 - loss: 0.1783 - val_accuracy: 0.9325 - val_loss: 0.1623\n",
      "Epoch 8/60\n",
      "\u001b[1m2760/2760\u001b[0m \u001b[32m━━━━━━━━━━━━━━━━━━━━\u001b[0m\u001b[37m\u001b[0m \u001b[1m3s\u001b[0m 1ms/step - accuracy: 0.9295 - loss: 0.1714 - val_accuracy: 0.9354 - val_loss: 0.1574\n",
      "Epoch 9/60\n",
      "\u001b[1m2760/2760\u001b[0m \u001b[32m━━━━━━━━━━━━━━━━━━━━\u001b[0m\u001b[37m\u001b[0m \u001b[1m3s\u001b[0m 1ms/step - accuracy: 0.9315 - loss: 0.1652 - val_accuracy: 0.9382 - val_loss: 0.1501\n",
      "Epoch 10/60\n",
      "\u001b[1m2760/2760\u001b[0m \u001b[32m━━━━━━━━━━━━━━━━━━━━\u001b[0m\u001b[37m\u001b[0m \u001b[1m3s\u001b[0m 996us/step - accuracy: 0.9319 - loss: 0.1639 - val_accuracy: 0.9388 - val_loss: 0.1455\n",
      "Epoch 11/60\n",
      "\u001b[1m2760/2760\u001b[0m \u001b[32m━━━━━━━━━━━━━━━━━━━━\u001b[0m\u001b[37m\u001b[0m \u001b[1m3s\u001b[0m 1ms/step - accuracy: 0.9360 - loss: 0.1580 - val_accuracy: 0.9394 - val_loss: 0.1458\n",
      "Epoch 12/60\n",
      "\u001b[1m2760/2760\u001b[0m \u001b[32m━━━━━━━━━━━━━━━━━━━━\u001b[0m\u001b[37m\u001b[0m \u001b[1m4s\u001b[0m 1ms/step - accuracy: 0.9366 - loss: 0.1545 - val_accuracy: 0.9401 - val_loss: 0.1422\n",
      "Epoch 13/60\n",
      "\u001b[1m2760/2760\u001b[0m \u001b[32m━━━━━━━━━━━━━━━━━━━━\u001b[0m\u001b[37m\u001b[0m \u001b[1m3s\u001b[0m 1ms/step - accuracy: 0.9382 - loss: 0.1495 - val_accuracy: 0.9414 - val_loss: 0.1380\n",
      "Epoch 14/60\n",
      "\u001b[1m2760/2760\u001b[0m \u001b[32m━━━━━━━━━━━━━━━━━━━━\u001b[0m\u001b[37m\u001b[0m \u001b[1m3s\u001b[0m 1ms/step - accuracy: 0.9385 - loss: 0.1468 - val_accuracy: 0.9432 - val_loss: 0.1367\n",
      "Epoch 15/60\n",
      "\u001b[1m2760/2760\u001b[0m \u001b[32m━━━━━━━━━━━━━━━━━━━━\u001b[0m\u001b[37m\u001b[0m \u001b[1m3s\u001b[0m 1ms/step - accuracy: 0.9404 - loss: 0.1457 - val_accuracy: 0.9427 - val_loss: 0.1358\n",
      "Epoch 16/60\n",
      "\u001b[1m2760/2760\u001b[0m \u001b[32m━━━━━━━━━━━━━━━━━━━━\u001b[0m\u001b[37m\u001b[0m \u001b[1m3s\u001b[0m 1ms/step - accuracy: 0.9416 - loss: 0.1444 - val_accuracy: 0.9435 - val_loss: 0.1341\n",
      "Epoch 17/60\n",
      "\u001b[1m2760/2760\u001b[0m \u001b[32m━━━━━━━━━━━━━━━━━━━━\u001b[0m\u001b[37m\u001b[0m \u001b[1m3s\u001b[0m 1ms/step - accuracy: 0.9398 - loss: 0.1433 - val_accuracy: 0.9440 - val_loss: 0.1323\n",
      "Epoch 18/60\n",
      "\u001b[1m2760/2760\u001b[0m \u001b[32m━━━━━━━━━━━━━━━━━━━━\u001b[0m\u001b[37m\u001b[0m \u001b[1m3s\u001b[0m 1ms/step - accuracy: 0.9400 - loss: 0.1423 - val_accuracy: 0.9447 - val_loss: 0.1302\n",
      "Epoch 19/60\n",
      "\u001b[1m2760/2760\u001b[0m \u001b[32m━━━━━━━━━━━━━━━━━━━━\u001b[0m\u001b[37m\u001b[0m \u001b[1m3s\u001b[0m 1ms/step - accuracy: 0.9407 - loss: 0.1403 - val_accuracy: 0.9451 - val_loss: 0.1326\n",
      "Epoch 20/60\n",
      "\u001b[1m2760/2760\u001b[0m \u001b[32m━━━━━━━━━━━━━━━━━━━━\u001b[0m\u001b[37m\u001b[0m \u001b[1m3s\u001b[0m 1ms/step - accuracy: 0.9428 - loss: 0.1386 - val_accuracy: 0.9455 - val_loss: 0.1295\n",
      "Epoch 21/60\n",
      "\u001b[1m2760/2760\u001b[0m \u001b[32m━━━━━━━━━━━━━━━━━━━━\u001b[0m\u001b[37m\u001b[0m \u001b[1m3s\u001b[0m 1ms/step - accuracy: 0.9427 - loss: 0.1391 - val_accuracy: 0.9458 - val_loss: 0.1290\n",
      "Epoch 22/60\n",
      "\u001b[1m2760/2760\u001b[0m \u001b[32m━━━━━━━━━━━━━━━━━━━━\u001b[0m\u001b[37m\u001b[0m \u001b[1m3s\u001b[0m 1ms/step - accuracy: 0.9412 - loss: 0.1395 - val_accuracy: 0.9452 - val_loss: 0.1295\n",
      "Epoch 23/60\n",
      "\u001b[1m2760/2760\u001b[0m \u001b[32m━━━━━━━━━━━━━━━━━━━━\u001b[0m\u001b[37m\u001b[0m \u001b[1m3s\u001b[0m 1ms/step - accuracy: 0.9409 - loss: 0.1386 - val_accuracy: 0.9460 - val_loss: 0.1263\n",
      "Epoch 24/60\n",
      "\u001b[1m2760/2760\u001b[0m \u001b[32m━━━━━━━━━━━━━━━━━━━━\u001b[0m\u001b[37m\u001b[0m \u001b[1m3s\u001b[0m 1ms/step - accuracy: 0.9415 - loss: 0.1384 - val_accuracy: 0.9467 - val_loss: 0.1269\n",
      "Epoch 25/60\n",
      "\u001b[1m2760/2760\u001b[0m \u001b[32m━━━━━━━━━━━━━━━━━━━━\u001b[0m\u001b[37m\u001b[0m \u001b[1m3s\u001b[0m 1ms/step - accuracy: 0.9440 - loss: 0.1342 - val_accuracy: 0.9446 - val_loss: 0.1281\n",
      "Epoch 26/60\n",
      "\u001b[1m2760/2760\u001b[0m \u001b[32m━━━━━━━━━━━━━━━━━━━━\u001b[0m\u001b[37m\u001b[0m \u001b[1m3s\u001b[0m 1ms/step - accuracy: 0.9439 - loss: 0.1360 - val_accuracy: 0.9467 - val_loss: 0.1275\n",
      "Epoch 27/60\n",
      "\u001b[1m2760/2760\u001b[0m \u001b[32m━━━━━━━━━━━━━━━━━━━━\u001b[0m\u001b[37m\u001b[0m \u001b[1m3s\u001b[0m 1ms/step - accuracy: 0.9441 - loss: 0.1348 - val_accuracy: 0.9470 - val_loss: 0.1242\n",
      "Epoch 28/60\n",
      "\u001b[1m2760/2760\u001b[0m \u001b[32m━━━━━━━━━━━━━━━━━━━━\u001b[0m\u001b[37m\u001b[0m \u001b[1m3s\u001b[0m 1ms/step - accuracy: 0.9437 - loss: 0.1342 - val_accuracy: 0.9472 - val_loss: 0.1252\n",
      "Epoch 29/60\n",
      "\u001b[1m2760/2760\u001b[0m \u001b[32m━━━━━━━━━━━━━━━━━━━━\u001b[0m\u001b[37m\u001b[0m \u001b[1m3s\u001b[0m 1ms/step - accuracy: 0.9442 - loss: 0.1327 - val_accuracy: 0.9480 - val_loss: 0.1231\n",
      "Epoch 30/60\n",
      "\u001b[1m2760/2760\u001b[0m \u001b[32m━━━━━━━━━━━━━━━━━━━━\u001b[0m\u001b[37m\u001b[0m \u001b[1m3s\u001b[0m 1ms/step - accuracy: 0.9449 - loss: 0.1312 - val_accuracy: 0.9483 - val_loss: 0.1226\n",
      "Epoch 31/60\n",
      "\u001b[1m2760/2760\u001b[0m \u001b[32m━━━━━━━━━━━━━━━━━━━━\u001b[0m\u001b[37m\u001b[0m \u001b[1m3s\u001b[0m 1ms/step - accuracy: 0.9452 - loss: 0.1289 - val_accuracy: 0.9481 - val_loss: 0.1226\n",
      "Epoch 32/60\n",
      "\u001b[1m2760/2760\u001b[0m \u001b[32m━━━━━━━━━━━━━━━━━━━━\u001b[0m\u001b[37m\u001b[0m \u001b[1m3s\u001b[0m 1ms/step - accuracy: 0.9431 - loss: 0.1338 - val_accuracy: 0.9489 - val_loss: 0.1220\n",
      "Epoch 33/60\n",
      "\u001b[1m2760/2760\u001b[0m \u001b[32m━━━━━━━━━━━━━━━━━━━━\u001b[0m\u001b[37m\u001b[0m \u001b[1m3s\u001b[0m 1ms/step - accuracy: 0.9450 - loss: 0.1313 - val_accuracy: 0.9486 - val_loss: 0.1218\n",
      "Epoch 34/60\n",
      "\u001b[1m2760/2760\u001b[0m \u001b[32m━━━━━━━━━━━━━━━━━━━━\u001b[0m\u001b[37m\u001b[0m \u001b[1m3s\u001b[0m 1ms/step - accuracy: 0.9466 - loss: 0.1287 - val_accuracy: 0.9498 - val_loss: 0.1208\n",
      "Epoch 35/60\n",
      "\u001b[1m2760/2760\u001b[0m \u001b[32m━━━━━━━━━━━━━━━━━━━━\u001b[0m\u001b[37m\u001b[0m \u001b[1m3s\u001b[0m 1ms/step - accuracy: 0.9458 - loss: 0.1288 - val_accuracy: 0.9469 - val_loss: 0.1235\n",
      "Epoch 36/60\n",
      "\u001b[1m2760/2760\u001b[0m \u001b[32m━━━━━━━━━━━━━━━━━━━━\u001b[0m\u001b[37m\u001b[0m \u001b[1m5s\u001b[0m 1ms/step - accuracy: 0.9465 - loss: 0.1287 - val_accuracy: 0.9494 - val_loss: 0.1220\n",
      "Epoch 37/60\n",
      "\u001b[1m2760/2760\u001b[0m \u001b[32m━━━━━━━━━━━━━━━━━━━━\u001b[0m\u001b[37m\u001b[0m \u001b[1m3s\u001b[0m 1ms/step - accuracy: 0.9459 - loss: 0.1298 - val_accuracy: 0.9478 - val_loss: 0.1216\n",
      "Epoch 38/60\n",
      "\u001b[1m2760/2760\u001b[0m \u001b[32m━━━━━━━━━━━━━━━━━━━━\u001b[0m\u001b[37m\u001b[0m \u001b[1m5s\u001b[0m 1ms/step - accuracy: 0.9461 - loss: 0.1288 - val_accuracy: 0.9471 - val_loss: 0.1225\n",
      "Epoch 39/60\n",
      "\u001b[1m2760/2760\u001b[0m \u001b[32m━━━━━━━━━━━━━━━━━━━━\u001b[0m\u001b[37m\u001b[0m \u001b[1m5s\u001b[0m 1ms/step - accuracy: 0.9467 - loss: 0.1270 - val_accuracy: 0.9492 - val_loss: 0.1193\n",
      "Epoch 40/60\n",
      "\u001b[1m2760/2760\u001b[0m \u001b[32m━━━━━━━━━━━━━━━━━━━━\u001b[0m\u001b[37m\u001b[0m \u001b[1m3s\u001b[0m 1ms/step - accuracy: 0.9475 - loss: 0.1261 - val_accuracy: 0.9490 - val_loss: 0.1195\n",
      "Epoch 41/60\n",
      "\u001b[1m2760/2760\u001b[0m \u001b[32m━━━━━━━━━━━━━━━━━━━━\u001b[0m\u001b[37m\u001b[0m \u001b[1m3s\u001b[0m 1ms/step - accuracy: 0.9473 - loss: 0.1250 - val_accuracy: 0.9488 - val_loss: 0.1191\n",
      "Epoch 42/60\n",
      "\u001b[1m2760/2760\u001b[0m \u001b[32m━━━━━━━━━━━━━━━━━━━━\u001b[0m\u001b[37m\u001b[0m \u001b[1m3s\u001b[0m 985us/step - accuracy: 0.9451 - loss: 0.1292 - val_accuracy: 0.9501 - val_loss: 0.1191\n",
      "Epoch 43/60\n",
      "\u001b[1m2760/2760\u001b[0m \u001b[32m━━━━━━━━━━━━━━━━━━━━\u001b[0m\u001b[37m\u001b[0m \u001b[1m3s\u001b[0m 1ms/step - accuracy: 0.9462 - loss: 0.1257 - val_accuracy: 0.9478 - val_loss: 0.1203\n",
      "Epoch 44/60\n",
      "\u001b[1m2760/2760\u001b[0m \u001b[32m━━━━━━━━━━━━━━━━━━━━\u001b[0m\u001b[37m\u001b[0m \u001b[1m3s\u001b[0m 1ms/step - accuracy: 0.9462 - loss: 0.1271 - val_accuracy: 0.9440 - val_loss: 0.1222\n",
      "Epoch 45/60\n",
      "\u001b[1m2760/2760\u001b[0m \u001b[32m━━━━━━━━━━━━━━━━━━━━\u001b[0m\u001b[37m\u001b[0m \u001b[1m3s\u001b[0m 1ms/step - accuracy: 0.9463 - loss: 0.1250 - val_accuracy: 0.9459 - val_loss: 0.1214\n",
      "Epoch 46/60\n",
      "\u001b[1m2760/2760\u001b[0m \u001b[32m━━━━━━━━━━━━━━━━━━━━\u001b[0m\u001b[37m\u001b[0m \u001b[1m3s\u001b[0m 1ms/step - accuracy: 0.9458 - loss: 0.1271 - val_accuracy: 0.9469 - val_loss: 0.1208\n",
      "Epoch 47/60\n",
      "\u001b[1m2760/2760\u001b[0m \u001b[32m━━━━━━━━━━━━━━━━━━━━\u001b[0m\u001b[37m\u001b[0m \u001b[1m3s\u001b[0m 1ms/step - accuracy: 0.9481 - loss: 0.1247 - val_accuracy: 0.9485 - val_loss: 0.1193\n",
      "Epoch 48/60\n",
      "\u001b[1m2760/2760\u001b[0m \u001b[32m━━━━━━━━━━━━━━━━━━━━\u001b[0m\u001b[37m\u001b[0m \u001b[1m3s\u001b[0m 1ms/step - accuracy: 0.9470 - loss: 0.1246 - val_accuracy: 0.9494 - val_loss: 0.1181\n",
      "Epoch 49/60\n",
      "\u001b[1m2760/2760\u001b[0m \u001b[32m━━━━━━━━━━━━━━━━━━━━\u001b[0m\u001b[37m\u001b[0m \u001b[1m3s\u001b[0m 1ms/step - accuracy: 0.9459 - loss: 0.1265 - val_accuracy: 0.9493 - val_loss: 0.1173\n",
      "Epoch 50/60\n",
      "\u001b[1m2760/2760\u001b[0m \u001b[32m━━━━━━━━━━━━━━━━━━━━\u001b[0m\u001b[37m\u001b[0m \u001b[1m3s\u001b[0m 1ms/step - accuracy: 0.9462 - loss: 0.1261 - val_accuracy: 0.9499 - val_loss: 0.1179\n",
      "Epoch 51/60\n",
      "\u001b[1m2760/2760\u001b[0m \u001b[32m━━━━━━━━━━━━━━━━━━━━\u001b[0m\u001b[37m\u001b[0m \u001b[1m3s\u001b[0m 1ms/step - accuracy: 0.9471 - loss: 0.1260 - val_accuracy: 0.9498 - val_loss: 0.1176\n",
      "Epoch 52/60\n",
      "\u001b[1m2760/2760\u001b[0m \u001b[32m━━━━━━━━━━━━━━━━━━━━\u001b[0m\u001b[37m\u001b[0m \u001b[1m3s\u001b[0m 1ms/step - accuracy: 0.9474 - loss: 0.1243 - val_accuracy: 0.9470 - val_loss: 0.1202\n",
      "Epoch 53/60\n",
      "\u001b[1m2760/2760\u001b[0m \u001b[32m━━━━━━━━━━━━━━━━━━━━\u001b[0m\u001b[37m\u001b[0m \u001b[1m3s\u001b[0m 1ms/step - accuracy: 0.9463 - loss: 0.1294 - val_accuracy: 0.9507 - val_loss: 0.1172\n",
      "Epoch 54/60\n",
      "\u001b[1m2760/2760\u001b[0m \u001b[32m━━━━━━━━━━━━━━━━━━━━\u001b[0m\u001b[37m\u001b[0m \u001b[1m3s\u001b[0m 990us/step - accuracy: 0.9484 - loss: 0.1247 - val_accuracy: 0.9510 - val_loss: 0.1180\n",
      "Epoch 55/60\n",
      "\u001b[1m2760/2760\u001b[0m \u001b[32m━━━━━━━━━━━━━━━━━━━━\u001b[0m\u001b[37m\u001b[0m \u001b[1m3s\u001b[0m 1ms/step - accuracy: 0.9466 - loss: 0.1289 - val_accuracy: 0.9476 - val_loss: 0.1216\n",
      "Epoch 56/60\n",
      "\u001b[1m2760/2760\u001b[0m \u001b[32m━━━━━━━━━━━━━━━━━━━━\u001b[0m\u001b[37m\u001b[0m \u001b[1m3s\u001b[0m 1ms/step - accuracy: 0.9482 - loss: 0.1229 - val_accuracy: 0.9496 - val_loss: 0.1186\n",
      "Epoch 57/60\n",
      "\u001b[1m2760/2760\u001b[0m \u001b[32m━━━━━━━━━━━━━━━━━━━━\u001b[0m\u001b[37m\u001b[0m \u001b[1m5s\u001b[0m 1ms/step - accuracy: 0.9482 - loss: 0.1235 - val_accuracy: 0.9492 - val_loss: 0.1165\n",
      "Epoch 58/60\n",
      "\u001b[1m2760/2760\u001b[0m \u001b[32m━━━━━━━━━━━━━━━━━━━━\u001b[0m\u001b[37m\u001b[0m \u001b[1m3s\u001b[0m 1ms/step - accuracy: 0.9476 - loss: 0.1243 - val_accuracy: 0.9492 - val_loss: 0.1173\n",
      "Epoch 59/60\n",
      "\u001b[1m2760/2760\u001b[0m \u001b[32m━━━━━━━━━━━━━━━━━━━━\u001b[0m\u001b[37m\u001b[0m \u001b[1m3s\u001b[0m 1ms/step - accuracy: 0.9470 - loss: 0.1254 - val_accuracy: 0.9499 - val_loss: 0.1169\n",
      "Epoch 60/60\n",
      "\u001b[1m2760/2760\u001b[0m \u001b[32m━━━━━━━━━━━━━━━━━━━━\u001b[0m\u001b[37m\u001b[0m \u001b[1m3s\u001b[0m 1ms/step - accuracy: 0.9488 - loss: 0.1227 - val_accuracy: 0.9458 - val_loss: 0.1277\n",
      "\u001b[1m812/812\u001b[0m \u001b[32m━━━━━━━━━━━━━━━━━━━━\u001b[0m\u001b[37m\u001b[0m \u001b[1m1s\u001b[0m 644us/step\n",
      "Acurácia: 0.9496458269171543\n"
     ]
    }
   ],
   "source": [
    "# Definindo um otimizador com learning rate específica\n",
    "optimizer = Adam(learning_rate=0.0005)\n",
    "\n",
    "# Criando o modelo\n",
    "model = Sequential()\n",
    "model.add(Dense(units=64, activation='relu', input_dim=X_train.shape[1]))\n",
    "model.add(Dropout(0.2))\n",
    "model.add(Dense(units=1, activation='sigmoid'))\n",
    "\n",
    "# Compilando o modelo com o otimizador personalizado\n",
    "model.compile(optimizer=optimizer, loss='binary_crossentropy', metrics=['accuracy'])\n",
    "\n",
    "# Treinando o modelo\n",
    "model.fit(X_train, y_train, epochs=60, batch_size=32, validation_data=(X_val, y_val))\n",
    "\n",
    "# Avaliando o modelo\n",
    "y_pred = model.predict(X_test)\n",
    "accuracy = accuracy_score(y_test, (y_pred > 0.5).astype(int))\n",
    "print(f'Acurácia: {accuracy}')"
   ]
  },
  {
   "cell_type": "markdown",
   "metadata": {},
   "source": [
    "Conseguimos aumentar ainda mais a acuracia final, porém desde a época 13 ate à época 60 a diferença foi muito pouca, vou tentar então voltar ao número anterior de learning rate e agora vou tentar adicionar outra camada oculta"
   ]
  },
  {
   "cell_type": "code",
   "execution_count": 39,
   "metadata": {},
   "outputs": [
    {
     "name": "stdout",
     "output_type": "stream",
     "text": [
      "Epoch 1/20\n"
     ]
    },
    {
     "name": "stderr",
     "output_type": "stream",
     "text": [
      "C:\\Users\\luize\\AppData\\Local\\Packages\\PythonSoftwareFoundation.Python.3.10_qbz5n2kfra8p0\\LocalCache\\local-packages\\Python310\\site-packages\\keras\\src\\layers\\core\\dense.py:87: UserWarning: Do not pass an `input_shape`/`input_dim` argument to a layer. When using Sequential models, prefer using an `Input(shape)` object as the first layer in the model instead.\n",
      "  super().__init__(activity_regularizer=activity_regularizer, **kwargs)\n"
     ]
    },
    {
     "name": "stdout",
     "output_type": "stream",
     "text": [
      "\u001b[1m2760/2760\u001b[0m \u001b[32m━━━━━━━━━━━━━━━━━━━━\u001b[0m\u001b[37m\u001b[0m \u001b[1m5s\u001b[0m 1ms/step - accuracy: 0.8541 - loss: 0.3384 - val_accuracy: 0.9292 - val_loss: 0.1730\n",
      "Epoch 2/20\n",
      "\u001b[1m2760/2760\u001b[0m \u001b[32m━━━━━━━━━━━━━━━━━━━━\u001b[0m\u001b[37m\u001b[0m \u001b[1m4s\u001b[0m 1ms/step - accuracy: 0.9291 - loss: 0.1721 - val_accuracy: 0.9332 - val_loss: 0.1565\n",
      "Epoch 3/20\n",
      "\u001b[1m2760/2760\u001b[0m \u001b[32m━━━━━━━━━━━━━━━━━━━━\u001b[0m\u001b[37m\u001b[0m \u001b[1m3s\u001b[0m 1ms/step - accuracy: 0.9357 - loss: 0.1513 - val_accuracy: 0.9401 - val_loss: 0.1435\n",
      "Epoch 4/20\n",
      "\u001b[1m2760/2760\u001b[0m \u001b[32m━━━━━━━━━━━━━━━━━━━━\u001b[0m\u001b[37m\u001b[0m \u001b[1m4s\u001b[0m 1ms/step - accuracy: 0.9389 - loss: 0.1426 - val_accuracy: 0.9424 - val_loss: 0.1384\n",
      "Epoch 5/20\n",
      "\u001b[1m2760/2760\u001b[0m \u001b[32m━━━━━━━━━━━━━━━━━━━━\u001b[0m\u001b[37m\u001b[0m \u001b[1m4s\u001b[0m 1ms/step - accuracy: 0.9416 - loss: 0.1361 - val_accuracy: 0.9358 - val_loss: 0.1358\n",
      "Epoch 6/20\n",
      "\u001b[1m2760/2760\u001b[0m \u001b[32m━━━━━━━━━━━━━━━━━━━━\u001b[0m\u001b[37m\u001b[0m \u001b[1m4s\u001b[0m 1ms/step - accuracy: 0.9429 - loss: 0.1315 - val_accuracy: 0.9461 - val_loss: 0.1244\n",
      "Epoch 7/20\n",
      "\u001b[1m2760/2760\u001b[0m \u001b[32m━━━━━━━━━━━━━━━━━━━━\u001b[0m\u001b[37m\u001b[0m \u001b[1m4s\u001b[0m 1ms/step - accuracy: 0.9463 - loss: 0.1258 - val_accuracy: 0.9466 - val_loss: 0.1239\n",
      "Epoch 8/20\n",
      "\u001b[1m2760/2760\u001b[0m \u001b[32m━━━━━━━━━━━━━━━━━━━━\u001b[0m\u001b[37m\u001b[0m \u001b[1m4s\u001b[0m 2ms/step - accuracy: 0.9452 - loss: 0.1236 - val_accuracy: 0.9427 - val_loss: 0.1256\n",
      "Epoch 9/20\n",
      "\u001b[1m2760/2760\u001b[0m \u001b[32m━━━━━━━━━━━━━━━━━━━━\u001b[0m\u001b[37m\u001b[0m \u001b[1m3s\u001b[0m 1ms/step - accuracy: 0.9474 - loss: 0.1204 - val_accuracy: 0.9361 - val_loss: 0.1339\n",
      "Epoch 10/20\n",
      "\u001b[1m2760/2760\u001b[0m \u001b[32m━━━━━━━━━━━━━━━━━━━━\u001b[0m\u001b[37m\u001b[0m \u001b[1m4s\u001b[0m 1ms/step - accuracy: 0.9480 - loss: 0.1188 - val_accuracy: 0.9487 - val_loss: 0.1166\n",
      "Epoch 11/20\n",
      "\u001b[1m2760/2760\u001b[0m \u001b[32m━━━━━━━━━━━━━━━━━━━━\u001b[0m\u001b[37m\u001b[0m \u001b[1m3s\u001b[0m 1ms/step - accuracy: 0.9485 - loss: 0.1159 - val_accuracy: 0.9451 - val_loss: 0.1246\n",
      "Epoch 12/20\n",
      "\u001b[1m2760/2760\u001b[0m \u001b[32m━━━━━━━━━━━━━━━━━━━━\u001b[0m\u001b[37m\u001b[0m \u001b[1m3s\u001b[0m 1ms/step - accuracy: 0.9493 - loss: 0.1146 - val_accuracy: 0.9458 - val_loss: 0.1233\n",
      "Epoch 13/20\n",
      "\u001b[1m2760/2760\u001b[0m \u001b[32m━━━━━━━━━━━━━━━━━━━━\u001b[0m\u001b[37m\u001b[0m \u001b[1m4s\u001b[0m 1ms/step - accuracy: 0.9512 - loss: 0.1123 - val_accuracy: 0.9443 - val_loss: 0.1179\n",
      "Epoch 14/20\n",
      "\u001b[1m2760/2760\u001b[0m \u001b[32m━━━━━━━━━━━━━━━━━━━━\u001b[0m\u001b[37m\u001b[0m \u001b[1m4s\u001b[0m 2ms/step - accuracy: 0.9518 - loss: 0.1110 - val_accuracy: 0.9504 - val_loss: 0.1115\n",
      "Epoch 15/20\n",
      "\u001b[1m2760/2760\u001b[0m \u001b[32m━━━━━━━━━━━━━━━━━━━━\u001b[0m\u001b[37m\u001b[0m \u001b[1m3s\u001b[0m 1ms/step - accuracy: 0.9513 - loss: 0.1097 - val_accuracy: 0.9503 - val_loss: 0.1143\n",
      "Epoch 16/20\n",
      "\u001b[1m2760/2760\u001b[0m \u001b[32m━━━━━━━━━━━━━━━━━━━━\u001b[0m\u001b[37m\u001b[0m \u001b[1m3s\u001b[0m 1ms/step - accuracy: 0.9529 - loss: 0.1087 - val_accuracy: 0.9490 - val_loss: 0.1144\n",
      "Epoch 17/20\n",
      "\u001b[1m2760/2760\u001b[0m \u001b[32m━━━━━━━━━━━━━━━━━━━━\u001b[0m\u001b[37m\u001b[0m \u001b[1m3s\u001b[0m 1ms/step - accuracy: 0.9522 - loss: 0.1093 - val_accuracy: 0.9414 - val_loss: 0.1252\n",
      "Epoch 18/20\n",
      "\u001b[1m2760/2760\u001b[0m \u001b[32m━━━━━━━━━━━━━━━━━━━━\u001b[0m\u001b[37m\u001b[0m \u001b[1m3s\u001b[0m 1ms/step - accuracy: 0.9525 - loss: 0.1074 - val_accuracy: 0.9507 - val_loss: 0.1094\n",
      "Epoch 19/20\n",
      "\u001b[1m2760/2760\u001b[0m \u001b[32m━━━━━━━━━━━━━━━━━━━━\u001b[0m\u001b[37m\u001b[0m \u001b[1m3s\u001b[0m 1ms/step - accuracy: 0.9524 - loss: 0.1084 - val_accuracy: 0.9488 - val_loss: 0.1171\n",
      "Epoch 20/20\n",
      "\u001b[1m2760/2760\u001b[0m \u001b[32m━━━━━━━━━━━━━━━━━━━━\u001b[0m\u001b[37m\u001b[0m \u001b[1m3s\u001b[0m 1ms/step - accuracy: 0.9537 - loss: 0.1058 - val_accuracy: 0.9512 - val_loss: 0.1096\n",
      "\u001b[1m3680/3680\u001b[0m \u001b[32m━━━━━━━━━━━━━━━━━━━━\u001b[0m\u001b[37m\u001b[0m \u001b[1m3s\u001b[0m 774us/step\n",
      "Acurácia: 0.955332121809134\n"
     ]
    }
   ],
   "source": [
    "# Definindo um otimizador com learning rate específica\n",
    "optimizer = Adam(learning_rate=0.001)\n",
    "\n",
    "# Criando o modelo\n",
    "model = Sequential()\n",
    "model.add(Dense(units=64, activation='relu', input_dim=X_train.shape[1]))\n",
    "model.add(Dense(units=32, activation='relu', input_dim=X_train.shape[1]))\n",
    "model.add(Dense(units=1, activation='sigmoid'))\n",
    "\n",
    "# Compilando o modelo com o otimizador personalizado\n",
    "model.compile(optimizer=optimizer, loss='binary_crossentropy', metrics=['accuracy'])\n",
    "\n",
    "# Treinando o modelo\n",
    "model.fit(X_train, y_train, epochs=20, batch_size=32, validation_data=(X_val, y_val))\n",
    "\n",
    "# Avaliando o modelo\n",
    "y_pred = model.predict(X_test)\n",
    "accuracy = accuracy_score(y_test, (y_pred > 0.5).astype(int))\n",
    "print(f'Acurácia: {accuracy}')"
   ]
  },
  {
   "cell_type": "markdown",
   "metadata": {},
   "source": [
    "Conseguimos o melhor resultado até agora, vamos tentar adicionar mais uma camada oculta para ver se mantemos a melhoria"
   ]
  },
  {
   "cell_type": "code",
   "execution_count": 14,
   "metadata": {},
   "outputs": [
    {
     "name": "stdout",
     "output_type": "stream",
     "text": [
      "Epoch 1/20\n"
     ]
    },
    {
     "name": "stderr",
     "output_type": "stream",
     "text": [
      "C:\\Users\\luize\\AppData\\Local\\Packages\\PythonSoftwareFoundation.Python.3.10_qbz5n2kfra8p0\\LocalCache\\local-packages\\Python310\\site-packages\\keras\\src\\layers\\core\\dense.py:87: UserWarning: Do not pass an `input_shape`/`input_dim` argument to a layer. When using Sequential models, prefer using an `Input(shape)` object as the first layer in the model instead.\n",
      "  super().__init__(activity_regularizer=activity_regularizer, **kwargs)\n"
     ]
    },
    {
     "name": "stdout",
     "output_type": "stream",
     "text": [
      "\u001b[1m2760/2760\u001b[0m \u001b[32m━━━━━━━━━━━━━━━━━━━━\u001b[0m\u001b[37m\u001b[0m \u001b[1m5s\u001b[0m 1ms/step - accuracy: 0.8680 - loss: 0.3036 - val_accuracy: 0.9234 - val_loss: 0.1683\n",
      "Epoch 2/20\n",
      "\u001b[1m2760/2760\u001b[0m \u001b[32m━━━━━━━━━━━━━━━━━━━━\u001b[0m\u001b[37m\u001b[0m \u001b[1m3s\u001b[0m 1ms/step - accuracy: 0.9344 - loss: 0.1541 - val_accuracy: 0.9398 - val_loss: 0.1445\n",
      "Epoch 3/20\n",
      "\u001b[1m2760/2760\u001b[0m \u001b[32m━━━━━━━━━━━━━━━━━━━━\u001b[0m\u001b[37m\u001b[0m \u001b[1m3s\u001b[0m 1ms/step - accuracy: 0.9388 - loss: 0.1406 - val_accuracy: 0.9421 - val_loss: 0.1255\n",
      "Epoch 4/20\n",
      "\u001b[1m2760/2760\u001b[0m \u001b[32m━━━━━━━━━━━━━━━━━━━━\u001b[0m\u001b[37m\u001b[0m \u001b[1m3s\u001b[0m 1ms/step - accuracy: 0.9418 - loss: 0.1332 - val_accuracy: 0.9354 - val_loss: 0.1339\n",
      "Epoch 5/20\n",
      "\u001b[1m2760/2760\u001b[0m \u001b[32m━━━━━━━━━━━━━━━━━━━━\u001b[0m\u001b[37m\u001b[0m \u001b[1m3s\u001b[0m 1ms/step - accuracy: 0.9451 - loss: 0.1240 - val_accuracy: 0.9455 - val_loss: 0.1188\n",
      "Epoch 6/20\n",
      "\u001b[1m2760/2760\u001b[0m \u001b[32m━━━━━━━━━━━━━━━━━━━━\u001b[0m\u001b[37m\u001b[0m \u001b[1m3s\u001b[0m 1ms/step - accuracy: 0.9474 - loss: 0.1188 - val_accuracy: 0.9495 - val_loss: 0.1168\n",
      "Epoch 7/20\n",
      "\u001b[1m2760/2760\u001b[0m \u001b[32m━━━━━━━━━━━━━━━━━━━━\u001b[0m\u001b[37m\u001b[0m \u001b[1m3s\u001b[0m 1ms/step - accuracy: 0.9493 - loss: 0.1153 - val_accuracy: 0.9511 - val_loss: 0.1123\n",
      "Epoch 8/20\n",
      "\u001b[1m2760/2760\u001b[0m \u001b[32m━━━━━━━━━━━━━━━━━━━━\u001b[0m\u001b[37m\u001b[0m \u001b[1m3s\u001b[0m 1ms/step - accuracy: 0.9502 - loss: 0.1132 - val_accuracy: 0.9511 - val_loss: 0.1122\n",
      "Epoch 9/20\n",
      "\u001b[1m2760/2760\u001b[0m \u001b[32m━━━━━━━━━━━━━━━━━━━━\u001b[0m\u001b[37m\u001b[0m \u001b[1m3s\u001b[0m 1ms/step - accuracy: 0.9522 - loss: 0.1082 - val_accuracy: 0.9493 - val_loss: 0.1190\n",
      "Epoch 10/20\n",
      "\u001b[1m2760/2760\u001b[0m \u001b[32m━━━━━━━━━━━━━━━━━━━━\u001b[0m\u001b[37m\u001b[0m \u001b[1m3s\u001b[0m 1ms/step - accuracy: 0.9529 - loss: 0.1061 - val_accuracy: 0.9524 - val_loss: 0.1053\n",
      "Epoch 11/20\n",
      "\u001b[1m2760/2760\u001b[0m \u001b[32m━━━━━━━━━━━━━━━━━━━━\u001b[0m\u001b[37m\u001b[0m \u001b[1m4s\u001b[0m 1ms/step - accuracy: 0.9545 - loss: 0.1030 - val_accuracy: 0.9450 - val_loss: 0.1290\n",
      "Epoch 12/20\n",
      "\u001b[1m2760/2760\u001b[0m \u001b[32m━━━━━━━━━━━━━━━━━━━━\u001b[0m\u001b[37m\u001b[0m \u001b[1m4s\u001b[0m 1ms/step - accuracy: 0.9556 - loss: 0.1024 - val_accuracy: 0.9515 - val_loss: 0.1084\n",
      "Epoch 13/20\n",
      "\u001b[1m2760/2760\u001b[0m \u001b[32m━━━━━━━━━━━━━━━━━━━━\u001b[0m\u001b[37m\u001b[0m \u001b[1m4s\u001b[0m 1ms/step - accuracy: 0.9552 - loss: 0.0998 - val_accuracy: 0.9552 - val_loss: 0.1003\n",
      "Epoch 14/20\n",
      "\u001b[1m2760/2760\u001b[0m \u001b[32m━━━━━━━━━━━━━━━━━━━━\u001b[0m\u001b[37m\u001b[0m \u001b[1m5s\u001b[0m 1ms/step - accuracy: 0.9573 - loss: 0.0978 - val_accuracy: 0.9510 - val_loss: 0.1093\n",
      "Epoch 15/20\n",
      "\u001b[1m2760/2760\u001b[0m \u001b[32m━━━━━━━━━━━━━━━━━━━━\u001b[0m\u001b[37m\u001b[0m \u001b[1m4s\u001b[0m 1ms/step - accuracy: 0.9583 - loss: 0.0959 - val_accuracy: 0.9539 - val_loss: 0.1025\n",
      "Epoch 16/20\n",
      "\u001b[1m2760/2760\u001b[0m \u001b[32m━━━━━━━━━━━━━━━━━━━━\u001b[0m\u001b[37m\u001b[0m \u001b[1m4s\u001b[0m 1ms/step - accuracy: 0.9578 - loss: 0.0952 - val_accuracy: 0.9542 - val_loss: 0.1031\n",
      "Epoch 17/20\n",
      "\u001b[1m2760/2760\u001b[0m \u001b[32m━━━━━━━━━━━━━━━━━━━━\u001b[0m\u001b[37m\u001b[0m \u001b[1m4s\u001b[0m 1ms/step - accuracy: 0.9572 - loss: 0.0964 - val_accuracy: 0.9497 - val_loss: 0.1211\n",
      "Epoch 18/20\n",
      "\u001b[1m2760/2760\u001b[0m \u001b[32m━━━━━━━━━━━━━━━━━━━━\u001b[0m\u001b[37m\u001b[0m \u001b[1m4s\u001b[0m 1ms/step - accuracy: 0.9585 - loss: 0.0932 - val_accuracy: 0.9551 - val_loss: 0.1020\n",
      "Epoch 19/20\n",
      "\u001b[1m2760/2760\u001b[0m \u001b[32m━━━━━━━━━━━━━━━━━━━━\u001b[0m\u001b[37m\u001b[0m \u001b[1m4s\u001b[0m 1ms/step - accuracy: 0.9582 - loss: 0.0936 - val_accuracy: 0.9548 - val_loss: 0.1031\n",
      "Epoch 20/20\n",
      "\u001b[1m2760/2760\u001b[0m \u001b[32m━━━━━━━━━━━━━━━━━━━━\u001b[0m\u001b[37m\u001b[0m \u001b[1m4s\u001b[0m 1ms/step - accuracy: 0.9594 - loss: 0.0905 - val_accuracy: 0.9540 - val_loss: 0.1021\n",
      "\u001b[1m812/812\u001b[0m \u001b[32m━━━━━━━━━━━━━━━━━━━━\u001b[0m\u001b[37m\u001b[0m \u001b[1m1s\u001b[0m 874us/step\n",
      "Acurácia: 0.9546889436402833\n"
     ]
    }
   ],
   "source": [
    "optimizer = Adam(learning_rate=0.001)\n",
    "\n",
    "# Criando o modelo\n",
    "model = Sequential()\n",
    "model.add(Dense(units=128, activation='relu', input_dim=X_train.shape[1]))\n",
    "model.add(Dense(units=64, activation='relu'))\n",
    "model.add(Dense(units=32, activation='relu'))\n",
    "model.add(Dense(units=1, activation='sigmoid'))\n",
    "\n",
    "# Compilando o modelo com o otimizador personalizado\n",
    "model.compile(optimizer=optimizer, loss='binary_crossentropy', metrics=['accuracy'])\n",
    "\n",
    "# Treinando o modelo\n",
    "model.fit(X_train, y_train, epochs=20, batch_size=32, validation_data=(X_val, y_val))\n",
    "\n",
    "# Avaliando o modelo\n",
    "y_pred = model.predict(X_test)\n",
    "accuracy = accuracy_score(y_test, (y_pred > 0.5).astype(int))\n",
    "print(f'Acurácia: {accuracy}')"
   ]
  },
  {
   "cell_type": "markdown",
   "metadata": {},
   "source": [
    "Não mantemos a melhoria anterior, mas vamos explorar mais camadas"
   ]
  },
  {
   "cell_type": "code",
   "execution_count": 15,
   "metadata": {},
   "outputs": [
    {
     "name": "stdout",
     "output_type": "stream",
     "text": [
      "Epoch 1/30\n"
     ]
    },
    {
     "name": "stderr",
     "output_type": "stream",
     "text": [
      "C:\\Users\\luize\\AppData\\Local\\Packages\\PythonSoftwareFoundation.Python.3.10_qbz5n2kfra8p0\\LocalCache\\local-packages\\Python310\\site-packages\\keras\\src\\layers\\core\\dense.py:87: UserWarning: Do not pass an `input_shape`/`input_dim` argument to a layer. When using Sequential models, prefer using an `Input(shape)` object as the first layer in the model instead.\n",
      "  super().__init__(activity_regularizer=activity_regularizer, **kwargs)\n"
     ]
    },
    {
     "name": "stdout",
     "output_type": "stream",
     "text": [
      "\u001b[1m2760/2760\u001b[0m \u001b[32m━━━━━━━━━━━━━━━━━━━━\u001b[0m\u001b[37m\u001b[0m \u001b[1m4s\u001b[0m 1ms/step - accuracy: 0.8704 - loss: 0.2969 - val_accuracy: 0.9332 - val_loss: 0.1574\n",
      "Epoch 2/30\n",
      "\u001b[1m2760/2760\u001b[0m \u001b[32m━━━━━━━━━━━━━━━━━━━━\u001b[0m\u001b[37m\u001b[0m \u001b[1m3s\u001b[0m 1ms/step - accuracy: 0.9339 - loss: 0.1572 - val_accuracy: 0.9412 - val_loss: 0.1393\n",
      "Epoch 3/30\n",
      "\u001b[1m2760/2760\u001b[0m \u001b[32m━━━━━━━━━━━━━━━━━━━━\u001b[0m\u001b[37m\u001b[0m \u001b[1m3s\u001b[0m 1ms/step - accuracy: 0.9393 - loss: 0.1402 - val_accuracy: 0.9411 - val_loss: 0.1369\n",
      "Epoch 4/30\n",
      "\u001b[1m2760/2760\u001b[0m \u001b[32m━━━━━━━━━━━━━━━━━━━━\u001b[0m\u001b[37m\u001b[0m \u001b[1m3s\u001b[0m 1ms/step - accuracy: 0.9430 - loss: 0.1312 - val_accuracy: 0.9479 - val_loss: 0.1218\n",
      "Epoch 5/30\n",
      "\u001b[1m2760/2760\u001b[0m \u001b[32m━━━━━━━━━━━━━━━━━━━━\u001b[0m\u001b[37m\u001b[0m \u001b[1m3s\u001b[0m 1ms/step - accuracy: 0.9462 - loss: 0.1226 - val_accuracy: 0.9482 - val_loss: 0.1161\n",
      "Epoch 6/30\n",
      "\u001b[1m2760/2760\u001b[0m \u001b[32m━━━━━━━━━━━━━━━━━━━━\u001b[0m\u001b[37m\u001b[0m \u001b[1m3s\u001b[0m 1ms/step - accuracy: 0.9483 - loss: 0.1168 - val_accuracy: 0.9504 - val_loss: 0.1161\n",
      "Epoch 7/30\n",
      "\u001b[1m2760/2760\u001b[0m \u001b[32m━━━━━━━━━━━━━━━━━━━━\u001b[0m\u001b[37m\u001b[0m \u001b[1m3s\u001b[0m 1ms/step - accuracy: 0.9503 - loss: 0.1150 - val_accuracy: 0.9466 - val_loss: 0.1196\n",
      "Epoch 8/30\n",
      "\u001b[1m2760/2760\u001b[0m \u001b[32m━━━━━━━━━━━━━━━━━━━━\u001b[0m\u001b[37m\u001b[0m \u001b[1m3s\u001b[0m 1ms/step - accuracy: 0.9523 - loss: 0.1100 - val_accuracy: 0.9499 - val_loss: 0.1145\n",
      "Epoch 9/30\n",
      "\u001b[1m2760/2760\u001b[0m \u001b[32m━━━━━━━━━━━━━━━━━━━━\u001b[0m\u001b[37m\u001b[0m \u001b[1m3s\u001b[0m 1ms/step - accuracy: 0.9544 - loss: 0.1054 - val_accuracy: 0.9514 - val_loss: 0.1076\n",
      "Epoch 10/30\n",
      "\u001b[1m2760/2760\u001b[0m \u001b[32m━━━━━━━━━━━━━━━━━━━━\u001b[0m\u001b[37m\u001b[0m \u001b[1m3s\u001b[0m 1ms/step - accuracy: 0.9543 - loss: 0.1036 - val_accuracy: 0.9532 - val_loss: 0.1048\n",
      "Epoch 11/30\n",
      "\u001b[1m2760/2760\u001b[0m \u001b[32m━━━━━━━━━━━━━━━━━━━━\u001b[0m\u001b[37m\u001b[0m \u001b[1m3s\u001b[0m 1ms/step - accuracy: 0.9553 - loss: 0.1021 - val_accuracy: 0.9531 - val_loss: 0.1057\n",
      "Epoch 12/30\n",
      "\u001b[1m2760/2760\u001b[0m \u001b[32m━━━━━━━━━━━━━━━━━━━━\u001b[0m\u001b[37m\u001b[0m \u001b[1m3s\u001b[0m 1ms/step - accuracy: 0.9560 - loss: 0.0993 - val_accuracy: 0.9537 - val_loss: 0.1031\n",
      "Epoch 13/30\n",
      "\u001b[1m2760/2760\u001b[0m \u001b[32m━━━━━━━━━━━━━━━━━━━━\u001b[0m\u001b[37m\u001b[0m \u001b[1m3s\u001b[0m 1ms/step - accuracy: 0.9563 - loss: 0.0987 - val_accuracy: 0.9499 - val_loss: 0.1133\n",
      "Epoch 14/30\n",
      "\u001b[1m2760/2760\u001b[0m \u001b[32m━━━━━━━━━━━━━━━━━━━━\u001b[0m\u001b[37m\u001b[0m \u001b[1m3s\u001b[0m 1ms/step - accuracy: 0.9564 - loss: 0.0995 - val_accuracy: 0.9538 - val_loss: 0.1028\n",
      "Epoch 15/30\n",
      "\u001b[1m2760/2760\u001b[0m \u001b[32m━━━━━━━━━━━━━━━━━━━━\u001b[0m\u001b[37m\u001b[0m \u001b[1m3s\u001b[0m 1ms/step - accuracy: 0.9567 - loss: 0.0978 - val_accuracy: 0.9538 - val_loss: 0.1066\n",
      "Epoch 16/30\n",
      "\u001b[1m2760/2760\u001b[0m \u001b[32m━━━━━━━━━━━━━━━━━━━━\u001b[0m\u001b[37m\u001b[0m \u001b[1m3s\u001b[0m 1ms/step - accuracy: 0.9582 - loss: 0.0949 - val_accuracy: 0.9554 - val_loss: 0.1010\n",
      "Epoch 17/30\n",
      "\u001b[1m2760/2760\u001b[0m \u001b[32m━━━━━━━━━━━━━━━━━━━━\u001b[0m\u001b[37m\u001b[0m \u001b[1m3s\u001b[0m 1ms/step - accuracy: 0.9580 - loss: 0.0953 - val_accuracy: 0.9533 - val_loss: 0.1028\n",
      "Epoch 18/30\n",
      "\u001b[1m2760/2760\u001b[0m \u001b[32m━━━━━━━━━━━━━━━━━━━━\u001b[0m\u001b[37m\u001b[0m \u001b[1m3s\u001b[0m 1ms/step - accuracy: 0.9591 - loss: 0.0921 - val_accuracy: 0.9545 - val_loss: 0.1012\n",
      "Epoch 19/30\n",
      "\u001b[1m2760/2760\u001b[0m \u001b[32m━━━━━━━━━━━━━━━━━━━━\u001b[0m\u001b[37m\u001b[0m \u001b[1m3s\u001b[0m 1ms/step - accuracy: 0.9592 - loss: 0.0929 - val_accuracy: 0.9564 - val_loss: 0.0985\n",
      "Epoch 20/30\n",
      "\u001b[1m2760/2760\u001b[0m \u001b[32m━━━━━━━━━━━━━━━━━━━━\u001b[0m\u001b[37m\u001b[0m \u001b[1m6s\u001b[0m 1ms/step - accuracy: 0.9598 - loss: 0.0897 - val_accuracy: 0.9570 - val_loss: 0.0979\n",
      "Epoch 21/30\n",
      "\u001b[1m2760/2760\u001b[0m \u001b[32m━━━━━━━━━━━━━━━━━━━━\u001b[0m\u001b[37m\u001b[0m \u001b[1m3s\u001b[0m 1ms/step - accuracy: 0.9605 - loss: 0.0885 - val_accuracy: 0.9573 - val_loss: 0.0981\n",
      "Epoch 22/30\n",
      "\u001b[1m2760/2760\u001b[0m \u001b[32m━━━━━━━━━━━━━━━━━━━━\u001b[0m\u001b[37m\u001b[0m \u001b[1m6s\u001b[0m 1ms/step - accuracy: 0.9607 - loss: 0.0875 - val_accuracy: 0.9534 - val_loss: 0.1024\n",
      "Epoch 23/30\n",
      "\u001b[1m2760/2760\u001b[0m \u001b[32m━━━━━━━━━━━━━━━━━━━━\u001b[0m\u001b[37m\u001b[0m \u001b[1m4s\u001b[0m 1ms/step - accuracy: 0.9612 - loss: 0.0873 - val_accuracy: 0.9560 - val_loss: 0.1010\n",
      "Epoch 24/30\n",
      "\u001b[1m2760/2760\u001b[0m \u001b[32m━━━━━━━━━━━━━━━━━━━━\u001b[0m\u001b[37m\u001b[0m \u001b[1m4s\u001b[0m 1ms/step - accuracy: 0.9608 - loss: 0.0890 - val_accuracy: 0.9568 - val_loss: 0.0981\n",
      "Epoch 25/30\n",
      "\u001b[1m2760/2760\u001b[0m \u001b[32m━━━━━━━━━━━━━━━━━━━━\u001b[0m\u001b[37m\u001b[0m \u001b[1m4s\u001b[0m 1ms/step - accuracy: 0.9617 - loss: 0.0864 - val_accuracy: 0.9532 - val_loss: 0.1054\n",
      "Epoch 26/30\n",
      "\u001b[1m2760/2760\u001b[0m \u001b[32m━━━━━━━━━━━━━━━━━━━━\u001b[0m\u001b[37m\u001b[0m \u001b[1m4s\u001b[0m 1ms/step - accuracy: 0.9614 - loss: 0.0851 - val_accuracy: 0.9562 - val_loss: 0.0988\n",
      "Epoch 27/30\n",
      "\u001b[1m2760/2760\u001b[0m \u001b[32m━━━━━━━━━━━━━━━━━━━━\u001b[0m\u001b[37m\u001b[0m \u001b[1m4s\u001b[0m 1ms/step - accuracy: 0.9629 - loss: 0.0829 - val_accuracy: 0.9557 - val_loss: 0.0996\n",
      "Epoch 28/30\n",
      "\u001b[1m2760/2760\u001b[0m \u001b[32m━━━━━━━━━━━━━━━━━━━━\u001b[0m\u001b[37m\u001b[0m \u001b[1m4s\u001b[0m 1ms/step - accuracy: 0.9625 - loss: 0.0835 - val_accuracy: 0.9566 - val_loss: 0.1022\n",
      "Epoch 29/30\n",
      "\u001b[1m2760/2760\u001b[0m \u001b[32m━━━━━━━━━━━━━━━━━━━━\u001b[0m\u001b[37m\u001b[0m \u001b[1m4s\u001b[0m 1ms/step - accuracy: 0.9634 - loss: 0.0806 - val_accuracy: 0.9546 - val_loss: 0.1070\n",
      "Epoch 30/30\n",
      "\u001b[1m2760/2760\u001b[0m \u001b[32m━━━━━━━━━━━━━━━━━━━━\u001b[0m\u001b[37m\u001b[0m \u001b[1m4s\u001b[0m 1ms/step - accuracy: 0.9620 - loss: 0.0838 - val_accuracy: 0.9558 - val_loss: 0.1033\n",
      "\u001b[1m812/812\u001b[0m \u001b[32m━━━━━━━━━━━━━━━━━━━━\u001b[0m\u001b[37m\u001b[0m \u001b[1m1s\u001b[0m 895us/step\n",
      "Acurácia: 0.9574222359100708\n"
     ]
    }
   ],
   "source": [
    "optimizer = Adam(learning_rate=0.001)\n",
    "\n",
    "# Criando o modelo\n",
    "model = Sequential()\n",
    "model.add(Dense(units=128, activation='relu', input_dim=X_train.shape[1]))\n",
    "model.add(Dense(units=64, activation='relu'))\n",
    "model.add(Dense(units=32, activation='relu'))\n",
    "model.add(Dense(units=1, activation='sigmoid'))\n",
    "\n",
    "# Compilando o modelo com o otimizador personalizado\n",
    "model.compile(optimizer=optimizer, loss='binary_crossentropy', metrics=['accuracy'])\n",
    "\n",
    "# Treinando o modelo\n",
    "model.fit(X_train, y_train, epochs=30, batch_size=32, validation_data=(X_val, y_val))\n",
    "\n",
    "# Avaliando o modelo\n",
    "y_pred = model.predict(X_test)\n",
    "accuracy = accuracy_score(y_test, (y_pred > 0.5).astype(int))\n",
    "print(f'Acurácia: {accuracy}')"
   ]
  },
  {
   "cell_type": "markdown",
   "metadata": {},
   "source": [
    "Conseguimos chegar no melhore resultado, vamos tentar mantendo esse modelo, aumentar a época e diminuir a learning rate para tentar chegar aos 0.96 de acuracia"
   ]
  },
  {
   "cell_type": "code",
   "execution_count": 16,
   "metadata": {},
   "outputs": [
    {
     "name": "stdout",
     "output_type": "stream",
     "text": [
      "Epoch 1/50\n"
     ]
    },
    {
     "name": "stderr",
     "output_type": "stream",
     "text": [
      "C:\\Users\\luize\\AppData\\Local\\Packages\\PythonSoftwareFoundation.Python.3.10_qbz5n2kfra8p0\\LocalCache\\local-packages\\Python310\\site-packages\\keras\\src\\layers\\core\\dense.py:87: UserWarning: Do not pass an `input_shape`/`input_dim` argument to a layer. When using Sequential models, prefer using an `Input(shape)` object as the first layer in the model instead.\n",
      "  super().__init__(activity_regularizer=activity_regularizer, **kwargs)\n"
     ]
    },
    {
     "name": "stdout",
     "output_type": "stream",
     "text": [
      "\u001b[1m2760/2760\u001b[0m \u001b[32m━━━━━━━━━━━━━━━━━━━━\u001b[0m\u001b[37m\u001b[0m \u001b[1m6s\u001b[0m 1ms/step - accuracy: 0.8548 - loss: 0.3382 - val_accuracy: 0.9243 - val_loss: 0.1918\n",
      "Epoch 2/50\n",
      "\u001b[1m2760/2760\u001b[0m \u001b[32m━━━━━━━━━━━━━━━━━━━━\u001b[0m\u001b[37m\u001b[0m \u001b[1m7s\u001b[0m 3ms/step - accuracy: 0.9281 - loss: 0.1726 - val_accuracy: 0.9381 - val_loss: 0.1498\n",
      "Epoch 3/50\n",
      "\u001b[1m2760/2760\u001b[0m \u001b[32m━━━━━━━━━━━━━━━━━━━━\u001b[0m\u001b[37m\u001b[0m \u001b[1m5s\u001b[0m 2ms/step - accuracy: 0.9382 - loss: 0.1464 - val_accuracy: 0.9414 - val_loss: 0.1366\n",
      "Epoch 4/50\n",
      "\u001b[1m2760/2760\u001b[0m \u001b[32m━━━━━━━━━━━━━━━━━━━━\u001b[0m\u001b[37m\u001b[0m \u001b[1m3s\u001b[0m 1ms/step - accuracy: 0.9394 - loss: 0.1388 - val_accuracy: 0.9393 - val_loss: 0.1333\n",
      "Epoch 5/50\n",
      "\u001b[1m2760/2760\u001b[0m \u001b[32m━━━━━━━━━━━━━━━━━━━━\u001b[0m\u001b[37m\u001b[0m \u001b[1m3s\u001b[0m 1ms/step - accuracy: 0.9425 - loss: 0.1329 - val_accuracy: 0.9273 - val_loss: 0.1500\n",
      "Epoch 6/50\n",
      "\u001b[1m2760/2760\u001b[0m \u001b[32m━━━━━━━━━━━━━━━━━━━━\u001b[0m\u001b[37m\u001b[0m \u001b[1m3s\u001b[0m 1ms/step - accuracy: 0.9442 - loss: 0.1270 - val_accuracy: 0.9473 - val_loss: 0.1233\n",
      "Epoch 7/50\n",
      "\u001b[1m2760/2760\u001b[0m \u001b[32m━━━━━━━━━━━━━━━━━━━━\u001b[0m\u001b[37m\u001b[0m \u001b[1m5s\u001b[0m 1ms/step - accuracy: 0.9480 - loss: 0.1208 - val_accuracy: 0.9466 - val_loss: 0.1187\n",
      "Epoch 8/50\n",
      "\u001b[1m2760/2760\u001b[0m \u001b[32m━━━━━━━━━━━━━━━━━━━━\u001b[0m\u001b[37m\u001b[0m \u001b[1m3s\u001b[0m 1ms/step - accuracy: 0.9495 - loss: 0.1160 - val_accuracy: 0.9494 - val_loss: 0.1156\n",
      "Epoch 9/50\n",
      "\u001b[1m2760/2760\u001b[0m \u001b[32m━━━━━━━━━━━━━━━━━━━━\u001b[0m\u001b[37m\u001b[0m \u001b[1m3s\u001b[0m 1ms/step - accuracy: 0.9500 - loss: 0.1139 - val_accuracy: 0.9509 - val_loss: 0.1138\n",
      "Epoch 10/50\n",
      "\u001b[1m2760/2760\u001b[0m \u001b[32m━━━━━━━━━━━━━━━━━━━━\u001b[0m\u001b[37m\u001b[0m \u001b[1m3s\u001b[0m 1ms/step - accuracy: 0.9510 - loss: 0.1111 - val_accuracy: 0.9483 - val_loss: 0.1140\n",
      "Epoch 11/50\n",
      "\u001b[1m2760/2760\u001b[0m \u001b[32m━━━━━━━━━━━━━━━━━━━━\u001b[0m\u001b[37m\u001b[0m \u001b[1m3s\u001b[0m 1ms/step - accuracy: 0.9533 - loss: 0.1065 - val_accuracy: 0.9508 - val_loss: 0.1115\n",
      "Epoch 12/50\n",
      "\u001b[1m2760/2760\u001b[0m \u001b[32m━━━━━━━━━━━━━━━━━━━━\u001b[0m\u001b[37m\u001b[0m \u001b[1m3s\u001b[0m 1ms/step - accuracy: 0.9531 - loss: 0.1063 - val_accuracy: 0.9520 - val_loss: 0.1083\n",
      "Epoch 13/50\n",
      "\u001b[1m2760/2760\u001b[0m \u001b[32m━━━━━━━━━━━━━━━━━━━━\u001b[0m\u001b[37m\u001b[0m \u001b[1m3s\u001b[0m 1ms/step - accuracy: 0.9544 - loss: 0.1040 - val_accuracy: 0.9510 - val_loss: 0.1143\n",
      "Epoch 14/50\n",
      "\u001b[1m2760/2760\u001b[0m \u001b[32m━━━━━━━━━━━━━━━━━━━━\u001b[0m\u001b[37m\u001b[0m \u001b[1m3s\u001b[0m 1ms/step - accuracy: 0.9565 - loss: 0.1009 - val_accuracy: 0.9473 - val_loss: 0.1110\n",
      "Epoch 15/50\n",
      "\u001b[1m2760/2760\u001b[0m \u001b[32m━━━━━━━━━━━━━━━━━━━━\u001b[0m\u001b[37m\u001b[0m \u001b[1m3s\u001b[0m 1ms/step - accuracy: 0.9546 - loss: 0.1020 - val_accuracy: 0.9529 - val_loss: 0.1080\n",
      "Epoch 16/50\n",
      "\u001b[1m2760/2760\u001b[0m \u001b[32m━━━━━━━━━━━━━━━━━━━━\u001b[0m\u001b[37m\u001b[0m \u001b[1m5s\u001b[0m 2ms/step - accuracy: 0.9565 - loss: 0.0997 - val_accuracy: 0.9530 - val_loss: 0.1120\n",
      "Epoch 17/50\n",
      "\u001b[1m2760/2760\u001b[0m \u001b[32m━━━━━━━━━━━━━━━━━━━━\u001b[0m\u001b[37m\u001b[0m \u001b[1m5s\u001b[0m 2ms/step - accuracy: 0.9576 - loss: 0.0969 - val_accuracy: 0.9470 - val_loss: 0.1192\n",
      "Epoch 18/50\n",
      "\u001b[1m2760/2760\u001b[0m \u001b[32m━━━━━━━━━━━━━━━━━━━━\u001b[0m\u001b[37m\u001b[0m \u001b[1m4s\u001b[0m 2ms/step - accuracy: 0.9587 - loss: 0.0952 - val_accuracy: 0.9539 - val_loss: 0.1045\n",
      "Epoch 19/50\n",
      "\u001b[1m2760/2760\u001b[0m \u001b[32m━━━━━━━━━━━━━━━━━━━━\u001b[0m\u001b[37m\u001b[0m \u001b[1m4s\u001b[0m 1ms/step - accuracy: 0.9579 - loss: 0.0942 - val_accuracy: 0.9540 - val_loss: 0.1058\n",
      "Epoch 20/50\n",
      "\u001b[1m2760/2760\u001b[0m \u001b[32m━━━━━━━━━━━━━━━━━━━━\u001b[0m\u001b[37m\u001b[0m \u001b[1m4s\u001b[0m 1ms/step - accuracy: 0.9589 - loss: 0.0930 - val_accuracy: 0.9549 - val_loss: 0.1053\n",
      "Epoch 21/50\n",
      "\u001b[1m2760/2760\u001b[0m \u001b[32m━━━━━━━━━━━━━━━━━━━━\u001b[0m\u001b[37m\u001b[0m \u001b[1m4s\u001b[0m 1ms/step - accuracy: 0.9580 - loss: 0.0932 - val_accuracy: 0.9549 - val_loss: 0.1023\n",
      "Epoch 22/50\n",
      "\u001b[1m2760/2760\u001b[0m \u001b[32m━━━━━━━━━━━━━━━━━━━━\u001b[0m\u001b[37m\u001b[0m \u001b[1m4s\u001b[0m 1ms/step - accuracy: 0.9582 - loss: 0.0932 - val_accuracy: 0.9542 - val_loss: 0.1027\n",
      "Epoch 23/50\n",
      "\u001b[1m2760/2760\u001b[0m \u001b[32m━━━━━━━━━━━━━━━━━━━━\u001b[0m\u001b[37m\u001b[0m \u001b[1m3s\u001b[0m 1ms/step - accuracy: 0.9597 - loss: 0.0909 - val_accuracy: 0.9510 - val_loss: 0.1125\n",
      "Epoch 24/50\n",
      "\u001b[1m2760/2760\u001b[0m \u001b[32m━━━━━━━━━━━━━━━━━━━━\u001b[0m\u001b[37m\u001b[0m \u001b[1m3s\u001b[0m 1ms/step - accuracy: 0.9605 - loss: 0.0900 - val_accuracy: 0.9558 - val_loss: 0.1014\n",
      "Epoch 25/50\n",
      "\u001b[1m2760/2760\u001b[0m \u001b[32m━━━━━━━━━━━━━━━━━━━━\u001b[0m\u001b[37m\u001b[0m \u001b[1m3s\u001b[0m 1ms/step - accuracy: 0.9603 - loss: 0.0906 - val_accuracy: 0.9553 - val_loss: 0.1021\n",
      "Epoch 26/50\n",
      "\u001b[1m2760/2760\u001b[0m \u001b[32m━━━━━━━━━━━━━━━━━━━━\u001b[0m\u001b[37m\u001b[0m \u001b[1m3s\u001b[0m 1ms/step - accuracy: 0.9619 - loss: 0.0850 - val_accuracy: 0.9555 - val_loss: 0.1046\n",
      "Epoch 27/50\n",
      "\u001b[1m2760/2760\u001b[0m \u001b[32m━━━━━━━━━━━━━━━━━━━━\u001b[0m\u001b[37m\u001b[0m \u001b[1m3s\u001b[0m 1ms/step - accuracy: 0.9614 - loss: 0.0858 - val_accuracy: 0.9550 - val_loss: 0.1023\n",
      "Epoch 28/50\n",
      "\u001b[1m2760/2760\u001b[0m \u001b[32m━━━━━━━━━━━━━━━━━━━━\u001b[0m\u001b[37m\u001b[0m \u001b[1m3s\u001b[0m 1ms/step - accuracy: 0.9625 - loss: 0.0860 - val_accuracy: 0.9552 - val_loss: 0.1025\n",
      "Epoch 29/50\n",
      "\u001b[1m2760/2760\u001b[0m \u001b[32m━━━━━━━━━━━━━━━━━━━━\u001b[0m\u001b[37m\u001b[0m \u001b[1m3s\u001b[0m 1ms/step - accuracy: 0.9614 - loss: 0.0865 - val_accuracy: 0.9552 - val_loss: 0.1030\n",
      "Epoch 30/50\n",
      "\u001b[1m2760/2760\u001b[0m \u001b[32m━━━━━━━━━━━━━━━━━━━━\u001b[0m\u001b[37m\u001b[0m \u001b[1m3s\u001b[0m 1ms/step - accuracy: 0.9633 - loss: 0.0835 - val_accuracy: 0.9545 - val_loss: 0.1025\n",
      "Epoch 31/50\n",
      "\u001b[1m2760/2760\u001b[0m \u001b[32m━━━━━━━━━━━━━━━━━━━━\u001b[0m\u001b[37m\u001b[0m \u001b[1m4s\u001b[0m 1ms/step - accuracy: 0.9627 - loss: 0.0840 - val_accuracy: 0.9520 - val_loss: 0.1039\n",
      "Epoch 32/50\n",
      "\u001b[1m2760/2760\u001b[0m \u001b[32m━━━━━━━━━━━━━━━━━━━━\u001b[0m\u001b[37m\u001b[0m \u001b[1m4s\u001b[0m 1ms/step - accuracy: 0.9635 - loss: 0.0818 - val_accuracy: 0.9531 - val_loss: 0.1061\n",
      "Epoch 33/50\n",
      "\u001b[1m2760/2760\u001b[0m \u001b[32m━━━━━━━━━━━━━━━━━━━━\u001b[0m\u001b[37m\u001b[0m \u001b[1m4s\u001b[0m 2ms/step - accuracy: 0.9631 - loss: 0.0822 - val_accuracy: 0.9559 - val_loss: 0.1018\n",
      "Epoch 34/50\n",
      "\u001b[1m2760/2760\u001b[0m \u001b[32m━━━━━━━━━━━━━━━━━━━━\u001b[0m\u001b[37m\u001b[0m \u001b[1m4s\u001b[0m 1ms/step - accuracy: 0.9638 - loss: 0.0827 - val_accuracy: 0.9558 - val_loss: 0.1000\n",
      "Epoch 35/50\n",
      "\u001b[1m2760/2760\u001b[0m \u001b[32m━━━━━━━━━━━━━━━━━━━━\u001b[0m\u001b[37m\u001b[0m \u001b[1m4s\u001b[0m 1ms/step - accuracy: 0.9636 - loss: 0.0810 - val_accuracy: 0.9524 - val_loss: 0.1087\n",
      "Epoch 36/50\n",
      "\u001b[1m2760/2760\u001b[0m \u001b[32m━━━━━━━━━━━━━━━━━━━━\u001b[0m\u001b[37m\u001b[0m \u001b[1m4s\u001b[0m 1ms/step - accuracy: 0.9645 - loss: 0.0802 - val_accuracy: 0.9564 - val_loss: 0.1053\n",
      "Epoch 37/50\n",
      "\u001b[1m2760/2760\u001b[0m \u001b[32m━━━━━━━━━━━━━━━━━━━━\u001b[0m\u001b[37m\u001b[0m \u001b[1m4s\u001b[0m 1ms/step - accuracy: 0.9639 - loss: 0.0800 - val_accuracy: 0.9571 - val_loss: 0.1028\n",
      "Epoch 38/50\n",
      "\u001b[1m2760/2760\u001b[0m \u001b[32m━━━━━━━━━━━━━━━━━━━━\u001b[0m\u001b[37m\u001b[0m \u001b[1m3s\u001b[0m 1ms/step - accuracy: 0.9651 - loss: 0.0780 - val_accuracy: 0.9542 - val_loss: 0.1064\n",
      "Epoch 39/50\n",
      "\u001b[1m2760/2760\u001b[0m \u001b[32m━━━━━━━━━━━━━━━━━━━━\u001b[0m\u001b[37m\u001b[0m \u001b[1m3s\u001b[0m 1ms/step - accuracy: 0.9645 - loss: 0.0794 - val_accuracy: 0.9564 - val_loss: 0.1049\n",
      "Epoch 40/50\n",
      "\u001b[1m2760/2760\u001b[0m \u001b[32m━━━━━━━━━━━━━━━━━━━━\u001b[0m\u001b[37m\u001b[0m \u001b[1m4s\u001b[0m 1ms/step - accuracy: 0.9668 - loss: 0.0751 - val_accuracy: 0.9560 - val_loss: 0.1036\n",
      "Epoch 41/50\n",
      "\u001b[1m2760/2760\u001b[0m \u001b[32m━━━━━━━━━━━━━━━━━━━━\u001b[0m\u001b[37m\u001b[0m \u001b[1m5s\u001b[0m 2ms/step - accuracy: 0.9655 - loss: 0.0766 - val_accuracy: 0.9555 - val_loss: 0.1023\n",
      "Epoch 42/50\n",
      "\u001b[1m2760/2760\u001b[0m \u001b[32m━━━━━━━━━━━━━━━━━━━━\u001b[0m\u001b[37m\u001b[0m \u001b[1m4s\u001b[0m 2ms/step - accuracy: 0.9664 - loss: 0.0765 - val_accuracy: 0.9567 - val_loss: 0.1037\n",
      "Epoch 43/50\n",
      "\u001b[1m2760/2760\u001b[0m \u001b[32m━━━━━━━━━━━━━━━━━━━━\u001b[0m\u001b[37m\u001b[0m \u001b[1m4s\u001b[0m 1ms/step - accuracy: 0.9656 - loss: 0.0763 - val_accuracy: 0.9549 - val_loss: 0.1064\n",
      "Epoch 44/50\n",
      "\u001b[1m2760/2760\u001b[0m \u001b[32m━━━━━━━━━━━━━━━━━━━━\u001b[0m\u001b[37m\u001b[0m \u001b[1m4s\u001b[0m 1ms/step - accuracy: 0.9666 - loss: 0.0738 - val_accuracy: 0.9566 - val_loss: 0.1036\n",
      "Epoch 45/50\n",
      "\u001b[1m2760/2760\u001b[0m \u001b[32m━━━━━━━━━━━━━━━━━━━━\u001b[0m\u001b[37m\u001b[0m \u001b[1m4s\u001b[0m 1ms/step - accuracy: 0.9656 - loss: 0.0751 - val_accuracy: 0.9552 - val_loss: 0.1087\n",
      "Epoch 46/50\n",
      "\u001b[1m2760/2760\u001b[0m \u001b[32m━━━━━━━━━━━━━━━━━━━━\u001b[0m\u001b[37m\u001b[0m \u001b[1m4s\u001b[0m 1ms/step - accuracy: 0.9669 - loss: 0.0736 - val_accuracy: 0.9547 - val_loss: 0.1092\n",
      "Epoch 47/50\n",
      "\u001b[1m2760/2760\u001b[0m \u001b[32m━━━━━━━━━━━━━━━━━━━━\u001b[0m\u001b[37m\u001b[0m \u001b[1m4s\u001b[0m 1ms/step - accuracy: 0.9667 - loss: 0.0742 - val_accuracy: 0.9580 - val_loss: 0.1043\n",
      "Epoch 48/50\n",
      "\u001b[1m2760/2760\u001b[0m \u001b[32m━━━━━━━━━━━━━━━━━━━━\u001b[0m\u001b[37m\u001b[0m \u001b[1m4s\u001b[0m 2ms/step - accuracy: 0.9676 - loss: 0.0716 - val_accuracy: 0.9522 - val_loss: 0.1118\n",
      "Epoch 49/50\n",
      "\u001b[1m2760/2760\u001b[0m \u001b[32m━━━━━━━━━━━━━━━━━━━━\u001b[0m\u001b[37m\u001b[0m \u001b[1m4s\u001b[0m 2ms/step - accuracy: 0.9676 - loss: 0.0716 - val_accuracy: 0.9573 - val_loss: 0.1062\n",
      "Epoch 50/50\n",
      "\u001b[1m2760/2760\u001b[0m \u001b[32m━━━━━━━━━━━━━━━━━━━━\u001b[0m\u001b[37m\u001b[0m \u001b[1m4s\u001b[0m 1ms/step - accuracy: 0.9680 - loss: 0.0708 - val_accuracy: 0.9564 - val_loss: 0.1092\n",
      "\u001b[1m812/812\u001b[0m \u001b[32m━━━━━━━━━━━━━━━━━━━━\u001b[0m\u001b[37m\u001b[0m \u001b[1m1s\u001b[0m 840us/step\n",
      "Acurácia: 0.9538420080073914\n"
     ]
    }
   ],
   "source": [
    "optimizer = Adam(learning_rate=0.0005)\n",
    "\n",
    "# Criando o modelo\n",
    "model = Sequential()\n",
    "model.add(Dense(units=128, activation='relu', input_dim=X_train.shape[1]))\n",
    "model.add(Dense(units=64, activation='relu'))\n",
    "model.add(Dense(units=32, activation='relu'))\n",
    "model.add(Dense(units=1, activation='sigmoid'))\n",
    "\n",
    "# Compilando o modelo com o otimizador personalizado\n",
    "model.compile(optimizer=optimizer, loss='binary_crossentropy', metrics=['accuracy'])\n",
    "\n",
    "# Treinando o modelo\n",
    "model.fit(X_train, y_train, epochs=50, batch_size=32, validation_data=(X_val, y_val))\n",
    "\n",
    "# Avaliando o modelo\n",
    "y_pred = model.predict(X_test)\n",
    "accuracy = accuracy_score(y_test, (y_pred > 0.5).astype(int))\n",
    "print(f'Acurácia: {accuracy}')"
   ]
  },
  {
   "cell_type": "markdown",
   "metadata": {},
   "source": [
    "Apesar de conseguir 0.9680 na ultima época a acuracia final foi ruim, vamos testar esse mesmo exemplo com menos épocas"
   ]
  },
  {
   "cell_type": "code",
   "execution_count": 17,
   "metadata": {},
   "outputs": [
    {
     "name": "stdout",
     "output_type": "stream",
     "text": [
      "Epoch 1/20\n"
     ]
    },
    {
     "name": "stderr",
     "output_type": "stream",
     "text": [
      "C:\\Users\\luize\\AppData\\Local\\Packages\\PythonSoftwareFoundation.Python.3.10_qbz5n2kfra8p0\\LocalCache\\local-packages\\Python310\\site-packages\\keras\\src\\layers\\core\\dense.py:87: UserWarning: Do not pass an `input_shape`/`input_dim` argument to a layer. When using Sequential models, prefer using an `Input(shape)` object as the first layer in the model instead.\n",
      "  super().__init__(activity_regularizer=activity_regularizer, **kwargs)\n"
     ]
    },
    {
     "name": "stdout",
     "output_type": "stream",
     "text": [
      "\u001b[1m2760/2760\u001b[0m \u001b[32m━━━━━━━━━━━━━━━━━━━━\u001b[0m\u001b[37m\u001b[0m \u001b[1m5s\u001b[0m 2ms/step - accuracy: 0.8679 - loss: 0.3193 - val_accuracy: 0.9281 - val_loss: 0.1676\n",
      "Epoch 2/20\n",
      "\u001b[1m2760/2760\u001b[0m \u001b[32m━━━━━━━━━━━━━━━━━━━━\u001b[0m\u001b[37m\u001b[0m \u001b[1m4s\u001b[0m 1ms/step - accuracy: 0.9318 - loss: 0.1679 - val_accuracy: 0.9378 - val_loss: 0.1515\n",
      "Epoch 3/20\n",
      "\u001b[1m2760/2760\u001b[0m \u001b[32m━━━━━━━━━━━━━━━━━━━━\u001b[0m\u001b[37m\u001b[0m \u001b[1m4s\u001b[0m 1ms/step - accuracy: 0.9371 - loss: 0.1488 - val_accuracy: 0.9408 - val_loss: 0.1338\n",
      "Epoch 4/20\n",
      "\u001b[1m2760/2760\u001b[0m \u001b[32m━━━━━━━━━━━━━━━━━━━━\u001b[0m\u001b[37m\u001b[0m \u001b[1m4s\u001b[0m 1ms/step - accuracy: 0.9406 - loss: 0.1377 - val_accuracy: 0.9415 - val_loss: 0.1326\n",
      "Epoch 5/20\n",
      "\u001b[1m2760/2760\u001b[0m \u001b[32m━━━━━━━━━━━━━━━━━━━━\u001b[0m\u001b[37m\u001b[0m \u001b[1m3s\u001b[0m 1ms/step - accuracy: 0.9425 - loss: 0.1325 - val_accuracy: 0.9433 - val_loss: 0.1322\n",
      "Epoch 6/20\n",
      "\u001b[1m2760/2760\u001b[0m \u001b[32m━━━━━━━━━━━━━━━━━━━━\u001b[0m\u001b[37m\u001b[0m \u001b[1m3s\u001b[0m 1ms/step - accuracy: 0.9454 - loss: 0.1255 - val_accuracy: 0.9287 - val_loss: 0.1486\n",
      "Epoch 7/20\n",
      "\u001b[1m2760/2760\u001b[0m \u001b[32m━━━━━━━━━━━━━━━━━━━━\u001b[0m\u001b[37m\u001b[0m \u001b[1m3s\u001b[0m 1ms/step - accuracy: 0.9483 - loss: 0.1190 - val_accuracy: 0.9472 - val_loss: 0.1178\n",
      "Epoch 8/20\n",
      "\u001b[1m2760/2760\u001b[0m \u001b[32m━━━━━━━━━━━━━━━━━━━━\u001b[0m\u001b[37m\u001b[0m \u001b[1m3s\u001b[0m 1ms/step - accuracy: 0.9487 - loss: 0.1165 - val_accuracy: 0.9490 - val_loss: 0.1154\n",
      "Epoch 9/20\n",
      "\u001b[1m2760/2760\u001b[0m \u001b[32m━━━━━━━━━━━━━━━━━━━━\u001b[0m\u001b[37m\u001b[0m \u001b[1m4s\u001b[0m 1ms/step - accuracy: 0.9498 - loss: 0.1146 - val_accuracy: 0.9461 - val_loss: 0.1208\n",
      "Epoch 10/20\n",
      "\u001b[1m2760/2760\u001b[0m \u001b[32m━━━━━━━━━━━━━━━━━━━━\u001b[0m\u001b[37m\u001b[0m \u001b[1m4s\u001b[0m 1ms/step - accuracy: 0.9511 - loss: 0.1105 - val_accuracy: 0.9493 - val_loss: 0.1116\n",
      "Epoch 11/20\n",
      "\u001b[1m2760/2760\u001b[0m \u001b[32m━━━━━━━━━━━━━━━━━━━━\u001b[0m\u001b[37m\u001b[0m \u001b[1m3s\u001b[0m 1ms/step - accuracy: 0.9537 - loss: 0.1062 - val_accuracy: 0.9511 - val_loss: 0.1097\n",
      "Epoch 12/20\n",
      "\u001b[1m2760/2760\u001b[0m \u001b[32m━━━━━━━━━━━━━━━━━━━━\u001b[0m\u001b[37m\u001b[0m \u001b[1m4s\u001b[0m 1ms/step - accuracy: 0.9543 - loss: 0.1041 - val_accuracy: 0.9441 - val_loss: 0.1192\n",
      "Epoch 13/20\n",
      "\u001b[1m2760/2760\u001b[0m \u001b[32m━━━━━━━━━━━━━━━━━━━━\u001b[0m\u001b[37m\u001b[0m \u001b[1m4s\u001b[0m 1ms/step - accuracy: 0.9531 - loss: 0.1050 - val_accuracy: 0.9512 - val_loss: 0.1112\n",
      "Epoch 14/20\n",
      "\u001b[1m2760/2760\u001b[0m \u001b[32m━━━━━━━━━━━━━━━━━━━━\u001b[0m\u001b[37m\u001b[0m \u001b[1m4s\u001b[0m 1ms/step - accuracy: 0.9539 - loss: 0.1042 - val_accuracy: 0.9522 - val_loss: 0.1104\n",
      "Epoch 15/20\n",
      "\u001b[1m2760/2760\u001b[0m \u001b[32m━━━━━━━━━━━━━━━━━━━━\u001b[0m\u001b[37m\u001b[0m \u001b[1m4s\u001b[0m 1ms/step - accuracy: 0.9562 - loss: 0.1009 - val_accuracy: 0.9507 - val_loss: 0.1125\n",
      "Epoch 16/20\n",
      "\u001b[1m2760/2760\u001b[0m \u001b[32m━━━━━━━━━━━━━━━━━━━━\u001b[0m\u001b[37m\u001b[0m \u001b[1m4s\u001b[0m 1ms/step - accuracy: 0.9567 - loss: 0.0979 - val_accuracy: 0.9538 - val_loss: 0.1076\n",
      "Epoch 17/20\n",
      "\u001b[1m2760/2760\u001b[0m \u001b[32m━━━━━━━━━━━━━━━━━━━━\u001b[0m\u001b[37m\u001b[0m \u001b[1m4s\u001b[0m 1ms/step - accuracy: 0.9571 - loss: 0.0970 - val_accuracy: 0.9545 - val_loss: 0.1082\n",
      "Epoch 18/20\n",
      "\u001b[1m2760/2760\u001b[0m \u001b[32m━━━━━━━━━━━━━━━━━━━━\u001b[0m\u001b[37m\u001b[0m \u001b[1m4s\u001b[0m 1ms/step - accuracy: 0.9572 - loss: 0.0952 - val_accuracy: 0.9555 - val_loss: 0.1015\n",
      "Epoch 19/20\n",
      "\u001b[1m2760/2760\u001b[0m \u001b[32m━━━━━━━━━━━━━━━━━━━━\u001b[0m\u001b[37m\u001b[0m \u001b[1m4s\u001b[0m 1ms/step - accuracy: 0.9587 - loss: 0.0933 - val_accuracy: 0.9518 - val_loss: 0.1044\n",
      "Epoch 20/20\n",
      "\u001b[1m2760/2760\u001b[0m \u001b[32m━━━━━━━━━━━━━━━━━━━━\u001b[0m\u001b[37m\u001b[0m \u001b[1m4s\u001b[0m 1ms/step - accuracy: 0.9581 - loss: 0.0937 - val_accuracy: 0.9547 - val_loss: 0.1014\n",
      "\u001b[1m812/812\u001b[0m \u001b[32m━━━━━━━━━━━━━━━━━━━━\u001b[0m\u001b[37m\u001b[0m \u001b[1m1s\u001b[0m 817us/step\n",
      "Acurácia: 0.9537650138589467\n"
     ]
    }
   ],
   "source": [
    "optimizer = Adam(learning_rate=0.0005)\n",
    "\n",
    "# Criando o modelo\n",
    "model = Sequential()\n",
    "model.add(Dense(units=128, activation='relu', input_dim=X_train.shape[1]))\n",
    "model.add(Dense(units=64, activation='relu'))\n",
    "model.add(Dense(units=32, activation='relu'))\n",
    "model.add(Dense(units=1, activation='sigmoid'))\n",
    "\n",
    "# Compilando o modelo com o otimizador personalizado\n",
    "model.compile(optimizer=optimizer, loss='binary_crossentropy', metrics=['accuracy'])\n",
    "\n",
    "# Treinando o modelo\n",
    "model.fit(X_train, y_train, epochs=20, batch_size=32, validation_data=(X_val, y_val))\n",
    "\n",
    "# Avaliando o modelo\n",
    "y_pred = model.predict(X_test)\n",
    "accuracy = accuracy_score(y_test, (y_pred > 0.5).astype(int))\n",
    "print(f'Acurácia: {accuracy}')"
   ]
  },
  {
   "cell_type": "markdown",
   "metadata": {},
   "source": [
    "Ainda não conseguimos bater a learning rate de 0.001, vamos fazer o ultimo teste com 0.0005 mas agora com 30 épocas"
   ]
  },
  {
   "cell_type": "code",
   "execution_count": 18,
   "metadata": {},
   "outputs": [
    {
     "name": "stdout",
     "output_type": "stream",
     "text": [
      "Epoch 1/30\n"
     ]
    },
    {
     "name": "stderr",
     "output_type": "stream",
     "text": [
      "C:\\Users\\luize\\AppData\\Local\\Packages\\PythonSoftwareFoundation.Python.3.10_qbz5n2kfra8p0\\LocalCache\\local-packages\\Python310\\site-packages\\keras\\src\\layers\\core\\dense.py:87: UserWarning: Do not pass an `input_shape`/`input_dim` argument to a layer. When using Sequential models, prefer using an `Input(shape)` object as the first layer in the model instead.\n",
      "  super().__init__(activity_regularizer=activity_regularizer, **kwargs)\n"
     ]
    },
    {
     "name": "stdout",
     "output_type": "stream",
     "text": [
      "\u001b[1m2760/2760\u001b[0m \u001b[32m━━━━━━━━━━━━━━━━━━━━\u001b[0m\u001b[37m\u001b[0m \u001b[1m5s\u001b[0m 1ms/step - accuracy: 0.8579 - loss: 0.3466 - val_accuracy: 0.9171 - val_loss: 0.2072\n",
      "Epoch 2/30\n",
      "\u001b[1m2760/2760\u001b[0m \u001b[32m━━━━━━━━━━━━━━━━━━━━\u001b[0m\u001b[37m\u001b[0m \u001b[1m5s\u001b[0m 2ms/step - accuracy: 0.9284 - loss: 0.1730 - val_accuracy: 0.9309 - val_loss: 0.1548\n",
      "Epoch 3/30\n",
      "\u001b[1m2760/2760\u001b[0m \u001b[32m━━━━━━━━━━━━━━━━━━━━\u001b[0m\u001b[37m\u001b[0m \u001b[1m4s\u001b[0m 1ms/step - accuracy: 0.9354 - loss: 0.1509 - val_accuracy: 0.9322 - val_loss: 0.1568\n",
      "Epoch 4/30\n",
      "\u001b[1m2760/2760\u001b[0m \u001b[32m━━━━━━━━━━━━━━━━━━━━\u001b[0m\u001b[37m\u001b[0m \u001b[1m4s\u001b[0m 2ms/step - accuracy: 0.9424 - loss: 0.1358 - val_accuracy: 0.9431 - val_loss: 0.1346\n",
      "Epoch 5/30\n",
      "\u001b[1m2760/2760\u001b[0m \u001b[32m━━━━━━━━━━━━━━━━━━━━\u001b[0m\u001b[37m\u001b[0m \u001b[1m5s\u001b[0m 2ms/step - accuracy: 0.9432 - loss: 0.1302 - val_accuracy: 0.9378 - val_loss: 0.1336\n",
      "Epoch 6/30\n",
      "\u001b[1m2760/2760\u001b[0m \u001b[32m━━━━━━━━━━━━━━━━━━━━\u001b[0m\u001b[37m\u001b[0m \u001b[1m5s\u001b[0m 2ms/step - accuracy: 0.9472 - loss: 0.1219 - val_accuracy: 0.9468 - val_loss: 0.1206\n",
      "Epoch 7/30\n",
      "\u001b[1m2760/2760\u001b[0m \u001b[32m━━━━━━━━━━━━━━━━━━━━\u001b[0m\u001b[37m\u001b[0m \u001b[1m4s\u001b[0m 1ms/step - accuracy: 0.9487 - loss: 0.1189 - val_accuracy: 0.9340 - val_loss: 0.1441\n",
      "Epoch 8/30\n",
      "\u001b[1m2760/2760\u001b[0m \u001b[32m━━━━━━━━━━━━━━━━━━━━\u001b[0m\u001b[37m\u001b[0m \u001b[1m3s\u001b[0m 1ms/step - accuracy: 0.9484 - loss: 0.1177 - val_accuracy: 0.9478 - val_loss: 0.1216\n",
      "Epoch 9/30\n",
      "\u001b[1m2760/2760\u001b[0m \u001b[32m━━━━━━━━━━━━━━━━━━━━\u001b[0m\u001b[37m\u001b[0m \u001b[1m3s\u001b[0m 1ms/step - accuracy: 0.9514 - loss: 0.1099 - val_accuracy: 0.9484 - val_loss: 0.1158\n",
      "Epoch 10/30\n",
      "\u001b[1m2760/2760\u001b[0m \u001b[32m━━━━━━━━━━━━━━━━━━━━\u001b[0m\u001b[37m\u001b[0m \u001b[1m3s\u001b[0m 1ms/step - accuracy: 0.9509 - loss: 0.1113 - val_accuracy: 0.9508 - val_loss: 0.1114\n",
      "Epoch 11/30\n",
      "\u001b[1m2760/2760\u001b[0m \u001b[32m━━━━━━━━━━━━━━━━━━━━\u001b[0m\u001b[37m\u001b[0m \u001b[1m3s\u001b[0m 1ms/step - accuracy: 0.9514 - loss: 0.1084 - val_accuracy: 0.9507 - val_loss: 0.1145\n",
      "Epoch 12/30\n",
      "\u001b[1m2760/2760\u001b[0m \u001b[32m━━━━━━━━━━━━━━━━━━━━\u001b[0m\u001b[37m\u001b[0m \u001b[1m3s\u001b[0m 1ms/step - accuracy: 0.9540 - loss: 0.1037 - val_accuracy: 0.9486 - val_loss: 0.1134\n",
      "Epoch 13/30\n",
      "\u001b[1m2760/2760\u001b[0m \u001b[32m━━━━━━━━━━━━━━━━━━━━\u001b[0m\u001b[37m\u001b[0m \u001b[1m4s\u001b[0m 1ms/step - accuracy: 0.9538 - loss: 0.1024 - val_accuracy: 0.9482 - val_loss: 0.1129\n",
      "Epoch 14/30\n",
      "\u001b[1m2760/2760\u001b[0m \u001b[32m━━━━━━━━━━━━━━━━━━━━\u001b[0m\u001b[37m\u001b[0m \u001b[1m3s\u001b[0m 1ms/step - accuracy: 0.9546 - loss: 0.1015 - val_accuracy: 0.9507 - val_loss: 0.1113\n",
      "Epoch 15/30\n",
      "\u001b[1m2760/2760\u001b[0m \u001b[32m━━━━━━━━━━━━━━━━━━━━\u001b[0m\u001b[37m\u001b[0m \u001b[1m3s\u001b[0m 1ms/step - accuracy: 0.9556 - loss: 0.0998 - val_accuracy: 0.9535 - val_loss: 0.1070\n",
      "Epoch 16/30\n",
      "\u001b[1m2760/2760\u001b[0m \u001b[32m━━━━━━━━━━━━━━━━━━━━\u001b[0m\u001b[37m\u001b[0m \u001b[1m3s\u001b[0m 1ms/step - accuracy: 0.9558 - loss: 0.0992 - val_accuracy: 0.9519 - val_loss: 0.1067\n",
      "Epoch 17/30\n",
      "\u001b[1m2760/2760\u001b[0m \u001b[32m━━━━━━━━━━━━━━━━━━━━\u001b[0m\u001b[37m\u001b[0m \u001b[1m3s\u001b[0m 1ms/step - accuracy: 0.9583 - loss: 0.0957 - val_accuracy: 0.9513 - val_loss: 0.1067\n",
      "Epoch 18/30\n",
      "\u001b[1m2760/2760\u001b[0m \u001b[32m━━━━━━━━━━━━━━━━━━━━\u001b[0m\u001b[37m\u001b[0m \u001b[1m3s\u001b[0m 1ms/step - accuracy: 0.9557 - loss: 0.0976 - val_accuracy: 0.9540 - val_loss: 0.1048\n",
      "Epoch 19/30\n",
      "\u001b[1m2760/2760\u001b[0m \u001b[32m━━━━━━━━━━━━━━━━━━━━\u001b[0m\u001b[37m\u001b[0m \u001b[1m4s\u001b[0m 1ms/step - accuracy: 0.9594 - loss: 0.0922 - val_accuracy: 0.9518 - val_loss: 0.1102\n",
      "Epoch 20/30\n",
      "\u001b[1m2760/2760\u001b[0m \u001b[32m━━━━━━━━━━━━━━━━━━━━\u001b[0m\u001b[37m\u001b[0m \u001b[1m3s\u001b[0m 1ms/step - accuracy: 0.9580 - loss: 0.0940 - val_accuracy: 0.9529 - val_loss: 0.1079\n",
      "Epoch 21/30\n",
      "\u001b[1m2760/2760\u001b[0m \u001b[32m━━━━━━━━━━━━━━━━━━━━\u001b[0m\u001b[37m\u001b[0m \u001b[1m3s\u001b[0m 1ms/step - accuracy: 0.9603 - loss: 0.0919 - val_accuracy: 0.9518 - val_loss: 0.1110\n",
      "Epoch 22/30\n",
      "\u001b[1m2760/2760\u001b[0m \u001b[32m━━━━━━━━━━━━━━━━━━━━\u001b[0m\u001b[37m\u001b[0m \u001b[1m4s\u001b[0m 1ms/step - accuracy: 0.9606 - loss: 0.0893 - val_accuracy: 0.9539 - val_loss: 0.1098\n",
      "Epoch 23/30\n",
      "\u001b[1m2760/2760\u001b[0m \u001b[32m━━━━━━━━━━━━━━━━━━━━\u001b[0m\u001b[37m\u001b[0m \u001b[1m4s\u001b[0m 1ms/step - accuracy: 0.9607 - loss: 0.0890 - val_accuracy: 0.9546 - val_loss: 0.1079\n",
      "Epoch 24/30\n",
      "\u001b[1m2760/2760\u001b[0m \u001b[32m━━━━━━━━━━━━━━━━━━━━\u001b[0m\u001b[37m\u001b[0m \u001b[1m4s\u001b[0m 1ms/step - accuracy: 0.9613 - loss: 0.0875 - val_accuracy: 0.9522 - val_loss: 0.1029\n",
      "Epoch 25/30\n",
      "\u001b[1m2760/2760\u001b[0m \u001b[32m━━━━━━━━━━━━━━━━━━━━\u001b[0m\u001b[37m\u001b[0m \u001b[1m4s\u001b[0m 1ms/step - accuracy: 0.9621 - loss: 0.0860 - val_accuracy: 0.9540 - val_loss: 0.1090\n",
      "Epoch 26/30\n",
      "\u001b[1m2760/2760\u001b[0m \u001b[32m━━━━━━━━━━━━━━━━━━━━\u001b[0m\u001b[37m\u001b[0m \u001b[1m4s\u001b[0m 1ms/step - accuracy: 0.9616 - loss: 0.0859 - val_accuracy: 0.9539 - val_loss: 0.1059\n",
      "Epoch 27/30\n",
      "\u001b[1m2760/2760\u001b[0m \u001b[32m━━━━━━━━━━━━━━━━━━━━\u001b[0m\u001b[37m\u001b[0m \u001b[1m4s\u001b[0m 1ms/step - accuracy: 0.9625 - loss: 0.0851 - val_accuracy: 0.9543 - val_loss: 0.1083\n",
      "Epoch 28/30\n",
      "\u001b[1m2760/2760\u001b[0m \u001b[32m━━━━━━━━━━━━━━━━━━━━\u001b[0m\u001b[37m\u001b[0m \u001b[1m4s\u001b[0m 1ms/step - accuracy: 0.9628 - loss: 0.0838 - val_accuracy: 0.9558 - val_loss: 0.1034\n",
      "Epoch 29/30\n",
      "\u001b[1m2760/2760\u001b[0m \u001b[32m━━━━━━━━━━━━━━━━━━━━\u001b[0m\u001b[37m\u001b[0m \u001b[1m4s\u001b[0m 1ms/step - accuracy: 0.9612 - loss: 0.0850 - val_accuracy: 0.9551 - val_loss: 0.1033\n",
      "Epoch 30/30\n",
      "\u001b[1m2760/2760\u001b[0m \u001b[32m━━━━━━━━━━━━━━━━━━━━\u001b[0m\u001b[37m\u001b[0m \u001b[1m4s\u001b[0m 1ms/step - accuracy: 0.9623 - loss: 0.0834 - val_accuracy: 0.9528 - val_loss: 0.1055\n",
      "\u001b[1m812/812\u001b[0m \u001b[32m━━━━━━━━━━━━━━━━━━━━\u001b[0m\u001b[37m\u001b[0m \u001b[1m1s\u001b[0m 858us/step\n",
      "Acurácia: 0.9511857098860487\n"
     ]
    }
   ],
   "source": [
    "optimizer = Adam(learning_rate=0.0005)\n",
    "\n",
    "# Criando o modelo\n",
    "model = Sequential()\n",
    "model.add(Dense(units=128, activation='relu', input_dim=X_train.shape[1]))\n",
    "model.add(Dense(units=64, activation='relu'))\n",
    "model.add(Dense(units=32, activation='relu'))\n",
    "model.add(Dense(units=1, activation='sigmoid'))\n",
    "\n",
    "# Compilando o modelo com o otimizador personalizado\n",
    "model.compile(optimizer=optimizer, loss='binary_crossentropy', metrics=['accuracy'])\n",
    "\n",
    "# Treinando o modelo\n",
    "model.fit(X_train, y_train, epochs=30, batch_size=32, validation_data=(X_val, y_val))\n",
    "\n",
    "# Avaliando o modelo\n",
    "y_pred = model.predict(X_test)\n",
    "accuracy = accuracy_score(y_test, (y_pred > 0.5).astype(int))\n",
    "print(f'Acurácia: {accuracy}')"
   ]
  },
  {
   "cell_type": "markdown",
   "metadata": {},
   "source": [
    "Mais uma vez durante o treinamento conseguimos acuracia boa mas a final não é satisfatoria, vamos fazer o ultimo teste com 0.0005 de learning rate e qualquer coisa voltamos para 0.001"
   ]
  },
  {
   "cell_type": "code",
   "execution_count": 19,
   "metadata": {},
   "outputs": [
    {
     "name": "stdout",
     "output_type": "stream",
     "text": [
      "Epoch 1/40\n"
     ]
    },
    {
     "name": "stderr",
     "output_type": "stream",
     "text": [
      "C:\\Users\\luize\\AppData\\Local\\Packages\\PythonSoftwareFoundation.Python.3.10_qbz5n2kfra8p0\\LocalCache\\local-packages\\Python310\\site-packages\\keras\\src\\layers\\core\\dense.py:87: UserWarning: Do not pass an `input_shape`/`input_dim` argument to a layer. When using Sequential models, prefer using an `Input(shape)` object as the first layer in the model instead.\n",
      "  super().__init__(activity_regularizer=activity_regularizer, **kwargs)\n"
     ]
    },
    {
     "name": "stdout",
     "output_type": "stream",
     "text": [
      "\u001b[1m2760/2760\u001b[0m \u001b[32m━━━━━━━━━━━━━━━━━━━━\u001b[0m\u001b[37m\u001b[0m \u001b[1m5s\u001b[0m 1ms/step - accuracy: 0.8521 - loss: 0.3284 - val_accuracy: 0.9180 - val_loss: 0.1878\n",
      "Epoch 2/40\n",
      "\u001b[1m2760/2760\u001b[0m \u001b[32m━━━━━━━━━━━━━━━━━━━━\u001b[0m\u001b[37m\u001b[0m \u001b[1m3s\u001b[0m 1ms/step - accuracy: 0.9312 - loss: 0.1658 - val_accuracy: 0.9312 - val_loss: 0.1567\n",
      "Epoch 3/40\n",
      "\u001b[1m2760/2760\u001b[0m \u001b[32m━━━━━━━━━━━━━━━━━━━━\u001b[0m\u001b[37m\u001b[0m \u001b[1m3s\u001b[0m 1ms/step - accuracy: 0.9380 - loss: 0.1451 - val_accuracy: 0.9417 - val_loss: 0.1401\n",
      "Epoch 4/40\n",
      "\u001b[1m2760/2760\u001b[0m \u001b[32m━━━━━━━━━━━━━━━━━━━━\u001b[0m\u001b[37m\u001b[0m \u001b[1m3s\u001b[0m 1ms/step - accuracy: 0.9412 - loss: 0.1358 - val_accuracy: 0.9430 - val_loss: 0.1299\n",
      "Epoch 5/40\n",
      "\u001b[1m2760/2760\u001b[0m \u001b[32m━━━━━━━━━━━━━━━━━━━━\u001b[0m\u001b[37m\u001b[0m \u001b[1m3s\u001b[0m 1ms/step - accuracy: 0.9458 - loss: 0.1267 - val_accuracy: 0.9416 - val_loss: 0.1385\n",
      "Epoch 6/40\n",
      "\u001b[1m2760/2760\u001b[0m \u001b[32m━━━━━━━━━━━━━━━━━━━━\u001b[0m\u001b[37m\u001b[0m \u001b[1m4s\u001b[0m 1ms/step - accuracy: 0.9453 - loss: 0.1234 - val_accuracy: 0.9484 - val_loss: 0.1200\n",
      "Epoch 7/40\n",
      "\u001b[1m2760/2760\u001b[0m \u001b[32m━━━━━━━━━━━━━━━━━━━━\u001b[0m\u001b[37m\u001b[0m \u001b[1m3s\u001b[0m 1ms/step - accuracy: 0.9487 - loss: 0.1182 - val_accuracy: 0.9485 - val_loss: 0.1202\n",
      "Epoch 8/40\n",
      "\u001b[1m2760/2760\u001b[0m \u001b[32m━━━━━━━━━━━━━━━━━━━━\u001b[0m\u001b[37m\u001b[0m \u001b[1m3s\u001b[0m 1ms/step - accuracy: 0.9490 - loss: 0.1156 - val_accuracy: 0.9476 - val_loss: 0.1218\n",
      "Epoch 9/40\n",
      "\u001b[1m2760/2760\u001b[0m \u001b[32m━━━━━━━━━━━━━━━━━━━━\u001b[0m\u001b[37m\u001b[0m \u001b[1m4s\u001b[0m 1ms/step - accuracy: 0.9509 - loss: 0.1106 - val_accuracy: 0.9514 - val_loss: 0.1106\n",
      "Epoch 10/40\n",
      "\u001b[1m2760/2760\u001b[0m \u001b[32m━━━━━━━━━━━━━━━━━━━━\u001b[0m\u001b[37m\u001b[0m \u001b[1m3s\u001b[0m 1ms/step - accuracy: 0.9519 - loss: 0.1082 - val_accuracy: 0.9501 - val_loss: 0.1159\n",
      "Epoch 11/40\n",
      "\u001b[1m2760/2760\u001b[0m \u001b[32m━━━━━━━━━━━━━━━━━━━━\u001b[0m\u001b[37m\u001b[0m \u001b[1m5s\u001b[0m 2ms/step - accuracy: 0.9546 - loss: 0.1036 - val_accuracy: 0.9529 - val_loss: 0.1099\n",
      "Epoch 12/40\n",
      "\u001b[1m2760/2760\u001b[0m \u001b[32m━━━━━━━━━━━━━━━━━━━━\u001b[0m\u001b[37m\u001b[0m \u001b[1m4s\u001b[0m 1ms/step - accuracy: 0.9546 - loss: 0.1036 - val_accuracy: 0.9501 - val_loss: 0.1137\n",
      "Epoch 13/40\n",
      "\u001b[1m2760/2760\u001b[0m \u001b[32m━━━━━━━━━━━━━━━━━━━━\u001b[0m\u001b[37m\u001b[0m \u001b[1m3s\u001b[0m 1ms/step - accuracy: 0.9567 - loss: 0.1005 - val_accuracy: 0.9505 - val_loss: 0.1136\n",
      "Epoch 14/40\n",
      "\u001b[1m2760/2760\u001b[0m \u001b[32m━━━━━━━━━━━━━━━━━━━━\u001b[0m\u001b[37m\u001b[0m \u001b[1m3s\u001b[0m 1ms/step - accuracy: 0.9554 - loss: 0.1015 - val_accuracy: 0.9515 - val_loss: 0.1099\n",
      "Epoch 15/40\n",
      "\u001b[1m2760/2760\u001b[0m \u001b[32m━━━━━━━━━━━━━━━━━━━━\u001b[0m\u001b[37m\u001b[0m \u001b[1m4s\u001b[0m 1ms/step - accuracy: 0.9560 - loss: 0.0995 - val_accuracy: 0.9492 - val_loss: 0.1104\n",
      "Epoch 16/40\n",
      "\u001b[1m2760/2760\u001b[0m \u001b[32m━━━━━━━━━━━━━━━━━━━━\u001b[0m\u001b[37m\u001b[0m \u001b[1m6s\u001b[0m 2ms/step - accuracy: 0.9566 - loss: 0.0978 - val_accuracy: 0.9529 - val_loss: 0.1041\n",
      "Epoch 17/40\n",
      "\u001b[1m2760/2760\u001b[0m \u001b[32m━━━━━━━━━━━━━━━━━━━━\u001b[0m\u001b[37m\u001b[0m \u001b[1m5s\u001b[0m 2ms/step - accuracy: 0.9588 - loss: 0.0936 - val_accuracy: 0.9542 - val_loss: 0.1041\n",
      "Epoch 18/40\n",
      "\u001b[1m2760/2760\u001b[0m \u001b[32m━━━━━━━━━━━━━━━━━━━━\u001b[0m\u001b[37m\u001b[0m \u001b[1m5s\u001b[0m 2ms/step - accuracy: 0.9585 - loss: 0.0935 - val_accuracy: 0.9521 - val_loss: 0.1162\n",
      "Epoch 19/40\n",
      "\u001b[1m2760/2760\u001b[0m \u001b[32m━━━━━━━━━━━━━━━━━━━━\u001b[0m\u001b[37m\u001b[0m \u001b[1m4s\u001b[0m 1ms/step - accuracy: 0.9566 - loss: 0.0957 - val_accuracy: 0.9531 - val_loss: 0.1102\n",
      "Epoch 20/40\n",
      "\u001b[1m2760/2760\u001b[0m \u001b[32m━━━━━━━━━━━━━━━━━━━━\u001b[0m\u001b[37m\u001b[0m \u001b[1m3s\u001b[0m 1ms/step - accuracy: 0.9593 - loss: 0.0929 - val_accuracy: 0.9527 - val_loss: 0.1061\n",
      "Epoch 21/40\n",
      "\u001b[1m2760/2760\u001b[0m \u001b[32m━━━━━━━━━━━━━━━━━━━━\u001b[0m\u001b[37m\u001b[0m \u001b[1m4s\u001b[0m 2ms/step - accuracy: 0.9585 - loss: 0.0925 - val_accuracy: 0.9556 - val_loss: 0.1015\n",
      "Epoch 22/40\n",
      "\u001b[1m2760/2760\u001b[0m \u001b[32m━━━━━━━━━━━━━━━━━━━━\u001b[0m\u001b[37m\u001b[0m \u001b[1m4s\u001b[0m 1ms/step - accuracy: 0.9596 - loss: 0.0901 - val_accuracy: 0.9526 - val_loss: 0.1076\n",
      "Epoch 23/40\n",
      "\u001b[1m2760/2760\u001b[0m \u001b[32m━━━━━━━━━━━━━━━━━━━━\u001b[0m\u001b[37m\u001b[0m \u001b[1m4s\u001b[0m 2ms/step - accuracy: 0.9605 - loss: 0.0884 - val_accuracy: 0.9536 - val_loss: 0.1082\n",
      "Epoch 24/40\n",
      "\u001b[1m2760/2760\u001b[0m \u001b[32m━━━━━━━━━━━━━━━━━━━━\u001b[0m\u001b[37m\u001b[0m \u001b[1m4s\u001b[0m 1ms/step - accuracy: 0.9594 - loss: 0.0885 - val_accuracy: 0.9554 - val_loss: 0.1023\n",
      "Epoch 25/40\n",
      "\u001b[1m2760/2760\u001b[0m \u001b[32m━━━━━━━━━━━━━━━━━━━━\u001b[0m\u001b[37m\u001b[0m \u001b[1m4s\u001b[0m 1ms/step - accuracy: 0.9609 - loss: 0.0874 - val_accuracy: 0.9540 - val_loss: 0.1048\n",
      "Epoch 26/40\n",
      "\u001b[1m2760/2760\u001b[0m \u001b[32m━━━━━━━━━━━━━━━━━━━━\u001b[0m\u001b[37m\u001b[0m \u001b[1m4s\u001b[0m 1ms/step - accuracy: 0.9618 - loss: 0.0850 - val_accuracy: 0.9553 - val_loss: 0.1021\n",
      "Epoch 27/40\n",
      "\u001b[1m2760/2760\u001b[0m \u001b[32m━━━━━━━━━━━━━━━━━━━━\u001b[0m\u001b[37m\u001b[0m \u001b[1m4s\u001b[0m 1ms/step - accuracy: 0.9620 - loss: 0.0853 - val_accuracy: 0.9547 - val_loss: 0.1051\n",
      "Epoch 28/40\n",
      "\u001b[1m2760/2760\u001b[0m \u001b[32m━━━━━━━━━━━━━━━━━━━━\u001b[0m\u001b[37m\u001b[0m \u001b[1m4s\u001b[0m 2ms/step - accuracy: 0.9624 - loss: 0.0852 - val_accuracy: 0.9542 - val_loss: 0.1022\n",
      "Epoch 29/40\n",
      "\u001b[1m2760/2760\u001b[0m \u001b[32m━━━━━━━━━━━━━━━━━━━━\u001b[0m\u001b[37m\u001b[0m \u001b[1m4s\u001b[0m 1ms/step - accuracy: 0.9628 - loss: 0.0834 - val_accuracy: 0.9557 - val_loss: 0.1015\n",
      "Epoch 30/40\n",
      "\u001b[1m2760/2760\u001b[0m \u001b[32m━━━━━━━━━━━━━━━━━━━━\u001b[0m\u001b[37m\u001b[0m \u001b[1m4s\u001b[0m 1ms/step - accuracy: 0.9635 - loss: 0.0826 - val_accuracy: 0.9542 - val_loss: 0.1078\n",
      "Epoch 31/40\n",
      "\u001b[1m2760/2760\u001b[0m \u001b[32m━━━━━━━━━━━━━━━━━━━━\u001b[0m\u001b[37m\u001b[0m \u001b[1m4s\u001b[0m 1ms/step - accuracy: 0.9627 - loss: 0.0829 - val_accuracy: 0.9550 - val_loss: 0.1073\n",
      "Epoch 32/40\n",
      "\u001b[1m2760/2760\u001b[0m \u001b[32m━━━━━━━━━━━━━━━━━━━━\u001b[0m\u001b[37m\u001b[0m \u001b[1m4s\u001b[0m 1ms/step - accuracy: 0.9641 - loss: 0.0814 - val_accuracy: 0.9531 - val_loss: 0.1066\n",
      "Epoch 33/40\n",
      "\u001b[1m2760/2760\u001b[0m \u001b[32m━━━━━━━━━━━━━━━━━━━━\u001b[0m\u001b[37m\u001b[0m \u001b[1m4s\u001b[0m 1ms/step - accuracy: 0.9636 - loss: 0.0808 - val_accuracy: 0.9557 - val_loss: 0.1047\n",
      "Epoch 34/40\n",
      "\u001b[1m2760/2760\u001b[0m \u001b[32m━━━━━━━━━━━━━━━━━━━━\u001b[0m\u001b[37m\u001b[0m \u001b[1m4s\u001b[0m 1ms/step - accuracy: 0.9638 - loss: 0.0797 - val_accuracy: 0.9563 - val_loss: 0.1021\n",
      "Epoch 35/40\n",
      "\u001b[1m2760/2760\u001b[0m \u001b[32m━━━━━━━━━━━━━━━━━━━━\u001b[0m\u001b[37m\u001b[0m \u001b[1m4s\u001b[0m 1ms/step - accuracy: 0.9636 - loss: 0.0800 - val_accuracy: 0.9558 - val_loss: 0.1034\n",
      "Epoch 36/40\n",
      "\u001b[1m2760/2760\u001b[0m \u001b[32m━━━━━━━━━━━━━━━━━━━━\u001b[0m\u001b[37m\u001b[0m \u001b[1m3s\u001b[0m 1ms/step - accuracy: 0.9645 - loss: 0.0798 - val_accuracy: 0.9549 - val_loss: 0.1020\n",
      "Epoch 37/40\n",
      "\u001b[1m2760/2760\u001b[0m \u001b[32m━━━━━━━━━━━━━━━━━━━━\u001b[0m\u001b[37m\u001b[0m \u001b[1m3s\u001b[0m 1ms/step - accuracy: 0.9646 - loss: 0.0771 - val_accuracy: 0.9563 - val_loss: 0.1014\n",
      "Epoch 38/40\n",
      "\u001b[1m2760/2760\u001b[0m \u001b[32m━━━━━━━━━━━━━━━━━━━━\u001b[0m\u001b[37m\u001b[0m \u001b[1m3s\u001b[0m 1ms/step - accuracy: 0.9649 - loss: 0.0772 - val_accuracy: 0.9550 - val_loss: 0.1021\n",
      "Epoch 39/40\n",
      "\u001b[1m2760/2760\u001b[0m \u001b[32m━━━━━━━━━━━━━━━━━━━━\u001b[0m\u001b[37m\u001b[0m \u001b[1m3s\u001b[0m 1ms/step - accuracy: 0.9663 - loss: 0.0750 - val_accuracy: 0.9538 - val_loss: 0.1165\n",
      "Epoch 40/40\n",
      "\u001b[1m2760/2760\u001b[0m \u001b[32m━━━━━━━━━━━━━━━━━━━━\u001b[0m\u001b[37m\u001b[0m \u001b[1m4s\u001b[0m 1ms/step - accuracy: 0.9656 - loss: 0.0761 - val_accuracy: 0.9558 - val_loss: 0.1077\n",
      "\u001b[1m812/812\u001b[0m \u001b[32m━━━━━━━━━━━━━━━━━━━━\u001b[0m\u001b[37m\u001b[0m \u001b[1m1s\u001b[0m 767us/step\n",
      "Acurácia: 0.9560363412380659\n"
     ]
    }
   ],
   "source": [
    "optimizer = Adam(learning_rate=0.0005)\n",
    "\n",
    "# Criando o modelo\n",
    "model = Sequential()\n",
    "model.add(Dense(units=128, activation='relu', input_dim=X_train.shape[1]))\n",
    "model.add(Dense(units=64, activation='relu'))\n",
    "model.add(Dense(units=32, activation='relu'))\n",
    "model.add(Dense(units=1, activation='sigmoid'))\n",
    "\n",
    "# Compilando o modelo com o otimizador personalizado\n",
    "model.compile(optimizer=optimizer, loss='binary_crossentropy', metrics=['accuracy'])\n",
    "\n",
    "# Treinando o modelo\n",
    "model.fit(X_train, y_train, epochs=40, batch_size=32, validation_data=(X_val, y_val))\n",
    "\n",
    "# Avaliando o modelo\n",
    "y_pred = model.predict(X_test)\n",
    "accuracy = accuracy_score(y_test, (y_pred > 0.5).astype(int))\n",
    "print(f'Acurácia: {accuracy}')"
   ]
  },
  {
   "cell_type": "markdown",
   "metadata": {},
   "source": [
    "Chegamos no nosso melhor resultado, apesar de o treinamento mostrar varias epocas com a acuracia superior a .96, conseguimos no final .956, que também está de bom tamanho, agora vamos plotar uns gráficos para melhor entendimento dos resultados"
   ]
  },
  {
   "cell_type": "code",
   "execution_count": 24,
   "metadata": {},
   "outputs": [
    {
     "name": "stdout",
     "output_type": "stream",
     "text": [
      "\u001b[1m812/812\u001b[0m \u001b[32m━━━━━━━━━━━━━━━━━━━━\u001b[0m\u001b[37m\u001b[0m \u001b[1m1s\u001b[0m 820us/step\n"
     ]
    },
    {
     "data": {
      "image/png": "[encoded data removed]",
      "text/plain": [
       "<Figure size 576x432 with 1 Axes>"
      ]
     },
     "metadata": {
      "needs_background": "light"
     },
     "output_type": "display_data"
    }
   ],
   "source": [
    "import seaborn as sns\n",
    "import matplotlib.pyplot as plt\n",
    "from sklearn.metrics import confusion_matrix\n",
    "\n",
    "y_pred = model.predict(X_test)\n",
    "y_pred_binary = (y_pred > 0.5).astype(int)\n",
    "cm = confusion_matrix(y_test, y_pred_binary)\n",
    "\n",
    "# Plotando a matriz de confusão\n",
    "plt.figure(figsize=(8, 6))\n",
    "sns.heatmap(cm, annot=True, fmt='d', cmap='Blues', cbar=False,\n",
    "            annot_kws={'fontsize': 14}, linewidths=0.5)\n",
    "plt.xlabel('Predicted labels')\n",
    "plt.ylabel('True labels')\n",
    "plt.title('Confusion Matrix')\n",
    "plt.show()"
   ]
  },
  {
   "cell_type": "code",
   "execution_count": 21,
   "metadata": {},
   "outputs": [
    {
     "name": "stdout",
     "output_type": "stream",
     "text": [
      "\u001b[1m812/812\u001b[0m \u001b[32m━━━━━━━━━━━━━━━━━━━━\u001b[0m\u001b[37m\u001b[0m \u001b[1m1s\u001b[0m 819us/step\n"
     ]
    },
    {
     "data": {
      "image/png": "[encoded data removed]",
      "text/plain": [
       "<Figure size 576x432 with 1 Axes>"
      ]
     },
     "metadata": {
      "needs_background": "light"
     },
     "output_type": "display_data"
    }
   ],
   "source": [
    "from sklearn.metrics import roc_curve, auc\n",
    "\n",
    "y_pred_prob = model.predict(X_test)\n",
    "\n",
    "fpr, tpr, thresholds = roc_curve(y_test, y_pred_prob)\n",
    "roc_auc = auc(fpr, tpr)\n",
    "\n",
    "\n",
    "plt.figure(figsize=(8, 6))\n",
    "plt.plot(fpr, tpr, color='darkorange', lw=2, label=f'ROC curve (AUC = {roc_auc:.2f})')\n",
    "plt.plot([0, 1], [0, 1], color='navy', lw=2, linestyle='--')\n",
    "plt.xlim([0.0, 1.0])\n",
    "plt.ylim([0.0, 1.05])\n",
    "plt.xlabel('False Positive Rate')\n",
    "plt.ylabel('True Positive Rate')\n",
    "plt.title('Receiver Operating Characteristic (ROC) Curve')\n",
    "plt.legend(loc='lower right')\n",
    "plt.show()"
   ]
  },
  {
   "cell_type": "code",
   "execution_count": 22,
   "metadata": {},
   "outputs": [
    {
     "data": {
      "image/png": "[encoded data removed]",
      "text/plain": [
       "<Figure size 432x288 with 1 Axes>"
      ]
     },
     "metadata": {
      "needs_background": "light"
     },
     "output_type": "display_data"
    },
    {
     "name": "stdout",
     "output_type": "stream",
     "text": [
      "KS Statistic: 0.91\n"
     ]
    }
   ],
   "source": [
    "from scipy.stats import ks_2samp\n",
    "\n",
    "# Calculando a curva ROC\n",
    "fpr, tpr, thresholds = roc_curve(y_test, y_pred_prob)\n",
    "\n",
    "# Calculando a estatística KS\n",
    "ks_statistic = np.max(tpr - fpr)\n",
    "ks_idx = np.argmax(tpr - fpr)\n",
    "\n",
    "plt.figure()\n",
    "plt.plot(fpr, tpr, label='True Positive Rate (TPR)')\n",
    "plt.plot(fpr, fpr, label='False Positive Rate (FPR)')\n",
    "plt.plot([fpr[ks_idx]], [tpr[ks_idx]], marker='o', markersize=5, color=\"red\")\n",
    "plt.text(fpr[ks_idx], tpr[ks_idx], f'KS={ks_statistic:.2f}', fontsize=12, verticalalignment='top')\n",
    "plt.xlabel('False Positive Rate')\n",
    "plt.ylabel('Rate')\n",
    "plt.title('Kolmogorov-Smirnov (KS) Curve')\n",
    "plt.legend(loc='best')\n",
    "plt.show()\n",
    "\n",
    "print(f\"KS Statistic: {ks_statistic:.2f}\")"
   ]
  },
  {
   "cell_type": "markdown",
   "metadata": {},
   "source": [
    "Conseguimos chegar nesses resultados, foram bons resultados mas vamos ver quais resultados conseguimos obter com outros algoritmos de classificações binárias."
   ]
  }
 ],
 "metadata": {
  "kernelspec": {
   "display_name": "Python 3",
   "language": "python",
   "name": "python3"
  },
  "language_info": {
   "codemirror_mode": {
    "name": "ipython",
    "version": 3
   },
   "file_extension": ".py",
   "mimetype": "text/x-python",
   "name": "python",
   "nbconvert_exporter": "python",
   "pygments_lexer": "ipython3",
   "version": "3.10.11"
  }
 },
 "nbformat": 4,
 "nbformat_minor": 2
}
