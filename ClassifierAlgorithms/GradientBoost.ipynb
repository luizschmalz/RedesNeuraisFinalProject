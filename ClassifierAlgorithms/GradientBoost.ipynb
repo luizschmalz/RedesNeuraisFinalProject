{
 "cells": [
  {
   "cell_type": "code",
   "execution_count": 1,
   "metadata": {},
   "outputs": [],
   "source": [
    "import numpy as np\n",
    "import pandas as pd\n",
    "from sklearn.model_selection import train_test_split\n",
    "from sklearn.ensemble import GradientBoostingClassifier\n",
    "from sklearn.metrics import accuracy_score, classification_report"
   ]
  },
  {
   "cell_type": "code",
   "execution_count": 2,
   "metadata": {},
   "outputs": [],
   "source": [
    "train_data = pd.read_csv('train_normalized.csv')\n",
    "test_data = pd.read_csv('test_normalized.csv')\n"
   ]
  },
  {
   "cell_type": "markdown",
   "metadata": {},
   "source": [
    "Seguindo o exemplo da random forest, vamos fazer um mini tratamento de dados"
   ]
  },
  {
   "cell_type": "code",
   "execution_count": 3,
   "metadata": {},
   "outputs": [
    {
     "name": "stdout",
     "output_type": "stream",
     "text": [
      "   Gender  Customer Type  Type of Travel  Class  Inflight wifi service   \n",
      "0       0              1               1    0.5                    0.4  \\\n",
      "1       1              1               1    0.5                    0.6   \n",
      "2       0              1               1    0.5                    0.8   \n",
      "3       1              1               0    0.0                    0.8   \n",
      "4       0              1               1    0.5                    0.6   \n",
      "\n",
      "   Departure/Arrival time convenient  Ease of Online booking  Gate location   \n",
      "0                                0.4                     0.4            0.4  \\\n",
      "1                                0.6                     0.6            0.6   \n",
      "2                                0.6                     0.8            0.8   \n",
      "3                                0.4                     0.8            0.6   \n",
      "4                                0.6                     0.6            0.6   \n",
      "\n",
      "   Food and drink  Online boarding  ...  Leg room service  Baggage handling   \n",
      "0             1.0              1.0  ...               0.6              0.75  \\\n",
      "1             0.8              1.0  ...               0.8              0.75   \n",
      "2             1.0              1.0  ...               1.0              1.00   \n",
      "3             0.8              0.8  ...               1.0              0.25   \n",
      "4             0.8              0.8  ...               0.6              0.75   \n",
      "\n",
      "   Checkin service  Inflight service  Cleanliness  satisfaction  atraso_saida   \n",
      "0              0.8               0.8          1.0             1            10  \\\n",
      "1              0.6               0.6          0.6             1            10   \n",
      "2              0.8               1.0          0.8             1            10   \n",
      "3              0.4               0.4          0.8             1            10   \n",
      "4              1.0               0.8          0.8             1            10   \n",
      "\n",
      "   atraso_chegada  idade duracao  \n",
      "0              10    010     010  \n",
      "1              10    001     100  \n",
      "2              10    010     010  \n",
      "3              10    010     010  \n",
      "4              01    010     010  \n",
      "\n",
      "[5 rows x 23 columns]\n",
      "   Gender  Customer Type  Type of Travel  Class  Inflight wifi service   \n",
      "0       0              1               1    0.0                    1.0  \\\n",
      "1       0              1               1    0.5                    0.2   \n",
      "2       1              0               1    0.0                    0.4   \n",
      "3       1              1               1    0.5                    0.0   \n",
      "4       0              1               1    0.0                    0.4   \n",
      "\n",
      "   Departure/Arrival time convenient  Ease of Online booking  Gate location   \n",
      "0                                0.8                     0.6            0.8  \\\n",
      "1                                0.2                     0.6            0.2   \n",
      "2                                0.0                     0.4            0.8   \n",
      "3                                0.0                     0.0            0.4   \n",
      "4                                0.6                     0.8            0.6   \n",
      "\n",
      "   Food and drink  Online boarding  ...  Leg room service  Baggage handling   \n",
      "0             0.6              0.8  ...               1.0              1.00  \\\n",
      "1             1.0              0.8  ...               0.8              0.75   \n",
      "2             0.4              0.4  ...               0.2              0.50   \n",
      "3             0.6              0.8  ...               0.2              0.00   \n",
      "4             0.8              0.2  ...               0.4              0.25   \n",
      "\n",
      "   Checkin service  Inflight service  Cleanliness  satisfaction  atraso_saida   \n",
      "0              0.4               1.0          1.0             1            01  \\\n",
      "1              0.6               0.8          1.0             1            10   \n",
      "2              0.4               0.4          0.4             0            10   \n",
      "3              0.6               0.2          0.8             1            10   \n",
      "4              0.8               0.4          0.8             1            10   \n",
      "\n",
      "   atraso_chegada  idade duracao  \n",
      "0              01    010     100  \n",
      "1              10    010     001  \n",
      "2              10    010     100  \n",
      "3              10    010     001  \n",
      "4              01    010     010  \n",
      "\n",
      "[5 rows x 23 columns]\n"
     ]
    }
   ],
   "source": [
    "# Combinar colunas de atraso na saída\n",
    "train_data['atraso_saida'] = train_data.apply(lambda row: f\"{int(row['Pouco Atraso na saida'])}{int(row['Atraso na saida'])}\", axis=1)\n",
    "test_data['atraso_saida'] = test_data.apply(lambda row: f\"{int(row['Pouco Atraso na saida'])}{int(row['Atraso na saida'])}\", axis=1)\n",
    "# Combinar colunas de atraso na chegada\n",
    "train_data['atraso_chegada'] = train_data.apply(lambda row: f\"{int(row['Pouco Atraso na chegada'])}{int(row['Atraso na chegada'])}\", axis=1)\n",
    "test_data['atraso_chegada'] = test_data.apply(lambda row: f\"{int(row['Pouco Atraso na chegada'])}{int(row['Atraso na chegada'])}\", axis=1)\n",
    "# Combinar colunas de idade\n",
    "train_data['idade'] = train_data.apply(lambda row: f\"{int(row['Criança'])}{int(row['Adulto'])}{int(row['Idoso'])}\", axis=1)\n",
    "test_data['idade'] = test_data.apply(lambda row: f\"{int(row['Criança'])}{int(row['Adulto'])}{int(row['Idoso'])}\", axis=1)\n",
    "# Combinar colunas de duração\n",
    "train_data['duracao'] = train_data.apply(lambda row: f\"{int(row['Curto'])}{int(row['Médio'])}{int(row['Longo'])}\", axis=1)\n",
    "test_data['duracao'] = test_data.apply(lambda row: f\"{int(row['Curto'])}{int(row['Médio'])}{int(row['Longo'])}\", axis=1)\n",
    "\n",
    "train_data.drop(columns=[\n",
    "    'Pouco Atraso na saida', 'Atraso na saida',\n",
    "    'Pouco Atraso na chegada', 'Atraso na chegada',\n",
    "    'Criança', 'Adulto', 'Idoso',\n",
    "    'Curto', 'Médio', 'Longo'\n",
    "], inplace=True)\n",
    "\n",
    "test_data.drop(columns=[ \n",
    "    'Pouco Atraso na saida', 'Atraso na saida',\n",
    "    'Pouco Atraso na chegada', 'Atraso na chegada',\n",
    "    'Criança', 'Adulto', 'Idoso',\n",
    "    'Curto', 'Médio', 'Longo'\n",
    "], inplace=True)\n",
    "\n",
    "print(train_data.head())\n",
    "print(test_data.head())"
   ]
  },
  {
   "cell_type": "code",
   "execution_count": 4,
   "metadata": {},
   "outputs": [],
   "source": [
    "\n",
    "X_train = train_data.drop('satisfaction', axis=1)\n",
    "y_train = train_data['satisfaction']\n",
    "\n",
    "X_test = test_data.drop('satisfaction', axis=1)\n",
    "y_test = test_data['satisfaction']\n",
    "\n",
    "X_train, X_val, y_train, y_val = train_test_split(X_train, y_train, test_size=0.25, random_state=42)\n"
   ]
  },
  {
   "cell_type": "markdown",
   "metadata": {},
   "source": [
    "Vamos inciar um GradientBoost simples, com valores padrões e a partir deles vamos tentar melhorar a acuracia"
   ]
  },
  {
   "cell_type": "code",
   "execution_count": 5,
   "metadata": {},
   "outputs": [
    {
     "name": "stdout",
     "output_type": "stream",
     "text": [
      "Test Accuracy: 0.9423698798891285\n",
      "Test Classification Report:\n",
      "              precision    recall  f1-score   support\n",
      "\n",
      "           0       0.95      0.95      0.95     14573\n",
      "           1       0.94      0.93      0.93     11403\n",
      "\n",
      "    accuracy                           0.94     25976\n",
      "   macro avg       0.94      0.94      0.94     25976\n",
      "weighted avg       0.94      0.94      0.94     25976\n",
      "\n"
     ]
    }
   ],
   "source": [
    "# Inicializar o modelo\n",
    "model = GradientBoostingClassifier(n_estimators=100, learning_rate=0.1, max_depth=3, random_state=42)\n",
    "\n",
    "# Treinar o modelo\n",
    "model.fit(X_train, y_train)\n",
    "\n",
    "y_test_pred = model.predict(X_test)\n",
    "test_accuracy = accuracy_score(y_test, y_test_pred)\n",
    "\n",
    "print(f\"Test Accuracy: {test_accuracy}\")\n",
    "print(\"Test Classification Report:\")\n",
    "print(classification_report(y_test, y_test_pred))"
   ]
  },
  {
   "cell_type": "code",
   "execution_count": 6,
   "metadata": {},
   "outputs": [
    {
     "name": "stdout",
     "output_type": "stream",
     "text": [
      "Test Accuracy: 0.9002155836156452\n",
      "Test Classification Report:\n",
      "              precision    recall  f1-score   support\n",
      "\n",
      "           0       0.92      0.90      0.91     14573\n",
      "           1       0.88      0.90      0.89     11403\n",
      "\n",
      "    accuracy                           0.90     25976\n",
      "   macro avg       0.90      0.90      0.90     25976\n",
      "weighted avg       0.90      0.90      0.90     25976\n",
      "\n"
     ]
    }
   ],
   "source": [
    "model = GradientBoostingClassifier(n_estimators=200, learning_rate=0.01, max_depth=3, random_state=42)\n",
    "\n",
    "# Treinar o modelo\n",
    "model.fit(X_train, y_train)\n",
    "\n",
    "y_test_pred = model.predict(X_test)\n",
    "test_accuracy = accuracy_score(y_test, y_test_pred)\n",
    "\n",
    "print(f\"Test Accuracy: {test_accuracy}\")\n",
    "print(\"Test Classification Report:\")\n",
    "print(classification_report(y_test, y_test_pred))"
   ]
  },
  {
   "cell_type": "markdown",
   "metadata": {},
   "source": [
    "o resultado foi muito pior, vamos ver se foi por causa do learning rate menor fazendo ele não ter tempo de aprender"
   ]
  },
  {
   "cell_type": "code",
   "execution_count": 7,
   "metadata": {},
   "outputs": [
    {
     "name": "stdout",
     "output_type": "stream",
     "text": [
      "Test Accuracy: 0.9508007391438251\n",
      "Test Classification Report:\n",
      "              precision    recall  f1-score   support\n",
      "\n",
      "           0       0.95      0.96      0.96     14573\n",
      "           1       0.95      0.94      0.94     11403\n",
      "\n",
      "    accuracy                           0.95     25976\n",
      "   macro avg       0.95      0.95      0.95     25976\n",
      "weighted avg       0.95      0.95      0.95     25976\n",
      "\n"
     ]
    }
   ],
   "source": [
    "model = GradientBoostingClassifier(n_estimators=200, learning_rate=0.1, max_depth=3, random_state=42)\n",
    "\n",
    "# Treinar o modelo\n",
    "model.fit(X_train, y_train)\n",
    "\n",
    "y_test_pred = model.predict(X_test)\n",
    "test_accuracy = accuracy_score(y_test, y_test_pred)\n",
    "\n",
    "print(f\"Test Accuracy: {test_accuracy}\")\n",
    "print(\"Test Classification Report:\")\n",
    "print(classification_report(y_test, y_test_pred))"
   ]
  },
  {
   "cell_type": "markdown",
   "metadata": {},
   "source": [
    "Chegamos em um resultado ainda melhor que o primeiro caso, vamos tentar aumentar mais uma vez o n_estimators antes de mexer na learning rate"
   ]
  },
  {
   "cell_type": "code",
   "execution_count": 8,
   "metadata": {},
   "outputs": [
    {
     "name": "stdout",
     "output_type": "stream",
     "text": [
      "Test Accuracy: 0.9545734524176163\n",
      "Test Classification Report:\n",
      "              precision    recall  f1-score   support\n",
      "\n",
      "           0       0.96      0.96      0.96     14573\n",
      "           1       0.95      0.94      0.95     11403\n",
      "\n",
      "    accuracy                           0.95     25976\n",
      "   macro avg       0.95      0.95      0.95     25976\n",
      "weighted avg       0.95      0.95      0.95     25976\n",
      "\n"
     ]
    }
   ],
   "source": [
    "model = GradientBoostingClassifier(n_estimators=300, learning_rate=0.1, max_depth=3, random_state=42)\n",
    "\n",
    "# Treinar o modelo\n",
    "model.fit(X_train, y_train)\n",
    "\n",
    "y_test_pred = model.predict(X_test)\n",
    "test_accuracy = accuracy_score(y_test, y_test_pred)\n",
    "\n",
    "print(f\"Test Accuracy: {test_accuracy}\")\n",
    "print(\"Test Classification Report:\")\n",
    "print(classification_report(y_test, y_test_pred))"
   ]
  },
  {
   "cell_type": "markdown",
   "metadata": {},
   "source": [
    "O resultado ainda aumentou um pouco, vamos agora aumentar o profundidade maxima e diminuir a learning rate, para deixar o modelo mais complexo e ver como ele lida com isso no nosso dataset"
   ]
  },
  {
   "cell_type": "code",
   "execution_count": 9,
   "metadata": {},
   "outputs": [
    {
     "name": "stdout",
     "output_type": "stream",
     "text": [
      "Test Accuracy: 0.9549584231598398\n",
      "Test Classification Report:\n",
      "              precision    recall  f1-score   support\n",
      "\n",
      "           0       0.96      0.96      0.96     14573\n",
      "           1       0.95      0.94      0.95     11403\n",
      "\n",
      "    accuracy                           0.95     25976\n",
      "   macro avg       0.95      0.95      0.95     25976\n",
      "weighted avg       0.95      0.95      0.95     25976\n",
      "\n"
     ]
    }
   ],
   "source": [
    "model = GradientBoostingClassifier(n_estimators=300, learning_rate=0.05, max_depth=4, random_state=42)\n",
    "\n",
    "# Treinar o modelo\n",
    "model.fit(X_train, y_train)\n",
    "\n",
    "y_test_pred = model.predict(X_test)\n",
    "test_accuracy = accuracy_score(y_test, y_test_pred)\n",
    "\n",
    "print(f\"Test Accuracy: {test_accuracy}\")\n",
    "print(\"Test Classification Report:\")\n",
    "print(classification_report(y_test, y_test_pred))"
   ]
  },
  {
   "cell_type": "markdown",
   "metadata": {},
   "source": [
    "A acuracia se manteve basicamente a mesma, vamos tentar o mesmo modelo com learning rate de 0.1"
   ]
  },
  {
   "cell_type": "code",
   "execution_count": 10,
   "metadata": {},
   "outputs": [
    {
     "name": "stdout",
     "output_type": "stream",
     "text": [
      "Test Accuracy: 0.9592700954727441\n",
      "Test Classification Report:\n",
      "              precision    recall  f1-score   support\n",
      "\n",
      "           0       0.96      0.97      0.96     14573\n",
      "           1       0.96      0.95      0.95     11403\n",
      "\n",
      "    accuracy                           0.96     25976\n",
      "   macro avg       0.96      0.96      0.96     25976\n",
      "weighted avg       0.96      0.96      0.96     25976\n",
      "\n"
     ]
    }
   ],
   "source": [
    "model = GradientBoostingClassifier(n_estimators=300, learning_rate=0.1, max_depth=4, random_state=42)\n",
    "\n",
    "# Treinar o modelo\n",
    "model.fit(X_train, y_train)\n",
    "\n",
    "y_test_pred = model.predict(X_test)\n",
    "test_accuracy = accuracy_score(y_test, y_test_pred)\n",
    "\n",
    "print(f\"Test Accuracy: {test_accuracy}\")\n",
    "print(\"Test Classification Report:\")\n",
    "print(classification_report(y_test, y_test_pred))"
   ]
  },
  {
   "cell_type": "markdown",
   "metadata": {},
   "source": [
    "Conseguimos aumentar ainda mais a acuracia final, podemos perceber que aparentemente o modelo não esta sofrendo overfiting para esses parametros, vamos tentar aumentar mais uma vez a profundidade e ver como ele se comporta"
   ]
  },
  {
   "cell_type": "code",
   "execution_count": 11,
   "metadata": {},
   "outputs": [
    {
     "name": "stdout",
     "output_type": "stream",
     "text": [
      "Test Accuracy: 0.9608099784416384\n",
      "Test Classification Report:\n",
      "              precision    recall  f1-score   support\n",
      "\n",
      "           0       0.96      0.97      0.97     14573\n",
      "           1       0.96      0.95      0.95     11403\n",
      "\n",
      "    accuracy                           0.96     25976\n",
      "   macro avg       0.96      0.96      0.96     25976\n",
      "weighted avg       0.96      0.96      0.96     25976\n",
      "\n"
     ]
    }
   ],
   "source": [
    "model = GradientBoostingClassifier(n_estimators=300, learning_rate=0.1, max_depth=5, random_state=42)\n",
    "\n",
    "# Treinar o modelo\n",
    "model.fit(X_train, y_train)\n",
    "\n",
    "y_test_pred = model.predict(X_test)\n",
    "test_accuracy = accuracy_score(y_test, y_test_pred)\n",
    "\n",
    "print(f\"Test Accuracy: {test_accuracy}\")\n",
    "print(\"Test Classification Report:\")\n",
    "print(classification_report(y_test, y_test_pred))"
   ]
  },
  {
   "cell_type": "markdown",
   "metadata": {},
   "source": [
    "Conseguimos chegar em uma acuracia de 0.96, vamos tentar aumentar uma ultima vez o n_estimatores "
   ]
  },
  {
   "cell_type": "code",
   "execution_count": 12,
   "metadata": {},
   "outputs": [
    {
     "name": "stdout",
     "output_type": "stream",
     "text": [
      "Test Accuracy: 0.9606174930705267\n",
      "Test Classification Report:\n",
      "              precision    recall  f1-score   support\n",
      "\n",
      "           0       0.96      0.97      0.97     14573\n",
      "           1       0.96      0.95      0.95     11403\n",
      "\n",
      "    accuracy                           0.96     25976\n",
      "   macro avg       0.96      0.96      0.96     25976\n",
      "weighted avg       0.96      0.96      0.96     25976\n",
      "\n"
     ]
    }
   ],
   "source": [
    "model = GradientBoostingClassifier(n_estimators=400, learning_rate=0.1, max_depth=5, random_state=42)\n",
    "\n",
    "# Treinar o modelo\n",
    "model.fit(X_train, y_train)\n",
    "\n",
    "y_test_pred = model.predict(X_test)\n",
    "test_accuracy = accuracy_score(y_test, y_test_pred)\n",
    "\n",
    "print(f\"Test Accuracy: {test_accuracy}\")\n",
    "print(\"Test Classification Report:\")\n",
    "print(classification_report(y_test, y_test_pred))"
   ]
  },
  {
   "cell_type": "markdown",
   "metadata": {},
   "source": [
    "O resultado não se pagou. Pode ter acontecido overfiting, ja que o número de estimators está muito alto para uma learning rate elevada. Ficamos por enquanto com o melhor modelo sendo: n_estimatores=300, learning_rate=0.1 e max_depth=5, agora vamos fazer um grid search com novos parametros para ver se conseguimos melhores resultados"
   ]
  },
  {
   "cell_type": "markdown",
   "metadata": {},
   "source": [
    "Tentamos realizar o grid_search porém estava demorando muito, vamos tentar usar um optune do xgboost, que é um tipo de gradient boost otimizado."
   ]
  },
  {
   "cell_type": "code",
   "execution_count": 15,
   "metadata": {},
   "outputs": [
    {
     "name": "stderr",
     "output_type": "stream",
     "text": [
      "[I 2024-07-23 16:56:30,155] A new study created in memory with name: no-name-8daed722-fe9a-461d-9cb3-f5e84ea68a2c\n",
      "C:\\Users\\luize\\AppData\\Local\\Packages\\PythonSoftwareFoundation.Python.3.10_qbz5n2kfra8p0\\LocalCache\\local-packages\\Python310\\site-packages\\sklearn\\metrics\\_regression.py:492: FutureWarning: 'squared' is deprecated in version 1.4 and will be removed in 1.6. To calculate the root mean squared error, use the function'root_mean_squared_error'.\n",
      "  warnings.warn(\n",
      "[I 2024-07-23 16:56:31,385] Trial 0 finished with value: 0.1963666750214297 and parameters: {'max_depth': 3, 'learning_rate': 0.0721829250555047, 'n_estimators': 256, 'subsample': 0.7066407783831921, 'colsample_bytree': 0.7956896973805597}. Best is trial 0 with value: 0.1963666750214297.\n",
      "C:\\Users\\luize\\AppData\\Local\\Packages\\PythonSoftwareFoundation.Python.3.10_qbz5n2kfra8p0\\LocalCache\\local-packages\\Python310\\site-packages\\sklearn\\metrics\\_regression.py:492: FutureWarning: 'squared' is deprecated in version 1.4 and will be removed in 1.6. To calculate the root mean squared error, use the function'root_mean_squared_error'.\n",
      "  warnings.warn(\n",
      "[I 2024-07-23 16:56:33,370] Trial 1 finished with value: 0.17619391536447684 and parameters: {'max_depth': 3, 'learning_rate': 0.16612275005934032, 'n_estimators': 557, 'subsample': 0.9867261754570291, 'colsample_bytree': 0.7124227335812069}. Best is trial 1 with value: 0.17619391536447684.\n",
      "C:\\Users\\luize\\AppData\\Local\\Packages\\PythonSoftwareFoundation.Python.3.10_qbz5n2kfra8p0\\LocalCache\\local-packages\\Python310\\site-packages\\sklearn\\metrics\\_regression.py:492: FutureWarning: 'squared' is deprecated in version 1.4 and will be removed in 1.6. To calculate the root mean squared error, use the function'root_mean_squared_error'.\n",
      "  warnings.warn(\n",
      "[I 2024-07-23 16:56:36,211] Trial 2 finished with value: 0.17476031404312986 and parameters: {'max_depth': 3, 'learning_rate': 0.1371802626519418, 'n_estimators': 732, 'subsample': 0.653935368146445, 'colsample_bytree': 0.5771972943373845}. Best is trial 2 with value: 0.17476031404312986.\n",
      "C:\\Users\\luize\\AppData\\Local\\Packages\\PythonSoftwareFoundation.Python.3.10_qbz5n2kfra8p0\\LocalCache\\local-packages\\Python310\\site-packages\\sklearn\\metrics\\_regression.py:492: FutureWarning: 'squared' is deprecated in version 1.4 and will be removed in 1.6. To calculate the root mean squared error, use the function'root_mean_squared_error'.\n",
      "  warnings.warn(\n",
      "[I 2024-07-23 16:56:38,979] Trial 3 finished with value: 0.1621332732856322 and parameters: {'max_depth': 7, 'learning_rate': 0.13130877217892084, 'n_estimators': 459, 'subsample': 0.9685685660762038, 'colsample_bytree': 0.8606582132923083}. Best is trial 3 with value: 0.1621332732856322.\n",
      "C:\\Users\\luize\\AppData\\Local\\Packages\\PythonSoftwareFoundation.Python.3.10_qbz5n2kfra8p0\\LocalCache\\local-packages\\Python310\\site-packages\\sklearn\\metrics\\_regression.py:492: FutureWarning: 'squared' is deprecated in version 1.4 and will be removed in 1.6. To calculate the root mean squared error, use the function'root_mean_squared_error'.\n",
      "  warnings.warn(\n",
      "[I 2024-07-23 16:56:46,134] Trial 4 finished with value: 0.16818731970328588 and parameters: {'max_depth': 8, 'learning_rate': 0.11246426669973904, 'n_estimators': 989, 'subsample': 0.8164264678604845, 'colsample_bytree': 0.7010667373438895}. Best is trial 3 with value: 0.1621332732856322.\n",
      "C:\\Users\\luize\\AppData\\Local\\Packages\\PythonSoftwareFoundation.Python.3.10_qbz5n2kfra8p0\\LocalCache\\local-packages\\Python310\\site-packages\\sklearn\\metrics\\_regression.py:492: FutureWarning: 'squared' is deprecated in version 1.4 and will be removed in 1.6. To calculate the root mean squared error, use the function'root_mean_squared_error'.\n",
      "  warnings.warn(\n",
      "[I 2024-07-23 16:56:47,710] Trial 5 finished with value: 0.1691714032850079 and parameters: {'max_depth': 4, 'learning_rate': 0.24458914563359108, 'n_estimators': 337, 'subsample': 0.9550681565344368, 'colsample_bytree': 0.63309298348962}. Best is trial 3 with value: 0.1621332732856322.\n",
      "C:\\Users\\luize\\AppData\\Local\\Packages\\PythonSoftwareFoundation.Python.3.10_qbz5n2kfra8p0\\LocalCache\\local-packages\\Python310\\site-packages\\sklearn\\metrics\\_regression.py:492: FutureWarning: 'squared' is deprecated in version 1.4 and will be removed in 1.6. To calculate the root mean squared error, use the function'root_mean_squared_error'.\n",
      "  warnings.warn(\n",
      "[I 2024-07-23 16:56:49,450] Trial 6 finished with value: 0.1639979598876705 and parameters: {'max_depth': 6, 'learning_rate': 0.15363207808067264, 'n_estimators': 267, 'subsample': 0.7988918194265656, 'colsample_bytree': 0.8741916835774128}. Best is trial 3 with value: 0.1621332732856322.\n",
      "C:\\Users\\luize\\AppData\\Local\\Packages\\PythonSoftwareFoundation.Python.3.10_qbz5n2kfra8p0\\LocalCache\\local-packages\\Python310\\site-packages\\sklearn\\metrics\\_regression.py:492: FutureWarning: 'squared' is deprecated in version 1.4 and will be removed in 1.6. To calculate the root mean squared error, use the function'root_mean_squared_error'.\n",
      "  warnings.warn(\n",
      "[I 2024-07-23 16:56:52,967] Trial 7 finished with value: 0.1637763785920162 and parameters: {'max_depth': 5, 'learning_rate': 0.17244286169041514, 'n_estimators': 637, 'subsample': 0.9765391606072108, 'colsample_bytree': 0.6422338637178446}. Best is trial 3 with value: 0.1621332732856322.\n",
      "C:\\Users\\luize\\AppData\\Local\\Packages\\PythonSoftwareFoundation.Python.3.10_qbz5n2kfra8p0\\LocalCache\\local-packages\\Python310\\site-packages\\sklearn\\metrics\\_regression.py:492: FutureWarning: 'squared' is deprecated in version 1.4 and will be removed in 1.6. To calculate the root mean squared error, use the function'root_mean_squared_error'.\n",
      "  warnings.warn(\n",
      "[I 2024-07-23 16:56:54,551] Trial 8 finished with value: 0.16671627834048824 and parameters: {'max_depth': 9, 'learning_rate': 0.28126508343817497, 'n_estimators': 149, 'subsample': 0.6287097418303536, 'colsample_bytree': 0.9611570254428002}. Best is trial 3 with value: 0.1621332732856322.\n",
      "C:\\Users\\luize\\AppData\\Local\\Packages\\PythonSoftwareFoundation.Python.3.10_qbz5n2kfra8p0\\LocalCache\\local-packages\\Python310\\site-packages\\sklearn\\metrics\\_regression.py:492: FutureWarning: 'squared' is deprecated in version 1.4 and will be removed in 1.6. To calculate the root mean squared error, use the function'root_mean_squared_error'.\n",
      "  warnings.warn(\n",
      "[I 2024-07-23 16:56:59,266] Trial 9 finished with value: 0.16647852171190708 and parameters: {'max_depth': 6, 'learning_rate': 0.2455314495768645, 'n_estimators': 633, 'subsample': 0.8917587144656969, 'colsample_bytree': 0.6077686874120796}. Best is trial 3 with value: 0.1621332732856322.\n",
      "C:\\Users\\luize\\AppData\\Local\\Packages\\PythonSoftwareFoundation.Python.3.10_qbz5n2kfra8p0\\LocalCache\\local-packages\\Python310\\site-packages\\sklearn\\metrics\\_regression.py:492: FutureWarning: 'squared' is deprecated in version 1.4 and will be removed in 1.6. To calculate the root mean squared error, use the function'root_mean_squared_error'.\n",
      "  warnings.warn(\n",
      "[I 2024-07-23 16:57:02,566] Trial 10 finished with value: 0.16429656044051993 and parameters: {'max_depth': 8, 'learning_rate': 0.030176115044291837, 'n_estimators': 423, 'subsample': 0.5582399273572757, 'colsample_bytree': 0.9992851699737211}. Best is trial 3 with value: 0.1621332732856322.\n",
      "C:\\Users\\luize\\AppData\\Local\\Packages\\PythonSoftwareFoundation.Python.3.10_qbz5n2kfra8p0\\LocalCache\\local-packages\\Python310\\site-packages\\sklearn\\metrics\\_regression.py:492: FutureWarning: 'squared' is deprecated in version 1.4 and will be removed in 1.6. To calculate the root mean squared error, use the function'root_mean_squared_error'.\n",
      "  warnings.warn(\n",
      "[I 2024-07-23 16:57:06,878] Trial 11 finished with value: 0.16541398323445466 and parameters: {'max_depth': 5, 'learning_rate': 0.19082459282964626, 'n_estimators': 774, 'subsample': 0.8911395279948577, 'colsample_bytree': 0.8325909299894398}. Best is trial 3 with value: 0.1621332732856322.\n",
      "C:\\Users\\luize\\AppData\\Local\\Packages\\PythonSoftwareFoundation.Python.3.10_qbz5n2kfra8p0\\LocalCache\\local-packages\\Python310\\site-packages\\sklearn\\metrics\\_regression.py:492: FutureWarning: 'squared' is deprecated in version 1.4 and will be removed in 1.6. To calculate the root mean squared error, use the function'root_mean_squared_error'.\n",
      "  warnings.warn(\n",
      "[I 2024-07-23 16:57:10,522] Trial 12 finished with value: 0.1620825829416257 and parameters: {'max_depth': 7, 'learning_rate': 0.2029856369551043, 'n_estimators': 478, 'subsample': 0.9986895286298164, 'colsample_bytree': 0.5170354223761018}. Best is trial 12 with value: 0.1620825829416257.\n",
      "C:\\Users\\luize\\AppData\\Local\\Packages\\PythonSoftwareFoundation.Python.3.10_qbz5n2kfra8p0\\LocalCache\\local-packages\\Python310\\site-packages\\sklearn\\metrics\\_regression.py:492: FutureWarning: 'squared' is deprecated in version 1.4 and will be removed in 1.6. To calculate the root mean squared error, use the function'root_mean_squared_error'.\n",
      "  warnings.warn(\n",
      "[I 2024-07-23 16:57:13,401] Trial 13 finished with value: 0.16421482205802262 and parameters: {'max_depth': 7, 'learning_rate': 0.2179383428255166, 'n_estimators': 454, 'subsample': 0.8893647777746013, 'colsample_bytree': 0.500592400889326}. Best is trial 12 with value: 0.1620825829416257.\n",
      "C:\\Users\\luize\\AppData\\Local\\Packages\\PythonSoftwareFoundation.Python.3.10_qbz5n2kfra8p0\\LocalCache\\local-packages\\Python310\\site-packages\\sklearn\\metrics\\_regression.py:492: FutureWarning: 'squared' is deprecated in version 1.4 and will be removed in 1.6. To calculate the root mean squared error, use the function'root_mean_squared_error'.\n",
      "  warnings.warn(\n",
      "[I 2024-07-23 16:57:17,192] Trial 14 finished with value: 0.1608434040552625 and parameters: {'max_depth': 7, 'learning_rate': 0.09922698765678523, 'n_estimators': 494, 'subsample': 0.9224917056786139, 'colsample_bytree': 0.8977643605950412}. Best is trial 14 with value: 0.1608434040552625.\n",
      "C:\\Users\\luize\\AppData\\Local\\Packages\\PythonSoftwareFoundation.Python.3.10_qbz5n2kfra8p0\\LocalCache\\local-packages\\Python310\\site-packages\\sklearn\\metrics\\_regression.py:492: FutureWarning: 'squared' is deprecated in version 1.4 and will be removed in 1.6. To calculate the root mean squared error, use the function'root_mean_squared_error'.\n",
      "  warnings.warn(\n",
      "[I 2024-07-23 16:57:22,544] Trial 15 finished with value: 0.16219850490324064 and parameters: {'max_depth': 7, 'learning_rate': 0.08917260053812144, 'n_estimators': 882, 'subsample': 0.8396619152742186, 'colsample_bytree': 0.9137328616603849}. Best is trial 14 with value: 0.1608434040552625.\n",
      "C:\\Users\\luize\\AppData\\Local\\Packages\\PythonSoftwareFoundation.Python.3.10_qbz5n2kfra8p0\\LocalCache\\local-packages\\Python310\\site-packages\\sklearn\\metrics\\_regression.py:492: FutureWarning: 'squared' is deprecated in version 1.4 and will be removed in 1.6. To calculate the root mean squared error, use the function'root_mean_squared_error'.\n",
      "  warnings.warn(\n",
      "[I 2024-07-23 16:57:26,232] Trial 16 finished with value: 0.1625923904369442 and parameters: {'max_depth': 9, 'learning_rate': 0.022447039877601604, 'n_estimators': 557, 'subsample': 0.7573159451629979, 'colsample_bytree': 0.7601725942498125}. Best is trial 14 with value: 0.1608434040552625.\n",
      "C:\\Users\\luize\\AppData\\Local\\Packages\\PythonSoftwareFoundation.Python.3.10_qbz5n2kfra8p0\\LocalCache\\local-packages\\Python310\\site-packages\\sklearn\\metrics\\_regression.py:492: FutureWarning: 'squared' is deprecated in version 1.4 and will be removed in 1.6. To calculate the root mean squared error, use the function'root_mean_squared_error'.\n",
      "  warnings.warn(\n",
      "[I 2024-07-23 16:57:28,567] Trial 17 finished with value: 0.1626062426428287 and parameters: {'max_depth': 8, 'learning_rate': 0.06249338539467639, 'n_estimators': 366, 'subsample': 0.9113634465723588, 'colsample_bytree': 0.5013995550153204}. Best is trial 14 with value: 0.1608434040552625.\n",
      "C:\\Users\\luize\\AppData\\Local\\Packages\\PythonSoftwareFoundation.Python.3.10_qbz5n2kfra8p0\\LocalCache\\local-packages\\Python310\\site-packages\\sklearn\\metrics\\_regression.py:492: FutureWarning: 'squared' is deprecated in version 1.4 and will be removed in 1.6. To calculate the root mean squared error, use the function'root_mean_squared_error'.\n",
      "  warnings.warn(\n",
      "[I 2024-07-23 16:57:32,219] Trial 18 finished with value: 0.16402475202182856 and parameters: {'max_depth': 6, 'learning_rate': 0.20096134681151634, 'n_estimators': 689, 'subsample': 0.9979701622636803, 'colsample_bytree': 0.9222456489793431}. Best is trial 14 with value: 0.1608434040552625.\n",
      "C:\\Users\\luize\\AppData\\Local\\Packages\\PythonSoftwareFoundation.Python.3.10_qbz5n2kfra8p0\\LocalCache\\local-packages\\Python310\\site-packages\\sklearn\\metrics\\_regression.py:492: FutureWarning: 'squared' is deprecated in version 1.4 and will be removed in 1.6. To calculate the root mean squared error, use the function'root_mean_squared_error'.\n",
      "  warnings.warn(\n",
      "[I 2024-07-23 16:57:32,851] Trial 19 finished with value: 0.18575165000427257 and parameters: {'max_depth': 5, 'learning_rate': 0.10745216855005939, 'n_estimators': 107, 'subsample': 0.9303455309080133, 'colsample_bytree': 0.5527897842150304}. Best is trial 14 with value: 0.1608434040552625.\n",
      "C:\\Users\\luize\\AppData\\Local\\Packages\\PythonSoftwareFoundation.Python.3.10_qbz5n2kfra8p0\\LocalCache\\local-packages\\Python310\\site-packages\\sklearn\\metrics\\_regression.py:492: FutureWarning: 'squared' is deprecated in version 1.4 and will be removed in 1.6. To calculate the root mean squared error, use the function'root_mean_squared_error'.\n",
      "  warnings.warn(\n",
      "[I 2024-07-23 16:57:36,079] Trial 20 finished with value: 0.17345708273653226 and parameters: {'max_depth': 7, 'learning_rate': 0.27947919849889385, 'n_estimators': 526, 'subsample': 0.5093698826031214, 'colsample_bytree': 0.6777121488652655}. Best is trial 14 with value: 0.1608434040552625.\n",
      "C:\\Users\\luize\\AppData\\Local\\Packages\\PythonSoftwareFoundation.Python.3.10_qbz5n2kfra8p0\\LocalCache\\local-packages\\Python310\\site-packages\\sklearn\\metrics\\_regression.py:492: FutureWarning: 'squared' is deprecated in version 1.4 and will be removed in 1.6. To calculate the root mean squared error, use the function'root_mean_squared_error'.\n",
      "  warnings.warn(\n",
      "[I 2024-07-23 16:57:39,287] Trial 21 finished with value: 0.16230394450969254 and parameters: {'max_depth': 7, 'learning_rate': 0.1332229567692622, 'n_estimators': 476, 'subsample': 0.8542124339552803, 'colsample_bytree': 0.8512911502120415}. Best is trial 14 with value: 0.1608434040552625.\n",
      "C:\\Users\\luize\\AppData\\Local\\Packages\\PythonSoftwareFoundation.Python.3.10_qbz5n2kfra8p0\\LocalCache\\local-packages\\Python310\\site-packages\\sklearn\\metrics\\_regression.py:492: FutureWarning: 'squared' is deprecated in version 1.4 and will be removed in 1.6. To calculate the root mean squared error, use the function'root_mean_squared_error'.\n",
      "  warnings.warn(\n",
      "[I 2024-07-23 16:57:41,960] Trial 22 finished with value: 0.1614047520324679 and parameters: {'max_depth': 8, 'learning_rate': 0.1246414868941622, 'n_estimators': 375, 'subsample': 0.9401594323667202, 'colsample_bytree': 0.792451399097404}. Best is trial 14 with value: 0.1608434040552625.\n",
      "C:\\Users\\luize\\AppData\\Local\\Packages\\PythonSoftwareFoundation.Python.3.10_qbz5n2kfra8p0\\LocalCache\\local-packages\\Python310\\site-packages\\sklearn\\metrics\\_regression.py:492: FutureWarning: 'squared' is deprecated in version 1.4 and will be removed in 1.6. To calculate the root mean squared error, use the function'root_mean_squared_error'.\n",
      "  warnings.warn(\n",
      "[I 2024-07-23 16:57:44,108] Trial 23 finished with value: 0.1628264736376627 and parameters: {'max_depth': 8, 'learning_rate': 0.0454592055665624, 'n_estimators': 323, 'subsample': 0.933039962879851, 'colsample_bytree': 0.7730472447891681}. Best is trial 14 with value: 0.1608434040552625.\n",
      "C:\\Users\\luize\\AppData\\Local\\Packages\\PythonSoftwareFoundation.Python.3.10_qbz5n2kfra8p0\\LocalCache\\local-packages\\Python310\\site-packages\\sklearn\\metrics\\_regression.py:492: FutureWarning: 'squared' is deprecated in version 1.4 and will be removed in 1.6. To calculate the root mean squared error, use the function'root_mean_squared_error'.\n",
      "  warnings.warn(\n",
      "[I 2024-07-23 16:57:45,667] Trial 24 finished with value: 0.16090945100937823 and parameters: {'max_depth': 9, 'learning_rate': 0.09032991912616808, 'n_estimators': 204, 'subsample': 0.7665649390478941, 'colsample_bytree': 0.8002385813612133}. Best is trial 14 with value: 0.1608434040552625.\n",
      "C:\\Users\\luize\\AppData\\Local\\Packages\\PythonSoftwareFoundation.Python.3.10_qbz5n2kfra8p0\\LocalCache\\local-packages\\Python310\\site-packages\\sklearn\\metrics\\_regression.py:492: FutureWarning: 'squared' is deprecated in version 1.4 and will be removed in 1.6. To calculate the root mean squared error, use the function'root_mean_squared_error'.\n",
      "  warnings.warn(\n",
      "[I 2024-07-23 16:57:47,439] Trial 25 finished with value: 0.16078185613054008 and parameters: {'max_depth': 9, 'learning_rate': 0.09428860866745253, 'n_estimators': 189, 'subsample': 0.7548516062714428, 'colsample_bytree': 0.8107796818727491}. Best is trial 25 with value: 0.16078185613054008.\n",
      "C:\\Users\\luize\\AppData\\Local\\Packages\\PythonSoftwareFoundation.Python.3.10_qbz5n2kfra8p0\\LocalCache\\local-packages\\Python310\\site-packages\\sklearn\\metrics\\_regression.py:492: FutureWarning: 'squared' is deprecated in version 1.4 and will be removed in 1.6. To calculate the root mean squared error, use the function'root_mean_squared_error'.\n",
      "  warnings.warn(\n",
      "[I 2024-07-23 16:57:49,135] Trial 26 finished with value: 0.16140395497230578 and parameters: {'max_depth': 9, 'learning_rate': 0.08633664958792042, 'n_estimators': 189, 'subsample': 0.7156346318395329, 'colsample_bytree': 0.8145739392816453}. Best is trial 25 with value: 0.16078185613054008.\n",
      "C:\\Users\\luize\\AppData\\Local\\Packages\\PythonSoftwareFoundation.Python.3.10_qbz5n2kfra8p0\\LocalCache\\local-packages\\Python310\\site-packages\\sklearn\\metrics\\_regression.py:492: FutureWarning: 'squared' is deprecated in version 1.4 and will be removed in 1.6. To calculate the root mean squared error, use the function'root_mean_squared_error'.\n",
      "  warnings.warn(\n",
      "[I 2024-07-23 16:57:51,281] Trial 27 finished with value: 0.16141194097607095 and parameters: {'max_depth': 9, 'learning_rate': 0.05594572082721876, 'n_estimators': 226, 'subsample': 0.7700234691539898, 'colsample_bytree': 0.900164808774345}. Best is trial 25 with value: 0.16078185613054008.\n",
      "C:\\Users\\luize\\AppData\\Local\\Packages\\PythonSoftwareFoundation.Python.3.10_qbz5n2kfra8p0\\LocalCache\\local-packages\\Python310\\site-packages\\sklearn\\metrics\\_regression.py:492: FutureWarning: 'squared' is deprecated in version 1.4 and will be removed in 1.6. To calculate the root mean squared error, use the function'root_mean_squared_error'.\n",
      "  warnings.warn(\n",
      "[I 2024-07-23 16:57:52,574] Trial 28 finished with value: 0.16187539789041416 and parameters: {'max_depth': 9, 'learning_rate': 0.08517038723669203, 'n_estimators': 169, 'subsample': 0.7188710006479317, 'colsample_bytree': 0.7387884304150901}. Best is trial 25 with value: 0.16078185613054008.\n",
      "C:\\Users\\luize\\AppData\\Local\\Packages\\PythonSoftwareFoundation.Python.3.10_qbz5n2kfra8p0\\LocalCache\\local-packages\\Python310\\site-packages\\sklearn\\metrics\\_regression.py:492: FutureWarning: 'squared' is deprecated in version 1.4 and will be removed in 1.6. To calculate the root mean squared error, use the function'root_mean_squared_error'.\n",
      "  warnings.warn(\n",
      "[I 2024-07-23 16:57:54,770] Trial 29 finished with value: 0.16213351286414499 and parameters: {'max_depth': 8, 'learning_rate': 0.07399416190834202, 'n_estimators': 281, 'subsample': 0.6422477224025746, 'colsample_bytree': 0.7904811518553417}. Best is trial 25 with value: 0.16078185613054008.\n",
      "C:\\Users\\luize\\AppData\\Local\\Packages\\PythonSoftwareFoundation.Python.3.10_qbz5n2kfra8p0\\LocalCache\\local-packages\\Python310\\site-packages\\sklearn\\metrics\\_regression.py:492: FutureWarning: 'squared' is deprecated in version 1.4 and will be removed in 1.6. To calculate the root mean squared error, use the function'root_mean_squared_error'.\n",
      "  warnings.warn(\n",
      "[I 2024-07-23 16:57:55,593] Trial 30 finished with value: 0.1641271988142276 and parameters: {'max_depth': 9, 'learning_rate': 0.09519164013215213, 'n_estimators': 108, 'subsample': 0.7946369241478114, 'colsample_bytree': 0.9500115806208737}. Best is trial 25 with value: 0.16078185613054008.\n",
      "C:\\Users\\luize\\AppData\\Local\\Packages\\PythonSoftwareFoundation.Python.3.10_qbz5n2kfra8p0\\LocalCache\\local-packages\\Python310\\site-packages\\sklearn\\metrics\\_regression.py:492: FutureWarning: 'squared' is deprecated in version 1.4 and will be removed in 1.6. To calculate the root mean squared error, use the function'root_mean_squared_error'.\n",
      "  warnings.warn(\n",
      "[I 2024-07-23 16:57:56,938] Trial 31 finished with value: 0.16147499095479065 and parameters: {'max_depth': 9, 'learning_rate': 0.07423396989065612, 'n_estimators': 200, 'subsample': 0.7041494941477424, 'colsample_bytree': 0.8144633466555978}. Best is trial 25 with value: 0.16078185613054008.\n",
      "C:\\Users\\luize\\AppData\\Local\\Packages\\PythonSoftwareFoundation.Python.3.10_qbz5n2kfra8p0\\LocalCache\\local-packages\\Python310\\site-packages\\sklearn\\metrics\\_regression.py:492: FutureWarning: 'squared' is deprecated in version 1.4 and will be removed in 1.6. To calculate the root mean squared error, use the function'root_mean_squared_error'.\n",
      "  warnings.warn(\n",
      "[I 2024-07-23 16:57:59,015] Trial 32 finished with value: 0.16133030797053444 and parameters: {'max_depth': 9, 'learning_rate': 0.10359695869709848, 'n_estimators': 260, 'subsample': 0.6933615168518122, 'colsample_bytree': 0.832759953483926}. Best is trial 25 with value: 0.16078185613054008.\n",
      "C:\\Users\\luize\\AppData\\Local\\Packages\\PythonSoftwareFoundation.Python.3.10_qbz5n2kfra8p0\\LocalCache\\local-packages\\Python310\\site-packages\\sklearn\\metrics\\_regression.py:492: FutureWarning: 'squared' is deprecated in version 1.4 and will be removed in 1.6. To calculate the root mean squared error, use the function'root_mean_squared_error'.\n",
      "  warnings.warn(\n",
      "[I 2024-07-23 16:58:01,382] Trial 33 finished with value: 0.1620856525742978 and parameters: {'max_depth': 8, 'learning_rate': 0.10866023382392474, 'n_estimators': 283, 'subsample': 0.6715189664395178, 'colsample_bytree': 0.7380825100608828}. Best is trial 25 with value: 0.16078185613054008.\n",
      "C:\\Users\\luize\\AppData\\Local\\Packages\\PythonSoftwareFoundation.Python.3.10_qbz5n2kfra8p0\\LocalCache\\local-packages\\Python310\\site-packages\\sklearn\\metrics\\_regression.py:492: FutureWarning: 'squared' is deprecated in version 1.4 and will be removed in 1.6. To calculate the root mean squared error, use the function'root_mean_squared_error'.\n",
      "  warnings.warn(\n",
      "[I 2024-07-23 16:58:04,064] Trial 34 finished with value: 0.1631638933963284 and parameters: {'max_depth': 9, 'learning_rate': 0.14863299751208545, 'n_estimators': 244, 'subsample': 0.6849820022361386, 'colsample_bytree': 0.8750538927082561}. Best is trial 25 with value: 0.16078185613054008.\n",
      "C:\\Users\\luize\\AppData\\Local\\Packages\\PythonSoftwareFoundation.Python.3.10_qbz5n2kfra8p0\\LocalCache\\local-packages\\Python310\\site-packages\\sklearn\\metrics\\_regression.py:492: FutureWarning: 'squared' is deprecated in version 1.4 and will be removed in 1.6. To calculate the root mean squared error, use the function'root_mean_squared_error'.\n",
      "  warnings.warn(\n",
      "[I 2024-07-23 16:58:07,417] Trial 35 finished with value: 0.16151627501805146 and parameters: {'max_depth': 8, 'learning_rate': 0.045045642908358836, 'n_estimators': 401, 'subsample': 0.7342209712746868, 'colsample_bytree': 0.8215002757990002}. Best is trial 25 with value: 0.16078185613054008.\n",
      "C:\\Users\\luize\\AppData\\Local\\Packages\\PythonSoftwareFoundation.Python.3.10_qbz5n2kfra8p0\\LocalCache\\local-packages\\Python310\\site-packages\\sklearn\\metrics\\_regression.py:492: FutureWarning: 'squared' is deprecated in version 1.4 and will be removed in 1.6. To calculate the root mean squared error, use the function'root_mean_squared_error'.\n",
      "  warnings.warn(\n",
      "[I 2024-07-23 16:58:10,351] Trial 36 finished with value: 0.16442748629047468 and parameters: {'max_depth': 9, 'learning_rate': 0.1202371728718092, 'n_estimators': 330, 'subsample': 0.5917434457204704, 'colsample_bytree': 0.8494366297675647}. Best is trial 25 with value: 0.16078185613054008.\n",
      "C:\\Users\\luize\\AppData\\Local\\Packages\\PythonSoftwareFoundation.Python.3.10_qbz5n2kfra8p0\\LocalCache\\local-packages\\Python310\\site-packages\\sklearn\\metrics\\_regression.py:492: FutureWarning: 'squared' is deprecated in version 1.4 and will be removed in 1.6. To calculate the root mean squared error, use the function'root_mean_squared_error'.\n",
      "  warnings.warn(\n",
      "[I 2024-07-23 16:58:11,892] Trial 37 finished with value: 0.17507633261718003 and parameters: {'max_depth': 4, 'learning_rate': 0.10438514992466408, 'n_estimators': 301, 'subsample': 0.610565922842235, 'colsample_bytree': 0.7106287130297537}. Best is trial 25 with value: 0.16078185613054008.\n",
      "C:\\Users\\luize\\AppData\\Local\\Packages\\PythonSoftwareFoundation.Python.3.10_qbz5n2kfra8p0\\LocalCache\\local-packages\\Python310\\site-packages\\sklearn\\metrics\\_regression.py:492: FutureWarning: 'squared' is deprecated in version 1.4 and will be removed in 1.6. To calculate the root mean squared error, use the function'root_mean_squared_error'.\n",
      "  warnings.warn(\n",
      "[I 2024-07-23 16:58:13,143] Trial 38 finished with value: 0.1620857825904617 and parameters: {'max_depth': 8, 'learning_rate': 0.1659949491105124, 'n_estimators': 149, 'subsample': 0.7788610196387856, 'colsample_bytree': 0.8883986790416103}. Best is trial 25 with value: 0.16078185613054008.\n",
      "C:\\Users\\luize\\AppData\\Local\\Packages\\PythonSoftwareFoundation.Python.3.10_qbz5n2kfra8p0\\LocalCache\\local-packages\\Python310\\site-packages\\sklearn\\metrics\\_regression.py:492: FutureWarning: 'squared' is deprecated in version 1.4 and will be removed in 1.6. To calculate the root mean squared error, use the function'root_mean_squared_error'.\n",
      "  warnings.warn(\n",
      "[I 2024-07-23 16:58:14,660] Trial 39 finished with value: 0.18745739992052401 and parameters: {'max_depth': 9, 'learning_rate': 0.01238445391212864, 'n_estimators': 216, 'subsample': 0.8340429286317825, 'colsample_bytree': 0.9433041521543535}. Best is trial 25 with value: 0.16078185613054008.\n",
      "C:\\Users\\luize\\AppData\\Local\\Packages\\PythonSoftwareFoundation.Python.3.10_qbz5n2kfra8p0\\LocalCache\\local-packages\\Python310\\site-packages\\sklearn\\metrics\\_regression.py:492: FutureWarning: 'squared' is deprecated in version 1.4 and will be removed in 1.6. To calculate the root mean squared error, use the function'root_mean_squared_error'.\n",
      "  warnings.warn(\n",
      "[I 2024-07-23 16:58:15,768] Trial 40 finished with value: 0.16360166270488816 and parameters: {'max_depth': 8, 'learning_rate': 0.14275166366534753, 'n_estimators': 131, 'subsample': 0.6759956435233518, 'colsample_bytree': 0.840340923291829}. Best is trial 25 with value: 0.16078185613054008.\n",
      "C:\\Users\\luize\\AppData\\Local\\Packages\\PythonSoftwareFoundation.Python.3.10_qbz5n2kfra8p0\\LocalCache\\local-packages\\Python310\\site-packages\\sklearn\\metrics\\_regression.py:492: FutureWarning: 'squared' is deprecated in version 1.4 and will be removed in 1.6. To calculate the root mean squared error, use the function'root_mean_squared_error'.\n",
      "  warnings.warn(\n",
      "[I 2024-07-23 16:58:17,352] Trial 41 finished with value: 0.16148349295129172 and parameters: {'max_depth': 9, 'learning_rate': 0.0889229255920514, 'n_estimators': 183, 'subsample': 0.732835179007519, 'colsample_bytree': 0.8064808979127769}. Best is trial 25 with value: 0.16078185613054008.\n",
      "C:\\Users\\luize\\AppData\\Local\\Packages\\PythonSoftwareFoundation.Python.3.10_qbz5n2kfra8p0\\LocalCache\\local-packages\\Python310\\site-packages\\sklearn\\metrics\\_regression.py:492: FutureWarning: 'squared' is deprecated in version 1.4 and will be removed in 1.6. To calculate the root mean squared error, use the function'root_mean_squared_error'.\n",
      "  warnings.warn(\n",
      "[I 2024-07-23 16:58:19,533] Trial 42 finished with value: 0.16084772194272098 and parameters: {'max_depth': 9, 'learning_rate': 0.06684395875048323, 'n_estimators': 242, 'subsample': 0.6983171627887741, 'colsample_bytree': 0.7797587952429582}. Best is trial 25 with value: 0.16078185613054008.\n",
      "C:\\Users\\luize\\AppData\\Local\\Packages\\PythonSoftwareFoundation.Python.3.10_qbz5n2kfra8p0\\LocalCache\\local-packages\\Python310\\site-packages\\sklearn\\metrics\\_regression.py:492: FutureWarning: 'squared' is deprecated in version 1.4 and will be removed in 1.6. To calculate the root mean squared error, use the function'root_mean_squared_error'.\n",
      "  warnings.warn(\n",
      "[I 2024-07-23 16:58:21,895] Trial 43 finished with value: 0.16098725477359446 and parameters: {'max_depth': 9, 'learning_rate': 0.06100504290677981, 'n_estimators': 269, 'subsample': 0.6938525797369192, 'colsample_bytree': 0.7777771659324786}. Best is trial 25 with value: 0.16078185613054008.\n",
      "C:\\Users\\luize\\AppData\\Local\\Packages\\PythonSoftwareFoundation.Python.3.10_qbz5n2kfra8p0\\LocalCache\\local-packages\\Python310\\site-packages\\sklearn\\metrics\\_regression.py:492: FutureWarning: 'squared' is deprecated in version 1.4 and will be removed in 1.6. To calculate the root mean squared error, use the function'root_mean_squared_error'.\n",
      "  warnings.warn(\n",
      "[I 2024-07-23 16:58:24,643] Trial 44 finished with value: 0.18616927261718902 and parameters: {'max_depth': 3, 'learning_rate': 0.0497201616739605, 'n_estimators': 608, 'subsample': 0.6561527748237235, 'colsample_bytree': 0.7789936551689819}. Best is trial 25 with value: 0.16078185613054008.\n",
      "C:\\Users\\luize\\AppData\\Local\\Packages\\PythonSoftwareFoundation.Python.3.10_qbz5n2kfra8p0\\LocalCache\\local-packages\\Python310\\site-packages\\sklearn\\metrics\\_regression.py:492: FutureWarning: 'squared' is deprecated in version 1.4 and will be removed in 1.6. To calculate the root mean squared error, use the function'root_mean_squared_error'.\n",
      "  warnings.warn(\n",
      "[I 2024-07-23 16:58:30,700] Trial 45 finished with value: 0.16299297376159863 and parameters: {'max_depth': 6, 'learning_rate': 0.06471719898700996, 'n_estimators': 805, 'subsample': 0.7442736127299112, 'colsample_bytree': 0.7270564878423359}. Best is trial 25 with value: 0.16078185613054008.\n",
      "C:\\Users\\luize\\AppData\\Local\\Packages\\PythonSoftwareFoundation.Python.3.10_qbz5n2kfra8p0\\LocalCache\\local-packages\\Python310\\site-packages\\sklearn\\metrics\\_regression.py:492: FutureWarning: 'squared' is deprecated in version 1.4 and will be removed in 1.6. To calculate the root mean squared error, use the function'root_mean_squared_error'.\n",
      "  warnings.warn(\n",
      "[I 2024-07-23 16:58:33,702] Trial 46 finished with value: 0.1666733787816463 and parameters: {'max_depth': 8, 'learning_rate': 0.031821383586417215, 'n_estimators': 357, 'subsample': 0.8115024771969798, 'colsample_bytree': 0.6740631195579219}. Best is trial 25 with value: 0.16078185613054008.\n",
      "C:\\Users\\luize\\AppData\\Local\\Packages\\PythonSoftwareFoundation.Python.3.10_qbz5n2kfra8p0\\LocalCache\\local-packages\\Python310\\site-packages\\sklearn\\metrics\\_regression.py:492: FutureWarning: 'squared' is deprecated in version 1.4 and will be removed in 1.6. To calculate the root mean squared error, use the function'root_mean_squared_error'.\n",
      "  warnings.warn(\n",
      "[I 2024-07-23 16:58:35,787] Trial 47 finished with value: 0.16062665568452214 and parameters: {'max_depth': 9, 'learning_rate': 0.06903191648377224, 'n_estimators': 232, 'subsample': 0.8617859291877309, 'colsample_bytree': 0.7542018459378081}. Best is trial 47 with value: 0.16062665568452214.\n",
      "C:\\Users\\luize\\AppData\\Local\\Packages\\PythonSoftwareFoundation.Python.3.10_qbz5n2kfra8p0\\LocalCache\\local-packages\\Python310\\site-packages\\sklearn\\metrics\\_regression.py:492: FutureWarning: 'squared' is deprecated in version 1.4 and will be removed in 1.6. To calculate the root mean squared error, use the function'root_mean_squared_error'.\n",
      "  warnings.warn(\n",
      "[I 2024-07-23 16:58:43,832] Trial 48 finished with value: 0.16277866181540562 and parameters: {'max_depth': 7, 'learning_rate': 0.081864389041338, 'n_estimators': 958, 'subsample': 0.882643459615901, 'colsample_bytree': 0.9829129847255162}. Best is trial 47 with value: 0.16062665568452214.\n",
      "C:\\Users\\luize\\AppData\\Local\\Packages\\PythonSoftwareFoundation.Python.3.10_qbz5n2kfra8p0\\LocalCache\\local-packages\\Python310\\site-packages\\sklearn\\metrics\\_regression.py:492: FutureWarning: 'squared' is deprecated in version 1.4 and will be removed in 1.6. To calculate the root mean squared error, use the function'root_mean_squared_error'.\n",
      "  warnings.warn(\n",
      "[I 2024-07-23 16:58:47,486] Trial 49 finished with value: 0.1614608417047896 and parameters: {'max_depth': 9, 'learning_rate': 0.03340216794855877, 'n_estimators': 429, 'subsample': 0.8673000062846173, 'colsample_bytree': 0.6855071219658319}. Best is trial 47 with value: 0.16062665568452214.\n"
     ]
    },
    {
     "name": "stdout",
     "output_type": "stream",
     "text": [
      "Melhores parâmetros:  {'max_depth': 9, 'learning_rate': 0.06903191648377224, 'n_estimators': 232, 'subsample': 0.8617859291877309, 'colsample_bytree': 0.7542018459378081}\n",
      "Melhor RMSE:  0.16062665568452214\n"
     ]
    }
   ],
   "source": [
    "import optuna\n",
    "import xgboost as xgb\n",
    "from sklearn.metrics import mean_squared_error\n",
    "\n",
    "# Convertendo colunas para o tipo categórico\n",
    "categorical_columns = ['atraso_saida', 'atraso_chegada', 'idade', 'duracao']\n",
    "for col in categorical_columns:\n",
    "    X_train[col] = X_train[col].astype('category')\n",
    "    X_val[col] = X_val[col].astype('category')\n",
    "\n",
    "def objective(trial):\n",
    "    param = {\n",
    "        'verbosity': 0,\n",
    "        'objective': 'binary:logistic',  # ou 'binary:logistic' para classificação binária\n",
    "        'eval_metric': 'rmse',\n",
    "        'max_depth': trial.suggest_int('max_depth', 3, 9),\n",
    "        'learning_rate': trial.suggest_float('learning_rate', 0.01, 0.3),\n",
    "        'n_estimators': trial.suggest_int('n_estimators', 100, 1000),\n",
    "        'subsample': trial.suggest_float('subsample', 0.5, 1.0),\n",
    "        'colsample_bytree': trial.suggest_float('colsample_bytree', 0.5, 1.0),\n",
    "        'enable_categorical': True  # Habilitar suporte experimental para dados categóricos\n",
    "    }\n",
    "    \n",
    "    model = xgb.XGBRegressor(**param)\n",
    "    model.fit(X_train, y_train)\n",
    "    preds = model.predict(X_val)\n",
    "    rmse = mean_squared_error(y_val, preds, squared=False)\n",
    "    \n",
    "    return rmse\n",
    "\n",
    "study = optuna.create_study(direction='minimize')\n",
    "study.optimize(objective, n_trials=50)\n",
    "\n",
    "print(\"Melhores parâmetros: \", study.best_params)\n",
    "print(\"Melhor RMSE: \", study.best_value)"
   ]
  },
  {
   "cell_type": "code",
   "execution_count": 18,
   "metadata": {},
   "outputs": [
    {
     "name": "stdout",
     "output_type": "stream",
     "text": [
      "RMSE no conjunto de teste:  0.19767278602704644\n",
      "Acurácia no conjunto de teste:  0.9609254696643055\n"
     ]
    },
    {
     "name": "stderr",
     "output_type": "stream",
     "text": [
      "C:\\Users\\luize\\AppData\\Local\\Packages\\PythonSoftwareFoundation.Python.3.10_qbz5n2kfra8p0\\LocalCache\\local-packages\\Python310\\site-packages\\sklearn\\metrics\\_regression.py:492: FutureWarning: 'squared' is deprecated in version 1.4 and will be removed in 1.6. To calculate the root mean squared error, use the function'root_mean_squared_error'.\n",
      "  warnings.warn(\n"
     ]
    }
   ],
   "source": [
    "categorical_columns = ['atraso_saida', 'atraso_chegada', 'idade', 'duracao']\n",
    "\n",
    "for col in categorical_columns:\n",
    "    X_train[col] = X_train[col].astype('category')\n",
    "    X_test[col] = X_test[col].astype('category')\n",
    "\n",
    "best_params = study.best_params\n",
    "best_params['enable_categorical'] = True \n",
    "\n",
    "final_model = xgb.XGBClassifier(**best_params)\n",
    "final_model.fit(X_train, y_train)\n",
    "\n",
    "preds_test_proba = final_model.predict_proba(X_test)[:, 1]\n",
    "preds_test = (preds_test_proba >= 0.5).astype(int)\n",
    "\n",
    "final_rmse = mean_squared_error(y_test, preds_test, squared=False)\n",
    "accuracy = accuracy_score(y_test, preds_test)\n",
    "\n",
    "print(\"RMSE no conjunto de teste: \", final_rmse)\n",
    "print(\"Acurácia no conjunto de teste: \", accuracy)"
   ]
  },
  {
   "cell_type": "markdown",
   "metadata": {},
   "source": [
    "Depois do optune conseguimos chegar no melhor resultado com esses parametros: 'max_depth': 9, 'learning_rate': 0.06903191648377224, 'n_estimators': 232, 'subsample': 0.8617859291877309, 'colsample_bytree': 0.7542018459378081, vamos agora printar a matriz de confusão, curva roc e ks."
   ]
  },
  {
   "cell_type": "code",
   "execution_count": 19,
   "metadata": {},
   "outputs": [
    {
     "data": {
      "image/png": "[encoded data removed]",
      "text/plain": [
       "<Figure size 720x504 with 2 Axes>"
      ]
     },
     "metadata": {
      "needs_background": "light"
     },
     "output_type": "display_data"
    }
   ],
   "source": [
    "from sklearn.metrics import confusion_matrix\n",
    "import seaborn as sns\n",
    "import matplotlib.pyplot as plt\n",
    "\n",
    "# Calcular a matriz de confusão\n",
    "conf_matrix = confusion_matrix(y_test, preds_test)\n",
    "\n",
    "# Visualizar a matriz de confusão\n",
    "plt.figure(figsize=(10, 7))\n",
    "sns.heatmap(conf_matrix, annot=True, fmt='d', cmap='Blues', xticklabels=['Non Satisfied', 'Satisfied'], yticklabels=['Non Satisfied', 'Satisfied'])\n",
    "plt.xlabel('Predicted Label')\n",
    "plt.ylabel('True Label')\n",
    "plt.title('Confusion Matrix')\n",
    "plt.show()"
   ]
  },
  {
   "cell_type": "code",
   "execution_count": 20,
   "metadata": {},
   "outputs": [
    {
     "data": {
      "image/png": "[encoded data removed]",
      "text/plain": [
       "<Figure size 576x432 with 1 Axes>"
      ]
     },
     "metadata": {
      "needs_background": "light"
     },
     "output_type": "display_data"
    }
   ],
   "source": [
    "from sklearn.metrics import roc_curve, auc\n",
    "\n",
    "\n",
    "y_test_pred_prob = final_model.predict_proba(X_test)[:, 1]\n",
    "\n",
    "# Calcular a curva ROC e a AUC\n",
    "fpr, tpr, thresholds = roc_curve(y_test, y_test_pred_prob)\n",
    "roc_auc = auc(fpr, tpr)\n",
    "\n",
    "# Visualizar a curva ROC\n",
    "plt.figure(figsize=(8, 6))\n",
    "plt.plot(fpr, tpr, color='darkorange', lw=2, label=f'ROC curve (AUC = {roc_auc:.2f})')\n",
    "plt.plot([0, 1], [0, 1], color='navy', lw=2, linestyle='--')\n",
    "plt.xlim([0.0, 1.0])\n",
    "plt.ylim([0.0, 1.05])\n",
    "plt.xlabel('False Positive Rate')\n",
    "plt.ylabel('True Positive Rate')\n",
    "plt.title('Receiver Operating Characteristic (ROC) Curve')\n",
    "plt.legend(loc='lower right')\n",
    "plt.show()"
   ]
  },
  {
   "cell_type": "code",
   "execution_count": 21,
   "metadata": {},
   "outputs": [
    {
     "data": {
      "image/png": "[encoded data removed]",
      "text/plain": [
       "<Figure size 432x288 with 1 Axes>"
      ]
     },
     "metadata": {
      "needs_background": "light"
     },
     "output_type": "display_data"
    },
    {
     "name": "stdout",
     "output_type": "stream",
     "text": [
      "KS Statistic: 0.92\n"
     ]
    }
   ],
   "source": [
    "from scipy.stats import ks_2samp\n",
    "\n",
    "# Calculando a curva ROC\n",
    "fpr, tpr, thresholds = roc_curve(y_test, y_test_pred_prob)\n",
    "\n",
    "# Calculando a estatística KS\n",
    "ks_statistic = np.max(tpr - fpr)\n",
    "ks_idx = np.argmax(tpr - fpr)\n",
    "\n",
    "plt.figure()\n",
    "plt.plot(fpr, tpr, label='True Positive Rate (TPR)')\n",
    "plt.plot(fpr, fpr, label='False Positive Rate (FPR)')\n",
    "plt.plot([fpr[ks_idx]], [tpr[ks_idx]], marker='o', markersize=5, color=\"red\")\n",
    "plt.text(fpr[ks_idx], tpr[ks_idx], f'KS={ks_statistic:.2f}', fontsize=12, verticalalignment='top')\n",
    "plt.xlabel('False Positive Rate')\n",
    "plt.ylabel('Rate')\n",
    "plt.title('Kolmogorov-Smirnov (KS) Curve')\n",
    "plt.legend(loc='best')\n",
    "plt.show()\n",
    "\n",
    "print(f\"KS Statistic: {ks_statistic:.2f}\")"
   ]
  },
  {
   "cell_type": "markdown",
   "metadata": {},
   "source": [
    "Depois de fazer optune e testar alguns parâmetros, chegamos aos mesmos resultados da random forest."
   ]
  }
 ],
 "metadata": {
  "kernelspec": {
   "display_name": "Python 3",
   "language": "python",
   "name": "python3"
  },
  "language_info": {
   "codemirror_mode": {
    "name": "ipython",
    "version": 3
   },
   "file_extension": ".py",
   "mimetype": "text/x-python",
   "name": "python",
   "nbconvert_exporter": "python",
   "pygments_lexer": "ipython3",
   "version": "3.10.11"
  }
 },
 "nbformat": 4,
 "nbformat_minor": 2
}
